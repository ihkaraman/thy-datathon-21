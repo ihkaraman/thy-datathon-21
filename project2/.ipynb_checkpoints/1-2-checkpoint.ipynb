{
 "cells": [
  {
   "cell_type": "markdown",
   "id": "promising-horizontal",
   "metadata": {},
   "source": [
    "her bir bilet için BUSINESS, LEISURE, SECOND HOME ve STUDENT yolculuk nedenlerini tahmin etmek\n",
    "Oluşan sonuçların kullanım senaryolarına ilişkin açıklama yapmanız beklenmektedir. "
   ]
  },
  {
   "cell_type": "markdown",
   "id": "activated-quarter",
   "metadata": {},
   "source": [
    "eda for numerical values\n",
    "distribution for all variables\n",
    "is there any outlier\n",
    "any duplicate\n",
    "\n",
    "classification\n",
    "class weights\n",
    "different classifiers\n",
    "tuning\n",
    "\n",
    "https://pandas-profiling.github.io/pandas-profiling/docs/master/rtd/pages/introduction.html\n",
    "https://shap.readthedocs.io/en/latest/index.html\n",
    "\n",
    "https://docs.rapids.ai/api/cudf/stable/        \n",
    "https://www.kaggle.com/rohanrao/tutorial-on-reading-large-datasets?scriptVersionId=49328159&cellId=14\n",
    "\n",
    "https://towardsdatascience.com/wisdom-of-the-crowd-voting-classifier-bagging-pasting-random-forest-and-extra-trees-289ef991e723\n",
    "\n",
    "    "
   ]
  },
  {
   "cell_type": "code",
   "execution_count": null,
   "id": "affiliated-society",
   "metadata": {},
   "outputs": [],
   "source": []
  },
  {
   "cell_type": "markdown",
   "id": "defensive-latitude",
   "metadata": {},
   "source": [
    "PNR\n",
    "ID_PNR_CREATION_DTIME_GMT: pnr oluşturma tarihi.\n",
    "PNR_TIME: pnr oluşturma saati.\n",
    "ID_PNR_ITI_DEP_YMD_1: PNR'ın ilk uçuşunun tarihidir. \n",
    "ID_PNR_ITI_DEP_YMD_2\n",
    "> find month\n",
    "\n",
    "ID_PNR_ITI_CABCLASS_1: PNR'ın ilk uçuşunun kabin bilgisidir. (C: Business kabin, Y: Ekonomi kabin)\n",
    "ID_PNR_ITI_CABCLASS_2:\n",
    "\n",
    "ID_PNR_ITI_SELCLASS_1: PNR'ın ilk uçuşunun satış sınıfı bilgisidir. \n",
    "ID_PNR_ITI_SELCLASS_2:\n",
    "\n",
    "ID_PNR_ITI_DEP_YMD_1 : ilk uçuşun tarihi\n",
    "ID_PNR_ITI_DEP_TIME_1: ilk uçuşunun kalkış saatidir.\n",
    "ID_PNR_ITI_ARR_TIME_1: ilk uçuşunun varış saatidir.\n",
    "> ilk uçuşun süresi\n",
    "> varış saatinin zaman dilimi 05-11, 11-18, 18-05 \n",
    "> uçuşun günü ve ayı - ID_PNR_ITI_DEP_YMD_1\n",
    "\n",
    "ID_PNR_ITI_DEP_YMD_2: 2. uçuşun kalkış tarihi\n",
    "ID_PNR_ITI_DEP_TIME_2: 2. uçuş kalkış saati\n",
    "ID_PNR_ITI_ARR_TIME_2: 2. uçuş varış saati\n",
    "> 2. uçuşun süresi \n",
    "> varış saatinin zaman dilimi 05-11, 11-18, 18-05 \n",
    "> uçuşun günü ve ayı - ID_PNR_ITI_DEP_YMD_2\n",
    "\n",
    "ID_PNR_ITI_DEP_APT_1 : ilk uçuşun kalkış yeri\n",
    "ID_PNR_ITI_DEP_ARR_1 :\n",
    "ID_PNR_ITI_DEP_APT_2 : 2. uçuş kalkış yeri\n",
    "ID_PNR_ITI_ARR_APT_2 : \n",
    "\n",
    "\n",
    "> pnr oluşturma ve ilk uuçuş saati arası fark: ID_PNR_ITI_DEP_YMD_1 - ID_PNR_CREATION_DTIME_GMT / day\n",
    "> 2. uçuşla ilk uçuş arasındaki fark yoksa 0: ID_PNR_ITI_DEP_YMD_2 - ID_PNR_ITI_DEP_YMD_1  / day\n",
    "> pnr oluşturma saati in workhours or not: PNR_TIME\n",
    "> pnr oluşturma hangi ayda ve günde: ID_PNR_CREATION_DTIME_GMT\n",
    "> pnrda kaç uçuş var\n",
    "> \n",
    "\n",
    "7. bir pnrda 2 uçuş olması halinde return var mı? (JRNY_TYP mi?)"
   ]
  },
  {
   "cell_type": "markdown",
   "id": "remarkable-lawrence",
   "metadata": {},
   "source": [
    "TICKET\n",
    "\n",
    "FLIGHT_REASON Label\n",
    "\n",
    "PNR_PSSG_COUNT: yolcu sayısı\n",
    "CHILD_FLG: çocuk olup olmadığı\n",
    "INFANT_FLG: infant\n",
    "POS_POC_SAME_FLG: PNR ın satış noktasıyla çıkış noktasının aynı olup olmadığı bilgisi\n",
    "SAME_SRNAME_FLG: PNR da aynı soy isimden kişilerin olup olmadığı bilgisi\n",
    "FAMILY_FLG: Pnr ın tek bir aileden oluşup oluşmadığı bilgisi\n",
    "SEAT_SELECT_FLG: Yolcunun koltuk seçimi yapıp yapmadığı bilgisi\n",
    "XBAG_FIRST_FLT_FLG: PNR ın ilk uçuşunda ekstra bagaj alıp almadığı bilgisi\n",
    "XBAG_LAST_FLT_FLG: PNR ın son uçuşunda ekstra bagaj alıp almadığı bilgisi\n",
    "XBAG_TWO_WAY_FLT_FLG: PNR ın her uçuşunda da ekstra bagaj alıp almadığı bilgisi !!!!!!!! yukarıdaki iki kolonla beraber mi?\n",
    "XBAG_FLG: Ekstra bagaj alıp almadığı bilgisi\n",
    "SPORT_FLG: Yolcunun spor ekipmanı taşıyıp taşımadığı bilgisi\n",
    "PET_FLG: Yolcunun evcil hayvan taşıyıp taşımadığı bilgisi\n",
    "JRNY_TYP: Seyahatin tek yön mü, gidiş- dönüş mü olduğunu gösterir (O, R)\n",
    "OND: Biletin çıkış-varış noktası, ! - ile ayır dest, \n",
    "NTNLT1: Yolcunun uyruğu\n",
    "CUST_AGE: Yolcunun yaşı"
   ]
  },
  {
   "cell_type": "markdown",
   "id": "asian-round",
   "metadata": {},
   "source": [
    "POS_POC_SAME_FLG\tPNR ın satış noktasıyla çıkış noktasının aynı olup olmadığı bilgisi\t0\n",
    "SAME_SRNAME_FLG\tPNR da aynı soy isimden kişilerin olup olmadığı bilgisi\t1\n",
    "FAMILY_FLG\tPnr ın tek bir aileden oluşup oluşmadığı bilgisi\t0\n",
    "SEAT_SELECT_FLG\tYolcunun koltuk seçimi yapıp yapmadığı bilgisi\t0\n",
    "XBAG_FIRST_FLT_FLG\tPNR ın ilk uçuşunda ekstra bagaj alıp almadığı bilgisi\t0\n",
    "XBAG_LAST_FLT_FLG\tPNR ın son uçuşunda ekstra bagaj alıp almadığı bilgisi\t0\n",
    "XBAG_TWO_WAY_FLT_FLG\tPNR ın her uçuşunda da ekstra bagaj alıp almadığı bilgisi\t0\n",
    "SPORT_FLG\tYolcunun spor ekipmanı taşıyıp taşımadığı bilgisi\t0\n",
    "XBAG_FLG\tEkstra bagaj alıp almadığı bilgisi\t0\n",
    "PET_FLG\tYolcunun evcil hayvan taşıyıp taşımadığı bilgisi\t0\n",
    "JRNY_TYP\tSeyahatin tek yön mü, gidiş- dönüş mü olduğunu gösterir (O:One-Way, R: Return) \tO\n",
    "OND\tBiletin çıkış-varış noktası\tIST-LUX\n",
    "NTNLT1\tYolcunun uyruğu\tRussia\n",
    "CUST_AGE\tYolcunun yaşı\t34\n",
    "\n"
   ]
  },
  {
   "cell_type": "markdown",
   "id": "signal-evanescence",
   "metadata": {},
   "source": [
    "# PNR"
   ]
  },
  {
   "cell_type": "markdown",
   "id": "pleased-designer",
   "metadata": {},
   "source": []
  },
  {
   "cell_type": "code",
   "execution_count": 1,
   "id": "spoken-settlement",
   "metadata": {},
   "outputs": [],
   "source": [
    "import pandas as pd\n",
    "from datetime import datetime\n",
    "import numpy as np"
   ]
  },
  {
   "cell_type": "code",
   "execution_count": 2,
   "id": "congressional-safety",
   "metadata": {},
   "outputs": [],
   "source": [
    "pnrs = pd.read_csv('PNR.csv')"
   ]
  },
  {
   "cell_type": "code",
   "execution_count": 3,
   "id": "compliant-valve",
   "metadata": {},
   "outputs": [
    {
     "data": {
      "text/html": [
       "<div>\n",
       "<style scoped>\n",
       "    .dataframe tbody tr th:only-of-type {\n",
       "        vertical-align: middle;\n",
       "    }\n",
       "\n",
       "    .dataframe tbody tr th {\n",
       "        vertical-align: top;\n",
       "    }\n",
       "\n",
       "    .dataframe thead th {\n",
       "        text-align: right;\n",
       "    }\n",
       "</style>\n",
       "<table border=\"1\" class=\"dataframe\">\n",
       "  <thead>\n",
       "    <tr style=\"text-align: right;\">\n",
       "      <th></th>\n",
       "      <th>PNR_NO</th>\n",
       "      <th>ID_PNR_CREATION_DTIME_GMT</th>\n",
       "      <th>PNR_TIME</th>\n",
       "      <th>ID_PNR_ITI_DEP_YMD_1</th>\n",
       "      <th>ID_PNR_ITI_CABCLASS_1</th>\n",
       "      <th>ID_PNR_ITI_SELCLASS_1</th>\n",
       "      <th>ID_PNR_ITI_DEP_TIME_1</th>\n",
       "      <th>ID_PNR_ITI_ARR_TIME_1</th>\n",
       "      <th>ID_PNR_ITI_DEP_APT_1</th>\n",
       "      <th>ID_PNR_ITI_ARR_APT_1</th>\n",
       "      <th>ID_PNR_ITI_FLIGHT_NO_1</th>\n",
       "      <th>ID_PNR_ITI_SELCLASS_2</th>\n",
       "      <th>ID_PNR_ITI_CABCLASS_2</th>\n",
       "      <th>ID_PNR_ITI_DEP_TIME_2</th>\n",
       "      <th>ID_PNR_ITI_ARR_TIME_2</th>\n",
       "      <th>ID_PNR_ITI_DEP_APT_2</th>\n",
       "      <th>ID_PNR_ITI_ARR_APT_2</th>\n",
       "      <th>ID_PNR_ITI_DEP_YMD_2</th>\n",
       "    </tr>\n",
       "  </thead>\n",
       "  <tbody>\n",
       "    <tr>\n",
       "      <th>0</th>\n",
       "      <td>SWL3GJ8</td>\n",
       "      <td>2017-08-10 15:24:00.0</td>\n",
       "      <td>1524</td>\n",
       "      <td>20170814.0</td>\n",
       "      <td>Y</td>\n",
       "      <td>A</td>\n",
       "      <td>1155.0</td>\n",
       "      <td>1255.0</td>\n",
       "      <td>3353.0</td>\n",
       "      <td>1020.0</td>\n",
       "      <td>1033.0</td>\n",
       "      <td>Y</td>\n",
       "      <td>Y</td>\n",
       "      <td>2010.0</td>\n",
       "      <td>2315.0</td>\n",
       "      <td>1020.0</td>\n",
       "      <td>3353.0</td>\n",
       "      <td>20170816.0</td>\n",
       "    </tr>\n",
       "    <tr>\n",
       "      <th>1</th>\n",
       "      <td>ST536J8</td>\n",
       "      <td>2016-06-23 15:36:00.0</td>\n",
       "      <td>1536</td>\n",
       "      <td>20160707.0</td>\n",
       "      <td>Y</td>\n",
       "      <td>Q</td>\n",
       "      <td>15.0</td>\n",
       "      <td>420.0</td>\n",
       "      <td>2853.0</td>\n",
       "      <td>3353.0</td>\n",
       "      <td>1558.0</td>\n",
       "      <td>NaN</td>\n",
       "      <td>NaN</td>\n",
       "      <td>NaN</td>\n",
       "      <td>NaN</td>\n",
       "      <td>NaN</td>\n",
       "      <td>NaN</td>\n",
       "      <td>NaN</td>\n",
       "    </tr>\n",
       "  </tbody>\n",
       "</table>\n",
       "</div>"
      ],
      "text/plain": [
       "    PNR_NO ID_PNR_CREATION_DTIME_GMT  PNR_TIME  ID_PNR_ITI_DEP_YMD_1  \\\n",
       "0  SWL3GJ8     2017-08-10 15:24:00.0      1524            20170814.0   \n",
       "1  ST536J8     2016-06-23 15:36:00.0      1536            20160707.0   \n",
       "\n",
       "  ID_PNR_ITI_CABCLASS_1 ID_PNR_ITI_SELCLASS_1  ID_PNR_ITI_DEP_TIME_1  \\\n",
       "0                     Y                     A                 1155.0   \n",
       "1                     Y                     Q                   15.0   \n",
       "\n",
       "   ID_PNR_ITI_ARR_TIME_1  ID_PNR_ITI_DEP_APT_1  ID_PNR_ITI_ARR_APT_1  \\\n",
       "0                 1255.0                3353.0                1020.0   \n",
       "1                  420.0                2853.0                3353.0   \n",
       "\n",
       "   ID_PNR_ITI_FLIGHT_NO_1 ID_PNR_ITI_SELCLASS_2 ID_PNR_ITI_CABCLASS_2  \\\n",
       "0                  1033.0                     Y                     Y   \n",
       "1                  1558.0                   NaN                   NaN   \n",
       "\n",
       "   ID_PNR_ITI_DEP_TIME_2  ID_PNR_ITI_ARR_TIME_2  ID_PNR_ITI_DEP_APT_2  \\\n",
       "0                 2010.0                 2315.0                1020.0   \n",
       "1                    NaN                    NaN                   NaN   \n",
       "\n",
       "   ID_PNR_ITI_ARR_APT_2  ID_PNR_ITI_DEP_YMD_2  \n",
       "0                3353.0            20170816.0  \n",
       "1                   NaN                   NaN  "
      ]
     },
     "execution_count": 3,
     "metadata": {},
     "output_type": "execute_result"
    }
   ],
   "source": [
    "pnrs.head(2)"
   ]
  },
  {
   "cell_type": "code",
   "execution_count": 4,
   "id": "caring-chicken",
   "metadata": {},
   "outputs": [
    {
     "name": "stdout",
     "output_type": "stream",
     "text": [
      "<class 'pandas.core.frame.DataFrame'>\n",
      "RangeIndex: 7656315 entries, 0 to 7656314\n",
      "Data columns (total 18 columns):\n",
      " #   Column                     Dtype  \n",
      "---  ------                     -----  \n",
      " 0   PNR_NO                     object \n",
      " 1   ID_PNR_CREATION_DTIME_GMT  object \n",
      " 2   PNR_TIME                   int64  \n",
      " 3   ID_PNR_ITI_DEP_YMD_1       float64\n",
      " 4   ID_PNR_ITI_CABCLASS_1      object \n",
      " 5   ID_PNR_ITI_SELCLASS_1      object \n",
      " 6   ID_PNR_ITI_DEP_TIME_1      float64\n",
      " 7   ID_PNR_ITI_ARR_TIME_1      float64\n",
      " 8   ID_PNR_ITI_DEP_APT_1       float64\n",
      " 9   ID_PNR_ITI_ARR_APT_1       float64\n",
      " 10  ID_PNR_ITI_FLIGHT_NO_1     float64\n",
      " 11  ID_PNR_ITI_SELCLASS_2      object \n",
      " 12  ID_PNR_ITI_CABCLASS_2      object \n",
      " 13  ID_PNR_ITI_DEP_TIME_2      float64\n",
      " 14  ID_PNR_ITI_ARR_TIME_2      float64\n",
      " 15  ID_PNR_ITI_DEP_APT_2       float64\n",
      " 16  ID_PNR_ITI_ARR_APT_2       float64\n",
      " 17  ID_PNR_ITI_DEP_YMD_2       float64\n",
      "dtypes: float64(11), int64(1), object(6)\n",
      "memory usage: 1.0+ GB\n"
     ]
    }
   ],
   "source": [
    "pnrs.info()"
   ]
  },
  {
   "cell_type": "code",
   "execution_count": 5,
   "id": "compressed-booking",
   "metadata": {
    "scrolled": false
   },
   "outputs": [
    {
     "data": {
      "text/plain": [
       "PNR_NO                             0\n",
       "ID_PNR_CREATION_DTIME_GMT          0\n",
       "PNR_TIME                           0\n",
       "ID_PNR_ITI_DEP_YMD_1          406989\n",
       "ID_PNR_ITI_CABCLASS_1         406989\n",
       "ID_PNR_ITI_SELCLASS_1         406989\n",
       "ID_PNR_ITI_DEP_TIME_1         406989\n",
       "ID_PNR_ITI_ARR_TIME_1         406989\n",
       "ID_PNR_ITI_DEP_APT_1          406989\n",
       "ID_PNR_ITI_ARR_APT_1          406989\n",
       "ID_PNR_ITI_FLIGHT_NO_1        406989\n",
       "ID_PNR_ITI_SELCLASS_2        3489181\n",
       "ID_PNR_ITI_CABCLASS_2        3489181\n",
       "ID_PNR_ITI_DEP_TIME_2        3489181\n",
       "ID_PNR_ITI_ARR_TIME_2        3489181\n",
       "ID_PNR_ITI_DEP_APT_2         3489181\n",
       "ID_PNR_ITI_ARR_APT_2         3489181\n",
       "ID_PNR_ITI_DEP_YMD_2         3489181\n",
       "dtype: int64"
      ]
     },
     "execution_count": 5,
     "metadata": {},
     "output_type": "execute_result"
    }
   ],
   "source": [
    "pnrs.isna().sum()"
   ]
  },
  {
   "cell_type": "code",
   "execution_count": 6,
   "id": "approximate-salem",
   "metadata": {},
   "outputs": [],
   "source": [
    "# deleting pnrs that has no flight\n",
    "pnrs.dropna(subset=['ID_PNR_ITI_DEP_YMD_1'], inplace=True)"
   ]
  },
  {
   "cell_type": "code",
   "execution_count": 7,
   "id": "trained-cable",
   "metadata": {},
   "outputs": [
    {
     "data": {
      "text/plain": [
       "7249326"
      ]
     },
     "execution_count": 7,
     "metadata": {},
     "output_type": "execute_result"
    }
   ],
   "source": [
    "pnrs.shape[0]"
   ]
  },
  {
   "cell_type": "code",
   "execution_count": 8,
   "id": "conventional-runner",
   "metadata": {},
   "outputs": [
    {
     "data": {
      "text/plain": [
       "PNR_NO                             0\n",
       "ID_PNR_CREATION_DTIME_GMT          0\n",
       "PNR_TIME                           0\n",
       "ID_PNR_ITI_DEP_YMD_1               0\n",
       "ID_PNR_ITI_CABCLASS_1              0\n",
       "ID_PNR_ITI_SELCLASS_1              0\n",
       "ID_PNR_ITI_DEP_TIME_1              0\n",
       "ID_PNR_ITI_ARR_TIME_1              0\n",
       "ID_PNR_ITI_DEP_APT_1               0\n",
       "ID_PNR_ITI_ARR_APT_1               0\n",
       "ID_PNR_ITI_FLIGHT_NO_1             0\n",
       "ID_PNR_ITI_SELCLASS_2        3082192\n",
       "ID_PNR_ITI_CABCLASS_2        3082192\n",
       "ID_PNR_ITI_DEP_TIME_2        3082192\n",
       "ID_PNR_ITI_ARR_TIME_2        3082192\n",
       "ID_PNR_ITI_DEP_APT_2         3082192\n",
       "ID_PNR_ITI_ARR_APT_2         3082192\n",
       "ID_PNR_ITI_DEP_YMD_2         3082192\n",
       "dtype: int64"
      ]
     },
     "execution_count": 8,
     "metadata": {},
     "output_type": "execute_result"
    }
   ],
   "source": [
    "pnrs.isna().sum()"
   ]
  },
  {
   "cell_type": "code",
   "execution_count": 9,
   "id": "descending-sandwich",
   "metadata": {},
   "outputs": [
    {
     "name": "stdout",
     "output_type": "stream",
     "text": [
      "# of unique values in  PNR_NO :  7025462\n",
      "# of unique values in  ID_PNR_CREATION_DTIME_GMT :  1617026\n",
      "# of unique values in  PNR_TIME :  1440\n",
      "# of unique values in  ID_PNR_ITI_DEP_YMD_1 :  1461\n",
      "# of unique values in  ID_PNR_ITI_CABCLASS_1 :  3\n",
      "# of unique values in  ID_PNR_ITI_SELCLASS_1 :  26\n",
      "# of unique values in  ID_PNR_ITI_DEP_TIME_1 :  284\n",
      "# of unique values in  ID_PNR_ITI_ARR_TIME_1 :  282\n",
      "# of unique values in  ID_PNR_ITI_DEP_APT_1 :  62\n",
      "# of unique values in  ID_PNR_ITI_ARR_APT_1 :  65\n",
      "# of unique values in  ID_PNR_ITI_FLIGHT_NO_1 :  595\n",
      "# of unique values in  ID_PNR_ITI_SELCLASS_2 :  27\n",
      "# of unique values in  ID_PNR_ITI_CABCLASS_2 :  4\n",
      "# of unique values in  ID_PNR_ITI_DEP_TIME_2 :  281\n",
      "# of unique values in  ID_PNR_ITI_ARR_TIME_2 :  282\n",
      "# of unique values in  ID_PNR_ITI_DEP_APT_2 :  63\n",
      "# of unique values in  ID_PNR_ITI_ARR_APT_2 :  64\n",
      "# of unique values in  ID_PNR_ITI_DEP_YMD_2 :  1460\n"
     ]
    }
   ],
   "source": [
    "for col in pnrs.columns:\n",
    "    print('# of unique values in ', col, ': ', len(pnrs[col].unique()))"
   ]
  },
  {
   "cell_type": "code",
   "execution_count": 10,
   "id": "developing-museum",
   "metadata": {},
   "outputs": [
    {
     "data": {
      "text/plain": [
       "array(['Y', nan, 'L', 'U', 'W', 'P', 'T', 'J', 'A', 'E', 'O', 'V', 'Q',\n",
       "       'S', 'H', 'X', 'B', 'Z', 'N', 'M', 'K', 'I', 'G', 'C', 'D', '?',\n",
       "       'R'], dtype=object)"
      ]
     },
     "execution_count": 10,
     "metadata": {},
     "output_type": "execute_result"
    }
   ],
   "source": [
    "pnrs['ID_PNR_ITI_SELCLASS_2'].unique()"
   ]
  },
  {
   "cell_type": "code",
   "execution_count": 11,
   "id": "varied-segment",
   "metadata": {},
   "outputs": [
    {
     "data": {
      "text/plain": [
       "0          20170816.0\n",
       "1                 NaN\n",
       "2          20160217.0\n",
       "3          20170221.0\n",
       "4          20170326.0\n",
       "              ...    \n",
       "7656310    20160403.0\n",
       "7656311           NaN\n",
       "7656312    20181027.0\n",
       "7656313           NaN\n",
       "7656314           NaN\n",
       "Name: ID_PNR_ITI_DEP_YMD_2, Length: 7249326, dtype: float64"
      ]
     },
     "execution_count": 11,
     "metadata": {},
     "output_type": "execute_result"
    }
   ],
   "source": [
    "pnrs['ID_PNR_ITI_DEP_YMD_2']"
   ]
  },
  {
   "cell_type": "code",
   "execution_count": 12,
   "id": "skilled-machine",
   "metadata": {},
   "outputs": [
    {
     "name": "stdout",
     "output_type": "stream",
     "text": [
      "2016-02-17\n"
     ]
    }
   ],
   "source": [
    "x = pnrs['ID_PNR_ITI_DEP_YMD_2'][2]\n",
    "if not pd.isna(x):\n",
    "    print(datetime.strptime(str(int(x)) , '%Y%m%d').strftime('%Y-%m-%d'))\n",
    "else: \n",
    "    print('-')"
   ]
  },
  {
   "cell_type": "code",
   "execution_count": 13,
   "id": "thorough-participation",
   "metadata": {},
   "outputs": [],
   "source": [
    "# pnr creation month\n",
    "pnrs['pnr_create_month'] = pd.to_datetime(pnrs['ID_PNR_CREATION_DTIME_GMT']).dt.month\n",
    "# pnr creation weekday\n",
    "pnrs['pnr_create_weekday'] = pd.to_datetime(pnrs['ID_PNR_CREATION_DTIME_GMT']).dt.weekday"
   ]
  },
  {
   "cell_type": "code",
   "execution_count": 14,
   "id": "sized-voltage",
   "metadata": {},
   "outputs": [],
   "source": [
    "pnrs['ID_PNR_ITI_DEP_YMD_1'] = pnrs['ID_PNR_ITI_DEP_YMD_1'].apply(lambda x: datetime.strptime(str(int(x)), '%Y%m%d').strftime('%Y-%m-%d'))\n",
    "# month of first flight\n",
    "pnrs['flight_month_1'] = pd.to_datetime(pnrs['ID_PNR_ITI_DEP_YMD_1']).dt.month\n",
    "# day of first flight\n",
    "pnrs['flight_weekday_1'] =  pd.to_datetime(pnrs['ID_PNR_ITI_DEP_YMD_1']).dt.weekday"
   ]
  },
  {
   "cell_type": "code",
   "execution_count": 15,
   "id": "fifteen-round",
   "metadata": {},
   "outputs": [],
   "source": [
    "pnrs['ID_PNR_ITI_DEP_YMD_2'] = pnrs['ID_PNR_ITI_DEP_YMD_2'].apply(lambda x: datetime.strptime(str(int(x)), '%Y%m%d').strftime('%Y-%m-%d') if not pd.isna(x) else np.nan)\n",
    "# month of second flight\n",
    "pnrs['flight_month_2'] = pd.to_datetime(pnrs['ID_PNR_ITI_DEP_YMD_2']).dt.month # apply(lambda x: int(x.month) if not pd.isna(x) else 0)\n",
    "# day of second flight\n",
    "pnrs['flight_weekday_2'] =  pd.to_datetime(pnrs['ID_PNR_ITI_DEP_YMD_2']).dt.weekday"
   ]
  },
  {
   "cell_type": "code",
   "execution_count": 16,
   "id": "impressed-patrick",
   "metadata": {
    "scrolled": true
   },
   "outputs": [
    {
     "data": {
      "text/html": [
       "<div>\n",
       "<style scoped>\n",
       "    .dataframe tbody tr th:only-of-type {\n",
       "        vertical-align: middle;\n",
       "    }\n",
       "\n",
       "    .dataframe tbody tr th {\n",
       "        vertical-align: top;\n",
       "    }\n",
       "\n",
       "    .dataframe thead th {\n",
       "        text-align: right;\n",
       "    }\n",
       "</style>\n",
       "<table border=\"1\" class=\"dataframe\">\n",
       "  <thead>\n",
       "    <tr style=\"text-align: right;\">\n",
       "      <th></th>\n",
       "      <th>PNR_NO</th>\n",
       "      <th>ID_PNR_CREATION_DTIME_GMT</th>\n",
       "      <th>PNR_TIME</th>\n",
       "      <th>ID_PNR_ITI_DEP_YMD_1</th>\n",
       "      <th>ID_PNR_ITI_CABCLASS_1</th>\n",
       "      <th>ID_PNR_ITI_SELCLASS_1</th>\n",
       "      <th>ID_PNR_ITI_DEP_TIME_1</th>\n",
       "      <th>ID_PNR_ITI_ARR_TIME_1</th>\n",
       "      <th>ID_PNR_ITI_DEP_APT_1</th>\n",
       "      <th>ID_PNR_ITI_ARR_APT_1</th>\n",
       "      <th>...</th>\n",
       "      <th>ID_PNR_ITI_ARR_TIME_2</th>\n",
       "      <th>ID_PNR_ITI_DEP_APT_2</th>\n",
       "      <th>ID_PNR_ITI_ARR_APT_2</th>\n",
       "      <th>ID_PNR_ITI_DEP_YMD_2</th>\n",
       "      <th>pnr_create_month</th>\n",
       "      <th>pnr_create_weekday</th>\n",
       "      <th>flight_month_1</th>\n",
       "      <th>flight_weekday_1</th>\n",
       "      <th>flight_month_2</th>\n",
       "      <th>flight_weekday_2</th>\n",
       "    </tr>\n",
       "  </thead>\n",
       "  <tbody>\n",
       "    <tr>\n",
       "      <th>0</th>\n",
       "      <td>SWL3GJ8</td>\n",
       "      <td>2017-08-10 15:24:00.0</td>\n",
       "      <td>1524</td>\n",
       "      <td>2017-08-14</td>\n",
       "      <td>Y</td>\n",
       "      <td>A</td>\n",
       "      <td>1155.0</td>\n",
       "      <td>1255.0</td>\n",
       "      <td>3353.0</td>\n",
       "      <td>1020.0</td>\n",
       "      <td>...</td>\n",
       "      <td>2315.0</td>\n",
       "      <td>1020.0</td>\n",
       "      <td>3353.0</td>\n",
       "      <td>2017-08-16</td>\n",
       "      <td>8</td>\n",
       "      <td>3</td>\n",
       "      <td>8</td>\n",
       "      <td>0</td>\n",
       "      <td>8.0</td>\n",
       "      <td>2.0</td>\n",
       "    </tr>\n",
       "    <tr>\n",
       "      <th>1</th>\n",
       "      <td>ST536J8</td>\n",
       "      <td>2016-06-23 15:36:00.0</td>\n",
       "      <td>1536</td>\n",
       "      <td>2016-07-07</td>\n",
       "      <td>Y</td>\n",
       "      <td>Q</td>\n",
       "      <td>15.0</td>\n",
       "      <td>420.0</td>\n",
       "      <td>2853.0</td>\n",
       "      <td>3353.0</td>\n",
       "      <td>...</td>\n",
       "      <td>NaN</td>\n",
       "      <td>NaN</td>\n",
       "      <td>NaN</td>\n",
       "      <td>NaN</td>\n",
       "      <td>6</td>\n",
       "      <td>3</td>\n",
       "      <td>7</td>\n",
       "      <td>3</td>\n",
       "      <td>NaN</td>\n",
       "      <td>NaN</td>\n",
       "    </tr>\n",
       "  </tbody>\n",
       "</table>\n",
       "<p>2 rows × 24 columns</p>\n",
       "</div>"
      ],
      "text/plain": [
       "    PNR_NO ID_PNR_CREATION_DTIME_GMT  PNR_TIME ID_PNR_ITI_DEP_YMD_1  \\\n",
       "0  SWL3GJ8     2017-08-10 15:24:00.0      1524           2017-08-14   \n",
       "1  ST536J8     2016-06-23 15:36:00.0      1536           2016-07-07   \n",
       "\n",
       "  ID_PNR_ITI_CABCLASS_1 ID_PNR_ITI_SELCLASS_1  ID_PNR_ITI_DEP_TIME_1  \\\n",
       "0                     Y                     A                 1155.0   \n",
       "1                     Y                     Q                   15.0   \n",
       "\n",
       "   ID_PNR_ITI_ARR_TIME_1  ID_PNR_ITI_DEP_APT_1  ID_PNR_ITI_ARR_APT_1  ...  \\\n",
       "0                 1255.0                3353.0                1020.0  ...   \n",
       "1                  420.0                2853.0                3353.0  ...   \n",
       "\n",
       "   ID_PNR_ITI_ARR_TIME_2 ID_PNR_ITI_DEP_APT_2 ID_PNR_ITI_ARR_APT_2  \\\n",
       "0                 2315.0               1020.0               3353.0   \n",
       "1                    NaN                  NaN                  NaN   \n",
       "\n",
       "   ID_PNR_ITI_DEP_YMD_2  pnr_create_month  pnr_create_weekday  flight_month_1  \\\n",
       "0            2017-08-16                 8                   3               8   \n",
       "1                   NaN                 6                   3               7   \n",
       "\n",
       "  flight_weekday_1  flight_month_2  flight_weekday_2  \n",
       "0                0             8.0               2.0  \n",
       "1                3             NaN               NaN  \n",
       "\n",
       "[2 rows x 24 columns]"
      ]
     },
     "execution_count": 16,
     "metadata": {},
     "output_type": "execute_result"
    }
   ],
   "source": [
    "pnrs.head(2)"
   ]
  },
  {
   "cell_type": "markdown",
   "id": "miniature-discount",
   "metadata": {},
   "source": [
    "## helper functions"
   ]
  },
  {
   "cell_type": "code",
   "execution_count": 17,
   "id": "colonial-understanding",
   "metadata": {},
   "outputs": [],
   "source": [
    "convert_hours = lambda x: datetime(1900, 1, 1, int(x)//100, int(x)%100)"
   ]
  },
  {
   "cell_type": "code",
   "execution_count": 18,
   "id": "third-pacific",
   "metadata": {},
   "outputs": [],
   "source": [
    "find_hour_difference = lambda x,y : (convert_hours(x)-convert_hours(y)).total_seconds()/60 if not pd.isna(y) else np.nan"
   ]
  },
  {
   "cell_type": "code",
   "execution_count": 19,
   "id": "ruled-logging",
   "metadata": {},
   "outputs": [],
   "source": [
    "def arrival_hour_interval(x):\n",
    "    if 500 <= x < 1100:\n",
    "        return 0\n",
    "    elif 1100 <= x < 1800:\n",
    "        return 1\n",
    "    else:\n",
    "        return 2"
   ]
  },
  {
   "cell_type": "code",
   "execution_count": 20,
   "id": "saved-timeline",
   "metadata": {},
   "outputs": [],
   "source": [
    "def pnr_workhour_interval(x):\n",
    "    if 800 <= x < 1800:\n",
    "        return 1\n",
    "    else:\n",
    "        return 0"
   ]
  },
  {
   "cell_type": "code",
   "execution_count": 21,
   "id": "ultimate-ideal",
   "metadata": {},
   "outputs": [],
   "source": [
    "# flight duration for first flight\n",
    "pnrs['flight_duration_1'] = pnrs[['ID_PNR_ITI_ARR_TIME_1', 'ID_PNR_ITI_DEP_TIME_1']].apply(lambda x: find_hour_difference(*x), axis=1)\n",
    "pnrs['flight_duration_1'] = pnrs['flight_duration_1'].apply(lambda x: x+1440 if x<0 else x)"
   ]
  },
  {
   "cell_type": "code",
   "execution_count": 22,
   "id": "romantic-medicaid",
   "metadata": {},
   "outputs": [],
   "source": [
    "# flight duration for second flight\n",
    "pnrs['flight_duration_2'] = pnrs[['ID_PNR_ITI_ARR_TIME_2', 'ID_PNR_ITI_DEP_TIME_2']].apply(lambda x: find_hour_difference(*x), axis=1)\n",
    "pnrs['flight_duration_2'] = pnrs['flight_duration_2'].apply(lambda x: x+1440 if x<0 else x)"
   ]
  },
  {
   "cell_type": "code",
   "execution_count": 23,
   "id": "closing-express",
   "metadata": {},
   "outputs": [],
   "source": [
    "# arrival intervals of flights 05:00-11:00, 11:00-18:00, 18:00-05:00\n",
    "pnrs['arrival_interval_1'] = pnrs['ID_PNR_ITI_ARR_TIME_1'].apply(arrival_hour_interval)\n",
    "pnrs['arrival_interval_2'] = pnrs['ID_PNR_ITI_ARR_TIME_2'].apply(arrival_hour_interval)"
   ]
  },
  {
   "cell_type": "code",
   "execution_count": 24,
   "id": "devoted-yield",
   "metadata": {},
   "outputs": [],
   "source": [
    "# day difference between first flight and pnr date\n",
    "pnrs['diff_pnr_firstflight'] = (pd.to_datetime(pnrs['ID_PNR_ITI_DEP_YMD_1'])-pd.to_datetime(pnrs['ID_PNR_CREATION_DTIME_GMT'])).apply(lambda x: x.days) + 1\n",
    "# day difference between second flight and first flight\n",
    "pnrs['diff_second_firstflight'] = np.abs((pd.to_datetime(pnrs['ID_PNR_ITI_DEP_YMD_2'])-pd.to_datetime(pnrs['ID_PNR_ITI_DEP_YMD_1'])).apply(lambda x: x.days))"
   ]
  },
  {
   "cell_type": "code",
   "execution_count": 25,
   "id": "enabling-february",
   "metadata": {},
   "outputs": [],
   "source": [
    "# is pnr create hour in workhours or not\n",
    "pnrs['pnr_workhour_interval'] = pnrs['PNR_TIME'].apply(pnr_workhour_interval)"
   ]
  },
  {
   "cell_type": "code",
   "execution_count": 26,
   "id": "universal-delay",
   "metadata": {},
   "outputs": [],
   "source": [
    "# number of flights in each pnr\n",
    "pnrs['num_of_flights'] = pnrs['ID_PNR_ITI_DEP_YMD_1'].isna()*-1 + pnrs['ID_PNR_ITI_DEP_YMD_2'].isna()*-1+2"
   ]
  },
  {
   "cell_type": "code",
   "execution_count": 27,
   "id": "thrown-chapel",
   "metadata": {},
   "outputs": [],
   "source": [
    "pnrs = pnrs[['PNR_NO', 'ID_PNR_CREATION_DTIME_GMT',\n",
    "'ID_PNR_ITI_CABCLASS_1', 'ID_PNR_ITI_SELCLASS_1', \n",
    "'ID_PNR_ITI_DEP_APT_1', 'ID_PNR_ITI_ARR_APT_1',\n",
    "'ID_PNR_ITI_SELCLASS_2', 'ID_PNR_ITI_CABCLASS_2',\n",
    "'ID_PNR_ITI_DEP_APT_2', 'ID_PNR_ITI_ARR_APT_2',\n",
    "'pnr_create_month', 'pnr_create_weekday',\n",
    "'flight_month_1', 'flight_weekday_1', 'flight_month_2',\n",
    "'flight_weekday_2', 'flight_duration_1', 'flight_duration_2',\n",
    "'arrival_interval_1', 'arrival_interval_2', 'diff_pnr_firstflight',\n",
    "'diff_second_firstflight', 'pnr_workhour_interval', 'num_of_flights']]"
   ]
  },
  {
   "cell_type": "markdown",
   "id": "moving-crown",
   "metadata": {},
   "source": [
    "# tickets"
   ]
  },
  {
   "cell_type": "markdown",
   "id": "featured-garlic",
   "metadata": {},
   "source": [
    "TICKET\n",
    "\n",
    "FLIGHT_REASON Label\n",
    "\n",
    "PNR_PSSG_COUNT: yolcu sayısı\n",
    "CHILD_FLG: çocuk olup olmadığı\n",
    "INFANT_FLG: infant\n",
    "POS_POC_SAME_FLG: PNR ın satış noktasıyla çıkış noktasının aynı olup olmadığı bilgisi\n",
    "SAME_SRNAME_FLG: PNR da aynı soy isimden kişilerin olup olmadığı bilgisi\n",
    "FAMILY_FLG: Pnr ın tek bir aileden oluşup oluşmadığı bilgisi\n",
    "SEAT_SELECT_FLG: Yolcunun koltuk seçimi yapıp yapmadığı bilgisi\n",
    "XBAG_FIRST_FLT_FLG: PNR ın ilk uçuşunda ekstra bagaj alıp almadığı bilgisi\n",
    "XBAG_LAST_FLT_FLG: PNR ın son uçuşunda ekstra bagaj alıp almadığı bilgisi\n",
    "XBAG_TWO_WAY_FLT_FLG: PNR ın her uçuşunda da ekstra bagaj alıp almadığı bilgisi !!!!!!!! yukarıdaki iki kolonla beraber mi?\n",
    "XBAG_FLG: Ekstra bagaj alıp almadığı bilgisi\n",
    "SPORT_FLG: Yolcunun spor ekipmanı taşıyıp taşımadığı bilgisi\n",
    "PET_FLG: Yolcunun evcil hayvan taşıyıp taşımadığı bilgisi\n",
    "JRNY_TYP: Seyahatin tek yön mü, gidiş- dönüş mü olduğunu gösterir (O, R)\n",
    "OND: Biletin çıkış-varış noktası, ! - ile ayır dest, \n",
    "NTNLT1: Yolcunun uyruğu\n",
    "CUST_AGE: Yolcunun yaşı"
   ]
  },
  {
   "cell_type": "code",
   "execution_count": 28,
   "id": "superior-samuel",
   "metadata": {},
   "outputs": [],
   "source": [
    "tickets = pd.read_csv('TICKET.csv')"
   ]
  },
  {
   "cell_type": "code",
   "execution_count": 29,
   "id": "uniform-radical",
   "metadata": {},
   "outputs": [
    {
     "data": {
      "text/html": [
       "<div>\n",
       "<style scoped>\n",
       "    .dataframe tbody tr th:only-of-type {\n",
       "        vertical-align: middle;\n",
       "    }\n",
       "\n",
       "    .dataframe tbody tr th {\n",
       "        vertical-align: top;\n",
       "    }\n",
       "\n",
       "    .dataframe thead th {\n",
       "        text-align: right;\n",
       "    }\n",
       "</style>\n",
       "<table border=\"1\" class=\"dataframe\">\n",
       "  <thead>\n",
       "    <tr style=\"text-align: right;\">\n",
       "      <th></th>\n",
       "      <th>PNR_NO</th>\n",
       "      <th>ID_PNR_CREATION_YMD</th>\n",
       "      <th>ID_TKT_NO</th>\n",
       "      <th>FLIGHT_REASON</th>\n",
       "      <th>PNR_PSSG_COUNT</th>\n",
       "      <th>CHILD_FLG</th>\n",
       "      <th>INFANT_FLG</th>\n",
       "      <th>POS_POC_SAME_FLG</th>\n",
       "      <th>SAME_SRNAME_FLG</th>\n",
       "      <th>FAMILY_FLG</th>\n",
       "      <th>...</th>\n",
       "      <th>XBAG_FIRST_FLT_FLG</th>\n",
       "      <th>XBAG_LAST_FLT_FLG</th>\n",
       "      <th>XBAG_TWO_WAY_FLT_FLG</th>\n",
       "      <th>SPORT_FLG</th>\n",
       "      <th>XBAG_FLG</th>\n",
       "      <th>PET_FLG</th>\n",
       "      <th>JRNY_TYP</th>\n",
       "      <th>OND</th>\n",
       "      <th>NTNLT1</th>\n",
       "      <th>CUST_AGE</th>\n",
       "    </tr>\n",
       "  </thead>\n",
       "  <tbody>\n",
       "    <tr>\n",
       "      <th>0</th>\n",
       "      <td>TEW3KBT</td>\n",
       "      <td>20180503</td>\n",
       "      <td>142055717068</td>\n",
       "      <td>NONE</td>\n",
       "      <td>1</td>\n",
       "      <td>0</td>\n",
       "      <td>0</td>\n",
       "      <td>0</td>\n",
       "      <td>0</td>\n",
       "      <td>0</td>\n",
       "      <td>...</td>\n",
       "      <td>0</td>\n",
       "      <td>0</td>\n",
       "      <td>0</td>\n",
       "      <td>0</td>\n",
       "      <td>0</td>\n",
       "      <td>0</td>\n",
       "      <td>O</td>\n",
       "      <td>IST-CDG</td>\n",
       "      <td>NaN</td>\n",
       "      <td>NaN</td>\n",
       "    </tr>\n",
       "    <tr>\n",
       "      <th>1</th>\n",
       "      <td>TCZ3RLY</td>\n",
       "      <td>20191126</td>\n",
       "      <td>2351841942820</td>\n",
       "      <td>BUSINESS</td>\n",
       "      <td>1</td>\n",
       "      <td>0</td>\n",
       "      <td>0</td>\n",
       "      <td>0</td>\n",
       "      <td>0</td>\n",
       "      <td>0</td>\n",
       "      <td>...</td>\n",
       "      <td>0</td>\n",
       "      <td>0</td>\n",
       "      <td>0</td>\n",
       "      <td>0</td>\n",
       "      <td>0</td>\n",
       "      <td>0</td>\n",
       "      <td>R</td>\n",
       "      <td>MXP-IST</td>\n",
       "      <td>Italy</td>\n",
       "      <td>38.0</td>\n",
       "    </tr>\n",
       "  </tbody>\n",
       "</table>\n",
       "<p>2 rows × 21 columns</p>\n",
       "</div>"
      ],
      "text/plain": [
       "    PNR_NO  ID_PNR_CREATION_YMD      ID_TKT_NO FLIGHT_REASON  PNR_PSSG_COUNT  \\\n",
       "0  TEW3KBT             20180503   142055717068          NONE               1   \n",
       "1  TCZ3RLY             20191126  2351841942820      BUSINESS               1   \n",
       "\n",
       "   CHILD_FLG  INFANT_FLG  POS_POC_SAME_FLG  SAME_SRNAME_FLG  FAMILY_FLG  ...  \\\n",
       "0          0           0                 0                0           0  ...   \n",
       "1          0           0                 0                0           0  ...   \n",
       "\n",
       "   XBAG_FIRST_FLT_FLG  XBAG_LAST_FLT_FLG  XBAG_TWO_WAY_FLT_FLG  SPORT_FLG  \\\n",
       "0                   0                  0                     0          0   \n",
       "1                   0                  0                     0          0   \n",
       "\n",
       "   XBAG_FLG  PET_FLG  JRNY_TYP      OND NTNLT1 CUST_AGE  \n",
       "0         0        0         O  IST-CDG    NaN      NaN  \n",
       "1         0        0         R  MXP-IST  Italy     38.0  \n",
       "\n",
       "[2 rows x 21 columns]"
      ]
     },
     "execution_count": 29,
     "metadata": {},
     "output_type": "execute_result"
    }
   ],
   "source": [
    "tickets.head(2)"
   ]
  },
  {
   "cell_type": "code",
   "execution_count": 30,
   "id": "random-branch",
   "metadata": {},
   "outputs": [
    {
     "name": "stdout",
     "output_type": "stream",
     "text": [
      "<class 'pandas.core.frame.DataFrame'>\n",
      "RangeIndex: 10207368 entries, 0 to 10207367\n",
      "Data columns (total 21 columns):\n",
      " #   Column                Dtype  \n",
      "---  ------                -----  \n",
      " 0   PNR_NO                object \n",
      " 1   ID_PNR_CREATION_YMD   int64  \n",
      " 2   ID_TKT_NO             int64  \n",
      " 3   FLIGHT_REASON         object \n",
      " 4   PNR_PSSG_COUNT        int64  \n",
      " 5   CHILD_FLG             int64  \n",
      " 6   INFANT_FLG            int64  \n",
      " 7   POS_POC_SAME_FLG      int64  \n",
      " 8   SAME_SRNAME_FLG       int64  \n",
      " 9   FAMILY_FLG            int64  \n",
      " 10  SEAT_SELECT_FLG       int64  \n",
      " 11  XBAG_FIRST_FLT_FLG    int64  \n",
      " 12  XBAG_LAST_FLT_FLG     int64  \n",
      " 13  XBAG_TWO_WAY_FLT_FLG  int64  \n",
      " 14  SPORT_FLG             int64  \n",
      " 15  XBAG_FLG              int64  \n",
      " 16  PET_FLG               int64  \n",
      " 17  JRNY_TYP              object \n",
      " 18  OND                   object \n",
      " 19  NTNLT1                object \n",
      " 20  CUST_AGE              float64\n",
      "dtypes: float64(1), int64(15), object(5)\n",
      "memory usage: 1.6+ GB\n"
     ]
    }
   ],
   "source": [
    "tickets.info()"
   ]
  },
  {
   "cell_type": "code",
   "execution_count": 31,
   "id": "cheap-peripheral",
   "metadata": {
    "scrolled": false
   },
   "outputs": [
    {
     "data": {
      "text/plain": [
       "PNR_NO                        0\n",
       "ID_PNR_CREATION_YMD           0\n",
       "ID_TKT_NO                     0\n",
       "FLIGHT_REASON                 0\n",
       "PNR_PSSG_COUNT                0\n",
       "CHILD_FLG                     0\n",
       "INFANT_FLG                    0\n",
       "POS_POC_SAME_FLG              0\n",
       "SAME_SRNAME_FLG               0\n",
       "FAMILY_FLG                    0\n",
       "SEAT_SELECT_FLG               0\n",
       "XBAG_FIRST_FLT_FLG            0\n",
       "XBAG_LAST_FLT_FLG             0\n",
       "XBAG_TWO_WAY_FLT_FLG          0\n",
       "SPORT_FLG                     0\n",
       "XBAG_FLG                      0\n",
       "PET_FLG                       0\n",
       "JRNY_TYP                      0\n",
       "OND                           0\n",
       "NTNLT1                  4395393\n",
       "CUST_AGE                4231579\n",
       "dtype: int64"
      ]
     },
     "execution_count": 31,
     "metadata": {},
     "output_type": "execute_result"
    }
   ],
   "source": [
    "tickets.isna().sum()"
   ]
  },
  {
   "cell_type": "code",
   "execution_count": 32,
   "id": "extraordinary-breathing",
   "metadata": {},
   "outputs": [
    {
     "data": {
      "text/plain": [
       "NONE           8911797\n",
       "LEISURE         576739\n",
       "BUSINESS        458593\n",
       "SECOND HOME     259011\n",
       "STUDENT           1228\n",
       "Name: FLIGHT_REASON, dtype: int64"
      ]
     },
     "execution_count": 32,
     "metadata": {},
     "output_type": "execute_result"
    }
   ],
   "source": [
    "tickets['FLIGHT_REASON'].value_counts()"
   ]
  },
  {
   "cell_type": "code",
   "execution_count": 33,
   "id": "neural-draft",
   "metadata": {
    "scrolled": true
   },
   "outputs": [],
   "source": [
    "tickets = tickets[tickets['FLIGHT_REASON']!='NONE']"
   ]
  },
  {
   "cell_type": "code",
   "execution_count": 34,
   "id": "copyrighted-cameroon",
   "metadata": {},
   "outputs": [
    {
     "data": {
      "text/plain": [
       "Index(['PNR_NO', 'ID_PNR_CREATION_YMD', 'ID_TKT_NO', 'FLIGHT_REASON',\n",
       "       'PNR_PSSG_COUNT', 'CHILD_FLG', 'INFANT_FLG', 'POS_POC_SAME_FLG',\n",
       "       'SAME_SRNAME_FLG', 'FAMILY_FLG', 'SEAT_SELECT_FLG',\n",
       "       'XBAG_FIRST_FLT_FLG', 'XBAG_LAST_FLT_FLG', 'XBAG_TWO_WAY_FLT_FLG',\n",
       "       'SPORT_FLG', 'XBAG_FLG', 'PET_FLG', 'JRNY_TYP', 'OND', 'NTNLT1',\n",
       "       'CUST_AGE'],\n",
       "      dtype='object')"
      ]
     },
     "execution_count": 34,
     "metadata": {},
     "output_type": "execute_result"
    }
   ],
   "source": [
    "tickets.columns"
   ]
  },
  {
   "cell_type": "code",
   "execution_count": 35,
   "id": "incorporate-factor",
   "metadata": {},
   "outputs": [],
   "source": [
    "tickets['DEP'] = tickets['OND'].apply(lambda x: x.split('-')[0])\n",
    "tickets['ARR'] = tickets['OND'].apply(lambda x: x.split('-')[1])"
   ]
  },
  {
   "cell_type": "code",
   "execution_count": 36,
   "id": "broke-transsexual",
   "metadata": {},
   "outputs": [
    {
     "data": {
      "text/plain": [
       "array(['IST', 'AMS', 'MXP', 'LED', 'MUC', 'MRS', 'VCE', 'PRG', 'FCO',\n",
       "       'MSQ', 'KRR', 'BHX', 'LHR', 'TXL', 'ATH', 'LUX', 'FRA', 'CDG',\n",
       "       'VIE', 'GVA', 'HAM', 'NCE', 'LEJ', 'BUD', 'MAN', 'CPH', 'BCN',\n",
       "       'NUE', 'MAD', 'BRU', 'WAW', 'VKO', 'STR', 'CGN', 'ARN', 'BLQ',\n",
       "       'DUS', 'HEL', 'LYS', 'LGW', 'HAJ', 'DUB', 'CTA', 'GOT', 'BRE',\n",
       "       'BLL', 'TLS', 'OSL', 'KZN', 'VNO', 'RIX', 'KUF', 'ROV', 'PAR',\n",
       "       'EDI', 'SVX', 'SZG', 'TLL', 'GRZ', 'VOZ', 'UFA', 'AER', 'AYT',\n",
       "       'MIL', 'BER', 'LON', 'MOW', 'STO', 'ROM'], dtype=object)"
      ]
     },
     "execution_count": 36,
     "metadata": {},
     "output_type": "execute_result"
    }
   ],
   "source": [
    "tickets['ARR'].unique()"
   ]
  },
  {
   "cell_type": "code",
   "execution_count": 37,
   "id": "valid-testing",
   "metadata": {},
   "outputs": [
    {
     "data": {
      "text/html": [
       "<div>\n",
       "<style scoped>\n",
       "    .dataframe tbody tr th:only-of-type {\n",
       "        vertical-align: middle;\n",
       "    }\n",
       "\n",
       "    .dataframe tbody tr th {\n",
       "        vertical-align: top;\n",
       "    }\n",
       "\n",
       "    .dataframe thead th {\n",
       "        text-align: right;\n",
       "    }\n",
       "</style>\n",
       "<table border=\"1\" class=\"dataframe\">\n",
       "  <thead>\n",
       "    <tr style=\"text-align: right;\">\n",
       "      <th></th>\n",
       "      <th>PNR_NO</th>\n",
       "      <th>ID_PNR_CREATION_YMD</th>\n",
       "      <th>ID_TKT_NO</th>\n",
       "      <th>FLIGHT_REASON</th>\n",
       "      <th>PNR_PSSG_COUNT</th>\n",
       "      <th>CHILD_FLG</th>\n",
       "      <th>INFANT_FLG</th>\n",
       "      <th>POS_POC_SAME_FLG</th>\n",
       "      <th>SAME_SRNAME_FLG</th>\n",
       "      <th>FAMILY_FLG</th>\n",
       "      <th>...</th>\n",
       "      <th>XBAG_TWO_WAY_FLT_FLG</th>\n",
       "      <th>SPORT_FLG</th>\n",
       "      <th>XBAG_FLG</th>\n",
       "      <th>PET_FLG</th>\n",
       "      <th>JRNY_TYP</th>\n",
       "      <th>OND</th>\n",
       "      <th>NTNLT1</th>\n",
       "      <th>CUST_AGE</th>\n",
       "      <th>DEP</th>\n",
       "      <th>ARR</th>\n",
       "    </tr>\n",
       "  </thead>\n",
       "  <tbody>\n",
       "    <tr>\n",
       "      <th>1</th>\n",
       "      <td>TCZ3RLY</td>\n",
       "      <td>20191126</td>\n",
       "      <td>2351841942820</td>\n",
       "      <td>BUSINESS</td>\n",
       "      <td>1</td>\n",
       "      <td>0</td>\n",
       "      <td>0</td>\n",
       "      <td>0</td>\n",
       "      <td>0</td>\n",
       "      <td>0</td>\n",
       "      <td>...</td>\n",
       "      <td>0</td>\n",
       "      <td>0</td>\n",
       "      <td>0</td>\n",
       "      <td>0</td>\n",
       "      <td>R</td>\n",
       "      <td>MXP-IST</td>\n",
       "      <td>Italy</td>\n",
       "      <td>38.0</td>\n",
       "      <td>MXP</td>\n",
       "      <td>IST</td>\n",
       "    </tr>\n",
       "    <tr>\n",
       "      <th>2</th>\n",
       "      <td>RDI3MGJ</td>\n",
       "      <td>20191017</td>\n",
       "      <td>2352398019612</td>\n",
       "      <td>BUSINESS</td>\n",
       "      <td>1</td>\n",
       "      <td>0</td>\n",
       "      <td>0</td>\n",
       "      <td>1</td>\n",
       "      <td>0</td>\n",
       "      <td>0</td>\n",
       "      <td>...</td>\n",
       "      <td>0</td>\n",
       "      <td>0</td>\n",
       "      <td>0</td>\n",
       "      <td>0</td>\n",
       "      <td>R</td>\n",
       "      <td>IST-AMS</td>\n",
       "      <td>Turkey</td>\n",
       "      <td>51.0</td>\n",
       "      <td>IST</td>\n",
       "      <td>AMS</td>\n",
       "    </tr>\n",
       "    <tr>\n",
       "      <th>3</th>\n",
       "      <td>RMD3TXI</td>\n",
       "      <td>20181107</td>\n",
       "      <td>2352883527102</td>\n",
       "      <td>BUSINESS</td>\n",
       "      <td>1</td>\n",
       "      <td>0</td>\n",
       "      <td>0</td>\n",
       "      <td>0</td>\n",
       "      <td>0</td>\n",
       "      <td>0</td>\n",
       "      <td>...</td>\n",
       "      <td>0</td>\n",
       "      <td>0</td>\n",
       "      <td>0</td>\n",
       "      <td>0</td>\n",
       "      <td>R</td>\n",
       "      <td>IST-MXP</td>\n",
       "      <td>Turkey</td>\n",
       "      <td>40.0</td>\n",
       "      <td>IST</td>\n",
       "      <td>MXP</td>\n",
       "    </tr>\n",
       "    <tr>\n",
       "      <th>4</th>\n",
       "      <td>SLY38ND</td>\n",
       "      <td>20190329</td>\n",
       "      <td>2353601191915</td>\n",
       "      <td>BUSINESS</td>\n",
       "      <td>1</td>\n",
       "      <td>0</td>\n",
       "      <td>0</td>\n",
       "      <td>0</td>\n",
       "      <td>0</td>\n",
       "      <td>0</td>\n",
       "      <td>...</td>\n",
       "      <td>0</td>\n",
       "      <td>0</td>\n",
       "      <td>0</td>\n",
       "      <td>0</td>\n",
       "      <td>O</td>\n",
       "      <td>LHR-IST</td>\n",
       "      <td>Germany</td>\n",
       "      <td>63.0</td>\n",
       "      <td>LHR</td>\n",
       "      <td>IST</td>\n",
       "    </tr>\n",
       "    <tr>\n",
       "      <th>5</th>\n",
       "      <td>T2736PV</td>\n",
       "      <td>20180402</td>\n",
       "      <td>2355397669426</td>\n",
       "      <td>BUSINESS</td>\n",
       "      <td>1</td>\n",
       "      <td>0</td>\n",
       "      <td>0</td>\n",
       "      <td>0</td>\n",
       "      <td>0</td>\n",
       "      <td>0</td>\n",
       "      <td>...</td>\n",
       "      <td>0</td>\n",
       "      <td>0</td>\n",
       "      <td>0</td>\n",
       "      <td>0</td>\n",
       "      <td>R</td>\n",
       "      <td>IST-LED</td>\n",
       "      <td>Turkey</td>\n",
       "      <td>34.0</td>\n",
       "      <td>IST</td>\n",
       "      <td>LED</td>\n",
       "    </tr>\n",
       "  </tbody>\n",
       "</table>\n",
       "<p>5 rows × 23 columns</p>\n",
       "</div>"
      ],
      "text/plain": [
       "    PNR_NO  ID_PNR_CREATION_YMD      ID_TKT_NO FLIGHT_REASON  PNR_PSSG_COUNT  \\\n",
       "1  TCZ3RLY             20191126  2351841942820      BUSINESS               1   \n",
       "2  RDI3MGJ             20191017  2352398019612      BUSINESS               1   \n",
       "3  RMD3TXI             20181107  2352883527102      BUSINESS               1   \n",
       "4  SLY38ND             20190329  2353601191915      BUSINESS               1   \n",
       "5  T2736PV             20180402  2355397669426      BUSINESS               1   \n",
       "\n",
       "   CHILD_FLG  INFANT_FLG  POS_POC_SAME_FLG  SAME_SRNAME_FLG  FAMILY_FLG  ...  \\\n",
       "1          0           0                 0                0           0  ...   \n",
       "2          0           0                 1                0           0  ...   \n",
       "3          0           0                 0                0           0  ...   \n",
       "4          0           0                 0                0           0  ...   \n",
       "5          0           0                 0                0           0  ...   \n",
       "\n",
       "   XBAG_TWO_WAY_FLT_FLG  SPORT_FLG  XBAG_FLG  PET_FLG  JRNY_TYP      OND  \\\n",
       "1                     0          0         0        0         R  MXP-IST   \n",
       "2                     0          0         0        0         R  IST-AMS   \n",
       "3                     0          0         0        0         R  IST-MXP   \n",
       "4                     0          0         0        0         O  LHR-IST   \n",
       "5                     0          0         0        0         R  IST-LED   \n",
       "\n",
       "    NTNLT1 CUST_AGE  DEP  ARR  \n",
       "1    Italy     38.0  MXP  IST  \n",
       "2   Turkey     51.0  IST  AMS  \n",
       "3   Turkey     40.0  IST  MXP  \n",
       "4  Germany     63.0  LHR  IST  \n",
       "5   Turkey     34.0  IST  LED  \n",
       "\n",
       "[5 rows x 23 columns]"
      ]
     },
     "execution_count": 37,
     "metadata": {},
     "output_type": "execute_result"
    }
   ],
   "source": [
    "tickets.head(5)"
   ]
  },
  {
   "cell_type": "code",
   "execution_count": 38,
   "id": "charged-crawford",
   "metadata": {},
   "outputs": [
    {
     "data": {
      "text/plain": [
       "PNR_NO                       0\n",
       "ID_PNR_CREATION_YMD          0\n",
       "ID_TKT_NO                    0\n",
       "FLIGHT_REASON                0\n",
       "PNR_PSSG_COUNT               0\n",
       "CHILD_FLG                    0\n",
       "INFANT_FLG                   0\n",
       "POS_POC_SAME_FLG             0\n",
       "SAME_SRNAME_FLG              0\n",
       "FAMILY_FLG                   0\n",
       "SEAT_SELECT_FLG              0\n",
       "XBAG_FIRST_FLT_FLG           0\n",
       "XBAG_LAST_FLT_FLG            0\n",
       "XBAG_TWO_WAY_FLT_FLG         0\n",
       "SPORT_FLG                    0\n",
       "XBAG_FLG                     0\n",
       "PET_FLG                      0\n",
       "JRNY_TYP                     0\n",
       "OND                          0\n",
       "NTNLT1                  571932\n",
       "CUST_AGE                558816\n",
       "DEP                          0\n",
       "ARR                          0\n",
       "dtype: int64"
      ]
     },
     "execution_count": 38,
     "metadata": {},
     "output_type": "execute_result"
    }
   ],
   "source": [
    "tickets.isna().sum()"
   ]
  },
  {
   "cell_type": "code",
   "execution_count": 39,
   "id": "incredible-immigration",
   "metadata": {},
   "outputs": [
    {
     "data": {
      "text/plain": [
       "655251"
      ]
     },
     "execution_count": 39,
     "metadata": {},
     "output_type": "execute_result"
    }
   ],
   "source": [
    "len(tickets.PNR_NO.unique())"
   ]
  },
  {
   "cell_type": "code",
   "execution_count": 40,
   "id": "lovely-newman",
   "metadata": {},
   "outputs": [
    {
     "data": {
      "text/plain": [
       "(1295571, 23)"
      ]
     },
     "execution_count": 40,
     "metadata": {},
     "output_type": "execute_result"
    }
   ],
   "source": [
    "tickets.shape"
   ]
  },
  {
   "cell_type": "code",
   "execution_count": 41,
   "id": "distant-bryan",
   "metadata": {},
   "outputs": [
    {
     "data": {
      "text/plain": [
       "((7249326, 24), 7025462)"
      ]
     },
     "execution_count": 41,
     "metadata": {},
     "output_type": "execute_result"
    }
   ],
   "source": [
    "pnrs.shape, len(pnrs.PNR_NO.unique())"
   ]
  },
  {
   "cell_type": "code",
   "execution_count": 42,
   "id": "vietnamese-macedonia",
   "metadata": {},
   "outputs": [],
   "source": [
    "pnrs['date'] = pnrs['ID_PNR_CREATION_DTIME_GMT'].apply(lambda x: x.split(' ')[0])"
   ]
  },
  {
   "cell_type": "code",
   "execution_count": 43,
   "id": "industrial-logistics",
   "metadata": {},
   "outputs": [],
   "source": [
    "tickets['date'] = tickets['ID_PNR_CREATION_YMD'].apply(lambda x: datetime.strptime(str(x), '%Y%m%d').strftime('%Y-%m-%d'))"
   ]
  },
  {
   "cell_type": "code",
   "execution_count": 44,
   "id": "brilliant-sweden",
   "metadata": {},
   "outputs": [],
   "source": [
    "merged_df = pd.merge(tickets, pnrs, on=['PNR_NO', 'date'])"
   ]
  },
  {
   "cell_type": "code",
   "execution_count": 45,
   "id": "sunset-wallace",
   "metadata": {},
   "outputs": [
    {
     "data": {
      "text/plain": [
       "(1295571, 47)"
      ]
     },
     "execution_count": 45,
     "metadata": {},
     "output_type": "execute_result"
    }
   ],
   "source": [
    "merged_df.shape"
   ]
  },
  {
   "cell_type": "code",
   "execution_count": 46,
   "id": "efficient-religious",
   "metadata": {},
   "outputs": [],
   "source": [
    "# 'FLIGHT_REASON' - label\n",
    "\n",
    "categorical_str = [\n",
    "'ARR',\n",
    "'DEP',\n",
    "'ID_PNR_ITI_CABCLASS_1',\n",
    "'ID_PNR_ITI_CABCLASS_2',\n",
    "'ID_PNR_ITI_SELCLASS_1',\n",
    "'ID_PNR_ITI_SELCLASS_2',\n",
    "'JRNY_TYP',\n",
    "'NTNLT1' ] \n",
    "\n",
    "categorical_int = [\n",
    "'arrival_interval_1',\n",
    "'arrival_interval_2',\n",
    "'flight_month_1',\n",
    "'flight_month_2',\n",
    "'flight_weekday_1',\n",
    "'flight_weekday_2',\n",
    "'pnr_create_month',\n",
    "'pnr_create_weekday',\n",
    "'pnr_workhour_interval']\n",
    "\n",
    "numerical = [\n",
    "'CUST_AGE',\n",
    "'diff_pnr_firstflight', \n",
    "'diff_second_firstflight',\n",
    "'flight_duration_1',\n",
    "'flight_duration_2',\n",
    "]\n",
    "\n",
    "passthrough = [\n",
    "'CHILD_FLG',\n",
    "'FAMILY_FLG',\n",
    "'INFANT_FLG',\n",
    "'PET_FLG',\n",
    "'POS_POC_SAME_FLG',\n",
    "'SAME_SRNAME_FLG',\n",
    "'SEAT_SELECT_FLG',\n",
    "'SPORT_FLG',\n",
    "'XBAG_FIRST_FLT_FLG',\n",
    "'XBAG_FLG',\n",
    "'XBAG_LAST_FLT_FLG',\n",
    "'XBAG_TWO_WAY_FLT_FLG',\n",
    "'PNR_PSSG_COUNT',\n",
    "'num_of_flights']\n",
    "\n",
    "drops = [\n",
    "'ID_PNR_CREATION_DTIME_GMT',\n",
    "'ID_PNR_CREATION_YMD',\n",
    "'ID_PNR_ITI_ARR_APT_1',\n",
    "'ID_PNR_ITI_ARR_APT_2',\n",
    "'ID_PNR_ITI_DEP_APT_1',\n",
    "'ID_PNR_ITI_DEP_APT_2',\n",
    "'ID_TKT_NO',\n",
    "'OND',\n",
    "'PNR_NO',\n",
    "'date']"
   ]
  },
  {
   "cell_type": "code",
   "execution_count": 47,
   "id": "distributed-imagination",
   "metadata": {},
   "outputs": [],
   "source": [
    "y = merged_df['FLIGHT_REASON']\n",
    "X = merged_df[categorical_str+categorical_int+numerical+passthrough]"
   ]
  },
  {
   "cell_type": "code",
   "execution_count": 48,
   "id": "lyric-baker",
   "metadata": {},
   "outputs": [],
   "source": [
    "from sklearn.compose import ColumnTransformer\n",
    "from sklearn.pipeline import Pipeline\n",
    "from sklearn.impute import SimpleImputer\n",
    "from sklearn.preprocessing import StandardScaler, OneHotEncoder\n",
    "from sklearn.linear_model import LogisticRegression\n",
    "from sklearn.model_selection import train_test_split, GridSearchCV"
   ]
  },
  {
   "cell_type": "code",
   "execution_count": 49,
   "id": "specific-chess",
   "metadata": {},
   "outputs": [],
   "source": [
    "from sklearn.ensemble import RandomForestClassifier"
   ]
  },
  {
   "cell_type": "code",
   "execution_count": 50,
   "id": "adaptive-jewelry",
   "metadata": {},
   "outputs": [
    {
     "data": {
      "text/plain": [
       "ID_PNR_ITI_CABCLASS_2      191446\n",
       "ID_PNR_ITI_SELCLASS_2      191446\n",
       "NTNLT1                     571932\n",
       "flight_month_2             191446\n",
       "flight_weekday_2           191446\n",
       "CUST_AGE                   558816\n",
       "diff_second_firstflight    191446\n",
       "flight_duration_2          191446\n",
       "dtype: int64"
      ]
     },
     "execution_count": 50,
     "metadata": {},
     "output_type": "execute_result"
    }
   ],
   "source": [
    "X.isna().sum()[X.isna().sum()>0]"
   ]
  },
  {
   "cell_type": "code",
   "execution_count": 51,
   "id": "listed-rubber",
   "metadata": {},
   "outputs": [
    {
     "name": "stdout",
     "output_type": "stream",
     "text": [
      "<class 'pandas.core.frame.DataFrame'>\n",
      "Int64Index: 1295571 entries, 0 to 1295570\n",
      "Data columns (total 5 columns):\n",
      " #   Column                   Non-Null Count    Dtype  \n",
      "---  ------                   --------------    -----  \n",
      " 0   CUST_AGE                 736755 non-null   float64\n",
      " 1   diff_pnr_firstflight     1295571 non-null  int64  \n",
      " 2   diff_second_firstflight  1104125 non-null  float64\n",
      " 3   flight_duration_1        1295571 non-null  float64\n",
      " 4   flight_duration_2        1104125 non-null  float64\n",
      "dtypes: float64(4), int64(1)\n",
      "memory usage: 59.3 MB\n"
     ]
    }
   ],
   "source": [
    "X[numerical].info()"
   ]
  },
  {
   "cell_type": "code",
   "execution_count": 52,
   "id": "retired-apollo",
   "metadata": {},
   "outputs": [
    {
     "data": {
      "text/plain": [
       "array(['Q', 'P', 'U', nan, 'W', 'O', 'L', 'G', 'T', 'E', 'V', 'A', 'D',\n",
       "       'J', 'Y', 'H', 'B', 'M', 'Z', 'X', 'C', 'S', 'K', 'I', 'N', '?',\n",
       "       'R'], dtype=object)"
      ]
     },
     "execution_count": 52,
     "metadata": {},
     "output_type": "execute_result"
    }
   ],
   "source": [
    "merged_df['ID_PNR_ITI_SELCLASS_2'].unique() "
   ]
  },
  {
   "cell_type": "code",
   "execution_count": 53,
   "id": "distinguished-boating",
   "metadata": {},
   "outputs": [
    {
     "data": {
      "text/plain": [
       "Int64Index([      0,       1,       2,       3,       4,       5,       6,\n",
       "                  7,       8,       9,\n",
       "            ...\n",
       "            1295561, 1295562, 1295563, 1295564, 1295565, 1295566, 1295567,\n",
       "            1295568, 1295569, 1295570],\n",
       "           dtype='int64', length=1295571)"
      ]
     },
     "execution_count": 53,
     "metadata": {},
     "output_type": "execute_result"
    }
   ],
   "source": [
    "(X[numerical]==-1).index"
   ]
  },
  {
   "cell_type": "code",
   "execution_count": 54,
   "id": "lasting-church",
   "metadata": {},
   "outputs": [],
   "source": [
    "from sklearn.metrics import classification_report\n",
    "from sklearn.utils.class_weight import compute_class_weight\n",
    "import numpy as np"
   ]
  },
  {
   "cell_type": "code",
   "execution_count": 55,
   "id": "moved-richmond",
   "metadata": {},
   "outputs": [
    {
     "name": "stderr",
     "output_type": "stream",
     "text": [
      "C:\\Users\\IsmailKaraman\\anaconda3\\lib\\site-packages\\sklearn\\utils\\validation.py:67: FutureWarning: Pass classes=['BUSINESS' 'LEISURE' 'SECOND HOME' 'STUDENT'], y=0          BUSINESS\n",
      "1          BUSINESS\n",
      "2          BUSINESS\n",
      "3          BUSINESS\n",
      "4          BUSINESS\n",
      "             ...   \n",
      "1295566     LEISURE\n",
      "1295567     LEISURE\n",
      "1295568     LEISURE\n",
      "1295569     LEISURE\n",
      "1295570     LEISURE\n",
      "Name: FLIGHT_REASON, Length: 1295571, dtype: object as keyword args. From version 0.25 passing these as positional arguments will result in an error\n",
      "  warnings.warn(\"Pass {} as keyword args. From version 0.25 \"\n"
     ]
    }
   ],
   "source": [
    "cw = dict(zip(np.unique(y), compute_class_weight('balanced', np.unique(y), y)))"
   ]
  },
  {
   "cell_type": "code",
   "execution_count": 56,
   "id": "animated-electricity",
   "metadata": {},
   "outputs": [
    {
     "ename": "NameError",
     "evalue": "name 'at' is not defined",
     "output_type": "error",
     "traceback": [
      "\u001b[1;31m---------------------------------------------------------------------------\u001b[0m",
      "\u001b[1;31mNameError\u001b[0m                                 Traceback (most recent call last)",
      "\u001b[1;32m<ipython-input-56-52500024f1e9>\u001b[0m in \u001b[0;36m<module>\u001b[1;34m\u001b[0m\n\u001b[1;32m----> 1\u001b[1;33m \u001b[0mat\u001b[0m\u001b[1;33m.\u001b[0m\u001b[0mcolumns\u001b[0m\u001b[1;33m\u001b[0m\u001b[1;33m\u001b[0m\u001b[0m\n\u001b[0m",
      "\u001b[1;31mNameError\u001b[0m: name 'at' is not defined"
     ]
    }
   ],
   "source": [
    "c"
   ]
  },
  {
   "cell_type": "code",
   "execution_count": null,
   "id": "alternative-membrane",
   "metadata": {
    "scrolled": false
   },
   "outputs": [],
   "source": [
    "%%time\n",
    "numeric_transformer = Pipeline(steps=[\n",
    "    ('imputer', SimpleImputer(strategy='median')),\n",
    "    ('scaler', StandardScaler())])\n",
    "\n",
    "categorical_str_transformer = Pipeline(steps=[\n",
    "    ('imputer', SimpleImputer(strategy='constant', fill_value='None')),\n",
    "    ('one-hot', OneHotEncoder(handle_unknown='ignore'))])\n",
    "\n",
    "categorical_int_transformer = Pipeline(steps=[\n",
    "    ('imputer', SimpleImputer(strategy='constant', fill_value=-99)),\n",
    "    ('one-hot', OneHotEncoder(handle_unknown='ignore'))])\n",
    "\n",
    "preprocessor = ColumnTransformer(\n",
    "                                transformers=[\n",
    "                                              ('num', numeric_transformer, numerical),\n",
    "                                              ('cat_str', categorical_str_transformer, categorical_str),\n",
    "                                              ('cat_int', categorical_int_transformer, categorical_int),], \n",
    "                                remainder='passthrough')\n",
    "\n",
    "clf = Pipeline(steps=[('preprocessor', preprocessor),\n",
    "                      ('classifier', RandomForestClassifier(class_weight=))])\n",
    "\n",
    "X_train, X_test, y_train, y_test = train_test_split(X, y, stratify=y, test_size=0.33, random_state=42)\n",
    "\n",
    "clf.fit(X_train, y_train)\n",
    "print(\"training score: %.3f\" % clf.score(X_train, y_train))\n",
    "print(\"test score: %.3f\" % clf.score(X_test, y_test))"
   ]
  },
  {
   "cell_type": "code",
   "execution_count": null,
   "id": "matched-clarity",
   "metadata": {},
   "outputs": [],
   "source": [
    "y_pred = clf.predict(X_test)"
   ]
  },
  {
   "cell_type": "code",
   "execution_count": null,
   "id": "logical-aging",
   "metadata": {},
   "outputs": [],
   "source": [
    "print(classification_report(y_test, y_pred))"
   ]
  },
  {
   "cell_type": "code",
   "execution_count": null,
   "id": "treated-booth",
   "metadata": {},
   "outputs": [],
   "source": [
    "stopp"
   ]
  },
  {
   "cell_type": "code",
   "execution_count": null,
   "id": "appointed-chapel",
   "metadata": {},
   "outputs": [],
   "source": [
    "without class weights:\n",
    "              precision    recall  f1-score   support\n",
    "\n",
    "    BUSINESS       0.97      0.99      0.98    151336\n",
    "     LEISURE       0.98      0.97      0.97    190324\n",
    " SECOND HOME       0.98      0.97      0.98     85474\n",
    "     STUDENT       0.99      0.42      0.59       405\n",
    "\n",
    "    accuracy                           0.98    427539\n",
    "   macro avg       0.98      0.84      0.88    427539\n",
    "weighted avg       0.98      0.98      0.98    427539"
   ]
  },
  {
   "cell_type": "code",
   "execution_count": null,
   "id": "lined-wichita",
   "metadata": {},
   "outputs": [],
   "source": [
    "merged_df.diff_pnr_firstflight"
   ]
  },
  {
   "cell_type": "code",
   "execution_count": null,
   "id": "optimum-muscle",
   "metadata": {},
   "outputs": [],
   "source": [
    "new features\n",
    "if we can use additional datasets\n",
    "is NTNLT1 in arr or dep of oene of the flights "
   ]
  },
  {
   "cell_type": "code",
   "execution_count": null,
   "id": "technical-livestock",
   "metadata": {},
   "outputs": [],
   "source": [
    "is it possible to flight before pnr\n",
    "\n",
    "pnrs[pnrs['diff_pnr_firstflight']<0][['ID_PNR_ITI_DEP_YMD_1', 'ID_PNR_CREATION_DTIME_GMT', 'diff_pnr_firstflight']]\n",
    "\n",
    "2. uçuşun 1. uçuştan önce olması mümkün mü?\n",
    "pnrs[pnrs['diff_second_firstflight']==2][['ID_PNR_ITI_DEP_YMD_2', 'ID_PNR_ITI_DEP_YMD_1', 'diff_second_firstflight']]\n"
   ]
  },
  {
   "cell_type": "code",
   "execution_count": null,
   "id": "tired-recall",
   "metadata": {},
   "outputs": [],
   "source": []
  },
  {
   "cell_type": "code",
   "execution_count": null,
   "id": "illegal-dutch",
   "metadata": {},
   "outputs": [],
   "source": []
  },
  {
   "cell_type": "code",
   "execution_count": null,
   "id": "sealed-threat",
   "metadata": {},
   "outputs": [],
   "source": []
  }
 ],
 "metadata": {
  "kernelspec": {
   "display_name": "Python 3",
   "language": "python",
   "name": "python3"
  },
  "language_info": {
   "codemirror_mode": {
    "name": "ipython",
    "version": 3
   },
   "file_extension": ".py",
   "mimetype": "text/x-python",
   "name": "python",
   "nbconvert_exporter": "python",
   "pygments_lexer": "ipython3",
   "version": "3.8.5"
  }
 },
 "nbformat": 4,
 "nbformat_minor": 5
}
