{
 "cells": [
  {
   "cell_type": "markdown",
   "id": "promising-horizontal",
   "metadata": {},
   "source": [
    "her bir bilet için BUSINESS, LEISURE, SECOND HOME ve STUDENT yolculuk nedenlerini tahmin etmek\n",
    "Oluşan sonuçların kullanım senaryolarına ilişkin açıklama yapmanız beklenmektedir. "
   ]
  },
  {
   "cell_type": "markdown",
   "id": "casual-humidity",
   "metadata": {},
   "source": [
    "# roadmap\n",
    "\n",
    "1. data preprocessing\n",
    "    1.1 preprocessing and eda\n",
    "        eda for numerical values\n",
    "    1.2 visualization\n",
    "    \n",
    "    drop null labels\n",
    "    drop nulls\n",
    "    drop outliers\n",
    "2. feature engineering\n",
    "    2.1 creating new features\n",
    "    2.2 dropping useless features\n",
    "3. imputation or no imputation\n",
    "    3.1 mean imputation\n",
    "    3.2 median imputation\n",
    "    3.3 dropping nulls\n",
    "4. sampling strategies\n",
    "    4.1 undersampling\n",
    "    4.2 resampling\n",
    "    4.3 oversampling with smote\n",
    "5. classifiers \n",
    "6. tuning"
   ]
  },
  {
   "cell_type": "markdown",
   "id": "activated-quarter",
   "metadata": {},
   "source": [
    "eda for numerical values\n",
    "distribution for all variables\n",
    "is there any outlier\n",
    "any duplicate\n",
    "\n",
    "eda- histograms- visualizations - boxplots \n",
    "look at feature importance and remove the unimportants\n",
    "\n",
    "\n",
    "classification\n",
    "class weights\n",
    "different classifiers\n",
    "tuning\n",
    "\n",
    "https://pandas-profiling.github.io/pandas-profiling/docs/master/rtd/pages/introduction.html\n",
    "https://shap.readthedocs.io/en/latest/index.html\n",
    "\n",
    "https://docs.rapids.ai/api/cudf/stable/        \n",
    "https://www.kaggle.com/rohanrao/tutorial-on-reading-large-datasets?scriptVersionId=49328159&cellId=14\n",
    "\n",
    "https://towardsdatascience.com/wisdom-of-the-crowd-voting-classifier-bagging-pasting-random-forest-and-extra-trees-289ef991e723\n",
    "\n",
    "    "
   ]
  },
  {
   "cell_type": "code",
   "execution_count": 1,
   "id": "emotional-momentum",
   "metadata": {},
   "outputs": [],
   "source": [
    "label =  ['FLIGHT_REASON']\n",
    "\n",
    "categorical_str = [\n",
    "'ARR',\n",
    "'DEP',\n",
    "'ID_PNR_ITI_CABCLASS_1',\n",
    "'ID_PNR_ITI_CABCLASS_2',\n",
    "'ID_PNR_ITI_SELCLASS_1',\n",
    "'ID_PNR_ITI_SELCLASS_2',\n",
    "'JRNY_TYP',\n",
    "'NTNLT1' ] \n",
    "\n",
    "categorical_int = [\n",
    "'arrival_interval_1',\n",
    "'arrival_interval_2',\n",
    "'flight_month_1',\n",
    "'flight_month_2',\n",
    "'flight_weekday_1',\n",
    "'flight_weekday_2',\n",
    "'pnr_create_month',\n",
    "'pnr_create_weekday',\n",
    "'pnr_workhour_interval']\n",
    "\n",
    "numerical = [\n",
    "'CUST_AGE',\n",
    "'diff_pnr_firstflight', \n",
    "'diff_second_firstflight',\n",
    "'flight_duration_1',\n",
    "'flight_duration_2',\n",
    "]\n",
    "\n",
    "passthrough = [\n",
    "'CHILD_FLG',\n",
    "'FAMILY_FLG',\n",
    "'INFANT_FLG',\n",
    "'PET_FLG',\n",
    "'POS_POC_SAME_FLG',\n",
    "'SAME_SRNAME_FLG',\n",
    "'SEAT_SELECT_FLG',\n",
    "'SPORT_FLG',\n",
    "'XBAG_FLG',\n",
    "'XBAG_FIRST_FLT_FLG',\n",
    "'XBAG_LAST_FLT_FLG',\n",
    "'XBAG_TWO_WAY_FLT_FLG',\n",
    "'PNR_PSSG_COUNT',\n",
    "'num_of_flights']\n",
    "\n",
    "drops = [\n",
    "'ID_PNR_CREATION_DTIME_GMT',\n",
    "'ID_PNR_CREATION_YMD',\n",
    "'ID_PNR_ITI_ARR_APT_1',\n",
    "'ID_PNR_ITI_ARR_APT_2',\n",
    "'ID_PNR_ITI_DEP_APT_1',\n",
    "'ID_PNR_ITI_DEP_APT_2',\n",
    "'ID_TKT_NO',\n",
    "'OND',\n",
    "'PNR_NO',\n",
    "'date']"
   ]
  },
  {
   "cell_type": "code",
   "execution_count": 2,
   "id": "aware-optics",
   "metadata": {},
   "outputs": [],
   "source": [
    "from pandas_profiling import ProfileReport\n",
    "import pandas as pd"
   ]
  },
  {
   "cell_type": "code",
   "execution_count": 3,
   "id": "hourly-question",
   "metadata": {},
   "outputs": [],
   "source": [
    "from sklearn.compose import ColumnTransformer\n",
    "from sklearn.pipeline import Pipeline\n",
    "from sklearn.impute import SimpleImputer\n",
    "from sklearn.preprocessing import StandardScaler, OneHotEncoder\n",
    "from sklearn.linear_model import LogisticRegression\n",
    "from sklearn.model_selection import train_test_split, GridSearchCV"
   ]
  },
  {
   "cell_type": "code",
   "execution_count": 4,
   "id": "young-lithuania",
   "metadata": {},
   "outputs": [
    {
     "data": {
      "text/plain": [
       "(1295571, 47)"
      ]
     },
     "execution_count": 4,
     "metadata": {},
     "output_type": "execute_result"
    }
   ],
   "source": [
    "merged_df = pd.read_csv(r'C:\\Users\\IsmailKaraman\\workspace\\thy\\data\\p2\\merged.csv', index_col='Unnamed: 0')\n",
    "merged_df.shape"
   ]
  },
  {
   "cell_type": "code",
   "execution_count": 5,
   "id": "horizontal-horse",
   "metadata": {},
   "outputs": [],
   "source": [
    "merged_df = merged_df[categorical_str+categorical_int+numerical+passthrough+label]"
   ]
  },
  {
   "cell_type": "code",
   "execution_count": 6,
   "id": "fancy-beginning",
   "metadata": {},
   "outputs": [
    {
     "data": {
      "text/plain": [
       "37"
      ]
     },
     "execution_count": 6,
     "metadata": {},
     "output_type": "execute_result"
    }
   ],
   "source": [
    "len(merged_df.columns)"
   ]
  },
  {
   "cell_type": "markdown",
   "id": "completed-chosen",
   "metadata": {},
   "source": [
    "### drop duplicates"
   ]
  },
  {
   "cell_type": "code",
   "execution_count": 7,
   "id": "textile-jason",
   "metadata": {},
   "outputs": [],
   "source": [
    "tmp_df = merged_df.copy()\n",
    "tmp_df['values_nolabel']  = merged_df.drop(['FLIGHT_REASON'], axis=1).applymap(str).apply(' '.join, axis=1)\n",
    "tmp_df['values_label']  = merged_df.applymap(str).apply(' '.join, axis=1)"
   ]
  },
  {
   "cell_type": "code",
   "execution_count": 8,
   "id": "guided-reminder",
   "metadata": {},
   "outputs": [],
   "source": [
    "no_label = tmp_df[tmp_df.duplicated(subset=['values_nolabel'])].index\n",
    "with_label = tmp_df[tmp_df.duplicated(subset=['values_label'])].index"
   ]
  },
  {
   "cell_type": "code",
   "execution_count": 9,
   "id": "confidential-commissioner",
   "metadata": {},
   "outputs": [
    {
     "data": {
      "text/plain": [
       "Int64Index([1201984, 566526, 1110212, 1226264, 807898, 1247613, 1260318], dtype='int64')"
      ]
     },
     "execution_count": 9,
     "metadata": {},
     "output_type": "execute_result"
    }
   ],
   "source": [
    "conflicts_indexes = merged_df.loc[list(set(no_label).difference(set(with_label)))].index\n",
    "conflicts_indexes"
   ]
  },
  {
   "cell_type": "code",
   "execution_count": 10,
   "id": "becoming-louisiana",
   "metadata": {
    "scrolled": true
   },
   "outputs": [
    {
     "name": "stdout",
     "output_type": "stream",
     "text": [
      "898909      LEISURE\n",
      "1201984    BUSINESS\n",
      "Name: FLIGHT_REASON, dtype: object\n",
      "---\n",
      "343385     LEISURE\n",
      "566526    BUSINESS\n",
      "Name: FLIGHT_REASON, dtype: object\n",
      "---\n",
      "343581     BUSINESS\n",
      "343703     BUSINESS\n",
      "1110212     LEISURE\n",
      "Name: FLIGHT_REASON, dtype: object\n",
      "---\n",
      "980116      LEISURE\n",
      "1226264    BUSINESS\n",
      "Name: FLIGHT_REASON, dtype: object\n",
      "---\n",
      "638445     LEISURE\n",
      "807898    BUSINESS\n",
      "Name: FLIGHT_REASON, dtype: object\n",
      "---\n",
      "357281         LEISURE\n",
      "357282         LEISURE\n",
      "1247613    SECOND HOME\n",
      "Name: FLIGHT_REASON, dtype: object\n",
      "---\n",
      "868592      LEISURE\n",
      "1260318    BUSINESS\n",
      "Name: FLIGHT_REASON, dtype: object\n",
      "---\n"
     ]
    }
   ],
   "source": [
    "all_conflict_indexes = []\n",
    "for ind in conflicts_indexes:\n",
    "    print(tmp_df[tmp_df['values_nolabel'] == tmp_df.loc[ind, 'values_nolabel']]['FLIGHT_REASON'])\n",
    "    all_conflict_indexes.extend(list(tmp_df[tmp_df['values_nolabel'] == tmp_df.loc[ind, 'values_nolabel']].index))\n",
    "    print('---')"
   ]
  },
  {
   "cell_type": "code",
   "execution_count": 11,
   "id": "hourly-public",
   "metadata": {},
   "outputs": [],
   "source": [
    "merged_df.drop(conflicts_indexes, inplace=True)"
   ]
  },
  {
   "cell_type": "code",
   "execution_count": 12,
   "id": "orange-stationery",
   "metadata": {},
   "outputs": [],
   "source": [
    "merged_df.drop_duplicates(inplace=True)"
   ]
  },
  {
   "cell_type": "code",
   "execution_count": 13,
   "id": "cordless-barrier",
   "metadata": {},
   "outputs": [
    {
     "data": {
      "text/plain": [
       "(953652, 37)"
      ]
     },
     "execution_count": 13,
     "metadata": {},
     "output_type": "execute_result"
    }
   ],
   "source": [
    "merged_df.shape"
   ]
  },
  {
   "cell_type": "code",
   "execution_count": 14,
   "id": "cardiac-surrey",
   "metadata": {},
   "outputs": [],
   "source": [
    "import seaborn as sns\n",
    "import numpy as np\n",
    "import matplotlib.pyplot as plt"
   ]
  },
  {
   "cell_type": "markdown",
   "id": "acoustic-despite",
   "metadata": {},
   "source": [
    "### correlation"
   ]
  },
  {
   "cell_type": "code",
   "execution_count": 15,
   "id": "norwegian-receptor",
   "metadata": {},
   "outputs": [
    {
     "data": {
      "image/png": "[encoded data removed]",
      "text/plain": [
       "<Figure size 1152x864 with 2 Axes>"
      ]
     },
     "metadata": {
      "needs_background": "light"
     },
     "output_type": "display_data"
    }
   ],
   "source": [
    "matrix = merged_df.corr().abs()\n",
    "\n",
    "# Create a mask\n",
    "mask = np.triu(np.ones_like(matrix, dtype=bool))\n",
    "\n",
    "# Create a custom diverging palette\n",
    "cmap = sns.diverging_palette(250, 15, s=75, l=40, n=9, center=\"light\", as_cmap=True)\n",
    "plt.figure(figsize=(16, 12))\n",
    "sns.heatmap(matrix[matrix>0.5], mask=mask, center=0, annot=True, fmt='.2f', square=True, cmap='crest')\n",
    "\n",
    "plt.show();"
   ]
  },
  {
   "cell_type": "code",
   "execution_count": 16,
   "id": "fancy-oasis",
   "metadata": {},
   "outputs": [],
   "source": [
    "# dropping 'XBAG_FLG' because high correlation\n",
    "merged_df.drop(['XBAG_FLG'], axis=1, inplace=True)\n",
    "passthrough.remove('XBAG_FLG')"
   ]
  },
  {
   "cell_type": "code",
   "execution_count": 17,
   "id": "portuguese-determination",
   "metadata": {
    "scrolled": true
   },
   "outputs": [
    {
     "data": {
      "image/png": "[encoded data removed]",
      "text/plain": [
       "<Figure size 1152x864 with 2 Axes>"
      ]
     },
     "metadata": {
      "needs_background": "light"
     },
     "output_type": "display_data"
    }
   ],
   "source": [
    "matrix = merged_df.corr().abs()\n",
    "\n",
    "# Create a mask\n",
    "mask = np.triu(np.ones_like(matrix, dtype=bool))\n",
    "\n",
    "# Create a custom diverging palette\n",
    "cmap = sns.diverging_palette(250, 15, s=75, l=40, n=9, center=\"light\", as_cmap=True)\n",
    "plt.figure(figsize=(16, 12))\n",
    "sns.heatmap(matrix[matrix>0.5], mask=mask, center=0, annot=True, fmt='.2f', square=True, cmap='crest')\n",
    "\n",
    "plt.show();"
   ]
  },
  {
   "cell_type": "code",
   "execution_count": 18,
   "id": "sapphire-killer",
   "metadata": {
    "scrolled": true
   },
   "outputs": [
    {
     "data": {
      "text/plain": [
       "Index(['ARR', 'DEP', 'ID_PNR_ITI_CABCLASS_1', 'ID_PNR_ITI_CABCLASS_2',\n",
       "       'ID_PNR_ITI_SELCLASS_1', 'ID_PNR_ITI_SELCLASS_2', 'JRNY_TYP', 'NTNLT1',\n",
       "       'arrival_interval_1', 'arrival_interval_2', 'flight_month_1',\n",
       "       'flight_month_2', 'flight_weekday_1', 'flight_weekday_2',\n",
       "       'pnr_create_month', 'pnr_create_weekday', 'pnr_workhour_interval',\n",
       "       'CUST_AGE', 'diff_pnr_firstflight', 'diff_second_firstflight',\n",
       "       'flight_duration_1', 'flight_duration_2', 'CHILD_FLG', 'FAMILY_FLG',\n",
       "       'INFANT_FLG', 'PET_FLG', 'POS_POC_SAME_FLG', 'SAME_SRNAME_FLG',\n",
       "       'SEAT_SELECT_FLG', 'SPORT_FLG', 'XBAG_FIRST_FLT_FLG',\n",
       "       'XBAG_LAST_FLT_FLG', 'XBAG_TWO_WAY_FLT_FLG', 'PNR_PSSG_COUNT',\n",
       "       'num_of_flights', 'FLIGHT_REASON'],\n",
       "      dtype='object')"
      ]
     },
     "execution_count": 18,
     "metadata": {},
     "output_type": "execute_result"
    }
   ],
   "source": [
    "merged_df.columns"
   ]
  },
  {
   "cell_type": "markdown",
   "id": "former-thanksgiving",
   "metadata": {},
   "source": [
    "### visualizations"
   ]
  },
  {
   "cell_type": "code",
   "execution_count": 19,
   "id": "southwest-insulation",
   "metadata": {},
   "outputs": [],
   "source": [
    "# sns.pairplot(merged_df, hue='FLIGHT_REASON', height=3, diag_kind = 'hist')"
   ]
  },
  {
   "cell_type": "code",
   "execution_count": 20,
   "id": "removable-protein",
   "metadata": {},
   "outputs": [],
   "source": [
    "# sns.pairplot(merged_df, diag_kind = 'hist')"
   ]
  },
  {
   "cell_type": "code",
   "execution_count": 21,
   "id": "qualified-radiation",
   "metadata": {},
   "outputs": [
    {
     "data": {
      "text/plain": [
       "<AxesSubplot:xlabel='DEP', ylabel='Count'>"
      ]
     },
     "execution_count": 21,
     "metadata": {},
     "output_type": "execute_result"
    },
    {
     "data": {
      "image/png": "[encoded data removed]",
      "text/plain": [
       "<Figure size 432x288 with 1 Axes>"
      ]
     },
     "metadata": {
      "needs_background": "light"
     },
     "output_type": "display_data"
    }
   ],
   "source": [
    "sns.histplot(data=merged_df, x=\"DEP\", )"
   ]
  },
  {
   "cell_type": "code",
   "execution_count": 22,
   "id": "ethical-collector",
   "metadata": {},
   "outputs": [],
   "source": [
    "# sns.heatmap(merged_df, cmap = 'YlGnBu');"
   ]
  },
  {
   "cell_type": "code",
   "execution_count": 23,
   "id": "surgical-bristol",
   "metadata": {
    "scrolled": true
   },
   "outputs": [],
   "source": [
    "# merged_df.boxplot(column='Price', by='Type', figsize=(10,6))"
   ]
  },
  {
   "cell_type": "markdown",
   "id": "premier-spring",
   "metadata": {},
   "source": [
    "## eda for numerical features"
   ]
  },
  {
   "cell_type": "code",
   "execution_count": 26,
   "id": "proved-update",
   "metadata": {},
   "outputs": [],
   "source": [
    "import statsmodels.api as sm\n",
    "import pylab as py"
   ]
  },
  {
   "cell_type": "code",
   "execution_count": 30,
   "id": "alive-picnic",
   "metadata": {},
   "outputs": [
    {
     "data": {
      "text/plain": [
       "['CUST_AGE',\n",
       " 'diff_pnr_firstflight',\n",
       " 'diff_second_firstflight',\n",
       " 'flight_duration_1',\n",
       " 'flight_duration_2']"
      ]
     },
     "execution_count": 30,
     "metadata": {},
     "output_type": "execute_result"
    }
   ],
   "source": [
    "numerical"
   ]
  },
  {
   "cell_type": "code",
   "execution_count": 29,
   "id": "severe-algeria",
   "metadata": {
    "scrolled": false
   },
   "outputs": [
    {
     "data": {
      "image/png": "[encoded data removed]",
      "text/plain": [
       "<Figure size 432x288 with 1 Axes>"
      ]
     },
     "metadata": {
      "needs_background": "light"
     },
     "output_type": "display_data"
    },
    {
     "data": {
      "image/png": "[encoded data removed]",
      "text/plain": [
       "<Figure size 432x288 with 1 Axes>"
      ]
     },
     "metadata": {
      "needs_background": "light"
     },
     "output_type": "display_data"
    },
    {
     "data": {
      "image/png": "[encoded data removed]",
      "text/plain": [
       "<Figure size 432x288 with 1 Axes>"
      ]
     },
     "metadata": {
      "needs_background": "light"
     },
     "output_type": "display_data"
    },
    {
     "data": {
      "image/png": "[encoded data removed]",
      "text/plain": [
       "<Figure size 432x288 with 1 Axes>"
      ]
     },
     "metadata": {
      "needs_background": "light"
     },
     "output_type": "display_data"
    },
    {
     "data": {
      "image/png": "[encoded data removed]",
      "text/plain": [
       "<Figure size 432x288 with 1 Axes>"
      ]
     },
     "metadata": {
      "needs_background": "light"
     },
     "output_type": "display_data"
    },
    {
     "data": {
      "image/png": "[encoded data removed]",
      "text/plain": [
       "<Figure size 432x288 with 1 Axes>"
      ]
     },
     "metadata": {
      "needs_background": "light"
     },
     "output_type": "display_data"
    },
    {
     "data": {
      "image/png": "[encoded data removed]",
      "text/plain": [
       "<Figure size 432x288 with 1 Axes>"
      ]
     },
     "metadata": {
      "needs_background": "light"
     },
     "output_type": "display_data"
    },
    {
     "data": {
      "image/png": "[encoded data removed]",
      "text/plain": [
       "<Figure size 432x288 with 1 Axes>"
      ]
     },
     "metadata": {
      "needs_background": "light"
     },
     "output_type": "display_data"
    },
    {
     "data": {
      "image/png": "[encoded data removed]",
      "text/plain": [
       "<Figure size 432x288 with 1 Axes>"
      ]
     },
     "metadata": {
      "needs_background": "light"
     },
     "output_type": "display_data"
    },
    {
     "data": {
      "image/png": "[encoded data removed]",
      "text/plain": [
       "<Figure size 432x288 with 1 Axes>"
      ]
     },
     "metadata": {
      "needs_background": "light"
     },
     "output_type": "display_data"
    }
   ],
   "source": [
    "for i, col in enumerate(numerical):\n",
    "\n",
    "    plt.figure(2*i)\n",
    "    sns.countplot(x=col, data=merged_df)\n",
    "\n",
    "    plt.figure(2*i+1)\n",
    "    sns.boxplot(x=col, data=merged_df)\n"
   ]
  },
  {
   "cell_type": "code",
   "execution_count": 52,
   "id": "professional-surfing",
   "metadata": {},
   "outputs": [
    {
     "data": {
      "text/plain": [
       "14         121.0\n",
       "56         121.0\n",
       "130        121.0\n",
       "258        221.0\n",
       "569        121.0\n",
       "           ...  \n",
       "1293967    121.0\n",
       "1294110    221.0\n",
       "1294157    221.0\n",
       "1294242    121.0\n",
       "1295218    221.0\n",
       "Name: CUST_AGE, Length: 12364, dtype: float64"
      ]
     },
     "execution_count": 52,
     "metadata": {},
     "output_type": "execute_result"
    }
   ],
   "source": [
    "merged_df[merged_df['CUST_AGE']>120]['CUST_AGE']"
   ]
  },
  {
   "cell_type": "code",
   "execution_count": 42,
   "id": "present-toolbox",
   "metadata": {},
   "outputs": [
    {
     "data": {
      "text/plain": [
       "51830      405\n",
       "51852      405\n",
       "77749      396\n",
       "123998     389\n",
       "189386     559\n",
       "          ... \n",
       "1212413    369\n",
       "1212682    369\n",
       "1221615    399\n",
       "1221616    399\n",
       "1248279    387\n",
       "Name: diff_pnr_firstflight, Length: 125, dtype: int64"
      ]
     },
     "execution_count": 42,
     "metadata": {},
     "output_type": "execute_result"
    }
   ],
   "source": [
    "merged_df[merged_df['diff_pnr_firstflight']>365]['diff_pnr_firstflight']"
   ]
  },
  {
   "cell_type": "code",
   "execution_count": 45,
   "id": "gross-juice",
   "metadata": {},
   "outputs": [
    {
     "data": {
      "text/plain": [
       "2394       425.0\n",
       "2781       420.0\n",
       "2871       405.0\n",
       "3428       410.0\n",
       "3429       410.0\n",
       "           ...  \n",
       "1289388    415.0\n",
       "1290932    410.0\n",
       "1290952    405.0\n",
       "1290955    405.0\n",
       "1290971    425.0\n",
       "Name: flight_duration_1, Length: 13823, dtype: float64"
      ]
     },
     "execution_count": 45,
     "metadata": {},
     "output_type": "execute_result"
    }
   ],
   "source": [
    "merged_df[merged_df['flight_duration_1']>400]['flight_duration_1']"
   ]
  },
  {
   "cell_type": "code",
   "execution_count": null,
   "id": "actual-angola",
   "metadata": {},
   "outputs": [],
   "source": [
    "'CUST_AGE' : has some outliers like 121, 221, 367, 1947 etc. Rows that contain these outliers may be dropped, because there is plenty of data. We choose 120 as threshold because oldest living person in the world is 118. source(https://www.ntv.com.tr/dunya/guinnesse-gore-dunyanin-en-yasli-insani-kane-118-yasina-girdi,it-X28s4mkG3f5o3N-Zc5w)\n",
    "'diff_pnr_firstflight': has values greater than 365. We choose 365 as threshold becasue when we try to buy a ticket, latest date we can buy is 365 days later.\n",
    "'diff_second_firstflight': If we same logic for this feature, number of days between two flights cannot be greater than 365.\n",
    "'flight_duration_1' : According tto graphs there is no outliers for flight durations.\n",
    "'flight_duration_2' : According tto graphs there is no outliers for flight durations."
   ]
  },
  {
   "cell_type": "markdown",
   "id": "disabled-choice",
   "metadata": {},
   "source": [
    "### eda for categorical variables"
   ]
  },
  {
   "cell_type": "code",
   "execution_count": null,
   "id": "magnetic-relations",
   "metadata": {},
   "outputs": [],
   "source": [
    "cate"
   ]
  },
  {
   "cell_type": "code",
   "execution_count": null,
   "id": "modified-incentive",
   "metadata": {},
   "outputs": [],
   "source": []
  },
  {
   "cell_type": "code",
   "execution_count": null,
   "id": "representative-macro",
   "metadata": {},
   "outputs": [],
   "source": []
  },
  {
   "cell_type": "code",
   "execution_count": 58,
   "id": "dominican-hanging",
   "metadata": {},
   "outputs": [
    {
     "name": "stdout",
     "output_type": "stream",
     "text": [
      "(953652, 36)\n",
      "(589336, 36)\n"
     ]
    }
   ],
   "source": [
    "print(merged_df.shape)\n",
    "merged_df.dropna(inplace=True)\n",
    "print(merged_df.shape)"
   ]
  },
  {
   "cell_type": "code",
   "execution_count": 59,
   "id": "loaded-swaziland",
   "metadata": {},
   "outputs": [],
   "source": [
    "# removing outliers\n",
    "merged_df = merged_df[merged_df['CUST_AGE']<100]\n",
    "merged_df = merged_df[merged_df['diff_pnr_firstflight']<365]\n",
    "merged_df = merged_df[merged_df['diff_second_firstflight']<365]"
   ]
  },
  {
   "cell_type": "code",
   "execution_count": 60,
   "id": "clean-keyboard",
   "metadata": {
    "scrolled": true
   },
   "outputs": [
    {
     "data": {
      "text/plain": [
       "(580981, 36)"
      ]
     },
     "execution_count": 60,
     "metadata": {},
     "output_type": "execute_result"
    }
   ],
   "source": [
    "merged_df.shape"
   ]
  },
  {
   "cell_type": "code",
   "execution_count": 62,
   "id": "acknowledged-manitoba",
   "metadata": {},
   "outputs": [
    {
     "data": {
      "text/plain": [
       "BUSINESS       255429\n",
       "SECOND HOME    180459\n",
       "LEISURE        144421\n",
       "STUDENT           672\n",
       "Name: FLIGHT_REASON, dtype: int64"
      ]
     },
     "execution_count": 62,
     "metadata": {},
     "output_type": "execute_result"
    }
   ],
   "source": [
    "merged_df['FLIGHT_REASON'].value_counts()"
   ]
  },
  {
   "cell_type": "markdown",
   "id": "pretty-moral",
   "metadata": {},
   "source": [
    "## eda for categorical features"
   ]
  },
  {
   "cell_type": "code",
   "execution_count": null,
   "id": "anticipated-studio",
   "metadata": {},
   "outputs": [],
   "source": []
  },
  {
   "cell_type": "code",
   "execution_count": null,
   "id": "responsible-walter",
   "metadata": {},
   "outputs": [],
   "source": []
  },
  {
   "cell_type": "code",
   "execution_count": 36,
   "id": "illegal-pharmacology",
   "metadata": {},
   "outputs": [
    {
     "name": "stdout",
     "output_type": "stream",
     "text": [
      "Couldn't find program: 'False'\n"
     ]
    }
   ],
   "source": [
    "%%script False\n",
    "profile = ProfileReport(merged_df, title=\"Pandas Profiling Report\", explorative=True)\n",
    "profile"
   ]
  },
  {
   "cell_type": "code",
   "execution_count": 63,
   "id": "distributed-imagination",
   "metadata": {},
   "outputs": [],
   "source": [
    "y = merged_df['FLIGHT_REASON']\n",
    "X = merged_df[categorical_str+categorical_int+numerical+passthrough]"
   ]
  },
  {
   "cell_type": "code",
   "execution_count": 64,
   "id": "lyric-baker",
   "metadata": {},
   "outputs": [],
   "source": [
    "from sklearn.compose import ColumnTransformer\n",
    "from sklearn.pipeline import Pipeline\n",
    "from sklearn.impute import SimpleImputer\n",
    "from sklearn.preprocessing import StandardScaler, OneHotEncoder\n",
    "from sklearn.linear_model import LogisticRegression\n",
    "from sklearn.model_selection import train_test_split, GridSearchCV"
   ]
  },
  {
   "cell_type": "code",
   "execution_count": 65,
   "id": "specific-chess",
   "metadata": {},
   "outputs": [],
   "source": [
    "from sklearn.ensemble import RandomForestClassifier"
   ]
  },
  {
   "cell_type": "code",
   "execution_count": 66,
   "id": "adaptive-jewelry",
   "metadata": {},
   "outputs": [
    {
     "data": {
      "text/plain": [
       "Series([], dtype: int64)"
      ]
     },
     "execution_count": 66,
     "metadata": {},
     "output_type": "execute_result"
    }
   ],
   "source": [
    "X.isna().sum()[X.isna().sum()>0]"
   ]
  },
  {
   "cell_type": "code",
   "execution_count": 67,
   "id": "listed-rubber",
   "metadata": {},
   "outputs": [
    {
     "name": "stdout",
     "output_type": "stream",
     "text": [
      "<class 'pandas.core.frame.DataFrame'>\n",
      "Int64Index: 580981 entries, 0 to 1295570\n",
      "Data columns (total 5 columns):\n",
      " #   Column                   Non-Null Count   Dtype  \n",
      "---  ------                   --------------   -----  \n",
      " 0   CUST_AGE                 580981 non-null  float64\n",
      " 1   diff_pnr_firstflight     580981 non-null  int64  \n",
      " 2   diff_second_firstflight  580981 non-null  float64\n",
      " 3   flight_duration_1        580981 non-null  float64\n",
      " 4   flight_duration_2        580981 non-null  float64\n",
      "dtypes: float64(4), int64(1)\n",
      "memory usage: 26.6 MB\n"
     ]
    }
   ],
   "source": [
    "X[numerical].info()"
   ]
  },
  {
   "cell_type": "code",
   "execution_count": 68,
   "id": "retired-apollo",
   "metadata": {},
   "outputs": [
    {
     "data": {
      "text/plain": [
       "array(['Q', 'P', 'U', 'L', 'G', 'T', 'E', 'W', 'A', 'V', 'D', 'J', 'Y',\n",
       "       'B', 'M', 'O', 'Z', 'X', 'C', 'S', 'H', 'K', 'I', 'N', '?'],\n",
       "      dtype=object)"
      ]
     },
     "execution_count": 68,
     "metadata": {},
     "output_type": "execute_result"
    }
   ],
   "source": [
    "merged_df['ID_PNR_ITI_SELCLASS_2'].unique() "
   ]
  },
  {
   "cell_type": "code",
   "execution_count": 69,
   "id": "distinguished-boating",
   "metadata": {},
   "outputs": [
    {
     "data": {
      "text/plain": [
       "Int64Index([      0,       1,       2,       4,      52,      70,      73,\n",
       "                 74,      75,      78,\n",
       "            ...\n",
       "            1295465, 1295478, 1295479, 1295480, 1295481, 1295482, 1295483,\n",
       "            1295540, 1295569, 1295570],\n",
       "           dtype='int64', length=580981)"
      ]
     },
     "execution_count": 69,
     "metadata": {},
     "output_type": "execute_result"
    }
   ],
   "source": [
    "(X[numerical]==-1).index"
   ]
  },
  {
   "cell_type": "code",
   "execution_count": 70,
   "id": "lasting-church",
   "metadata": {},
   "outputs": [],
   "source": [
    "from sklearn.metrics import classification_report\n",
    "from sklearn.utils.class_weight import compute_class_weight\n",
    "import numpy as np"
   ]
  },
  {
   "cell_type": "code",
   "execution_count": 71,
   "id": "moved-richmond",
   "metadata": {},
   "outputs": [],
   "source": [
    "cw = dict(zip(np.unique(y), compute_class_weight('balanced', np.unique(y), y)))"
   ]
  },
  {
   "cell_type": "code",
   "execution_count": 72,
   "id": "viral-coach",
   "metadata": {},
   "outputs": [
    {
     "data": {
      "text/plain": [
       "BUSINESS       255429\n",
       "SECOND HOME    180459\n",
       "LEISURE        144421\n",
       "STUDENT           672\n",
       "Name: FLIGHT_REASON, dtype: int64"
      ]
     },
     "execution_count": 72,
     "metadata": {},
     "output_type": "execute_result"
    }
   ],
   "source": [
    "y.value_counts()"
   ]
  },
  {
   "cell_type": "markdown",
   "id": "impressed-reconstruction",
   "metadata": {},
   "source": [
    "## undersampling"
   ]
  },
  {
   "cell_type": "markdown",
   "id": "diagnostic-chain",
   "metadata": {},
   "source": [
    "#### equalizing sample sizes"
   ]
  },
  {
   "cell_type": "code",
   "execution_count": 73,
   "id": "olympic-programming",
   "metadata": {},
   "outputs": [],
   "source": [
    "num_sample = y[y=='STUDENT'].shape[0]\n",
    "index_1 = y[y=='BUSINESS'].sample(num_sample).index\n",
    "index_2 = y[y=='LEISURE'].sample(num_sample).index\n",
    "index_3 = y[y=='SECOND HOME'].sample(num_sample).index\n",
    "index_4 = y[y=='STUDENT'].index"
   ]
  },
  {
   "cell_type": "code",
   "execution_count": 74,
   "id": "entertaining-marshall",
   "metadata": {},
   "outputs": [
    {
     "data": {
      "text/plain": [
       "2688"
      ]
     },
     "execution_count": 74,
     "metadata": {},
     "output_type": "execute_result"
    }
   ],
   "source": [
    "all_indexes = list(index_1) + list(index_2) + list(index_3) + list(index_4)\n",
    "len(all_indexes)"
   ]
  },
  {
   "cell_type": "code",
   "execution_count": 75,
   "id": "utility-torture",
   "metadata": {},
   "outputs": [],
   "source": [
    "X = X.loc[all_indexes]\n",
    "y = y[all_indexes]"
   ]
  },
  {
   "cell_type": "code",
   "execution_count": 76,
   "id": "corporate-borough",
   "metadata": {},
   "outputs": [
    {
     "data": {
      "text/plain": [
       "SECOND HOME    672\n",
       "STUDENT        672\n",
       "LEISURE        672\n",
       "BUSINESS       672\n",
       "Name: FLIGHT_REASON, dtype: int64"
      ]
     },
     "execution_count": 76,
     "metadata": {},
     "output_type": "execute_result"
    }
   ],
   "source": [
    "y.value_counts()"
   ]
  },
  {
   "cell_type": "code",
   "execution_count": 77,
   "id": "funded-thursday",
   "metadata": {},
   "outputs": [],
   "source": [
    "cw = dict(zip(np.unique(y), compute_class_weight('balanced', np.unique(y), y)))"
   ]
  },
  {
   "cell_type": "code",
   "execution_count": 78,
   "id": "alternative-membrane",
   "metadata": {
    "scrolled": false
   },
   "outputs": [
    {
     "name": "stdout",
     "output_type": "stream",
     "text": [
      "training score: 0.999\n",
      "test score: 0.936\n",
      "              precision    recall  f1-score   support\n",
      "\n",
      "    BUSINESS       0.94      0.94      0.94       222\n",
      "     LEISURE       0.93      0.87      0.90       222\n",
      " SECOND HOME       0.93      1.00      0.96       222\n",
      "     STUDENT       0.95      0.94      0.94       222\n",
      "\n",
      "    accuracy                           0.94       888\n",
      "   macro avg       0.94      0.94      0.94       888\n",
      "weighted avg       0.94      0.94      0.94       888\n",
      "\n",
      "Wall time: 329 ms\n"
     ]
    }
   ],
   "source": [
    "%%time\n",
    "numeric_transformer = Pipeline(steps=[\n",
    "    ('imputer', SimpleImputer(strategy='median')),\n",
    "    ('scaler', StandardScaler())])\n",
    "\n",
    "categorical_str_transformer = Pipeline(steps=[\n",
    "    ('imputer', SimpleImputer(strategy='constant', fill_value='None')),\n",
    "    ('one-hot', OneHotEncoder(handle_unknown='ignore'))])\n",
    "\n",
    "categorical_int_transformer = Pipeline(steps=[\n",
    "    ('imputer', SimpleImputer(strategy='constant', fill_value=-99)),\n",
    "    ('one-hot', OneHotEncoder(handle_unknown='ignore'))])\n",
    "\n",
    "preprocessor = ColumnTransformer(\n",
    "                                transformers=[\n",
    "                                              ('num', numeric_transformer, numerical),\n",
    "                                              ('cat_str', categorical_str_transformer, categorical_str),\n",
    "                                              ('cat_int', categorical_int_transformer, categorical_int),], \n",
    "                                remainder='passthrough')\n",
    "\n",
    "clf = Pipeline(steps=[('preprocessor', preprocessor),\n",
    "                      ('classifier', RandomForestClassifier(class_weight=cw, n_jobs=-1))])\n",
    "\n",
    "X_train, X_test, y_train, y_test = train_test_split(X, y, stratify=y, test_size=0.33, random_state=42)\n",
    "\n",
    "clf.fit(X_train, y_train)\n",
    "print(\"training score: %.3f\" % clf.score(X_train, y_train))\n",
    "print(\"test score: %.3f\" % clf.score(X_test, y_test))\n",
    "y_pred = clf.predict(X_test)\n",
    "print(classification_report(y_test, y_pred))"
   ]
  },
  {
   "cell_type": "markdown",
   "id": "empty-trading",
   "metadata": {},
   "source": [
    "#### using different sample sizes based on f1-scores"
   ]
  },
  {
   "cell_type": "code",
   "execution_count": 79,
   "id": "affiliated-hawaii",
   "metadata": {},
   "outputs": [],
   "source": [
    "y = merged_df['FLIGHT_REASON']\n",
    "X = merged_df[categorical_str+categorical_int+numerical+passthrough]"
   ]
  },
  {
   "cell_type": "code",
   "execution_count": 80,
   "id": "emerging-convert",
   "metadata": {},
   "outputs": [],
   "source": [
    "num_sample = y[y=='STUDENT'].shape[0]\n",
    "index_1 = y[y=='BUSINESS'].sample(2*num_sample).index\n",
    "index_2 = y[y=='LEISURE'].sample(3*num_sample).index\n",
    "index_3 = y[y=='SECOND HOME'].sample(2*num_sample).index\n",
    "index_4 = y[y=='STUDENT'].index"
   ]
  },
  {
   "cell_type": "code",
   "execution_count": 81,
   "id": "hourly-cambridge",
   "metadata": {},
   "outputs": [
    {
     "data": {
      "text/plain": [
       "5376"
      ]
     },
     "execution_count": 81,
     "metadata": {},
     "output_type": "execute_result"
    }
   ],
   "source": [
    "all_indexes = list(index_1) + list(index_2) + list(index_3) + list(index_4)\n",
    "len(all_indexes)"
   ]
  },
  {
   "cell_type": "code",
   "execution_count": 82,
   "id": "successful-chain",
   "metadata": {},
   "outputs": [],
   "source": [
    "X = X.loc[all_indexes]\n",
    "y = y[all_indexes]"
   ]
  },
  {
   "cell_type": "code",
   "execution_count": 83,
   "id": "subtle-bookmark",
   "metadata": {},
   "outputs": [],
   "source": [
    "cw = dict(zip(np.unique(y), compute_class_weight('balanced', np.unique(y), y)))"
   ]
  },
  {
   "cell_type": "code",
   "execution_count": 84,
   "id": "worthy-album",
   "metadata": {},
   "outputs": [
    {
     "data": {
      "text/plain": [
       "LEISURE        2016\n",
       "SECOND HOME    1344\n",
       "BUSINESS       1344\n",
       "STUDENT         672\n",
       "Name: FLIGHT_REASON, dtype: int64"
      ]
     },
     "execution_count": 84,
     "metadata": {},
     "output_type": "execute_result"
    }
   ],
   "source": [
    "y.value_counts()"
   ]
  },
  {
   "cell_type": "code",
   "execution_count": 85,
   "id": "scheduled-yugoslavia",
   "metadata": {
    "scrolled": false
   },
   "outputs": [
    {
     "name": "stdout",
     "output_type": "stream",
     "text": [
      "training score: 1.000\n",
      "test score: 0.940\n",
      "              precision    recall  f1-score   support\n",
      "\n",
      "    BUSINESS       0.93      0.94      0.94       444\n",
      "     LEISURE       0.94      0.92      0.93       665\n",
      " SECOND HOME       0.94      1.00      0.97       444\n",
      "     STUDENT       0.96      0.87      0.92       222\n",
      "\n",
      "    accuracy                           0.94      1775\n",
      "   macro avg       0.94      0.93      0.94      1775\n",
      "weighted avg       0.94      0.94      0.94      1775\n",
      "\n",
      "Wall time: 402 ms\n"
     ]
    }
   ],
   "source": [
    "%%time\n",
    "numeric_transformer = Pipeline(steps=[\n",
    "    ('imputer', SimpleImputer(strategy='median')),\n",
    "    ('scaler', StandardScaler())])\n",
    "\n",
    "categorical_str_transformer = Pipeline(steps=[\n",
    "    ('imputer', SimpleImputer(strategy='constant', fill_value='None')),\n",
    "    ('one-hot', OneHotEncoder(handle_unknown='ignore'))])\n",
    "\n",
    "categorical_int_transformer = Pipeline(steps=[\n",
    "    ('imputer', SimpleImputer(strategy='constant', fill_value=-99)),\n",
    "    ('one-hot', OneHotEncoder(handle_unknown='ignore'))])\n",
    "\n",
    "preprocessor = ColumnTransformer(\n",
    "                                transformers=[\n",
    "                                              ('num', numeric_transformer, numerical),\n",
    "                                              ('cat_str', categorical_str_transformer, categorical_str),\n",
    "                                              ('cat_int', categorical_int_transformer, categorical_int),], \n",
    "                                remainder='passthrough')\n",
    "\n",
    "clf = Pipeline(steps=[('preprocessor', preprocessor),\n",
    "                      ('classifier', RandomForestClassifier(class_weight=cw, n_jobs=-1))])\n",
    "\n",
    "X_train, X_test, y_train, y_test = train_test_split(X, y, stratify=y, test_size=0.33, random_state=42)\n",
    "\n",
    "clf.fit(X_train, y_train)\n",
    "print(\"training score: %.3f\" % clf.score(X_train, y_train))\n",
    "print(\"test score: %.3f\" % clf.score(X_test, y_test))\n",
    "y_pred = clf.predict(X_test)\n",
    "print(classification_report(y_test, y_pred))"
   ]
  },
  {
   "cell_type": "markdown",
   "id": "expressed-coordinate",
   "metadata": {},
   "source": [
    "## smote"
   ]
  },
  {
   "cell_type": "code",
   "execution_count": 88,
   "id": "remarkable-appraisal",
   "metadata": {},
   "outputs": [],
   "source": [
    "y = merged_df['FLIGHT_REASON']\n",
    "X = merged_df[categorical_str+categorical_int+numerical+passthrough]"
   ]
  },
  {
   "cell_type": "code",
   "execution_count": 89,
   "id": "prerequisite-slide",
   "metadata": {},
   "outputs": [],
   "source": [
    "from sklearn.metrics import classification_report\n",
    "from sklearn.utils.class_weight import compute_class_weight\n",
    "import numpy as np\n",
    "from imblearn.over_sampling import SMOTENC"
   ]
  },
  {
   "cell_type": "code",
   "execution_count": 90,
   "id": "brilliant-grenada",
   "metadata": {},
   "outputs": [],
   "source": [
    "numeric_transformer = Pipeline(steps=[\n",
    "    ('imputer', SimpleImputer(strategy='median')),\n",
    "    ('scaler', StandardScaler())])\n",
    "\n",
    "categorical_str_transformer = Pipeline(steps=[\n",
    "    ('imputer', SimpleImputer(strategy='constant', fill_value='None')),\n",
    "    ('one-hot', OneHotEncoder(handle_unknown='ignore'))])\n",
    "\n",
    "categorical_int_transformer = Pipeline(steps=[\n",
    "    ('imputer', SimpleImputer(strategy='constant', fill_value=-99)),\n",
    "    ('one-hot', OneHotEncoder(handle_unknown='ignore'))])\n",
    "\n",
    "preprocessor = ColumnTransformer(\n",
    "                                transformers=[\n",
    "                                              ('num', numeric_transformer, numerical),\n",
    "                                              ('cat_str', categorical_str_transformer, categorical_str),\n",
    "                                              ('cat_int', categorical_int_transformer, categorical_int),], \n",
    "                                remainder='passthrough')"
   ]
  },
  {
   "cell_type": "code",
   "execution_count": 91,
   "id": "together-board",
   "metadata": {},
   "outputs": [],
   "source": [
    "X_train, X_test, y_train, y_test = train_test_split(X, y, stratify=y, test_size=0.33, random_state=42)\n",
    "X_train = preprocessor.fit_transform(X_train)\n",
    "X_test = preprocessor.transform(X_test)"
   ]
  },
  {
   "cell_type": "code",
   "execution_count": 92,
   "id": "furnished-reynolds",
   "metadata": {},
   "outputs": [],
   "source": [
    "smote = SMOTENC(random_state=42, categorical_features=range(5,X_train.shape[1]), \n",
    "                                              sampling_strategy='minority', n_jobs=-1)\n",
    "X_train, y_train = smote.fit_resample(X_train, y_train)"
   ]
  },
  {
   "cell_type": "code",
   "execution_count": 93,
   "id": "worldwide-experience",
   "metadata": {},
   "outputs": [],
   "source": [
    "cw = dict(zip(np.unique(y), compute_class_weight('balanced', np.unique(y), y)))"
   ]
  },
  {
   "cell_type": "code",
   "execution_count": 94,
   "id": "mighty-cleveland",
   "metadata": {},
   "outputs": [
    {
     "name": "stdout",
     "output_type": "stream",
     "text": [
      "training score: 1.000\n",
      "test score: 0.979\n",
      "              precision    recall  f1-score   support\n",
      "\n",
      "    BUSINESS       0.98      0.99      0.98     84292\n",
      "     LEISURE       0.98      0.94      0.96     47659\n",
      " SECOND HOME       0.98      1.00      0.99     59551\n",
      "     STUDENT       0.93      0.49      0.64       222\n",
      "\n",
      "    accuracy                           0.98    191724\n",
      "   macro avg       0.97      0.85      0.89    191724\n",
      "weighted avg       0.98      0.98      0.98    191724\n",
      "\n"
     ]
    }
   ],
   "source": [
    "clf = RandomForestClassifier(class_weight=cw, n_jobs=-1)\n",
    "clf.fit(X_train, y_train)\n",
    "y_pred = clf.predict(X_test)\n",
    "print(\"training score: %.3f\" % clf.score(X_train, y_train))\n",
    "print(\"test score: %.3f\" % clf.score(X_test, y_test))\n",
    "print(classification_report(y_test, y_pred))"
   ]
  },
  {
   "cell_type": "code",
   "execution_count": null,
   "id": "heated-adelaide",
   "metadata": {},
   "outputs": [],
   "source": []
  },
  {
   "cell_type": "code",
   "execution_count": null,
   "id": "incident-advance",
   "metadata": {},
   "outputs": [],
   "source": []
  },
  {
   "cell_type": "code",
   "execution_count": null,
   "id": "silent-passenger",
   "metadata": {},
   "outputs": [],
   "source": []
  },
  {
   "cell_type": "code",
   "execution_count": 147,
   "id": "matched-clarity",
   "metadata": {},
   "outputs": [],
   "source": [
    "y_pred = clf.predict(X_test)"
   ]
  },
  {
   "cell_type": "code",
   "execution_count": 148,
   "id": "logical-aging",
   "metadata": {},
   "outputs": [
    {
     "name": "stdout",
     "output_type": "stream",
     "text": [
      "              precision    recall  f1-score   support\n",
      "\n",
      "    BUSINESS       0.94      0.90      0.92      1027\n",
      "     LEISURE       0.92      0.95      0.93      1711\n",
      " SECOND HOME       0.93      0.92      0.93       684\n",
      "     STUDENT       0.93      0.94      0.93       349\n",
      "\n",
      "    accuracy                           0.93      3771\n",
      "   macro avg       0.93      0.93      0.93      3771\n",
      "weighted avg       0.93      0.93      0.93      3771\n",
      "\n"
     ]
    }
   ],
   "source": [
    "print(classification_report(y_test, y_pred))"
   ]
  },
  {
   "cell_type": "code",
   "execution_count": null,
   "id": "treated-booth",
   "metadata": {},
   "outputs": [],
   "source": [
    "stopp"
   ]
  },
  {
   "cell_type": "code",
   "execution_count": null,
   "id": "appointed-chapel",
   "metadata": {},
   "outputs": [],
   "source": [
    "without class weights:\n",
    "              precision    recall  f1-score   support\n",
    "\n",
    "    BUSINESS       0.97      0.99      0.98    151336\n",
    "     LEISURE       0.98      0.97      0.97    190324\n",
    " SECOND HOME       0.98      0.97      0.98     85474\n",
    "     STUDENT       0.99      0.42      0.59       405\n",
    "\n",
    "    accuracy                           0.98    427539\n",
    "   macro avg       0.98      0.84      0.88    427539\n",
    "weighted avg       0.98      0.98      0.98    427539"
   ]
  },
  {
   "cell_type": "code",
   "execution_count": null,
   "id": "lined-wichita",
   "metadata": {},
   "outputs": [],
   "source": [
    "merged_df.diff_pnr_firstflight"
   ]
  },
  {
   "cell_type": "code",
   "execution_count": null,
   "id": "optimum-muscle",
   "metadata": {},
   "outputs": [],
   "source": [
    "new features\n",
    "if we can use additional datasets\n",
    "is NTNLT1 in arr or dep of oene of the flights "
   ]
  },
  {
   "cell_type": "code",
   "execution_count": null,
   "id": "technical-livestock",
   "metadata": {},
   "outputs": [],
   "source": [
    "is it possible to flight before pnr\n",
    "\n",
    "pnrs[pnrs['diff_pnr_firstflight']<0][['ID_PNR_ITI_DEP_YMD_1', 'ID_PNR_CREATION_DTIME_GMT', 'diff_pnr_firstflight']]\n",
    "\n",
    "2. uçuşun 1. uçuştan önce olması mümkün mü?\n",
    "pnrs[pnrs['diff_second_firstflight']==2][['ID_PNR_ITI_DEP_YMD_2', 'ID_PNR_ITI_DEP_YMD_1', 'diff_second_firstflight']]\n"
   ]
  },
  {
   "cell_type": "code",
   "execution_count": null,
   "id": "tired-recall",
   "metadata": {},
   "outputs": [],
   "source": []
  },
  {
   "cell_type": "code",
   "execution_count": null,
   "id": "illegal-dutch",
   "metadata": {},
   "outputs": [],
   "source": []
  },
  {
   "cell_type": "code",
   "execution_count": null,
   "id": "sealed-threat",
   "metadata": {},
   "outputs": [],
   "source": []
  }
 ],
 "metadata": {
  "kernelspec": {
   "display_name": "Python 3",
   "language": "python",
   "name": "python3"
  },
  "language_info": {
   "codemirror_mode": {
    "name": "ipython",
    "version": 3
   },
   "file_extension": ".py",
   "mimetype": "text/x-python",
   "name": "python",
   "nbconvert_exporter": "python",
   "pygments_lexer": "ipython3",
   "version": "3.8.5"
  }
 },
 "nbformat": 4,
 "nbformat_minor": 5
}
