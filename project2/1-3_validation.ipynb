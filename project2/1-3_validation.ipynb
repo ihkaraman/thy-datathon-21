{
 "cells": [
  {
   "cell_type": "markdown",
   "id": "approximate-batman",
   "metadata": {},
   "source": [
    "pip install phik\n",
    "pip install pandas-profiling\n",
    "pip install missingno"
   ]
  },
  {
   "cell_type": "code",
   "execution_count": 1,
   "id": "spoken-settlement",
   "metadata": {},
   "outputs": [],
   "source": [
    "import pandas as pd\n",
    "from datetime import datetime\n",
    "import numpy as np\n",
    "\n",
    "import seaborn as sns\n",
    "import numpy as np\n",
    "import missingno as msgn\n",
    "import matplotlib.pyplot as plt\n",
    "from pandas_profiling import ProfileReport\n",
    "import statsmodels.api as sm\n",
    "import pylab as py"
   ]
  },
  {
   "cell_type": "markdown",
   "id": "signal-evanescence",
   "metadata": {},
   "source": [
    "## PNR dataset"
   ]
  },
  {
   "cell_type": "code",
   "execution_count": 2,
   "id": "congressional-safety",
   "metadata": {},
   "outputs": [],
   "source": [
    "pnrs = pd.read_csv('PNR.csv')"
   ]
  },
  {
   "cell_type": "code",
   "execution_count": 3,
   "id": "approximate-salem",
   "metadata": {},
   "outputs": [],
   "source": [
    "# deleting pnrs that has no flight\n",
    "pnrs.dropna(subset=['ID_PNR_ITI_DEP_YMD_1'], inplace=True)"
   ]
  },
  {
   "cell_type": "code",
   "execution_count": 4,
   "id": "skilled-machine",
   "metadata": {},
   "outputs": [],
   "source": [
    "   pnrs['date'] = pnrs['ID_PNR_CREATION_DTIME_GMT'].apply(lambda x: x.split(' ')[0])\n",
    "# pnr creation month\n",
    "pnrs['pnr_create_month'] = pd.to_datetime(pnrs['ID_PNR_CREATION_DTIME_GMT']).dt.month\n",
    "# pnr creation weekday\n",
    "pnrs['pnr_create_weekday'] = pd.to_datetime(pnrs['ID_PNR_CREATION_DTIME_GMT']).dt.weekday\n",
    "\n",
    "pnrs['ID_PNR_ITI_DEP_YMD_1'] = pnrs['ID_PNR_ITI_DEP_YMD_1'].apply(lambda x: datetime.strptime(str(int(x)), '%Y%m%d').strftime('%Y-%m-%d'))\n",
    "# month of first flight\n",
    "pnrs['flight_month_1'] = pd.to_datetime(pnrs['ID_PNR_ITI_DEP_YMD_1']).dt.month\n",
    "# day of first flight\n",
    "pnrs['flight_weekday_1'] =  pd.to_datetime(pnrs['ID_PNR_ITI_DEP_YMD_1']).dt.weekday\n",
    "\n",
    "pnrs['ID_PNR_ITI_DEP_YMD_2'] = pnrs['ID_PNR_ITI_DEP_YMD_2'].apply(lambda x: datetime.strptime(str(int(x)), '%Y%m%d').strftime('%Y-%m-%d') if not pd.isna(x) else np.nan)\n",
    "# month of second flight\n",
    "pnrs['flight_month_2'] = pd.to_datetime(pnrs['ID_PNR_ITI_DEP_YMD_2']).dt.month # apply(lambda x: int(x.month) if not pd.isna(x) else 0)\n",
    "# day of second flight\n",
    "pnrs['flight_weekday_2'] =  pd.to_datetime(pnrs['ID_PNR_ITI_DEP_YMD_2']).dt.weekday"
   ]
  },
  {
   "cell_type": "code",
   "execution_count": 5,
   "id": "colonial-understanding",
   "metadata": {},
   "outputs": [],
   "source": [
    "convert_hours = lambda x: datetime(1900, 1, 1, int(x)//100, int(x)%100)\n",
    "find_hour_difference = lambda x,y : (convert_hours(x)-convert_hours(y)).total_seconds()/60 if not pd.isna(y) else np.nan\n",
    "def arrival_hour_interval(x):\n",
    "    if 500 <= x < 1100:\n",
    "        return 0\n",
    "    elif 1100 <= x < 1800:\n",
    "        return 1\n",
    "    else:\n",
    "        return 2\n",
    "    \n",
    "def pnr_workhour_interval(x):\n",
    "    if 800 <= x < 1800:\n",
    "        return 1\n",
    "    else:\n",
    "        return 0"
   ]
  },
  {
   "cell_type": "code",
   "execution_count": 6,
   "id": "ultimate-ideal",
   "metadata": {},
   "outputs": [],
   "source": [
    "# flight duration for first flight\n",
    "pnrs['flight_duration_1'] = pnrs[['ID_PNR_ITI_ARR_TIME_1', 'ID_PNR_ITI_DEP_TIME_1']].apply(lambda x: find_hour_difference(*x), axis=1)\n",
    "pnrs['flight_duration_1'] = pnrs['flight_duration_1'].apply(lambda x: x+1440 if x<0 else x)\n",
    "# flight duration for second flight\n",
    "pnrs['flight_duration_2'] = pnrs[['ID_PNR_ITI_ARR_TIME_2', 'ID_PNR_ITI_DEP_TIME_2']].apply(lambda x: find_hour_difference(*x), axis=1)\n",
    "pnrs['flight_duration_2'] = pnrs['flight_duration_2'].apply(lambda x: x+1440 if x<0 else x)\n",
    "# arrival intervals of flights 05:00-11:00, 11:00-18:00, 18:00-05:00\n",
    "pnrs['arrival_interval_1'] = pnrs['ID_PNR_ITI_ARR_TIME_1'].apply(arrival_hour_interval)\n",
    "pnrs['arrival_interval_2'] = pnrs['ID_PNR_ITI_ARR_TIME_2'].apply(arrival_hour_interval)\n",
    "# day difference between first flight and pnr date\n",
    "pnrs['diff_pnr_firstflight'] = (pd.to_datetime(pnrs['ID_PNR_ITI_DEP_YMD_1'])-pd.to_datetime(pnrs['ID_PNR_CREATION_DTIME_GMT'])).apply(lambda x: x.days) + 1\n",
    "# day difference between second flight and first flight\n",
    "pnrs['diff_second_firstflight'] = np.abs((pd.to_datetime(pnrs['ID_PNR_ITI_DEP_YMD_2'])-pd.to_datetime(pnrs['ID_PNR_ITI_DEP_YMD_1'])).apply(lambda x: x.days))\n",
    "# is pnr create hour in workhours or not\n",
    "pnrs['pnr_workhour_interval'] = pnrs['PNR_TIME'].apply(pnr_workhour_interval)\n",
    "# number of flights in each pnr\n",
    "pnrs['num_of_flights'] = pnrs['ID_PNR_ITI_DEP_YMD_1'].isna()*-1 + pnrs['ID_PNR_ITI_DEP_YMD_2'].isna()*-1+2\n",
    "pnrs['date'] = pnrs['ID_PNR_CREATION_DTIME_GMT'].apply(lambda x: x.split(' ')[0])"
   ]
  },
  {
   "cell_type": "markdown",
   "id": "moving-crown",
   "metadata": {},
   "source": [
    "# tickets dataset"
   ]
  },
  {
   "cell_type": "code",
   "execution_count": 7,
   "id": "superior-samuel",
   "metadata": {},
   "outputs": [],
   "source": [
    "tickets_raw = pd.read_csv('TICKET.csv')"
   ]
  },
  {
   "cell_type": "code",
   "execution_count": 8,
   "id": "neural-draft",
   "metadata": {
    "scrolled": true
   },
   "outputs": [],
   "source": [
    "tickets = tickets_raw[tickets_raw['FLIGHT_REASON']=='NONE']"
   ]
  },
  {
   "cell_type": "code",
   "execution_count": 9,
   "id": "incorporate-factor",
   "metadata": {},
   "outputs": [
    {
     "name": "stderr",
     "output_type": "stream",
     "text": [
      "<ipython-input-9-a80f57b5315e>:1: SettingWithCopyWarning: \n",
      "A value is trying to be set on a copy of a slice from a DataFrame.\n",
      "Try using .loc[row_indexer,col_indexer] = value instead\n",
      "\n",
      "See the caveats in the documentation: https://pandas.pydata.org/pandas-docs/stable/user_guide/indexing.html#returning-a-view-versus-a-copy\n",
      "  tickets['DEP'] = tickets['OND'].apply(lambda x: x.split('-')[0])\n",
      "<ipython-input-9-a80f57b5315e>:2: SettingWithCopyWarning: \n",
      "A value is trying to be set on a copy of a slice from a DataFrame.\n",
      "Try using .loc[row_indexer,col_indexer] = value instead\n",
      "\n",
      "See the caveats in the documentation: https://pandas.pydata.org/pandas-docs/stable/user_guide/indexing.html#returning-a-view-versus-a-copy\n",
      "  tickets['ARR'] = tickets['OND'].apply(lambda x: x.split('-')[1])\n",
      "<ipython-input-9-a80f57b5315e>:3: SettingWithCopyWarning: \n",
      "A value is trying to be set on a copy of a slice from a DataFrame.\n",
      "Try using .loc[row_indexer,col_indexer] = value instead\n",
      "\n",
      "See the caveats in the documentation: https://pandas.pydata.org/pandas-docs/stable/user_guide/indexing.html#returning-a-view-versus-a-copy\n",
      "  tickets['date'] = tickets['ID_PNR_CREATION_YMD'].apply(lambda x: datetime.strptime(str(x), '%Y%m%d').strftime('%Y-%m-%d'))\n"
     ]
    }
   ],
   "source": [
    "tickets['DEP'] = tickets['OND'].apply(lambda x: x.split('-')[0])\n",
    "tickets['ARR'] = tickets['OND'].apply(lambda x: x.split('-')[1])\n",
    "tickets['date'] = tickets['ID_PNR_CREATION_YMD'].apply(lambda x: datetime.strptime(str(x), '%Y%m%d').strftime('%Y-%m-%d'))"
   ]
  },
  {
   "cell_type": "code",
   "execution_count": 10,
   "id": "brilliant-sweden",
   "metadata": {},
   "outputs": [],
   "source": [
    "test_df = pd.merge(tickets, pnrs, on=['PNR_NO', 'date'])"
   ]
  },
  {
   "cell_type": "code",
   "execution_count": 11,
   "id": "invisible-parts",
   "metadata": {},
   "outputs": [],
   "source": [
    "test_df.index = tickets.index"
   ]
  },
  {
   "cell_type": "code",
   "execution_count": 12,
   "id": "sunset-wallace",
   "metadata": {},
   "outputs": [
    {
     "data": {
      "text/plain": [
       "((8911797, 24), (7249326, 33), (8911797, 55))"
      ]
     },
     "execution_count": 12,
     "metadata": {},
     "output_type": "execute_result"
    }
   ],
   "source": [
    "tickets.shape, pnrs.shape, test_df.shape"
   ]
  },
  {
   "cell_type": "code",
   "execution_count": 13,
   "id": "efficient-religious",
   "metadata": {},
   "outputs": [],
   "source": [
    "label = ['FLIGHT_REASON']\n",
    "\n",
    "categorical_str1 = [\n",
    "'ARR',\n",
    "'DEP',\n",
    "'ID_PNR_ITI_CABCLASS_1',\n",
    "'ID_PNR_ITI_SELCLASS_1',\n",
    "'JRNY_TYP',\n",
    "'NTNLT1' ] \n",
    "\n",
    "categorical_str2 = [\n",
    "'ID_PNR_ITI_CABCLASS_2',\n",
    "'ID_PNR_ITI_SELCLASS_2']\n",
    "\n",
    "categorical_str = categorical_str1 + categorical_str2\n",
    "\n",
    "categorical_int1 = [\n",
    "'arrival_interval_1',\n",
    "'flight_month_1',\n",
    "'flight_weekday_1',\n",
    "'pnr_create_month',\n",
    "'pnr_create_weekday',\n",
    "'pnr_workhour_interval']\n",
    "\n",
    "categorical_int2 = [\n",
    "'arrival_interval_2',\n",
    "'flight_month_2',\n",
    "'flight_weekday_2']\n",
    "\n",
    "categorical_int = categorical_int1 + categorical_int2\n",
    "\n",
    "numerical1 = [\n",
    "'CUST_AGE',\n",
    "'diff_pnr_firstflight', \n",
    "'flight_duration_1']\n",
    "\n",
    "numerical2 = [\n",
    "'diff_second_firstflight',\n",
    "'flight_duration_2']\n",
    "\n",
    "numerical = numerical1+numerical2\n",
    "\n",
    "passthrough = [\n",
    "'dep_nat_flag',\n",
    "'arr_nat_flag',\n",
    "'CHILD_FLG',\n",
    "'FAMILY_FLG',\n",
    "'INFANT_FLG',\n",
    "'PET_FLG',\n",
    "'POS_POC_SAME_FLG',\n",
    "'SAME_SRNAME_FLG',\n",
    "'SEAT_SELECT_FLG',\n",
    "'SPORT_FLG',\n",
    "'XBAG_FIRST_FLT_FLG',\n",
    "'XBAG_LAST_FLT_FLG',\n",
    "'XBAG_TWO_WAY_FLT_FLG',\n",
    "'PNR_PSSG_COUNT']\n",
    "\n",
    "drops = [\n",
    "'ID_PNR_CREATION_DTIME_GMT',\n",
    "'ID_PNR_CREATION_YMD',\n",
    "'ID_PNR_ITI_ARR_APT_1',\n",
    "'ID_PNR_ITI_ARR_APT_2',\n",
    "'ID_PNR_ITI_DEP_APT_1',\n",
    "'ID_PNR_ITI_DEP_APT_2',\n",
    "'ID_TKT_NO',\n",
    "'OND',\n",
    "'PNR_NO',\n",
    "'date']"
   ]
  },
  {
   "cell_type": "code",
   "execution_count": 14,
   "id": "informational-review",
   "metadata": {},
   "outputs": [
    {
     "data": {
      "text/plain": [
       "<AxesSubplot:>"
      ]
     },
     "execution_count": 14,
     "metadata": {},
     "output_type": "execute_result"
    },
    {
     "data": {
      "image/png": "[encoded data removed]",
      "text/plain": [
       "<Figure size 1800x720 with 2 Axes>"
      ]
     },
     "metadata": {
      "needs_background": "light"
     },
     "output_type": "display_data"
    }
   ],
   "source": [
    "#read in data here\n",
    "msgn.matrix(test_df,color=(0.45, 0.15, 0.25))"
   ]
  },
  {
   "cell_type": "code",
   "execution_count": 15,
   "id": "pregnant-notice",
   "metadata": {},
   "outputs": [],
   "source": [
    "iata_country = pd.read_excel('airport_country.xls', index_col='Unnamed: 0')\n",
    "airport_country_pairs = dict(zip(iata_country['IATA'], iata_country['Country']))"
   ]
  },
  {
   "cell_type": "code",
   "execution_count": 16,
   "id": "mighty-benchmark",
   "metadata": {},
   "outputs": [],
   "source": [
    "# is the customer's nationality same with its departure country\n",
    "test_df['dep_nat_flag'] = (test_df['DEP'].map(airport_country_pairs) == test_df['NTNLT1']).map({True:1, False:0})\n",
    "# is the customer's nationality same with its arrival country\n",
    "test_df['arr_nat_flag'] = (test_df['ARR'].map(airport_country_pairs) == test_df['NTNLT1']).map({True:1, False:0})"
   ]
  },
  {
   "cell_type": "code",
   "execution_count": 17,
   "id": "seven-joseph",
   "metadata": {},
   "outputs": [
    {
     "data": {
      "text/plain": [
       "(8911797, 57)"
      ]
     },
     "execution_count": 17,
     "metadata": {},
     "output_type": "execute_result"
    }
   ],
   "source": [
    "test_df.shape"
   ]
  },
  {
   "cell_type": "code",
   "execution_count": 18,
   "id": "subtle-programmer",
   "metadata": {},
   "outputs": [],
   "source": [
    "def random_undersampling(X, y):\n",
    "    \n",
    "    num_sample = y[y=='STUDENT'].shape[0]\n",
    "    index_1 = y[y=='BUSINESS'].sample(num_sample, random_state=3).index\n",
    "    index_2 = y[y=='LEISURE'].sample(num_sample, random_state=3).index\n",
    "    index_3 = y[y=='SECOND HOME'].sample(num_sample, random_state=3).index\n",
    "    index_4 = y[y=='STUDENT'].index\n",
    "    \n",
    "    all_indexes = list(index_1) + list(index_2) + list(index_3) + list(index_4)\n",
    "\n",
    "    X_ = X.loc[all_indexes]\n",
    "    y_ = y[all_indexes]\n",
    "    \n",
    "    return X_, y_"
   ]
  },
  {
   "cell_type": "code",
   "execution_count": 19,
   "id": "particular-annotation",
   "metadata": {},
   "outputs": [],
   "source": [
    "def create_pipeline_without_clf(clf_name, clf_object):\n",
    "    \n",
    "    numeric_transformer1 = Pipeline(steps=[\n",
    "        ('imputer', SimpleImputer(strategy='median')),\n",
    "        ('scaler', StandardScaler())])\n",
    "    numeric_transformer2 = Pipeline(steps=[\n",
    "        ('imputer', SimpleImputer(strategy='constant', fill_value=0.0)),\n",
    "        ('scaler', StandardScaler())])\n",
    "\n",
    "    categorical_str_transformer1 = Pipeline(steps=[\n",
    "        ('imputer', SimpleImputer(strategy='most_frequent')),\n",
    "        ('one-hot', OneHotEncoder(handle_unknown='ignore'))])\n",
    "    categorical_str_transformer2 = Pipeline(steps=[\n",
    "        ('imputer', SimpleImputer(strategy='constant', fill_value='-')),\n",
    "        ('one-hot', OneHotEncoder(handle_unknown='ignore'))])\n",
    "\n",
    "    categorical_int_transformer1 = Pipeline(steps=[\n",
    "        ('imputer', SimpleImputer(strategy='constant', fill_value=-99)),\n",
    "        ('one-hot', OneHotEncoder(handle_unknown='ignore'))])\n",
    "    categorical_int_transformer2 = Pipeline(steps=[\n",
    "        ('imputer', SimpleImputer(strategy='constant', fill_value=-100)),\n",
    "        ('one-hot', OneHotEncoder(handle_unknown='ignore'))])\n",
    "\n",
    "    preprocessor = ColumnTransformer(\n",
    "                                    transformers=[\n",
    "                                                  ('num1', numeric_transformer1, numerical1),\n",
    "                                                  ('num2', numeric_transformer2, numerical2),\n",
    "                                                  ('cat_str1', categorical_str_transformer1, categorical_str1),\n",
    "                                                  ('cat_str2', categorical_str_transformer2, categorical_str2),\n",
    "                                                  ('cat_int1', categorical_int_transformer1, categorical_int1),\n",
    "                                                  ('cat_int2', categorical_int_transformer2, categorical_int2)], \n",
    "                                    n_jobs = -1,\n",
    "                                    transformer_weights = None,\n",
    "                                    remainder='passthrough')\n",
    "\n",
    "    pipeline = Pipeline(steps=[('preprocessor', preprocessor),\n",
    "                          ('f_selector', SelectKBest(f_classif, k='all')),\n",
    "                          (clf_name, clf_object)], verbose=False)\n",
    "    \n",
    "    return pipeline"
   ]
  },
  {
   "cell_type": "markdown",
   "id": "alert-apparatus",
   "metadata": {},
   "source": [
    "best results obtained from training with below classifiers"
   ]
  },
  {
   "cell_type": "code",
   "execution_count": 28,
   "id": "instant-basement",
   "metadata": {},
   "outputs": [],
   "source": [
    "from sklearn.ensemble import StackingClassifier\n",
    "from sklearn.ensemble import RandomForestClassifier\n",
    "from sklearn.ensemble import ExtraTreesClassifier\n",
    "from sklearn.linear_model import LogisticRegression\n",
    "from lightgbm import LGBMClassifier\n",
    "from xgboost import XGBClassifier\n",
    "from sklearn.preprocessing import PowerTransformer\n",
    "from sklearn.compose import ColumnTransformer\n",
    "from sklearn.pipeline import Pipeline\n",
    "from sklearn.impute import SimpleImputer\n",
    "from sklearn.feature_selection import SelectKBest\n",
    "from sklearn.feature_selection import f_classif\n",
    "from sklearn.preprocessing import StandardScaler, OneHotEncoder\n",
    "from sklearn.svm import SVC\n",
    "\n",
    "clf1 = create_pipeline_without_clf('lgb',LGBMClassifier(learning_rate=0.01,max_depth=-1, min_samples_split=2, num_leaves=20, n_estimators= 500))\n",
    "clf2 = create_pipeline_without_clf('svc',SVC(C= 10, degree= 2, gamma= 0.1, kernel= 'rbf'))\n",
    "clf3 = create_pipeline_without_clf('log', LogisticRegression(C= 1.0, penalty= 'l2', max_iter=500))\n",
    "clf4 = create_pipeline_without_clf('rfc',RandomForestClassifier(max_depth= None, min_samples_leaf= 1, min_samples_split= 2, n_estimators= 500))\n",
    "\n",
    "estimators_list = [('lgb', clf1),('svc', clf2),('log', clf3),('rfc', clf4)]\n",
    "stacking = StackingClassifier(estimators=estimators_list,  n_jobs=-1)"
   ]
  },
  {
   "cell_type": "code",
   "execution_count": 29,
   "id": "failing-knitting",
   "metadata": {},
   "outputs": [],
   "source": [
    "# training data is obtained with nb 1-1\n",
    "train = pd.read_csv('train.csv')\n",
    "\n",
    "y_train = train['FLIGHT_REASON']\n",
    "X_train = train[categorical_str+categorical_int+numerical+passthrough]\n",
    "\n",
    "X_train, y_train = random_undersampling(X_train, y_train)\n",
    "\n",
    "# test data is constructed with all the NONE values in the FLIGHT_REASON column\n",
    "# not dropping outliers or nulls\n",
    "X_test = test_df[categorical_str+categorical_int+numerical+passthrough]"
   ]
  },
  {
   "cell_type": "code",
   "execution_count": 30,
   "id": "protected-quarterly",
   "metadata": {},
   "outputs": [
    {
     "name": "stderr",
     "output_type": "stream",
     "text": [
      "C:\\Users\\IsmailKaraman\\anaconda3\\lib\\site-packages\\sklearn\\linear_model\\_logistic.py:762: ConvergenceWarning: lbfgs failed to converge (status=1):\n",
      "STOP: TOTAL NO. of ITERATIONS REACHED LIMIT.\n",
      "\n",
      "Increase the number of iterations (max_iter) or scale the data as shown in:\n",
      "    https://scikit-learn.org/stable/modules/preprocessing.html\n",
      "Please also refer to the documentation for alternative solver options:\n",
      "    https://scikit-learn.org/stable/modules/linear_model.html#logistic-regression\n",
      "  n_iter_i = _check_optimize_result(\n"
     ]
    }
   ],
   "source": [
    "stacking.fit(X_train, y_train)\n",
    "preds = stacking.predict(X_test)"
   ]
  },
  {
   "cell_type": "code",
   "execution_count": 34,
   "id": "median-network",
   "metadata": {},
   "outputs": [
    {
     "data": {
      "text/html": [
       "<div>\n",
       "<style scoped>\n",
       "    .dataframe tbody tr th:only-of-type {\n",
       "        vertical-align: middle;\n",
       "    }\n",
       "\n",
       "    .dataframe tbody tr th {\n",
       "        vertical-align: top;\n",
       "    }\n",
       "\n",
       "    .dataframe thead th {\n",
       "        text-align: right;\n",
       "    }\n",
       "</style>\n",
       "<table border=\"1\" class=\"dataframe\">\n",
       "  <thead>\n",
       "    <tr style=\"text-align: right;\">\n",
       "      <th></th>\n",
       "      <th>ARR</th>\n",
       "      <th>DEP</th>\n",
       "      <th>ID_PNR_ITI_CABCLASS_1</th>\n",
       "      <th>ID_PNR_ITI_SELCLASS_1</th>\n",
       "      <th>JRNY_TYP</th>\n",
       "      <th>NTNLT1</th>\n",
       "      <th>ID_PNR_ITI_CABCLASS_2</th>\n",
       "      <th>ID_PNR_ITI_SELCLASS_2</th>\n",
       "      <th>arrival_interval_1</th>\n",
       "      <th>flight_month_1</th>\n",
       "      <th>...</th>\n",
       "      <th>INFANT_FLG</th>\n",
       "      <th>PET_FLG</th>\n",
       "      <th>POS_POC_SAME_FLG</th>\n",
       "      <th>SAME_SRNAME_FLG</th>\n",
       "      <th>SEAT_SELECT_FLG</th>\n",
       "      <th>SPORT_FLG</th>\n",
       "      <th>XBAG_FIRST_FLT_FLG</th>\n",
       "      <th>XBAG_LAST_FLT_FLG</th>\n",
       "      <th>XBAG_TWO_WAY_FLT_FLG</th>\n",
       "      <th>PNR_PSSG_COUNT</th>\n",
       "    </tr>\n",
       "  </thead>\n",
       "  <tbody>\n",
       "    <tr>\n",
       "      <th>0</th>\n",
       "      <td>CDG</td>\n",
       "      <td>IST</td>\n",
       "      <td>Y</td>\n",
       "      <td>Q</td>\n",
       "      <td>O</td>\n",
       "      <td>NaN</td>\n",
       "      <td>NaN</td>\n",
       "      <td>NaN</td>\n",
       "      <td>1</td>\n",
       "      <td>7</td>\n",
       "      <td>...</td>\n",
       "      <td>0</td>\n",
       "      <td>0</td>\n",
       "      <td>0</td>\n",
       "      <td>0</td>\n",
       "      <td>0</td>\n",
       "      <td>0</td>\n",
       "      <td>0</td>\n",
       "      <td>0</td>\n",
       "      <td>0</td>\n",
       "      <td>1</td>\n",
       "    </tr>\n",
       "    <tr>\n",
       "      <th>7</th>\n",
       "      <td>IST</td>\n",
       "      <td>WAW</td>\n",
       "      <td>Y</td>\n",
       "      <td>Q</td>\n",
       "      <td>R</td>\n",
       "      <td>Turkey</td>\n",
       "      <td>Y</td>\n",
       "      <td>V</td>\n",
       "      <td>2</td>\n",
       "      <td>10</td>\n",
       "      <td>...</td>\n",
       "      <td>0</td>\n",
       "      <td>0</td>\n",
       "      <td>0</td>\n",
       "      <td>0</td>\n",
       "      <td>0</td>\n",
       "      <td>0</td>\n",
       "      <td>0</td>\n",
       "      <td>0</td>\n",
       "      <td>0</td>\n",
       "      <td>1</td>\n",
       "    </tr>\n",
       "    <tr>\n",
       "      <th>16</th>\n",
       "      <td>IST</td>\n",
       "      <td>AMS</td>\n",
       "      <td>Y</td>\n",
       "      <td>M</td>\n",
       "      <td>O</td>\n",
       "      <td>NaN</td>\n",
       "      <td>NaN</td>\n",
       "      <td>NaN</td>\n",
       "      <td>1</td>\n",
       "      <td>7</td>\n",
       "      <td>...</td>\n",
       "      <td>0</td>\n",
       "      <td>0</td>\n",
       "      <td>0</td>\n",
       "      <td>0</td>\n",
       "      <td>0</td>\n",
       "      <td>0</td>\n",
       "      <td>0</td>\n",
       "      <td>0</td>\n",
       "      <td>0</td>\n",
       "      <td>1</td>\n",
       "    </tr>\n",
       "    <tr>\n",
       "      <th>17</th>\n",
       "      <td>PRG</td>\n",
       "      <td>IST</td>\n",
       "      <td>Y</td>\n",
       "      <td>L</td>\n",
       "      <td>R</td>\n",
       "      <td>Turkey</td>\n",
       "      <td>Y</td>\n",
       "      <td>V</td>\n",
       "      <td>2</td>\n",
       "      <td>8</td>\n",
       "      <td>...</td>\n",
       "      <td>0</td>\n",
       "      <td>0</td>\n",
       "      <td>0</td>\n",
       "      <td>0</td>\n",
       "      <td>0</td>\n",
       "      <td>0</td>\n",
       "      <td>0</td>\n",
       "      <td>0</td>\n",
       "      <td>0</td>\n",
       "      <td>1</td>\n",
       "    </tr>\n",
       "    <tr>\n",
       "      <th>18</th>\n",
       "      <td>FCO</td>\n",
       "      <td>IST</td>\n",
       "      <td>Y</td>\n",
       "      <td>V</td>\n",
       "      <td>O</td>\n",
       "      <td>Turkey</td>\n",
       "      <td>NaN</td>\n",
       "      <td>NaN</td>\n",
       "      <td>1</td>\n",
       "      <td>10</td>\n",
       "      <td>...</td>\n",
       "      <td>0</td>\n",
       "      <td>0</td>\n",
       "      <td>0</td>\n",
       "      <td>0</td>\n",
       "      <td>0</td>\n",
       "      <td>0</td>\n",
       "      <td>0</td>\n",
       "      <td>0</td>\n",
       "      <td>0</td>\n",
       "      <td>1</td>\n",
       "    </tr>\n",
       "    <tr>\n",
       "      <th>...</th>\n",
       "      <td>...</td>\n",
       "      <td>...</td>\n",
       "      <td>...</td>\n",
       "      <td>...</td>\n",
       "      <td>...</td>\n",
       "      <td>...</td>\n",
       "      <td>...</td>\n",
       "      <td>...</td>\n",
       "      <td>...</td>\n",
       "      <td>...</td>\n",
       "      <td>...</td>\n",
       "      <td>...</td>\n",
       "      <td>...</td>\n",
       "      <td>...</td>\n",
       "      <td>...</td>\n",
       "      <td>...</td>\n",
       "      <td>...</td>\n",
       "      <td>...</td>\n",
       "      <td>...</td>\n",
       "      <td>...</td>\n",
       "      <td>...</td>\n",
       "    </tr>\n",
       "    <tr>\n",
       "      <th>10199952</th>\n",
       "      <td>IST</td>\n",
       "      <td>DUS</td>\n",
       "      <td>Y</td>\n",
       "      <td>Q</td>\n",
       "      <td>R</td>\n",
       "      <td>Germany</td>\n",
       "      <td>Y</td>\n",
       "      <td>E</td>\n",
       "      <td>2</td>\n",
       "      <td>11</td>\n",
       "      <td>...</td>\n",
       "      <td>0</td>\n",
       "      <td>0</td>\n",
       "      <td>0</td>\n",
       "      <td>0</td>\n",
       "      <td>0</td>\n",
       "      <td>0</td>\n",
       "      <td>0</td>\n",
       "      <td>0</td>\n",
       "      <td>0</td>\n",
       "      <td>2</td>\n",
       "    </tr>\n",
       "    <tr>\n",
       "      <th>10199954</th>\n",
       "      <td>IST</td>\n",
       "      <td>DUS</td>\n",
       "      <td>Y</td>\n",
       "      <td>Q</td>\n",
       "      <td>R</td>\n",
       "      <td>Germany</td>\n",
       "      <td>Y</td>\n",
       "      <td>E</td>\n",
       "      <td>2</td>\n",
       "      <td>11</td>\n",
       "      <td>...</td>\n",
       "      <td>0</td>\n",
       "      <td>0</td>\n",
       "      <td>0</td>\n",
       "      <td>0</td>\n",
       "      <td>0</td>\n",
       "      <td>0</td>\n",
       "      <td>0</td>\n",
       "      <td>0</td>\n",
       "      <td>0</td>\n",
       "      <td>2</td>\n",
       "    </tr>\n",
       "    <tr>\n",
       "      <th>10199955</th>\n",
       "      <td>GVA</td>\n",
       "      <td>IST</td>\n",
       "      <td>Y</td>\n",
       "      <td>V</td>\n",
       "      <td>R</td>\n",
       "      <td>Turkey</td>\n",
       "      <td>Y</td>\n",
       "      <td>L</td>\n",
       "      <td>0</td>\n",
       "      <td>5</td>\n",
       "      <td>...</td>\n",
       "      <td>0</td>\n",
       "      <td>0</td>\n",
       "      <td>0</td>\n",
       "      <td>0</td>\n",
       "      <td>0</td>\n",
       "      <td>0</td>\n",
       "      <td>0</td>\n",
       "      <td>0</td>\n",
       "      <td>0</td>\n",
       "      <td>1</td>\n",
       "    </tr>\n",
       "    <tr>\n",
       "      <th>10199957</th>\n",
       "      <td>FCO</td>\n",
       "      <td>IST</td>\n",
       "      <td>Y</td>\n",
       "      <td>L</td>\n",
       "      <td>O</td>\n",
       "      <td>Turkey</td>\n",
       "      <td>NaN</td>\n",
       "      <td>NaN</td>\n",
       "      <td>1</td>\n",
       "      <td>5</td>\n",
       "      <td>...</td>\n",
       "      <td>0</td>\n",
       "      <td>0</td>\n",
       "      <td>0</td>\n",
       "      <td>0</td>\n",
       "      <td>0</td>\n",
       "      <td>0</td>\n",
       "      <td>0</td>\n",
       "      <td>0</td>\n",
       "      <td>0</td>\n",
       "      <td>1</td>\n",
       "    </tr>\n",
       "    <tr>\n",
       "      <th>10199958</th>\n",
       "      <td>IST</td>\n",
       "      <td>SZG</td>\n",
       "      <td>Y</td>\n",
       "      <td>W</td>\n",
       "      <td>R</td>\n",
       "      <td>Turkey</td>\n",
       "      <td>Y</td>\n",
       "      <td>W</td>\n",
       "      <td>2</td>\n",
       "      <td>12</td>\n",
       "      <td>...</td>\n",
       "      <td>0</td>\n",
       "      <td>0</td>\n",
       "      <td>0</td>\n",
       "      <td>0</td>\n",
       "      <td>0</td>\n",
       "      <td>0</td>\n",
       "      <td>0</td>\n",
       "      <td>0</td>\n",
       "      <td>0</td>\n",
       "      <td>1</td>\n",
       "    </tr>\n",
       "  </tbody>\n",
       "</table>\n",
       "<p>8911797 rows × 36 columns</p>\n",
       "</div>"
      ],
      "text/plain": [
       "          ARR  DEP ID_PNR_ITI_CABCLASS_1 ID_PNR_ITI_SELCLASS_1 JRNY_TYP  \\\n",
       "0         CDG  IST                     Y                     Q        O   \n",
       "7         IST  WAW                     Y                     Q        R   \n",
       "16        IST  AMS                     Y                     M        O   \n",
       "17        PRG  IST                     Y                     L        R   \n",
       "18        FCO  IST                     Y                     V        O   \n",
       "...       ...  ...                   ...                   ...      ...   \n",
       "10199952  IST  DUS                     Y                     Q        R   \n",
       "10199954  IST  DUS                     Y                     Q        R   \n",
       "10199955  GVA  IST                     Y                     V        R   \n",
       "10199957  FCO  IST                     Y                     L        O   \n",
       "10199958  IST  SZG                     Y                     W        R   \n",
       "\n",
       "           NTNLT1 ID_PNR_ITI_CABCLASS_2 ID_PNR_ITI_SELCLASS_2  \\\n",
       "0             NaN                   NaN                   NaN   \n",
       "7          Turkey                     Y                     V   \n",
       "16            NaN                   NaN                   NaN   \n",
       "17         Turkey                     Y                     V   \n",
       "18         Turkey                   NaN                   NaN   \n",
       "...           ...                   ...                   ...   \n",
       "10199952  Germany                     Y                     E   \n",
       "10199954  Germany                     Y                     E   \n",
       "10199955   Turkey                     Y                     L   \n",
       "10199957   Turkey                   NaN                   NaN   \n",
       "10199958   Turkey                     Y                     W   \n",
       "\n",
       "          arrival_interval_1  flight_month_1  ...  INFANT_FLG  PET_FLG  \\\n",
       "0                          1               7  ...           0        0   \n",
       "7                          2              10  ...           0        0   \n",
       "16                         1               7  ...           0        0   \n",
       "17                         2               8  ...           0        0   \n",
       "18                         1              10  ...           0        0   \n",
       "...                      ...             ...  ...         ...      ...   \n",
       "10199952                   2              11  ...           0        0   \n",
       "10199954                   2              11  ...           0        0   \n",
       "10199955                   0               5  ...           0        0   \n",
       "10199957                   1               5  ...           0        0   \n",
       "10199958                   2              12  ...           0        0   \n",
       "\n",
       "          POS_POC_SAME_FLG  SAME_SRNAME_FLG  SEAT_SELECT_FLG  SPORT_FLG  \\\n",
       "0                        0                0                0          0   \n",
       "7                        0                0                0          0   \n",
       "16                       0                0                0          0   \n",
       "17                       0                0                0          0   \n",
       "18                       0                0                0          0   \n",
       "...                    ...              ...              ...        ...   \n",
       "10199952                 0                0                0          0   \n",
       "10199954                 0                0                0          0   \n",
       "10199955                 0                0                0          0   \n",
       "10199957                 0                0                0          0   \n",
       "10199958                 0                0                0          0   \n",
       "\n",
       "          XBAG_FIRST_FLT_FLG  XBAG_LAST_FLT_FLG  XBAG_TWO_WAY_FLT_FLG  \\\n",
       "0                          0                  0                     0   \n",
       "7                          0                  0                     0   \n",
       "16                         0                  0                     0   \n",
       "17                         0                  0                     0   \n",
       "18                         0                  0                     0   \n",
       "...                      ...                ...                   ...   \n",
       "10199952                   0                  0                     0   \n",
       "10199954                   0                  0                     0   \n",
       "10199955                   0                  0                     0   \n",
       "10199957                   0                  0                     0   \n",
       "10199958                   0                  0                     0   \n",
       "\n",
       "          PNR_PSSG_COUNT  \n",
       "0                      1  \n",
       "7                      1  \n",
       "16                     1  \n",
       "17                     1  \n",
       "18                     1  \n",
       "...                  ...  \n",
       "10199952               2  \n",
       "10199954               2  \n",
       "10199955               1  \n",
       "10199957               1  \n",
       "10199958               1  \n",
       "\n",
       "[8911797 rows x 36 columns]"
      ]
     },
     "execution_count": 34,
     "metadata": {},
     "output_type": "execute_result"
    }
   ],
   "source": [
    "X_test"
   ]
  },
  {
   "cell_type": "code",
   "execution_count": null,
   "id": "continental-institute",
   "metadata": {},
   "outputs": [],
   "source": [
    "stop"
   ]
  },
  {
   "cell_type": "code",
   "execution_count": 33,
   "id": "enhanced-visitor",
   "metadata": {},
   "outputs": [
    {
     "data": {
      "text/plain": [
       "8911797"
      ]
     },
     "execution_count": 33,
     "metadata": {},
     "output_type": "execute_result"
    }
   ],
   "source": [
    "len(preds)"
   ]
  },
  {
   "cell_type": "code",
   "execution_count": 35,
   "id": "handy-indiana",
   "metadata": {},
   "outputs": [],
   "source": [
    "tickets_raw.loc[X_test.index, 'FLIGHT_REASON'] = preds"
   ]
  },
  {
   "cell_type": "code",
   "execution_count": 37,
   "id": "middle-monte",
   "metadata": {},
   "outputs": [],
   "source": [
    "tickets_raw.to_csv('TICKET_RESULT.csv')"
   ]
  },
  {
   "cell_type": "code",
   "execution_count": 41,
   "id": "digital-brick",
   "metadata": {},
   "outputs": [],
   "source": [
    "only_results = pd.DataFrame(preds, index=X_test.index,columns=['FLIGHT_REASON'])"
   ]
  },
  {
   "cell_type": "code",
   "execution_count": 42,
   "id": "young-crawford",
   "metadata": {
    "scrolled": true
   },
   "outputs": [
    {
     "data": {
      "text/plain": [
       "FLIGHT_REASON\n",
       "BUSINESS         4239398\n",
       "LEISURE          3034916\n",
       "STUDENT           872939\n",
       "SECOND HOME       764544\n",
       "dtype: int64"
      ]
     },
     "execution_count": 42,
     "metadata": {},
     "output_type": "execute_result"
    }
   ],
   "source": [
    "only_results.value_counts()"
   ]
  },
  {
   "cell_type": "code",
   "execution_count": 46,
   "id": "finnish-netscape",
   "metadata": {},
   "outputs": [],
   "source": [
    "from sklearn.metrics import classification_report, accuracy_score, confusion_matrix, ConfusionMatrixDisplay\n",
    "from sklearn.metrics import f1_score\n",
    "from sklearn.model_selection import train_test_split"
   ]
  },
  {
   "cell_type": "code",
   "execution_count": 47,
   "id": "younger-arrest",
   "metadata": {},
   "outputs": [],
   "source": [
    "def print_metrics(y_pred, y_test, model):\n",
    "    print(\"Model results: \", type(model).__name__)\n",
    "    print(classification_report(y_test, y_pred))\n",
    "    print(\"Confusion matrix:\")\n",
    "    cm = confusion_matrix(y_test,y_pred, labels= model.classes_)\n",
    "    disp = ConfusionMatrixDisplay(confusion_matrix=cm,display_labels= model.classes_)\n",
    "    disp.plot()"
   ]
  },
  {
   "cell_type": "code",
   "execution_count": null,
   "id": "handed-essence",
   "metadata": {},
   "outputs": [],
   "source": [
    "y = train['FLIGHT_REASON']\n",
    "X = train[categorical_str+categorical_int+numerical+passthrough]\n",
    "\n",
    "X, y = random_undersampling(X, y)\n",
    "\n",
    "X_train, X_test1, y_train, y_test1 = train_test_split(X, y, stratify=y, test_size=0.20, random_state=42)\n",
    "\n",
    "stacking = StackingClassifier(estimators=estimators_list,  n_jobs=-1)\n",
    "\n",
    "stacking.fit(X_train, y_train)\n",
    "preds1 = stacking.predict(X_test1)"
   ]
  },
  {
   "cell_type": "code",
   "execution_count": 50,
   "id": "laughing-regulation",
   "metadata": {},
   "outputs": [
    {
     "name": "stdout",
     "output_type": "stream",
     "text": [
      "0.9482056308370941\n",
      "Model results:  StackingClassifier\n",
      "              precision    recall  f1-score   support\n",
      "\n",
      "    BUSINESS       0.92      0.95      0.94       212\n",
      "     LEISURE       0.94      0.89      0.92       211\n",
      " SECOND HOME       0.97      0.97      0.97       212\n",
      "     STUDENT       0.96      0.98      0.97       211\n",
      "\n",
      "    accuracy                           0.95       846\n",
      "   macro avg       0.95      0.95      0.95       846\n",
      "weighted avg       0.95      0.95      0.95       846\n",
      "\n",
      "Confusion matrix:\n"
     ]
    },
    {
     "data": {
      "image/png": "[encoded data removed]",
      "text/plain": [
       "<Figure size 432x288 with 2 Axes>"
      ]
     },
     "metadata": {
      "needs_background": "light"
     },
     "output_type": "display_data"
    }
   ],
   "source": [
    "print(f1_score(preds1, y_test1, average='weighted'))\n",
    "print_metrics(preds1, y_test1, stacking)"
   ]
  },
  {
   "cell_type": "code",
   "execution_count": 51,
   "id": "bigger-richards",
   "metadata": {},
   "outputs": [
    {
     "data": {
      "text/plain": [
       "FLIGHT_REASON\n",
       "BUSINESS         4377142\n",
       "LEISURE          2957754\n",
       "SECOND HOME       806759\n",
       "STUDENT           770142\n",
       "dtype: int64"
      ]
     },
     "execution_count": 51,
     "metadata": {},
     "output_type": "execute_result"
    }
   ],
   "source": [
    "preds2 = stacking.predict(X_test)\n",
    "rres = pd.DataFrame(preds2, index=X_test.index,columns=['FLIGHT_REASON'])\n",
    "rres.value_counts()"
   ]
  },
  {
   "cell_type": "code",
   "execution_count": 53,
   "id": "executed-newcastle",
   "metadata": {},
   "outputs": [],
   "source": [
    "FLIGHT_REASON1 = {\n",
    "'BUSINESS' :        4239398,\n",
    "'LEISURE'   :       3034916,\n",
    "'STUDENT'     :      872939,\n",
    "'SECOND HOME' :      764544}"
   ]
  },
  {
   "cell_type": "code",
   "execution_count": 55,
   "id": "foreign-poker",
   "metadata": {},
   "outputs": [
    {
     "data": {
      "text/plain": [
       "8911797"
      ]
     },
     "execution_count": 55,
     "metadata": {},
     "output_type": "execute_result"
    }
   ],
   "source": [
    "sum(FLIGHT_REASON1.values())"
   ]
  },
  {
   "cell_type": "code",
   "execution_count": 60,
   "id": "developing-homework",
   "metadata": {},
   "outputs": [
    {
     "data": {
      "text/plain": [
       "[0.4757063025560389,\n",
       " 0.34055039628932304,\n",
       " 0.09795319619600851,\n",
       " 0.08579010495862956]"
      ]
     },
     "execution_count": 60,
     "metadata": {},
     "output_type": "execute_result"
    }
   ],
   "source": [
    "[i/sum(FLIGHT_REASON1.values()) for i in FLIGHT_REASON1.values()]"
   ]
  },
  {
   "cell_type": "code",
   "execution_count": 62,
   "id": "small-destination",
   "metadata": {},
   "outputs": [],
   "source": [
    "FLIGHT_REASON2 = dict(rres.value_counts())"
   ]
  },
  {
   "cell_type": "code",
   "execution_count": 63,
   "id": "thick-registrar",
   "metadata": {},
   "outputs": [
    {
     "data": {
      "text/plain": [
       "[0.491162668988084,\n",
       " 0.33189198542112214,\n",
       " 0.0905270844926113,\n",
       " 0.08641826109818256]"
      ]
     },
     "execution_count": 63,
     "metadata": {},
     "output_type": "execute_result"
    }
   ],
   "source": [
    "[i/sum(FLIGHT_REASON2.values()) for i in FLIGHT_REASON2.values()]"
   ]
  },
  {
   "cell_type": "code",
   "execution_count": 67,
   "id": "israeli-relationship",
   "metadata": {},
   "outputs": [
    {
     "data": {
      "text/plain": [
       "ARR                        BUD\n",
       "DEP                        IST\n",
       "ID_PNR_ITI_CABCLASS_1        Y\n",
       "ID_PNR_ITI_SELCLASS_1        W\n",
       "JRNY_TYP                     O\n",
       "NTNLT1                     NaN\n",
       "ID_PNR_ITI_CABCLASS_2      NaN\n",
       "ID_PNR_ITI_SELCLASS_2      NaN\n",
       "arrival_interval_1           2\n",
       "flight_month_1               3\n",
       "flight_weekday_1             2\n",
       "pnr_create_month             3\n",
       "pnr_create_weekday           4\n",
       "pnr_workhour_interval        1\n",
       "arrival_interval_2           2\n",
       "flight_month_2             NaN\n",
       "flight_weekday_2           NaN\n",
       "CUST_AGE                   NaN\n",
       "diff_pnr_firstflight        12\n",
       "flight_duration_1          5.0\n",
       "diff_second_firstflight    NaN\n",
       "flight_duration_2          NaN\n",
       "dep_nat_flag                 0\n",
       "arr_nat_flag                 0\n",
       "CHILD_FLG                    0\n",
       "FAMILY_FLG                   1\n",
       "INFANT_FLG                   0\n",
       "PET_FLG                      0\n",
       "POS_POC_SAME_FLG             0\n",
       "SAME_SRNAME_FLG              1\n",
       "SEAT_SELECT_FLG              0\n",
       "SPORT_FLG                    0\n",
       "XBAG_FIRST_FLT_FLG           0\n",
       "XBAG_LAST_FLT_FLG            0\n",
       "XBAG_TWO_WAY_FLT_FLG         0\n",
       "PNR_PSSG_COUNT               3\n",
       "Name: 20, dtype: object"
      ]
     },
     "execution_count": 67,
     "metadata": {},
     "output_type": "execute_result"
    }
   ],
   "source": [
    "X_test[preds!=preds2].loc[20]"
   ]
  },
  {
   "cell_type": "code",
   "execution_count": null,
   "id": "turkish-bulgarian",
   "metadata": {},
   "outputs": [],
   "source": []
  }
 ],
 "metadata": {
  "kernelspec": {
   "display_name": "Python 3",
   "language": "python",
   "name": "python3"
  },
  "language_info": {
   "codemirror_mode": {
    "name": "ipython",
    "version": 3
   },
   "file_extension": ".py",
   "mimetype": "text/x-python",
   "name": "python",
   "nbconvert_exporter": "python",
   "pygments_lexer": "ipython3",
   "version": "3.8.5"
  }
 },
 "nbformat": 4,
 "nbformat_minor": 5
}
