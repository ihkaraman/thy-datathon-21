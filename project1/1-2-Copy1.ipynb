{
 "cells": [
  {
   "cell_type": "markdown",
   "id": "christian-analysis",
   "metadata": {},
   "source": [
    "Sizlerden müşterilerin bir sonraki seyahetlerinde tercih edebilecekleri 5 – 7 arası öneri destinasyon \n",
    "tahmini beklenmektedir. Yolcuların öneri listesinde alternatif şehirlerin olmaması beklenmektedir. Buna \n",
    "ilişkin alternatif şehirlerin yer aldığı dosya sizlerle paylaşılmıştır.\n",
    "Model sonucunda, Pazarlama ve Kampanya faaliyetlerinde kullanılmak üzere ayrılmasının anlamlı olacığını \n",
    "düşündüğünüz kriterlere göre model sonuç tablolarını oluşturabilirsiniz. Oluşan sonuçların kullanım \n",
    "senaryolarına ilişkin açıklama yapmanız beklenmektedir. \n",
    "Model oluşturulurken, mevsimselliğin de dikkate alınması beklenmedir. Veriler içeriği aşağıdaki gibidir."
   ]
  },
  {
   "cell_type": "markdown",
   "id": "aboriginal-murray",
   "metadata": {},
   "source": [
    "COLUMN_NAME EXPLANATION SAMPLE\n",
    "\n",
    "drops \n",
    "PRIM_TKT_NUM: Müşteri bilet numarasıdır 2,307,664,176\n",
    "CITY_NM: Varış istasyonunun şehir adıdır ISTANBUL\n",
    "CNTRY_NM: Varış istasyonunun ülke adıdır TURKEY\n",
    "ORG_CITY_NM: Kalkış istasyonunun şehir adıdır ADIYAMAN\n",
    "ORG_CNTRY_NM: Kalkış istasyonunun ülke adıdır TURKEY\n",
    "\n",
    "gropby:\n",
    "CUST_KEY: Müşteriye özel bir numaradır 2670242\n",
    "\n",
    "SEG_LCL_DEP_DT: GMT saat türünden kalkış günü bilgisidir 4/16/2017 0:00\n",
    "\n",
    "ORGN_AP: Kalkış istasyonunun airport kodudur ADF\n",
    "DSTN_AP: Varış istasyonunun airport kodudur IST\n",
    "\n",
    "DOM_INTNL_FLAG: Seyahatin yurtiçi, yurtdışı olduğunu gösterir (D:Domestic, I: International)\n",
    "JRNY_TYP: Seyahatin tek yön mü, gidiş- dönüş mü olduğunu gösterir (O:One-Way, R: Return)\n",
    "TOP1_ORG_MKT_REGN: Müşterinin en çok çıkış yaptığı şehrin Pazarlama birimince  tanımlanan Region bilgisini içerir - Domestic\n",
    "TOP1_ORG_CTY: Müşterinin en çok çıkış yaptığı şehirdir SIVAS"
   ]
  },
  {
   "cell_type": "code",
   "execution_count": 1,
   "id": "japanese-beast",
   "metadata": {},
   "outputs": [],
   "source": [
    "import pandas as pd\n",
    "import numpy as np\n",
    "import seaborn as sns\n",
    "import pickle\n",
    "from collections import Counter"
   ]
  },
  {
   "cell_type": "code",
   "execution_count": 2,
   "id": "integral-deviation",
   "metadata": {},
   "outputs": [],
   "source": [
    "def find_transitions(df):\n",
    "    \n",
    "    flight_pairs = list(zip(df['ORG_CITY_NM'], df['CITY_NM']))\n",
    "    pair_counts = Counter(flight_pairs)\n",
    "    # all_cities = set(list(df['ORG_CITY_NM'].unique()) + list(df['CITY_NM'].unique()))\n",
    "    shape = (len(all_cities_list), len(all_cities_list))\n",
    "    \n",
    "    transition_df = pd.DataFrame(np.zeros(shape),index=sorted(all_cities_list), columns=sorted(all_cities_list))\n",
    "    \n",
    "    for k, v in pair_counts.items():\n",
    "        transition_df.loc[k[0], k[1]] = v\n",
    "    \n",
    "    return transition_df.div(transition_df.sum(axis=1)+0.0000001, axis=0)"
   ]
  },
  {
   "cell_type": "code",
   "execution_count": 3,
   "id": "western-beatles",
   "metadata": {},
   "outputs": [],
   "source": [
    "def find_customer_transitions(cust_df):\n",
    "    return find_transitions(cust_df)"
   ]
  },
  {
   "cell_type": "code",
   "execution_count": 4,
   "id": "purple-membrane",
   "metadata": {},
   "outputs": [],
   "source": [
    "def find_seasonal_transitions(df, season):\n",
    "    seasonal_df = df[df['season']==season]\n",
    "    return find_transitions(seasonal_df)"
   ]
  },
  {
   "cell_type": "code",
   "execution_count": 5,
   "id": "talented-cisco",
   "metadata": {},
   "outputs": [],
   "source": [
    "data_path = r'C:\\Users\\IsmailKaraman\\workspace\\thy\\data\\p1\\BirSonrakiDestinasyonTahminlemeBase.csv'\n",
    "\n",
    "seperator = '|'\n",
    "col_list = ['CUST_KEY', 'SEG_LCL_DEP_DT', 'ORG_CITY_NM', 'CITY_NM', 'DOM_INTNL_FLAG', 'JRNY_TYP',\n",
    "       'TOP1_ORG_MKT_REGN', 'TOP1_ORG_CTY']\n",
    "\n",
    "dtypes = {'CUST_KEY': 'int32',\n",
    "          'ORG_CITY_NM': 'category',\n",
    "          'CITY_NM': 'category',\n",
    "          'DOM_INTNL_FLAG': 'category',\n",
    "          'JRNY_TYP': 'category',\n",
    "          'TOP1_ORG_MKT_REGN': 'category',\n",
    "          'TOP1_ORG_CTY': 'category'}\n",
    "dates = ['SEG_LCL_DEP_DT']"
   ]
  },
  {
   "cell_type": "markdown",
   "id": "speaking-visibility",
   "metadata": {},
   "source": [
    "## alternative cities"
   ]
  },
  {
   "cell_type": "code",
   "execution_count": 6,
   "id": "planned-wilson",
   "metadata": {},
   "outputs": [],
   "source": [
    "alt_cities_path = r'C:\\Users\\IsmailKaraman\\workspace\\thy\\data\\p1\\AlternatifSehirler_BirSonrakiDestinasyonTahminleme.xlsx'\n",
    "\n",
    "replace_for_alter_cities = {'ordu_giresun':'ordu-giresun',\n",
    "                            'dar_es_salaam':'dar es salaam',\n",
    "                            'dalaman_mugla':'dalaman (mugla)',\n",
    "                            'tel_aviv':'tel aviv',\n",
    "                            'sharm_el_sheikh':'sharm el-sheikh',\n",
    "                            'abu_dhabi':'abu dhabi',\n",
    "                           'basel_mulhouse':'basel/mulhouse',\n",
    "                           'amasya___merzifon':'amasya/merzifon',\n",
    "                           'balikesir_edremit':'balikesir edremit'}\n",
    "\n",
    "alter_cities = pd.read_excel(alt_cities_path, usecols=['City_1', 'City_2'])\n",
    "\n",
    "for col in alter_cities.columns:\n",
    "    alter_cities[col] = alter_cities[col].str.lower()\n",
    "alter_cities.replace(replace_for_alter_cities, inplace=True)"
   ]
  },
  {
   "cell_type": "code",
   "execution_count": 7,
   "id": "timely-documentary",
   "metadata": {},
   "outputs": [],
   "source": [
    "df = pd.read_csv(data_path, usecols=col_list, sep=seperator, parse_dates=dates, encoding='cp437', nrows=10000)"
   ]
  },
  {
   "cell_type": "code",
   "execution_count": 8,
   "id": "polish-philosophy",
   "metadata": {},
   "outputs": [
    {
     "data": {
      "text/plain": [
       "0.000596165657043457"
      ]
     },
     "execution_count": 8,
     "metadata": {},
     "output_type": "execute_result"
    }
   ],
   "source": [
    "df.memory_usage().sum()/(1024*1024*1024)"
   ]
  },
  {
   "cell_type": "code",
   "execution_count": 9,
   "id": "documentary-afternoon",
   "metadata": {},
   "outputs": [
    {
     "name": "stdout",
     "output_type": "stream",
     "text": [
      "<class 'pandas.core.frame.DataFrame'>\n",
      "RangeIndex: 10000 entries, 0 to 9999\n",
      "Data columns (total 8 columns):\n",
      " #   Column             Non-Null Count  Dtype         \n",
      "---  ------             --------------  -----         \n",
      " 0   CUST_KEY           10000 non-null  int64         \n",
      " 1   SEG_LCL_DEP_DT     10000 non-null  datetime64[ns]\n",
      " 2   CITY_NM            9994 non-null   object        \n",
      " 3   ORG_CITY_NM        9997 non-null   object        \n",
      " 4   DOM_INTNL_FLAG     10000 non-null  object        \n",
      " 5   JRNY_TYP           9996 non-null   object        \n",
      " 6   TOP1_ORG_MKT_REGN  9984 non-null   object        \n",
      " 7   TOP1_ORG_CTY       9984 non-null   object        \n",
      "dtypes: datetime64[ns](1), int64(1), object(6)\n",
      "memory usage: 625.1+ KB\n"
     ]
    }
   ],
   "source": [
    "df.info()"
   ]
  },
  {
   "cell_type": "code",
   "execution_count": 10,
   "id": "upper-popularity",
   "metadata": {
    "scrolled": true
   },
   "outputs": [
    {
     "data": {
      "text/html": [
       "<div>\n",
       "<style scoped>\n",
       "    .dataframe tbody tr th:only-of-type {\n",
       "        vertical-align: middle;\n",
       "    }\n",
       "\n",
       "    .dataframe tbody tr th {\n",
       "        vertical-align: top;\n",
       "    }\n",
       "\n",
       "    .dataframe thead th {\n",
       "        text-align: right;\n",
       "    }\n",
       "</style>\n",
       "<table border=\"1\" class=\"dataframe\">\n",
       "  <thead>\n",
       "    <tr style=\"text-align: right;\">\n",
       "      <th></th>\n",
       "      <th>CUST_KEY</th>\n",
       "      <th>SEG_LCL_DEP_DT</th>\n",
       "      <th>CITY_NM</th>\n",
       "      <th>ORG_CITY_NM</th>\n",
       "      <th>DOM_INTNL_FLAG</th>\n",
       "      <th>JRNY_TYP</th>\n",
       "      <th>TOP1_ORG_MKT_REGN</th>\n",
       "      <th>TOP1_ORG_CTY</th>\n",
       "    </tr>\n",
       "  </thead>\n",
       "  <tbody>\n",
       "    <tr>\n",
       "      <th>0</th>\n",
       "      <td>2670242</td>\n",
       "      <td>2017-06-24</td>\n",
       "      <td>ISTANBUL</td>\n",
       "      <td>SIVAS</td>\n",
       "      <td>D</td>\n",
       "      <td>O</td>\n",
       "      <td>Domestic</td>\n",
       "      <td>SIVAS</td>\n",
       "    </tr>\n",
       "    <tr>\n",
       "      <th>1</th>\n",
       "      <td>170285826</td>\n",
       "      <td>2019-05-21</td>\n",
       "      <td>TEL AVIV</td>\n",
       "      <td>MIAMI</td>\n",
       "      <td>I</td>\n",
       "      <td>R</td>\n",
       "      <td>America</td>\n",
       "      <td>MIAMI</td>\n",
       "    </tr>\n",
       "    <tr>\n",
       "      <th>2</th>\n",
       "      <td>171132805</td>\n",
       "      <td>2019-06-25</td>\n",
       "      <td>KUTAHYA</td>\n",
       "      <td>FRANKFURT</td>\n",
       "      <td>I</td>\n",
       "      <td>R</td>\n",
       "      <td>Central Europe</td>\n",
       "      <td>FRANKFURT</td>\n",
       "    </tr>\n",
       "  </tbody>\n",
       "</table>\n",
       "</div>"
      ],
      "text/plain": [
       "    CUST_KEY SEG_LCL_DEP_DT   CITY_NM ORG_CITY_NM DOM_INTNL_FLAG JRNY_TYP  \\\n",
       "0    2670242     2017-06-24  ISTANBUL       SIVAS              D        O   \n",
       "1  170285826     2019-05-21  TEL AVIV       MIAMI              I        R   \n",
       "2  171132805     2019-06-25   KUTAHYA   FRANKFURT              I        R   \n",
       "\n",
       "  TOP1_ORG_MKT_REGN TOP1_ORG_CTY  \n",
       "0          Domestic        SIVAS  \n",
       "1           America        MIAMI  \n",
       "2    Central Europe    FRANKFURT  "
      ]
     },
     "execution_count": 10,
     "metadata": {},
     "output_type": "execute_result"
    }
   ],
   "source": [
    "df.head(3)"
   ]
  },
  {
   "cell_type": "code",
   "execution_count": 11,
   "id": "committed-course",
   "metadata": {},
   "outputs": [],
   "source": [
    "replace_for_errors= {'ADD\u001aS ABABA' : 'ADDIS ABABA',\n",
    "                    'MOGAD\u001aSHU' : 'MOGADISHU',\n",
    "                    'S\u001aNOP' : 'SINOP',\n",
    "                    'AB\u001aDJAN':'ABIDJAN',\n",
    "                    'THESSALON\u001aK\u001a' : 'THESSALONIKI',\n",
    "                    'SULEYMAN\u001aAH' : 'SULEYMANIAH',\n",
    "                    'HO CH\u001a M\u001aNH C\u001aTY (SA\u001aGON)' : 'HO CHI MINH CITY (SAIGON)',\n",
    "                    'SH\u001aRAZ' : 'SHIRAZ',\n",
    "                    'SHARM EL-SHE\u001aKH' : 'SHARM EL-SHEIKH',\n",
    "                    'VALENC\u001aA' : 'VALENCIA',\n",
    "                    'TUR\u001aN(TOR\u001aNO)' : 'TURIN(TORINO)',\n",
    "                    'TEK\u001aRDAG' : 'TEKIRDAG',\n",
    "                    'LEFKO\u001aA' : 'LEFKOSA',\n",
    "                    'K\u001aL\u001aMANJARO' : 'KILIMANJARO',\n",
    "                    'S\u001a\u001aRT' : 'SIIRT'}\n",
    "\n",
    "df.replace(replace_for_errors, inplace=True)"
   ]
  },
  {
   "cell_type": "code",
   "execution_count": 12,
   "id": "delayed-mentor",
   "metadata": {},
   "outputs": [],
   "source": [
    "for col in ['ORG_CITY_NM', 'CITY_NM', 'TOP1_ORG_MKT_REGN', 'TOP1_ORG_CTY']:\n",
    "    df[col] = df[col].str.lower()"
   ]
  },
  {
   "cell_type": "code",
   "execution_count": 13,
   "id": "embedded-tenant",
   "metadata": {},
   "outputs": [],
   "source": [
    "# dropping flights that have same arrival and departure city\n",
    "df = df[df['ORG_CITY_NM']!=df['CITY_NM']]"
   ]
  },
  {
   "cell_type": "code",
   "execution_count": 14,
   "id": "hundred-share",
   "metadata": {},
   "outputs": [
    {
     "data": {
      "text/plain": [
       "8026"
      ]
     },
     "execution_count": 14,
     "metadata": {},
     "output_type": "execute_result"
    }
   ],
   "source": [
    "# # of customers that has more than 1 flight\n",
    "sum(df['CUST_KEY'].duplicated(False))"
   ]
  },
  {
   "cell_type": "code",
   "execution_count": 15,
   "id": "hollow-builder",
   "metadata": {},
   "outputs": [
    {
     "data": {
      "text/plain": [
       "(9940, 8)"
      ]
     },
     "execution_count": 15,
     "metadata": {},
     "output_type": "execute_result"
    }
   ],
   "source": [
    "df.shape"
   ]
  },
  {
   "cell_type": "markdown",
   "id": "inner-frequency",
   "metadata": {},
   "source": [
    "## eda"
   ]
  },
  {
   "cell_type": "code",
   "execution_count": 16,
   "id": "forward-assignment",
   "metadata": {},
   "outputs": [
    {
     "name": "stdout",
     "output_type": "stream",
     "text": [
      "<class 'pandas.core.frame.DataFrame'>\n",
      "Int64Index: 9940 entries, 0 to 9999\n",
      "Data columns (total 8 columns):\n",
      " #   Column             Non-Null Count  Dtype         \n",
      "---  ------             --------------  -----         \n",
      " 0   CUST_KEY           9940 non-null   int64         \n",
      " 1   SEG_LCL_DEP_DT     9940 non-null   datetime64[ns]\n",
      " 2   CITY_NM            9934 non-null   object        \n",
      " 3   ORG_CITY_NM        9937 non-null   object        \n",
      " 4   DOM_INTNL_FLAG     9940 non-null   object        \n",
      " 5   JRNY_TYP           9936 non-null   object        \n",
      " 6   TOP1_ORG_MKT_REGN  9924 non-null   object        \n",
      " 7   TOP1_ORG_CTY       9924 non-null   object        \n",
      "dtypes: datetime64[ns](1), int64(1), object(6)\n",
      "memory usage: 698.9+ KB\n"
     ]
    }
   ],
   "source": [
    "df.info()"
   ]
  },
  {
   "cell_type": "code",
   "execution_count": 17,
   "id": "lasting-traffic",
   "metadata": {},
   "outputs": [
    {
     "data": {
      "text/plain": [
       "CUST_KEY              0\n",
       "SEG_LCL_DEP_DT        0\n",
       "CITY_NM               6\n",
       "ORG_CITY_NM           3\n",
       "DOM_INTNL_FLAG        0\n",
       "JRNY_TYP              4\n",
       "TOP1_ORG_MKT_REGN    16\n",
       "TOP1_ORG_CTY         16\n",
       "dtype: int64"
      ]
     },
     "execution_count": 17,
     "metadata": {},
     "output_type": "execute_result"
    }
   ],
   "source": [
    "df.isna().sum()"
   ]
  },
  {
   "cell_type": "code",
   "execution_count": 18,
   "id": "noticed-lafayette",
   "metadata": {},
   "outputs": [
    {
     "data": {
      "text/plain": [
       "3354"
      ]
     },
     "execution_count": 18,
     "metadata": {},
     "output_type": "execute_result"
    }
   ],
   "source": [
    "len(df['CUST_KEY'].unique())"
   ]
  },
  {
   "cell_type": "code",
   "execution_count": 19,
   "id": "psychological-earth",
   "metadata": {},
   "outputs": [
    {
     "name": "stdout",
     "output_type": "stream",
     "text": [
      "Couldn't find program: 'False'\n"
     ]
    }
   ],
   "source": [
    "%%script False\n",
    "import missingno as msgn\n",
    "#read in data here\n",
    "msgn.matrix(df,color=(0.45, 0.75, 0.25))"
   ]
  },
  {
   "cell_type": "code",
   "execution_count": 20,
   "id": "warming-watch",
   "metadata": {},
   "outputs": [],
   "source": [
    "df.dropna(subset=['CITY_NM', 'ORG_CITY_NM', 'TOP1_ORG_CTY'],inplace=True)"
   ]
  },
  {
   "cell_type": "code",
   "execution_count": 21,
   "id": "swedish-representation",
   "metadata": {},
   "outputs": [
    {
     "data": {
      "text/plain": [
       "{12: 'winter',\n",
       " 1: 'winter',\n",
       " 2: 'winter',\n",
       " 3: 'spring',\n",
       " 4: 'spring',\n",
       " 5: 'spring',\n",
       " 6: 'summer',\n",
       " 7: 'summer',\n",
       " 8: 'summer',\n",
       " 9: 'fall',\n",
       " 10: 'fall',\n",
       " 11: 'fall'}"
      ]
     },
     "execution_count": 21,
     "metadata": {},
     "output_type": "execute_result"
    }
   ],
   "source": [
    "seasons = {'winter':[12,1,2], \n",
    "           'spring':[3,4,5], \n",
    "           'summer':[6,7,8],\n",
    "           'fall':[9,10,11]}\n",
    "\n",
    "season_mapping = {month:k for k,v in seasons.items() for month in v}\n",
    "season_mapping"
   ]
  },
  {
   "cell_type": "code",
   "execution_count": 22,
   "id": "published-plymouth",
   "metadata": {},
   "outputs": [],
   "source": [
    "df['season'] = df['SEG_LCL_DEP_DT'].apply(lambda x: season_mapping[x.month])"
   ]
  },
  {
   "cell_type": "code",
   "execution_count": 23,
   "id": "greater-antarctica",
   "metadata": {
    "scrolled": false
   },
   "outputs": [
    {
     "data": {
      "text/plain": [
       "CUST_KEY             0\n",
       "SEG_LCL_DEP_DT       0\n",
       "CITY_NM              0\n",
       "ORG_CITY_NM          0\n",
       "DOM_INTNL_FLAG       0\n",
       "JRNY_TYP             0\n",
       "TOP1_ORG_MKT_REGN    0\n",
       "TOP1_ORG_CTY         0\n",
       "season               0\n",
       "dtype: int64"
      ]
     },
     "execution_count": 23,
     "metadata": {},
     "output_type": "execute_result"
    }
   ],
   "source": [
    "df.isna().sum()"
   ]
  },
  {
   "cell_type": "code",
   "execution_count": 24,
   "id": "widespread-fiction",
   "metadata": {},
   "outputs": [
    {
     "data": {
      "text/plain": [
       "(9917, 9)"
      ]
     },
     "execution_count": 24,
     "metadata": {},
     "output_type": "execute_result"
    }
   ],
   "source": [
    "df.shape"
   ]
  },
  {
   "cell_type": "code",
   "execution_count": 25,
   "id": "welsh-wayne",
   "metadata": {},
   "outputs": [],
   "source": [
    "# converting columns to corresponding column types\n",
    "for k, v in dtypes.items():\n",
    "    df[k] = df[k].astype(v)"
   ]
  },
  {
   "cell_type": "code",
   "execution_count": 26,
   "id": "creative-combining",
   "metadata": {},
   "outputs": [
    {
     "data": {
      "text/plain": [
       "[(('izmir', 'istanbul'), 294),\n",
       " (('istanbul', 'izmir'), 271),\n",
       " (('istanbul', 'ankara'), 259),\n",
       " (('ankara', 'istanbul'), 250),\n",
       " (('istanbul', 'antalya'), 217),\n",
       " (('trabzon', 'istanbul'), 175),\n",
       " (('istanbul', 'trabzon'), 173),\n",
       " (('antalya', 'istanbul'), 163),\n",
       " (('istanbul', 'adana'), 140),\n",
       " (('istanbul', 'bodrum'), 108)]"
      ]
     },
     "execution_count": 26,
     "metadata": {},
     "output_type": "execute_result"
    }
   ],
   "source": [
    "# finding flight pairs as dep-arr\n",
    "flight_pairs = list(zip(df['ORG_CITY_NM'],df['CITY_NM']))\n",
    "# counting flight pairs\n",
    "pair_counts = Counter(flight_pairs)\n",
    "# top 10 flight pairs\n",
    "sorted(pair_counts.items(), key=lambda pair: pair[1], reverse=True)[0:10]"
   ]
  },
  {
   "cell_type": "code",
   "execution_count": 27,
   "id": "regional-vulnerability",
   "metadata": {},
   "outputs": [],
   "source": [
    "# finding all unique cities\n",
    "all_cities_list = set(list(df['ORG_CITY_NM'].unique()) + list(df['CITY_NM'].unique()))"
   ]
  },
  {
   "cell_type": "code",
   "execution_count": 28,
   "id": "reasonable-destiny",
   "metadata": {},
   "outputs": [
    {
     "data": {
      "image/png": "[encoded data removed]",
      "text/plain": [
       "<Figure size 432x288 with 1 Axes>"
      ]
     },
     "metadata": {
      "needs_background": "light"
     },
     "output_type": "display_data"
    }
   ],
   "source": [
    "ax = sns.countplot(x=\"season\", data=df)"
   ]
  },
  {
   "cell_type": "markdown",
   "id": "palestinian-binary",
   "metadata": {},
   "source": [
    "## splitting data as train and test"
   ]
  },
  {
   "cell_type": "code",
   "execution_count": 31,
   "id": "several-empire",
   "metadata": {
    "scrolled": true
   },
   "outputs": [],
   "source": [
    "# grouping customers to find latest flights of each customer to split as test data\n",
    "grouped_df = df.sort_values(by=['CUST_KEY', 'SEG_LCL_DEP_DT']).groupby(by='CUST_KEY')\n",
    "test_indexes = grouped_df['SEG_LCL_DEP_DT'].idxmax()"
   ]
  },
  {
   "cell_type": "code",
   "execution_count": 32,
   "id": "earlier-sleeping",
   "metadata": {},
   "outputs": [],
   "source": [
    "# customers who has 1 flights used as test\n",
    "\n",
    "# flights of the customers who have only one flight\n",
    "test_df1 = df.drop_duplicates(subset=['CUST_KEY'], keep=False)\n",
    "\n",
    "df = df[df['CUST_KEY'].duplicated(False)]\n",
    "\n",
    "# last flights of the customers who have more than one flight\n",
    "test_df2 = df.loc[test_indexes]\n",
    "\n",
    "train_df = df.drop(test_indexes)"
   ]
  },
  {
   "cell_type": "code",
   "execution_count": 33,
   "id": "dressed-greenhouse",
   "metadata": {},
   "outputs": [
    {
     "name": "stdout",
     "output_type": "stream",
     "text": [
      "Couldn't find program: 'False'\n"
     ]
    }
   ],
   "source": [
    "%%script False\n",
    "# use this for graph\n",
    "count_by_days = df.groupby(by='SEG_LCL_DEP_DT').count()\n",
    "ax = count_by_days.plot( y='CUST_KEY', figsize=(12,6))"
   ]
  },
  {
   "cell_type": "code",
   "execution_count": 34,
   "id": "nuclear-flour",
   "metadata": {},
   "outputs": [],
   "source": [
    "general_transitions = find_transitions(train_df)\n",
    "seasonal_transitions_summer = find_seasonal_transitions(train_df, 'summer')\n",
    "seasonal_transitions_winter = find_seasonal_transitions(train_df, 'winter')\n",
    "seasonal_transitions_spring = find_seasonal_transitions(train_df, 'spring')\n",
    "seasonal_transitions_fall = find_seasonal_transitions(train_df, 'fall')\n",
    "\n",
    "seasonal_transitions = {'summer':seasonal_transitions_summer,\n",
    "                        'winter':seasonal_transitions_winter,\n",
    "                        'spring':seasonal_transitions_spring,\n",
    "                        'fall':seasonal_transitions_fall}"
   ]
  },
  {
   "cell_type": "code",
   "execution_count": 35,
   "id": "suspected-venture",
   "metadata": {},
   "outputs": [],
   "source": [
    "def add_dataframes(general_df, seasonal_df, customer_df):\n",
    "    \n",
    "    tmp_df = pd.DataFrame(np.zeros(general_df.shape), \n",
    "                          columns=general_df.columns, index=general_df.index)\n",
    "    seasonal_df = seasonal_df.add(tmp_df, fill_value=0.0)\n",
    "    customer_df = customer_df.add(tmp_df, fill_value=0.0)\n",
    "    \n",
    "    return general_df + seasonal_df + customer_df"
   ]
  },
  {
   "cell_type": "code",
   "execution_count": 36,
   "id": "generic-advocacy",
   "metadata": {},
   "outputs": [],
   "source": [
    "def find_cust_seasonal_transitions(cust_df):\n",
    "    \n",
    "    seasonal_cust_transitions = {}\n",
    "    for season in seasons.keys():\n",
    "        seasonal_cust_transitions[season] = find_seasonal_transitions(cust_df, season)\n",
    "        \n",
    "    return seasonal_cust_transitions"
   ]
  },
  {
   "cell_type": "code",
   "execution_count": 95,
   "id": "technological-twins",
   "metadata": {},
   "outputs": [],
   "source": [
    "def predict(row, pred_dep='origin', season=None, n_pred=7, pred_type='only_cities', filter_alternate=True):\n",
    "    \"\"\"\n",
    "    Parameters:\n",
    "    -----------\n",
    "    row: Series\n",
    "        Data point to be predicted\n",
    "        \n",
    "    pred_dep: {'origin', 'top_city'}, default 'origin'\n",
    "        Which city will be used for predicting the next flight. \n",
    "        'origin' refers to using test flight's origin city.\n",
    "        'top_city' refers to using 'TOP1_ORG_CTY' of the customer.\n",
    "        \n",
    "    season: {None, 'winter', 'summer', 'spring', 'fall'}, default None\n",
    "        Season param for using seasonal transition matrix. \n",
    "        None refers to using test flight's season\n",
    "        \n",
    "    n_pred: int, default 7\n",
    "        Number of cities that model suggest to the customer.\n",
    "        \n",
    "    pred_type: {'only_cities', 'with_probs'}, default 'only_cities'\n",
    "        'only_cities': returns only the top predicted cities\n",
    "        'with_probs': returns predictions with probabilities\n",
    "    \n",
    "    filter_alternate: {True, False}, default True\n",
    "        filters alternative cities from suggestions\n",
    "    Returns:\n",
    "    --------\n",
    "    final_preds: dict or list\n",
    "        if pred_type param is 'only_cities' it returns only predicted cities (list)\n",
    "        if pred_type param is 'with_probs' it returns predicted cities with probabilities (dict)\n",
    "        \n",
    "    \"\"\"\n",
    "    \n",
    "    \n",
    "    cust_key = row['CUST_KEY']\n",
    "    cust_df = train_df[train_df['CUST_KEY']==cust_key]\n",
    "    \n",
    "    # customer transitions\n",
    "    cust_transitions = find_customer_transitions(cust_df)\n",
    "    # seasonal customer transitions\n",
    "    cust_seasonal_transitions = find_cust_seasonal_transitions(cust_df)\n",
    "    \n",
    "    # weights\n",
    "    w1 = 1\n",
    "    w2 = len(cust_df)\n",
    "    w3 = 2*w2\n",
    "    total_sum = (w1+w2+w3)\n",
    "    w1 = w1/total_sum\n",
    "    w2 = w2/total_sum\n",
    "    w3 = w3/total_sum\n",
    "    \n",
    "    if season==None:\n",
    "        season = row['season']\n",
    "    if pred_dep == 'origin':\n",
    "        departure = row['ORG_CITY_NM']\n",
    "    elif pred_dep == 'top_city':\n",
    "        departure = row['TOP1_ORG_CTY']\n",
    "    else:\n",
    "        print('Season param is wrong!')\n",
    "        \n",
    "    final_transitions = add_dataframes(w1*general_transitions, w2*seasonal_transitions[season], \n",
    "                                       w3*cust_seasonal_transitions[season])\n",
    "    # final_prob = final_transitions.loc[row['TOP1_ORG_CTY']] ORG_CITY_NM\n",
    "    # return final_transitions.loc[row['TOP1_ORG_CTY'].values[0]].sort_values(ascending=False)[0:n_pred]\n",
    "    \n",
    "    preds = final_transitions.loc[departure].sort_values(ascending=False)[0:n_pred]\n",
    "    \n",
    "    if filter_alternate:\n",
    "        \n",
    "        intrsctns = set(preds.index).intersection(set(alter_cities['City_1']))\n",
    "        \n",
    "        if intrsctns:\n",
    "            commons = alter_cities[alter_cities['City_1'].isin(intrsctns)]['City_2'].values\n",
    "            rmv = set(preds.index).intersection(set(commons))\n",
    "            if rmv:\n",
    "                preds = preds.drop(rmv)\n",
    "    \n",
    "    if len(preds) >= 5:\n",
    "        final_preds = preds.copy()\n",
    "    else:\n",
    "        return 'not enough'\n",
    "    \n",
    "    if pred_type == 'only_cities':\n",
    "        return list(final_preds.index.values)\n",
    "    elif pred_type == 'with_probs':\n",
    "        return dict(final_preds)\n",
    "    else:\n",
    "        print('Wrong return type!')"
   ]
  },
  {
   "cell_type": "code",
   "execution_count": 96,
   "id": "bound-thermal",
   "metadata": {
    "scrolled": true
   },
   "outputs": [
    {
     "name": "stdout",
     "output_type": "stream",
     "text": [
      "26.889870643615723\n"
     ]
    }
   ],
   "source": [
    "import time\n",
    "now = time.time()\n",
    "res = test_df2.apply(predict, axis=1, pred_type='only_cities', filter_alternate=False)\n",
    "print(time.time()-now)"
   ]
  },
  {
   "cell_type": "code",
   "execution_count": null,
   "id": "nuclear-speaker",
   "metadata": {},
   "outputs": [],
   "source": [
    "len_ = 0\n",
    "while len_ < n_pred:\n",
    "    "
   ]
  },
  {
   "cell_type": "code",
   "execution_count": null,
   "id": "excellent-navigator",
   "metadata": {},
   "outputs": [],
   "source": [
    "alter_cities"
   ]
  },
  {
   "cell_type": "code",
   "execution_count": null,
   "id": "bacterial-evolution",
   "metadata": {},
   "outputs": [],
   "source": [
    "results_2 = test_df2[test_df2['CUST_KEY']<350000].apply(predict, axis=1, pred_type='only_cities')"
   ]
  },
  {
   "cell_type": "code",
   "execution_count": null,
   "id": "liberal-metropolitan",
   "metadata": {},
   "outputs": [],
   "source": [
    "results_2"
   ]
  },
  {
   "cell_type": "code",
   "execution_count": null,
   "id": "dramatic-import",
   "metadata": {},
   "outputs": [],
   "source": [
    "s"
   ]
  },
  {
   "cell_type": "code",
   "execution_count": null,
   "id": "enormous-consensus",
   "metadata": {},
   "outputs": [],
   "source": [
    "results_1 = test_df1.apply(predict, axis=1, pred_type='only_cities')"
   ]
  },
  {
   "cell_type": "code",
   "execution_count": null,
   "id": "identical-accommodation",
   "metadata": {},
   "outputs": [],
   "source": [
    "results = test_df2.apply(predict, axis=1)"
   ]
  },
  {
   "cell_type": "code",
   "execution_count": null,
   "id": "rocky-possession",
   "metadata": {},
   "outputs": [],
   "source": [
    "+split data as train - test\n",
    "    train data - first n-1 flights of customers that has at least 2 flights\n",
    "    test data - customers that has only 1 flight and last flights of customer who has at least 2 flights\n",
    "+find seasons for each date\n",
    "\n",
    "\n",
    "write a function that predicts next 5-7 flights:\n",
    "    \n",
    "    args: customer_flights, general_flights, season, seasonal_flights\n",
    "    return: predictions with probabilities\n",
    "    \n",
    "    find general probabilities\n",
    "    find seasonal transition probabilities\n",
    "    find customer based transitions\n",
    "    find new transition matrix using below formula\n",
    "    get max 5-7 probabilities according to seasons\n",
    "    \n",
    "\n",
    "    \n",
    "\n",
    "    \n",
    "\n",
    "\n",
    "# solution\n",
    "x1: general\n",
    "x2: customer based\n",
    "x3: seasonality based\n",
    "    \n",
    "x1*w1 + x2*w2 + x3*w3\n",
    "w1 = 1 \n",
    "w2: flight number\n",
    "w3: seasonality weight\n",
    "\n",
    "normalize as w1 + w2 + w3 = 1\n",
    "optimise w1, w2, w3\n",
    "\n",
    "def predict(cust_no):\n",
    "    \n",
    "    \n",
    "    "
   ]
  },
  {
   "cell_type": "code",
   "execution_count": null,
   "id": "verbal-protocol",
   "metadata": {},
   "outputs": [],
   "source": [
    "3. test case'i\n",
    "\n",
    "fazla sayıda uçuşu olan müşterilerin son 5-10 uçuşunu tahmin etme"
   ]
  },
  {
   "cell_type": "code",
   "execution_count": null,
   "id": "ultimate-charles",
   "metadata": {},
   "outputs": [],
   "source": [
    "simple markov model\n",
    "https://github.com/ashwinmj/word-prediction/blob/master/MarkovModel.ipynb\n",
    "\n",
    "viterbi\n",
    "https://www.kaggle.com/friedchips/the-viterbi-algorithm-a-complete-solution\n",
    "    \n",
    "    \n",
    "next destination 5-7\n",
    "can we guess these from next destination's next destination"
   ]
  }
 ],
 "metadata": {
  "kernelspec": {
   "display_name": "Python 3",
   "language": "python",
   "name": "python3"
  },
  "language_info": {
   "codemirror_mode": {
    "name": "ipython",
    "version": 3
   },
   "file_extension": ".py",
   "mimetype": "text/x-python",
   "name": "python",
   "nbconvert_exporter": "python",
   "pygments_lexer": "ipython3",
   "version": "3.8.5"
  }
 },
 "nbformat": 4,
 "nbformat_minor": 5
}
