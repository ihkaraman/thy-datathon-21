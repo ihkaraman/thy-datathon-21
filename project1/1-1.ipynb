{
 "cells": [
  {
   "cell_type": "markdown",
   "id": "aboriginal-murray",
   "metadata": {},
   "source": [
    "COLUMN_NAME EXPLANATION SAMPLE\n",
    "\n",
    "drops \n",
    "PRIM_TKT_NUM: Müşteri bilet numarasıdır 2,307,664,176\n",
    "CITY_NM: Varış istasyonunun şehir adıdır ISTANBUL\n",
    "CNTRY_NM: Varış istasyonunun ülke adıdır TURKEY\n",
    "ORG_CITY_NM: Kalkış istasyonunun şehir adıdır ADIYAMAN\n",
    "ORG_CNTRY_NM: Kalkış istasyonunun ülke adıdır TURKEY\n",
    "\n",
    "gropby:\n",
    "CUST_KEY: Müşteriye özel bir numaradır 2670242\n",
    "\n",
    "SEG_LCL_DEP_DT: GMT saat türünden kalkış günü bilgisidir 4/16/2017 0:00\n",
    "\n",
    "ORGN_AP: Kalkış istasyonunun airport kodudur ADF\n",
    "DSTN_AP: Varış istasyonunun airport kodudur IST\n",
    "\n",
    "DOM_INTNL_FLAG: Seyahatin yurtiçi, yurtdışı olduğunu gösterir (D:Domestic, I: International)\n",
    "JRNY_TYP: Seyahatin tek yön mü, gidiş- dönüş mü olduğunu gösterir (O:One-Way, R: Return)\n",
    "TOP1_ORG_MKT_REGN: Müşterinin en çok çıkış yaptığı şehrin Pazarlama birimince  tanımlanan Region bilgisini içerir - Domestic\n",
    "TOP1_ORG_CTY: Müşterinin en çok çıkış yaptığı şehirdir SIVAS"
   ]
  },
  {
   "cell_type": "code",
   "execution_count": 1,
   "id": "japanese-beast",
   "metadata": {},
   "outputs": [],
   "source": [
    "import pandas as pd\n",
    "import numpy as np\n",
    "import seaborn as sns\n",
    "import pickle\n",
    "from collections import Counter"
   ]
  },
  {
   "cell_type": "code",
   "execution_count": 2,
   "id": "integral-deviation",
   "metadata": {},
   "outputs": [],
   "source": [
    "def find_transitions(df):\n",
    "    \n",
    "    flight_pairs = list(zip(df['ORG_CITY_NM'], df['CITY_NM']))\n",
    "    pair_counts = Counter(flight_pairs)\n",
    "    # all_cities = set(list(df['ORG_CITY_NM'].unique()) + list(df['CITY_NM'].unique()))\n",
    "    shape = (len(all_cities_list), len(all_cities_list))\n",
    "    \n",
    "    transition_df = pd.DataFrame(np.zeros(shape),index=sorted(all_cities_list), columns=sorted(all_cities_list))\n",
    "    \n",
    "    for k, v in pair_counts.items():\n",
    "        transition_df.loc[k[0], k[1]] = v\n",
    "    \n",
    "    return transition_df.div(transition_df.sum(axis=1)+0.0000001, axis=0)"
   ]
  },
  {
   "cell_type": "code",
   "execution_count": 3,
   "id": "western-beatles",
   "metadata": {},
   "outputs": [],
   "source": [
    "def find_customer_transitions(cust_df):\n",
    "    return find_transitions(cust_df)"
   ]
  },
  {
   "cell_type": "code",
   "execution_count": 4,
   "id": "purple-membrane",
   "metadata": {},
   "outputs": [],
   "source": [
    "def find_seasonal_transitions(df, season):\n",
    "    seasonal_df = df[df['season']==season]\n",
    "    return find_transitions(seasonal_df)"
   ]
  },
  {
   "cell_type": "code",
   "execution_count": 5,
   "id": "talented-cisco",
   "metadata": {},
   "outputs": [],
   "source": [
    "data_path = r'BirSonrakiDestinasyonTahminlemeBase.csv'\n",
    "\n",
    "seperator = '|'\n",
    "col_list = ['CUST_KEY', 'SEG_LCL_DEP_DT', 'ORG_CITY_NM', 'CITY_NM', 'DOM_INTNL_FLAG', 'JRNY_TYP',\n",
    "       'TOP1_ORG_MKT_REGN', 'TOP1_ORG_CTY']\n",
    "\n",
    "dtypes = {'CUST_KEY': 'int32',\n",
    "          'ORG_CITY_NM': 'category',\n",
    "          'CITY_NM': 'category',\n",
    "          'DOM_INTNL_FLAG': 'category',\n",
    "          'JRNY_TYP': 'category',\n",
    "          'TOP1_ORG_MKT_REGN': 'category',\n",
    "          'TOP1_ORG_CTY': 'category'}\n",
    "dates = ['SEG_LCL_DEP_DT']"
   ]
  },
  {
   "cell_type": "markdown",
   "id": "speaking-visibility",
   "metadata": {},
   "source": [
    "## alternative cities"
   ]
  },
  {
   "cell_type": "code",
   "execution_count": 6,
   "id": "planned-wilson",
   "metadata": {},
   "outputs": [],
   "source": [
    "alt_cities_path = r'AlternatifSehirler_BirSonrakiDestinasyonTahminleme.xlsx'\n",
    "\n",
    "replace_for_alter_cities = {'ordu_giresun':'ordu-giresun',\n",
    "                            'dar_es_salaam':'dar es salaam',\n",
    "                            'dalaman_mugla':'dalaman (mugla)',\n",
    "                            'tel_aviv':'tel aviv',\n",
    "                            'sharm_el_sheikh':'sharm el-sheikh',\n",
    "                            'abu_dhabi':'abu dhabi',\n",
    "                           'basel_mulhouse':'basel/mulhouse',\n",
    "                           'amasya___merzifon':'amasya/merzifon',\n",
    "                           'balikesir_edremit':'balikesir edremit'}\n",
    "\n",
    "alter_cities = pd.read_excel(alt_cities_path, usecols=['City_1', 'City_2'])\n",
    "\n",
    "for col in alter_cities.columns:\n",
    "    alter_cities[col] = alter_cities[col].str.lower()\n",
    "alter_cities.replace(replace_for_alter_cities, inplace=True)"
   ]
  },
  {
   "cell_type": "code",
   "execution_count": 7,
   "id": "timely-documentary",
   "metadata": {},
   "outputs": [],
   "source": [
    "df = pd.read_csv(data_path, usecols=col_list, sep=seperator, parse_dates=dates, encoding='cp437')"
   ]
  },
  {
   "cell_type": "code",
   "execution_count": 8,
   "id": "polish-philosophy",
   "metadata": {
    "scrolled": false
   },
   "outputs": [
    {
     "data": {
      "text/plain": [
       "6.873442530632019"
      ]
     },
     "execution_count": 8,
     "metadata": {},
     "output_type": "execute_result"
    }
   ],
   "source": [
    "df.memory_usage().sum()/(1024*1024*1024)"
   ]
  },
  {
   "cell_type": "code",
   "execution_count": 9,
   "id": "documentary-afternoon",
   "metadata": {},
   "outputs": [
    {
     "name": "stdout",
     "output_type": "stream",
     "text": [
      "<class 'pandas.core.frame.DataFrame'>\n",
      "RangeIndex: 115317228 entries, 0 to 115317227\n",
      "Data columns (total 8 columns):\n",
      " #   Column             Dtype         \n",
      "---  ------             -----         \n",
      " 0   CUST_KEY           int64         \n",
      " 1   SEG_LCL_DEP_DT     datetime64[ns]\n",
      " 2   CITY_NM            object        \n",
      " 3   ORG_CITY_NM        object        \n",
      " 4   DOM_INTNL_FLAG     object        \n",
      " 5   JRNY_TYP           object        \n",
      " 6   TOP1_ORG_MKT_REGN  object        \n",
      " 7   TOP1_ORG_CTY       object        \n",
      "dtypes: datetime64[ns](1), int64(1), object(6)\n",
      "memory usage: 6.9+ GB\n"
     ]
    }
   ],
   "source": [
    "df.info()"
   ]
  },
  {
   "cell_type": "code",
   "execution_count": 10,
   "id": "upper-popularity",
   "metadata": {
    "scrolled": true
   },
   "outputs": [
    {
     "data": {
      "text/html": [
       "<div>\n",
       "<style scoped>\n",
       "    .dataframe tbody tr th:only-of-type {\n",
       "        vertical-align: middle;\n",
       "    }\n",
       "\n",
       "    .dataframe tbody tr th {\n",
       "        vertical-align: top;\n",
       "    }\n",
       "\n",
       "    .dataframe thead th {\n",
       "        text-align: right;\n",
       "    }\n",
       "</style>\n",
       "<table border=\"1\" class=\"dataframe\">\n",
       "  <thead>\n",
       "    <tr style=\"text-align: right;\">\n",
       "      <th></th>\n",
       "      <th>CUST_KEY</th>\n",
       "      <th>SEG_LCL_DEP_DT</th>\n",
       "      <th>CITY_NM</th>\n",
       "      <th>ORG_CITY_NM</th>\n",
       "      <th>DOM_INTNL_FLAG</th>\n",
       "      <th>JRNY_TYP</th>\n",
       "      <th>TOP1_ORG_MKT_REGN</th>\n",
       "      <th>TOP1_ORG_CTY</th>\n",
       "    </tr>\n",
       "  </thead>\n",
       "  <tbody>\n",
       "    <tr>\n",
       "      <th>0</th>\n",
       "      <td>2670242</td>\n",
       "      <td>2017-06-24</td>\n",
       "      <td>ISTANBUL</td>\n",
       "      <td>SIVAS</td>\n",
       "      <td>D</td>\n",
       "      <td>O</td>\n",
       "      <td>Domestic</td>\n",
       "      <td>SIVAS</td>\n",
       "    </tr>\n",
       "    <tr>\n",
       "      <th>1</th>\n",
       "      <td>170285826</td>\n",
       "      <td>2019-05-21</td>\n",
       "      <td>TEL AVIV</td>\n",
       "      <td>MIAMI</td>\n",
       "      <td>I</td>\n",
       "      <td>R</td>\n",
       "      <td>America</td>\n",
       "      <td>MIAMI</td>\n",
       "    </tr>\n",
       "    <tr>\n",
       "      <th>2</th>\n",
       "      <td>171132805</td>\n",
       "      <td>2019-06-25</td>\n",
       "      <td>KUTAHYA</td>\n",
       "      <td>FRANKFURT</td>\n",
       "      <td>I</td>\n",
       "      <td>R</td>\n",
       "      <td>Central Europe</td>\n",
       "      <td>FRANKFURT</td>\n",
       "    </tr>\n",
       "  </tbody>\n",
       "</table>\n",
       "</div>"
      ],
      "text/plain": [
       "    CUST_KEY SEG_LCL_DEP_DT   CITY_NM ORG_CITY_NM DOM_INTNL_FLAG JRNY_TYP  \\\n",
       "0    2670242     2017-06-24  ISTANBUL       SIVAS              D        O   \n",
       "1  170285826     2019-05-21  TEL AVIV       MIAMI              I        R   \n",
       "2  171132805     2019-06-25   KUTAHYA   FRANKFURT              I        R   \n",
       "\n",
       "  TOP1_ORG_MKT_REGN TOP1_ORG_CTY  \n",
       "0          Domestic        SIVAS  \n",
       "1           America        MIAMI  \n",
       "2    Central Europe    FRANKFURT  "
      ]
     },
     "execution_count": 10,
     "metadata": {},
     "output_type": "execute_result"
    }
   ],
   "source": [
    "df.head(3)"
   ]
  },
  {
   "cell_type": "code",
   "execution_count": 11,
   "id": "committed-course",
   "metadata": {},
   "outputs": [],
   "source": [
    "replace_for_errors= {'ADD\u001aS ABABA' : 'ADDIS ABABA',\n",
    "                    'MOGAD\u001aSHU' : 'MOGADISHU',\n",
    "                    'S\u001aNOP' : 'SINOP',\n",
    "                    'AB\u001aDJAN':'ABIDJAN',\n",
    "                    'THESSALON\u001aK\u001a' : 'THESSALONIKI',\n",
    "                    'SULEYMAN\u001aAH' : 'SULEYMANIAH',\n",
    "                    'HO CH\u001a M\u001aNH C\u001aTY (SA\u001aGON)' : 'HO CHI MINH CITY (SAIGON)',\n",
    "                    'SH\u001aRAZ' : 'SHIRAZ',\n",
    "                    'SHARM EL-SHE\u001aKH' : 'SHARM EL-SHEIKH',\n",
    "                    'VALENC\u001aA' : 'VALENCIA',\n",
    "                    'TUR\u001aN(TOR\u001aNO)' : 'TURIN(TORINO)',\n",
    "                    'TEK\u001aRDAG' : 'TEKIRDAG',\n",
    "                    'LEFKO\u001aA' : 'LEFKOSA',\n",
    "                    'K\u001aL\u001aMANJARO' : 'KILIMANJARO',\n",
    "                    'S\u001a\u001aRT' : 'SIIRT'}\n",
    "\n",
    "df.replace(replace_for_errors, inplace=True)"
   ]
  },
  {
   "cell_type": "code",
   "execution_count": 12,
   "id": "delayed-mentor",
   "metadata": {},
   "outputs": [],
   "source": [
    "for col in ['ORG_CITY_NM', 'CITY_NM', 'TOP1_ORG_MKT_REGN', 'TOP1_ORG_CTY']:\n",
    "    df[col] = df[col].str.lower()"
   ]
  },
  {
   "cell_type": "code",
   "execution_count": null,
   "id": "technical-geology",
   "metadata": {},
   "outputs": [],
   "source": [
    "replace_for_errors2= {'╓stersund' : 'ostersund',\n",
    "                    '─ngelholm' : 'angelholm',\n",
    "                    'mal╔' : 'mali',\n",
    "                    'ta\u001af':'taif',\n",
    "                    'sev\u001alle' : 'seville',\n",
    "                    'asunci≤n' : 'asuncion',\n",
    "                    'novos\u001ab\u001arsk' : 'novosibirsk',\n",
    "                    'ok\u001anawa' : 'okinawa',\n",
    "                    'l\u001alongwe' : 'lilongwe',\n",
    "                    'm\u001asurata' : 'misurata',\n",
    "                    'vit≤ria' : 'vitoria',\n",
    "                    'reykjavφk' : 'reykjavik',\n",
    "                    'sπo luφs' : 'sao luis',\n",
    "                    'ov\u001aedo' : 'oviedo',\n",
    "                    'joπo pessoa' : 'joao pessoa',\n",
    "                    'chapec≤':'chapeco',\n",
    "                     'sπo josθ do rio preto':'sao jose do rio preto',\n",
    "                     'san josθ del cabo':'san jose del cabo',\n",
    "                     'san pedro sula\t':'san pedro sula',\n",
    "                     'mo i rana':'mo i rana',\n",
    "                     'spl\u001at':'split',\n",
    "                     'mazar-e shar\u001af':'mazar-e sharif',\n",
    "                     'san andrθs':'san andros',\n",
    "                     'ta\u001apa':'taipa',\n",
    "                     'hagσt±a, guam':'hagatna, guam',\n",
    "                     'link÷ping':'linkoping',\n",
    "                     'c·cuta':'cucuta',\n",
    "                     'ilhθus':'ilheus'         \n",
    "                    }\n",
    "df.replace(replace_for_errors2, inplace=True)"
   ]
  },
  {
   "cell_type": "code",
   "execution_count": 13,
   "id": "embedded-tenant",
   "metadata": {},
   "outputs": [],
   "source": [
    "# dropping flights that have same arrival and departure city\n",
    "df = df[df['ORG_CITY_NM']!=df['CITY_NM']]"
   ]
  },
  {
   "cell_type": "code",
   "execution_count": 14,
   "id": "hundred-share",
   "metadata": {},
   "outputs": [
    {
     "data": {
      "text/plain": [
       "94242881"
      ]
     },
     "execution_count": 14,
     "metadata": {},
     "output_type": "execute_result"
    }
   ],
   "source": [
    "# # of customers that has more than 1 flight\n",
    "sum(df['CUST_KEY'].duplicated(False))"
   ]
  },
  {
   "cell_type": "code",
   "execution_count": 15,
   "id": "hollow-builder",
   "metadata": {},
   "outputs": [
    {
     "data": {
      "text/plain": [
       "(114790271, 8)"
      ]
     },
     "execution_count": 15,
     "metadata": {},
     "output_type": "execute_result"
    }
   ],
   "source": [
    "df.shape"
   ]
  },
  {
   "cell_type": "markdown",
   "id": "inner-frequency",
   "metadata": {},
   "source": [
    "## eda"
   ]
  },
  {
   "cell_type": "code",
   "execution_count": 16,
   "id": "forward-assignment",
   "metadata": {},
   "outputs": [
    {
     "name": "stdout",
     "output_type": "stream",
     "text": [
      "<class 'pandas.core.frame.DataFrame'>\n",
      "Int64Index: 114790271 entries, 0 to 115317227\n",
      "Data columns (total 8 columns):\n",
      " #   Column             Dtype         \n",
      "---  ------             -----         \n",
      " 0   CUST_KEY           int64         \n",
      " 1   SEG_LCL_DEP_DT     datetime64[ns]\n",
      " 2   CITY_NM            object        \n",
      " 3   ORG_CITY_NM        object        \n",
      " 4   DOM_INTNL_FLAG     object        \n",
      " 5   JRNY_TYP           object        \n",
      " 6   TOP1_ORG_MKT_REGN  object        \n",
      " 7   TOP1_ORG_CTY       object        \n",
      "dtypes: datetime64[ns](1), int64(1), object(6)\n",
      "memory usage: 7.7+ GB\n"
     ]
    }
   ],
   "source": [
    "df.info()"
   ]
  },
  {
   "cell_type": "code",
   "execution_count": 17,
   "id": "lasting-traffic",
   "metadata": {},
   "outputs": [
    {
     "data": {
      "text/plain": [
       "CUST_KEY                  0\n",
       "SEG_LCL_DEP_DT            0\n",
       "CITY_NM               51284\n",
       "ORG_CITY_NM           39349\n",
       "DOM_INTNL_FLAG         4791\n",
       "JRNY_TYP              22935\n",
       "TOP1_ORG_MKT_REGN    184214\n",
       "TOP1_ORG_CTY         184129\n",
       "dtype: int64"
      ]
     },
     "execution_count": 17,
     "metadata": {},
     "output_type": "execute_result"
    }
   ],
   "source": [
    "df.isna().sum()"
   ]
  },
  {
   "cell_type": "code",
   "execution_count": 18,
   "id": "noticed-lafayette",
   "metadata": {},
   "outputs": [
    {
     "data": {
      "text/plain": [
       "36576424"
      ]
     },
     "execution_count": 18,
     "metadata": {},
     "output_type": "execute_result"
    }
   ],
   "source": [
    "len(df['CUST_KEY'].unique())"
   ]
  },
  {
   "cell_type": "code",
   "execution_count": 168,
   "id": "psychological-earth",
   "metadata": {
    "scrolled": false
   },
   "outputs": [
    {
     "data": {
      "text/plain": [
       "<AxesSubplot:>"
      ]
     },
     "execution_count": 168,
     "metadata": {},
     "output_type": "execute_result"
    },
    {
     "ename": "MemoryError",
     "evalue": "Unable to allocate 25.3 GiB for an array with shape (94165087, 9, 4) and data type float64",
     "output_type": "error",
     "traceback": [
      "\u001b[1;31m---------------------------------------------------------------------------\u001b[0m",
      "\u001b[1;31mMemoryError\u001b[0m                               Traceback (most recent call last)",
      "\u001b[1;32m~\\anaconda3\\lib\\site-packages\\IPython\\core\\formatters.py\u001b[0m in \u001b[0;36m__call__\u001b[1;34m(self, obj)\u001b[0m\n\u001b[0;32m    339\u001b[0m                 \u001b[1;32mpass\u001b[0m\u001b[1;33m\u001b[0m\u001b[1;33m\u001b[0m\u001b[0m\n\u001b[0;32m    340\u001b[0m             \u001b[1;32melse\u001b[0m\u001b[1;33m:\u001b[0m\u001b[1;33m\u001b[0m\u001b[1;33m\u001b[0m\u001b[0m\n\u001b[1;32m--> 341\u001b[1;33m                 \u001b[1;32mreturn\u001b[0m \u001b[0mprinter\u001b[0m\u001b[1;33m(\u001b[0m\u001b[0mobj\u001b[0m\u001b[1;33m)\u001b[0m\u001b[1;33m\u001b[0m\u001b[1;33m\u001b[0m\u001b[0m\n\u001b[0m\u001b[0;32m    342\u001b[0m             \u001b[1;31m# Finally look for special method names\u001b[0m\u001b[1;33m\u001b[0m\u001b[1;33m\u001b[0m\u001b[1;33m\u001b[0m\u001b[0m\n\u001b[0;32m    343\u001b[0m             \u001b[0mmethod\u001b[0m \u001b[1;33m=\u001b[0m \u001b[0mget_real_method\u001b[0m\u001b[1;33m(\u001b[0m\u001b[0mobj\u001b[0m\u001b[1;33m,\u001b[0m \u001b[0mself\u001b[0m\u001b[1;33m.\u001b[0m\u001b[0mprint_method\u001b[0m\u001b[1;33m)\u001b[0m\u001b[1;33m\u001b[0m\u001b[1;33m\u001b[0m\u001b[0m\n",
      "\u001b[1;32m~\\anaconda3\\lib\\site-packages\\IPython\\core\\pylabtools.py\u001b[0m in \u001b[0;36m<lambda>\u001b[1;34m(fig)\u001b[0m\n\u001b[0;32m    246\u001b[0m \u001b[1;33m\u001b[0m\u001b[0m\n\u001b[0;32m    247\u001b[0m     \u001b[1;32mif\u001b[0m \u001b[1;34m'png'\u001b[0m \u001b[1;32min\u001b[0m \u001b[0mformats\u001b[0m\u001b[1;33m:\u001b[0m\u001b[1;33m\u001b[0m\u001b[1;33m\u001b[0m\u001b[0m\n\u001b[1;32m--> 248\u001b[1;33m         \u001b[0mpng_formatter\u001b[0m\u001b[1;33m.\u001b[0m\u001b[0mfor_type\u001b[0m\u001b[1;33m(\u001b[0m\u001b[0mFigure\u001b[0m\u001b[1;33m,\u001b[0m \u001b[1;32mlambda\u001b[0m \u001b[0mfig\u001b[0m\u001b[1;33m:\u001b[0m \u001b[0mprint_figure\u001b[0m\u001b[1;33m(\u001b[0m\u001b[0mfig\u001b[0m\u001b[1;33m,\u001b[0m \u001b[1;34m'png'\u001b[0m\u001b[1;33m,\u001b[0m \u001b[1;33m**\u001b[0m\u001b[0mkwargs\u001b[0m\u001b[1;33m)\u001b[0m\u001b[1;33m)\u001b[0m\u001b[1;33m\u001b[0m\u001b[1;33m\u001b[0m\u001b[0m\n\u001b[0m\u001b[0;32m    249\u001b[0m     \u001b[1;32mif\u001b[0m \u001b[1;34m'retina'\u001b[0m \u001b[1;32min\u001b[0m \u001b[0mformats\u001b[0m \u001b[1;32mor\u001b[0m \u001b[1;34m'png2x'\u001b[0m \u001b[1;32min\u001b[0m \u001b[0mformats\u001b[0m\u001b[1;33m:\u001b[0m\u001b[1;33m\u001b[0m\u001b[1;33m\u001b[0m\u001b[0m\n\u001b[0;32m    250\u001b[0m         \u001b[0mpng_formatter\u001b[0m\u001b[1;33m.\u001b[0m\u001b[0mfor_type\u001b[0m\u001b[1;33m(\u001b[0m\u001b[0mFigure\u001b[0m\u001b[1;33m,\u001b[0m \u001b[1;32mlambda\u001b[0m \u001b[0mfig\u001b[0m\u001b[1;33m:\u001b[0m \u001b[0mretina_figure\u001b[0m\u001b[1;33m(\u001b[0m\u001b[0mfig\u001b[0m\u001b[1;33m,\u001b[0m \u001b[1;33m**\u001b[0m\u001b[0mkwargs\u001b[0m\u001b[1;33m)\u001b[0m\u001b[1;33m)\u001b[0m\u001b[1;33m\u001b[0m\u001b[1;33m\u001b[0m\u001b[0m\n",
      "\u001b[1;32m~\\anaconda3\\lib\\site-packages\\IPython\\core\\pylabtools.py\u001b[0m in \u001b[0;36mprint_figure\u001b[1;34m(fig, fmt, bbox_inches, **kwargs)\u001b[0m\n\u001b[0;32m    130\u001b[0m         \u001b[0mFigureCanvasBase\u001b[0m\u001b[1;33m(\u001b[0m\u001b[0mfig\u001b[0m\u001b[1;33m)\u001b[0m\u001b[1;33m\u001b[0m\u001b[1;33m\u001b[0m\u001b[0m\n\u001b[0;32m    131\u001b[0m \u001b[1;33m\u001b[0m\u001b[0m\n\u001b[1;32m--> 132\u001b[1;33m     \u001b[0mfig\u001b[0m\u001b[1;33m.\u001b[0m\u001b[0mcanvas\u001b[0m\u001b[1;33m.\u001b[0m\u001b[0mprint_figure\u001b[0m\u001b[1;33m(\u001b[0m\u001b[0mbytes_io\u001b[0m\u001b[1;33m,\u001b[0m \u001b[1;33m**\u001b[0m\u001b[0mkw\u001b[0m\u001b[1;33m)\u001b[0m\u001b[1;33m\u001b[0m\u001b[1;33m\u001b[0m\u001b[0m\n\u001b[0m\u001b[0;32m    133\u001b[0m     \u001b[0mdata\u001b[0m \u001b[1;33m=\u001b[0m \u001b[0mbytes_io\u001b[0m\u001b[1;33m.\u001b[0m\u001b[0mgetvalue\u001b[0m\u001b[1;33m(\u001b[0m\u001b[1;33m)\u001b[0m\u001b[1;33m\u001b[0m\u001b[1;33m\u001b[0m\u001b[0m\n\u001b[0;32m    134\u001b[0m     \u001b[1;32mif\u001b[0m \u001b[0mfmt\u001b[0m \u001b[1;33m==\u001b[0m \u001b[1;34m'svg'\u001b[0m\u001b[1;33m:\u001b[0m\u001b[1;33m\u001b[0m\u001b[1;33m\u001b[0m\u001b[0m\n",
      "\u001b[1;32m~\\anaconda3\\lib\\site-packages\\matplotlib\\backend_bases.py\u001b[0m in \u001b[0;36mprint_figure\u001b[1;34m(self, filename, dpi, facecolor, edgecolor, orientation, format, bbox_inches, pad_inches, bbox_extra_artists, backend, **kwargs)\u001b[0m\n\u001b[0;32m   2191\u001b[0m                            else suppress())\n\u001b[0;32m   2192\u001b[0m                     \u001b[1;32mwith\u001b[0m \u001b[0mctx\u001b[0m\u001b[1;33m:\u001b[0m\u001b[1;33m\u001b[0m\u001b[1;33m\u001b[0m\u001b[0m\n\u001b[1;32m-> 2193\u001b[1;33m                         \u001b[0mself\u001b[0m\u001b[1;33m.\u001b[0m\u001b[0mfigure\u001b[0m\u001b[1;33m.\u001b[0m\u001b[0mdraw\u001b[0m\u001b[1;33m(\u001b[0m\u001b[0mrenderer\u001b[0m\u001b[1;33m)\u001b[0m\u001b[1;33m\u001b[0m\u001b[1;33m\u001b[0m\u001b[0m\n\u001b[0m\u001b[0;32m   2194\u001b[0m \u001b[1;33m\u001b[0m\u001b[0m\n\u001b[0;32m   2195\u001b[0m                     bbox_inches = self.figure.get_tightbbox(\n",
      "\u001b[1;32m~\\anaconda3\\lib\\site-packages\\matplotlib\\artist.py\u001b[0m in \u001b[0;36mdraw_wrapper\u001b[1;34m(artist, renderer, *args, **kwargs)\u001b[0m\n\u001b[0;32m     39\u001b[0m                 \u001b[0mrenderer\u001b[0m\u001b[1;33m.\u001b[0m\u001b[0mstart_filter\u001b[0m\u001b[1;33m(\u001b[0m\u001b[1;33m)\u001b[0m\u001b[1;33m\u001b[0m\u001b[1;33m\u001b[0m\u001b[0m\n\u001b[0;32m     40\u001b[0m \u001b[1;33m\u001b[0m\u001b[0m\n\u001b[1;32m---> 41\u001b[1;33m             \u001b[1;32mreturn\u001b[0m \u001b[0mdraw\u001b[0m\u001b[1;33m(\u001b[0m\u001b[0martist\u001b[0m\u001b[1;33m,\u001b[0m \u001b[0mrenderer\u001b[0m\u001b[1;33m,\u001b[0m \u001b[1;33m*\u001b[0m\u001b[0margs\u001b[0m\u001b[1;33m,\u001b[0m \u001b[1;33m**\u001b[0m\u001b[0mkwargs\u001b[0m\u001b[1;33m)\u001b[0m\u001b[1;33m\u001b[0m\u001b[1;33m\u001b[0m\u001b[0m\n\u001b[0m\u001b[0;32m     42\u001b[0m         \u001b[1;32mfinally\u001b[0m\u001b[1;33m:\u001b[0m\u001b[1;33m\u001b[0m\u001b[1;33m\u001b[0m\u001b[0m\n\u001b[0;32m     43\u001b[0m             \u001b[1;32mif\u001b[0m \u001b[0martist\u001b[0m\u001b[1;33m.\u001b[0m\u001b[0mget_agg_filter\u001b[0m\u001b[1;33m(\u001b[0m\u001b[1;33m)\u001b[0m \u001b[1;32mis\u001b[0m \u001b[1;32mnot\u001b[0m \u001b[1;32mNone\u001b[0m\u001b[1;33m:\u001b[0m\u001b[1;33m\u001b[0m\u001b[1;33m\u001b[0m\u001b[0m\n",
      "\u001b[1;32m~\\anaconda3\\lib\\site-packages\\matplotlib\\figure.py\u001b[0m in \u001b[0;36mdraw\u001b[1;34m(self, renderer)\u001b[0m\n\u001b[0;32m   1861\u001b[0m \u001b[1;33m\u001b[0m\u001b[0m\n\u001b[0;32m   1862\u001b[0m             \u001b[0mself\u001b[0m\u001b[1;33m.\u001b[0m\u001b[0mpatch\u001b[0m\u001b[1;33m.\u001b[0m\u001b[0mdraw\u001b[0m\u001b[1;33m(\u001b[0m\u001b[0mrenderer\u001b[0m\u001b[1;33m)\u001b[0m\u001b[1;33m\u001b[0m\u001b[1;33m\u001b[0m\u001b[0m\n\u001b[1;32m-> 1863\u001b[1;33m             mimage._draw_list_compositing_images(\n\u001b[0m\u001b[0;32m   1864\u001b[0m                 renderer, self, artists, self.suppressComposite)\n\u001b[0;32m   1865\u001b[0m \u001b[1;33m\u001b[0m\u001b[0m\n",
      "\u001b[1;32m~\\anaconda3\\lib\\site-packages\\matplotlib\\image.py\u001b[0m in \u001b[0;36m_draw_list_compositing_images\u001b[1;34m(renderer, parent, artists, suppress_composite)\u001b[0m\n\u001b[0;32m    129\u001b[0m     \u001b[1;32mif\u001b[0m \u001b[0mnot_composite\u001b[0m \u001b[1;32mor\u001b[0m \u001b[1;32mnot\u001b[0m \u001b[0mhas_images\u001b[0m\u001b[1;33m:\u001b[0m\u001b[1;33m\u001b[0m\u001b[1;33m\u001b[0m\u001b[0m\n\u001b[0;32m    130\u001b[0m         \u001b[1;32mfor\u001b[0m \u001b[0ma\u001b[0m \u001b[1;32min\u001b[0m \u001b[0martists\u001b[0m\u001b[1;33m:\u001b[0m\u001b[1;33m\u001b[0m\u001b[1;33m\u001b[0m\u001b[0m\n\u001b[1;32m--> 131\u001b[1;33m             \u001b[0ma\u001b[0m\u001b[1;33m.\u001b[0m\u001b[0mdraw\u001b[0m\u001b[1;33m(\u001b[0m\u001b[0mrenderer\u001b[0m\u001b[1;33m)\u001b[0m\u001b[1;33m\u001b[0m\u001b[1;33m\u001b[0m\u001b[0m\n\u001b[0m\u001b[0;32m    132\u001b[0m     \u001b[1;32melse\u001b[0m\u001b[1;33m:\u001b[0m\u001b[1;33m\u001b[0m\u001b[1;33m\u001b[0m\u001b[0m\n\u001b[0;32m    133\u001b[0m         \u001b[1;31m# Composite any adjacent images together\u001b[0m\u001b[1;33m\u001b[0m\u001b[1;33m\u001b[0m\u001b[1;33m\u001b[0m\u001b[0m\n",
      "\u001b[1;32m~\\anaconda3\\lib\\site-packages\\matplotlib\\artist.py\u001b[0m in \u001b[0;36mdraw_wrapper\u001b[1;34m(artist, renderer, *args, **kwargs)\u001b[0m\n\u001b[0;32m     39\u001b[0m                 \u001b[0mrenderer\u001b[0m\u001b[1;33m.\u001b[0m\u001b[0mstart_filter\u001b[0m\u001b[1;33m(\u001b[0m\u001b[1;33m)\u001b[0m\u001b[1;33m\u001b[0m\u001b[1;33m\u001b[0m\u001b[0m\n\u001b[0;32m     40\u001b[0m \u001b[1;33m\u001b[0m\u001b[0m\n\u001b[1;32m---> 41\u001b[1;33m             \u001b[1;32mreturn\u001b[0m \u001b[0mdraw\u001b[0m\u001b[1;33m(\u001b[0m\u001b[0martist\u001b[0m\u001b[1;33m,\u001b[0m \u001b[0mrenderer\u001b[0m\u001b[1;33m,\u001b[0m \u001b[1;33m*\u001b[0m\u001b[0margs\u001b[0m\u001b[1;33m,\u001b[0m \u001b[1;33m**\u001b[0m\u001b[0mkwargs\u001b[0m\u001b[1;33m)\u001b[0m\u001b[1;33m\u001b[0m\u001b[1;33m\u001b[0m\u001b[0m\n\u001b[0m\u001b[0;32m     42\u001b[0m         \u001b[1;32mfinally\u001b[0m\u001b[1;33m:\u001b[0m\u001b[1;33m\u001b[0m\u001b[1;33m\u001b[0m\u001b[0m\n\u001b[0;32m     43\u001b[0m             \u001b[1;32mif\u001b[0m \u001b[0martist\u001b[0m\u001b[1;33m.\u001b[0m\u001b[0mget_agg_filter\u001b[0m\u001b[1;33m(\u001b[0m\u001b[1;33m)\u001b[0m \u001b[1;32mis\u001b[0m \u001b[1;32mnot\u001b[0m \u001b[1;32mNone\u001b[0m\u001b[1;33m:\u001b[0m\u001b[1;33m\u001b[0m\u001b[1;33m\u001b[0m\u001b[0m\n",
      "\u001b[1;32m~\\anaconda3\\lib\\site-packages\\matplotlib\\cbook\\deprecation.py\u001b[0m in \u001b[0;36mwrapper\u001b[1;34m(*inner_args, **inner_kwargs)\u001b[0m\n\u001b[0;32m    409\u001b[0m                          \u001b[1;32melse\u001b[0m \u001b[0mdeprecation_addendum\u001b[0m\u001b[1;33m,\u001b[0m\u001b[1;33m\u001b[0m\u001b[1;33m\u001b[0m\u001b[0m\n\u001b[0;32m    410\u001b[0m                 **kwargs)\n\u001b[1;32m--> 411\u001b[1;33m         \u001b[1;32mreturn\u001b[0m \u001b[0mfunc\u001b[0m\u001b[1;33m(\u001b[0m\u001b[1;33m*\u001b[0m\u001b[0minner_args\u001b[0m\u001b[1;33m,\u001b[0m \u001b[1;33m**\u001b[0m\u001b[0minner_kwargs\u001b[0m\u001b[1;33m)\u001b[0m\u001b[1;33m\u001b[0m\u001b[1;33m\u001b[0m\u001b[0m\n\u001b[0m\u001b[0;32m    412\u001b[0m \u001b[1;33m\u001b[0m\u001b[0m\n\u001b[0;32m    413\u001b[0m     \u001b[1;32mreturn\u001b[0m \u001b[0mwrapper\u001b[0m\u001b[1;33m\u001b[0m\u001b[1;33m\u001b[0m\u001b[0m\n",
      "\u001b[1;32m~\\anaconda3\\lib\\site-packages\\matplotlib\\axes\\_base.py\u001b[0m in \u001b[0;36mdraw\u001b[1;34m(self, renderer, inframe)\u001b[0m\n\u001b[0;32m   2745\u001b[0m             \u001b[0mrenderer\u001b[0m\u001b[1;33m.\u001b[0m\u001b[0mstop_rasterizing\u001b[0m\u001b[1;33m(\u001b[0m\u001b[1;33m)\u001b[0m\u001b[1;33m\u001b[0m\u001b[1;33m\u001b[0m\u001b[0m\n\u001b[0;32m   2746\u001b[0m \u001b[1;33m\u001b[0m\u001b[0m\n\u001b[1;32m-> 2747\u001b[1;33m         \u001b[0mmimage\u001b[0m\u001b[1;33m.\u001b[0m\u001b[0m_draw_list_compositing_images\u001b[0m\u001b[1;33m(\u001b[0m\u001b[0mrenderer\u001b[0m\u001b[1;33m,\u001b[0m \u001b[0mself\u001b[0m\u001b[1;33m,\u001b[0m \u001b[0martists\u001b[0m\u001b[1;33m)\u001b[0m\u001b[1;33m\u001b[0m\u001b[1;33m\u001b[0m\u001b[0m\n\u001b[0m\u001b[0;32m   2748\u001b[0m \u001b[1;33m\u001b[0m\u001b[0m\n\u001b[0;32m   2749\u001b[0m         \u001b[0mrenderer\u001b[0m\u001b[1;33m.\u001b[0m\u001b[0mclose_group\u001b[0m\u001b[1;33m(\u001b[0m\u001b[1;34m'axes'\u001b[0m\u001b[1;33m)\u001b[0m\u001b[1;33m\u001b[0m\u001b[1;33m\u001b[0m\u001b[0m\n",
      "\u001b[1;32m~\\anaconda3\\lib\\site-packages\\matplotlib\\image.py\u001b[0m in \u001b[0;36m_draw_list_compositing_images\u001b[1;34m(renderer, parent, artists, suppress_composite)\u001b[0m\n\u001b[0;32m    129\u001b[0m     \u001b[1;32mif\u001b[0m \u001b[0mnot_composite\u001b[0m \u001b[1;32mor\u001b[0m \u001b[1;32mnot\u001b[0m \u001b[0mhas_images\u001b[0m\u001b[1;33m:\u001b[0m\u001b[1;33m\u001b[0m\u001b[1;33m\u001b[0m\u001b[0m\n\u001b[0;32m    130\u001b[0m         \u001b[1;32mfor\u001b[0m \u001b[0ma\u001b[0m \u001b[1;32min\u001b[0m \u001b[0martists\u001b[0m\u001b[1;33m:\u001b[0m\u001b[1;33m\u001b[0m\u001b[1;33m\u001b[0m\u001b[0m\n\u001b[1;32m--> 131\u001b[1;33m             \u001b[0ma\u001b[0m\u001b[1;33m.\u001b[0m\u001b[0mdraw\u001b[0m\u001b[1;33m(\u001b[0m\u001b[0mrenderer\u001b[0m\u001b[1;33m)\u001b[0m\u001b[1;33m\u001b[0m\u001b[1;33m\u001b[0m\u001b[0m\n\u001b[0m\u001b[0;32m    132\u001b[0m     \u001b[1;32melse\u001b[0m\u001b[1;33m:\u001b[0m\u001b[1;33m\u001b[0m\u001b[1;33m\u001b[0m\u001b[0m\n\u001b[0;32m    133\u001b[0m         \u001b[1;31m# Composite any adjacent images together\u001b[0m\u001b[1;33m\u001b[0m\u001b[1;33m\u001b[0m\u001b[1;33m\u001b[0m\u001b[0m\n",
      "\u001b[1;32m~\\anaconda3\\lib\\site-packages\\matplotlib\\artist.py\u001b[0m in \u001b[0;36mdraw_wrapper\u001b[1;34m(artist, renderer, *args, **kwargs)\u001b[0m\n\u001b[0;32m     39\u001b[0m                 \u001b[0mrenderer\u001b[0m\u001b[1;33m.\u001b[0m\u001b[0mstart_filter\u001b[0m\u001b[1;33m(\u001b[0m\u001b[1;33m)\u001b[0m\u001b[1;33m\u001b[0m\u001b[1;33m\u001b[0m\u001b[0m\n\u001b[0;32m     40\u001b[0m \u001b[1;33m\u001b[0m\u001b[0m\n\u001b[1;32m---> 41\u001b[1;33m             \u001b[1;32mreturn\u001b[0m \u001b[0mdraw\u001b[0m\u001b[1;33m(\u001b[0m\u001b[0martist\u001b[0m\u001b[1;33m,\u001b[0m \u001b[0mrenderer\u001b[0m\u001b[1;33m,\u001b[0m \u001b[1;33m*\u001b[0m\u001b[0margs\u001b[0m\u001b[1;33m,\u001b[0m \u001b[1;33m**\u001b[0m\u001b[0mkwargs\u001b[0m\u001b[1;33m)\u001b[0m\u001b[1;33m\u001b[0m\u001b[1;33m\u001b[0m\u001b[0m\n\u001b[0m\u001b[0;32m     42\u001b[0m         \u001b[1;32mfinally\u001b[0m\u001b[1;33m:\u001b[0m\u001b[1;33m\u001b[0m\u001b[1;33m\u001b[0m\u001b[0m\n\u001b[0;32m     43\u001b[0m             \u001b[1;32mif\u001b[0m \u001b[0martist\u001b[0m\u001b[1;33m.\u001b[0m\u001b[0mget_agg_filter\u001b[0m\u001b[1;33m(\u001b[0m\u001b[1;33m)\u001b[0m \u001b[1;32mis\u001b[0m \u001b[1;32mnot\u001b[0m \u001b[1;32mNone\u001b[0m\u001b[1;33m:\u001b[0m\u001b[1;33m\u001b[0m\u001b[1;33m\u001b[0m\u001b[0m\n",
      "\u001b[1;32m~\\anaconda3\\lib\\site-packages\\matplotlib\\image.py\u001b[0m in \u001b[0;36mdraw\u001b[1;34m(self, renderer, *args, **kwargs)\u001b[0m\n\u001b[0;32m    639\u001b[0m                 \u001b[0mrenderer\u001b[0m\u001b[1;33m.\u001b[0m\u001b[0mdraw_image\u001b[0m\u001b[1;33m(\u001b[0m\u001b[0mgc\u001b[0m\u001b[1;33m,\u001b[0m \u001b[0ml\u001b[0m\u001b[1;33m,\u001b[0m \u001b[0mb\u001b[0m\u001b[1;33m,\u001b[0m \u001b[0mim\u001b[0m\u001b[1;33m,\u001b[0m \u001b[0mtrans\u001b[0m\u001b[1;33m)\u001b[0m\u001b[1;33m\u001b[0m\u001b[1;33m\u001b[0m\u001b[0m\n\u001b[0;32m    640\u001b[0m         \u001b[1;32melse\u001b[0m\u001b[1;33m:\u001b[0m\u001b[1;33m\u001b[0m\u001b[1;33m\u001b[0m\u001b[0m\n\u001b[1;32m--> 641\u001b[1;33m             im, l, b, trans = self.make_image(\n\u001b[0m\u001b[0;32m    642\u001b[0m                 renderer, renderer.get_image_magnification())\n\u001b[0;32m    643\u001b[0m             \u001b[1;32mif\u001b[0m \u001b[0mim\u001b[0m \u001b[1;32mis\u001b[0m \u001b[1;32mnot\u001b[0m \u001b[1;32mNone\u001b[0m\u001b[1;33m:\u001b[0m\u001b[1;33m\u001b[0m\u001b[1;33m\u001b[0m\u001b[0m\n",
      "\u001b[1;32m~\\anaconda3\\lib\\site-packages\\matplotlib\\image.py\u001b[0m in \u001b[0;36mmake_image\u001b[1;34m(self, renderer, magnification, unsampled)\u001b[0m\n\u001b[0;32m    924\u001b[0m         clip = ((self.get_clip_box() or self.axes.bbox) if self.get_clip_on()\n\u001b[0;32m    925\u001b[0m                 else self.figure.bbox)\n\u001b[1;32m--> 926\u001b[1;33m         return self._make_image(self._A, bbox, transformed_bbox, clip,\n\u001b[0m\u001b[0;32m    927\u001b[0m                                 magnification, unsampled=unsampled)\n\u001b[0;32m    928\u001b[0m \u001b[1;33m\u001b[0m\u001b[0m\n",
      "\u001b[1;32m~\\anaconda3\\lib\\site-packages\\matplotlib\\image.py\u001b[0m in \u001b[0;36m_make_image\u001b[1;34m(self, A, in_bbox, out_bbox, clip_bbox, magnification, unsampled, round_to_pixel_border)\u001b[0m\n\u001b[0;32m    551\u001b[0m                     self, A[..., 3], out_shape, t, alpha=alpha)\n\u001b[0;32m    552\u001b[0m                 output = _resample(  # resample rgb channels\n\u001b[1;32m--> 553\u001b[1;33m                     self, _rgb_to_rgba(A[..., :3]), out_shape, t, alpha=alpha)\n\u001b[0m\u001b[0;32m    554\u001b[0m                 \u001b[0moutput\u001b[0m\u001b[1;33m[\u001b[0m\u001b[1;33m...\u001b[0m\u001b[1;33m,\u001b[0m \u001b[1;36m3\u001b[0m\u001b[1;33m]\u001b[0m \u001b[1;33m=\u001b[0m \u001b[0moutput_alpha\u001b[0m  \u001b[1;31m# recombine rgb and alpha\u001b[0m\u001b[1;33m\u001b[0m\u001b[1;33m\u001b[0m\u001b[0m\n\u001b[0;32m    555\u001b[0m \u001b[1;33m\u001b[0m\u001b[0m\n",
      "\u001b[1;32m~\\anaconda3\\lib\\site-packages\\matplotlib\\image.py\u001b[0m in \u001b[0;36m_rgb_to_rgba\u001b[1;34m(A)\u001b[0m\n\u001b[0;32m    204\u001b[0m     \u001b[0mextension\u001b[0m\u001b[1;33m.\u001b[0m\u001b[1;33m\u001b[0m\u001b[1;33m\u001b[0m\u001b[0m\n\u001b[0;32m    205\u001b[0m     \"\"\"\n\u001b[1;32m--> 206\u001b[1;33m     \u001b[0mrgba\u001b[0m \u001b[1;33m=\u001b[0m \u001b[0mnp\u001b[0m\u001b[1;33m.\u001b[0m\u001b[0mzeros\u001b[0m\u001b[1;33m(\u001b[0m\u001b[1;33m(\u001b[0m\u001b[0mA\u001b[0m\u001b[1;33m.\u001b[0m\u001b[0mshape\u001b[0m\u001b[1;33m[\u001b[0m\u001b[1;36m0\u001b[0m\u001b[1;33m]\u001b[0m\u001b[1;33m,\u001b[0m \u001b[0mA\u001b[0m\u001b[1;33m.\u001b[0m\u001b[0mshape\u001b[0m\u001b[1;33m[\u001b[0m\u001b[1;36m1\u001b[0m\u001b[1;33m]\u001b[0m\u001b[1;33m,\u001b[0m \u001b[1;36m4\u001b[0m\u001b[1;33m)\u001b[0m\u001b[1;33m,\u001b[0m \u001b[0mdtype\u001b[0m\u001b[1;33m=\u001b[0m\u001b[0mA\u001b[0m\u001b[1;33m.\u001b[0m\u001b[0mdtype\u001b[0m\u001b[1;33m)\u001b[0m\u001b[1;33m\u001b[0m\u001b[1;33m\u001b[0m\u001b[0m\n\u001b[0m\u001b[0;32m    207\u001b[0m     \u001b[0mrgba\u001b[0m\u001b[1;33m[\u001b[0m\u001b[1;33m:\u001b[0m\u001b[1;33m,\u001b[0m \u001b[1;33m:\u001b[0m\u001b[1;33m,\u001b[0m \u001b[1;33m:\u001b[0m\u001b[1;36m3\u001b[0m\u001b[1;33m]\u001b[0m \u001b[1;33m=\u001b[0m \u001b[0mA\u001b[0m\u001b[1;33m\u001b[0m\u001b[1;33m\u001b[0m\u001b[0m\n\u001b[0;32m    208\u001b[0m     \u001b[1;32mif\u001b[0m \u001b[0mrgba\u001b[0m\u001b[1;33m.\u001b[0m\u001b[0mdtype\u001b[0m \u001b[1;33m==\u001b[0m \u001b[0mnp\u001b[0m\u001b[1;33m.\u001b[0m\u001b[0muint8\u001b[0m\u001b[1;33m:\u001b[0m\u001b[1;33m\u001b[0m\u001b[1;33m\u001b[0m\u001b[0m\n",
      "\u001b[1;31mMemoryError\u001b[0m: Unable to allocate 25.3 GiB for an array with shape (94165087, 9, 4) and data type float64"
     ]
    },
    {
     "data": {
      "text/plain": [
       "<Figure size 1800x720 with 2 Axes>"
      ]
     },
     "metadata": {
      "needs_background": "light"
     },
     "output_type": "display_data"
    }
   ],
   "source": [
    "%%script False\n",
    "import missingno as msgn\n",
    "#read in data here\n",
    "msgn.matrix(df,color=(0.45, 0.75, 0.25))"
   ]
  },
  {
   "cell_type": "code",
   "execution_count": 20,
   "id": "warming-watch",
   "metadata": {},
   "outputs": [],
   "source": [
    "df.dropna(subset=['CITY_NM', 'ORG_CITY_NM', 'TOP1_ORG_CTY'],inplace=True)"
   ]
  },
  {
   "cell_type": "code",
   "execution_count": 21,
   "id": "swedish-representation",
   "metadata": {},
   "outputs": [
    {
     "data": {
      "text/plain": [
       "{12: 'winter',\n",
       " 1: 'winter',\n",
       " 2: 'winter',\n",
       " 3: 'spring',\n",
       " 4: 'spring',\n",
       " 5: 'spring',\n",
       " 6: 'summer',\n",
       " 7: 'summer',\n",
       " 8: 'summer',\n",
       " 9: 'fall',\n",
       " 10: 'fall',\n",
       " 11: 'fall'}"
      ]
     },
     "execution_count": 21,
     "metadata": {},
     "output_type": "execute_result"
    }
   ],
   "source": [
    "seasons = {'winter':[12,1,2], \n",
    "           'spring':[3,4,5], \n",
    "           'summer':[6,7,8],\n",
    "           'fall':[9,10,11]}\n",
    "\n",
    "season_mapping = {month:k for k,v in seasons.items() for month in v}\n",
    "season_mapping"
   ]
  },
  {
   "cell_type": "code",
   "execution_count": 23,
   "id": "published-plymouth",
   "metadata": {},
   "outputs": [],
   "source": [
    "df['season'] = df['SEG_LCL_DEP_DT'].apply(lambda x: season_mapping[x.month])"
   ]
  },
  {
   "cell_type": "code",
   "execution_count": 24,
   "id": "greater-antarctica",
   "metadata": {
    "scrolled": true
   },
   "outputs": [
    {
     "data": {
      "text/plain": [
       "CUST_KEY                0\n",
       "SEG_LCL_DEP_DT          0\n",
       "CITY_NM                 0\n",
       "ORG_CITY_NM             0\n",
       "DOM_INTNL_FLAG       2506\n",
       "JRNY_TYP             4539\n",
       "TOP1_ORG_MKT_REGN      83\n",
       "TOP1_ORG_CTY            0\n",
       "season                  0\n",
       "dtype: int64"
      ]
     },
     "execution_count": 24,
     "metadata": {},
     "output_type": "execute_result"
    }
   ],
   "source": [
    "df.isna().sum()"
   ]
  },
  {
   "cell_type": "code",
   "execution_count": 25,
   "id": "widespread-fiction",
   "metadata": {},
   "outputs": [
    {
     "data": {
      "text/plain": [
       "(114541202, 9)"
      ]
     },
     "execution_count": 25,
     "metadata": {},
     "output_type": "execute_result"
    }
   ],
   "source": [
    "df.shape"
   ]
  },
  {
   "cell_type": "code",
   "execution_count": 26,
   "id": "welsh-wayne",
   "metadata": {},
   "outputs": [],
   "source": [
    "# converting columns to corresponding column types\n",
    "for k, v in dtypes.items():\n",
    "    df[k] = df[k].astype(v)"
   ]
  },
  {
   "cell_type": "code",
   "execution_count": 27,
   "id": "creative-combining",
   "metadata": {},
   "outputs": [
    {
     "data": {
      "text/plain": [
       "[(('istanbul', 'izmir'), 3321736),\n",
       " (('istanbul', 'ankara'), 3286059),\n",
       " (('ankara', 'istanbul'), 3065330),\n",
       " (('izmir', 'istanbul'), 2851972),\n",
       " (('istanbul', 'antalya'), 2434309),\n",
       " (('istanbul', 'adana'), 1944382),\n",
       " (('istanbul', 'trabzon'), 1877503),\n",
       " (('adana', 'istanbul'), 1743310),\n",
       " (('antalya', 'istanbul'), 1726738),\n",
       " (('trabzon', 'istanbul'), 1519597)]"
      ]
     },
     "execution_count": 27,
     "metadata": {},
     "output_type": "execute_result"
    }
   ],
   "source": [
    "# finding flight pairs as dep-arr\n",
    "flight_pairs = list(zip(df['ORG_CITY_NM'],df['CITY_NM']))\n",
    "# counting flight pairs\n",
    "pair_counts = Counter(flight_pairs)\n",
    "# top 10 flight pairs\n",
    "sorted(pair_counts.items(), key=lambda pair: pair[1], reverse=True)[0:10]"
   ]
  },
  {
   "cell_type": "code",
   "execution_count": 28,
   "id": "automatic-shame",
   "metadata": {},
   "outputs": [],
   "source": [
    "# finding all unique cities\n",
    "all_cities_list = set(list(df['ORG_CITY_NM'].unique()) + list(df['CITY_NM'].unique()))"
   ]
  },
  {
   "cell_type": "code",
   "execution_count": 29,
   "id": "reasonable-destiny",
   "metadata": {},
   "outputs": [
    {
     "data": {
      "image/png": "[encoded data removed]",
      "text/plain": [
       "<Figure size 432x288 with 1 Axes>"
      ]
     },
     "metadata": {
      "needs_background": "light"
     },
     "output_type": "display_data"
    }
   ],
   "source": [
    "ax = sns.countplot(x=\"season\", data=df)"
   ]
  },
  {
   "cell_type": "markdown",
   "id": "palestinian-binary",
   "metadata": {},
   "source": [
    "## splitting data as train and test"
   ]
  },
  {
   "cell_type": "code",
   "execution_count": 30,
   "id": "several-empire",
   "metadata": {
    "scrolled": true
   },
   "outputs": [
    {
     "name": "stdout",
     "output_type": "stream",
     "text": [
      "Couldn't find program: 'False'\n"
     ]
    }
   ],
   "source": [
    "%%script False\n",
    "# grouping customers to find latest flights of each customer to split as test data\n",
    "grouped_df = df.sort_values(by=['CUST_KEY', 'SEG_LCL_DEP_DT']).groupby(by='CUST_KEY')\n",
    "test_indexes = grouped_df['SEG_LCL_DEP_DT'].idxmax()\n",
    "with open(\"test_indexes.pickle\",\"wb\") as file:\n",
    "    pickle.dump(test_indexes,file)"
   ]
  },
  {
   "cell_type": "code",
   "execution_count": 31,
   "id": "comparative-compact",
   "metadata": {},
   "outputs": [],
   "source": [
    "with open(\"test_indexes.pickle\",'rb') as file:\n",
    "    test_indexes = pickle.load(file)"
   ]
  },
  {
   "cell_type": "code",
   "execution_count": 32,
   "id": "earlier-sleeping",
   "metadata": {},
   "outputs": [],
   "source": [
    "# customers who has 1 flights used as test\n",
    "\n",
    "# flights of the customers who have only one flight\n",
    "test_df1 = df.drop_duplicates(subset=['CUST_KEY'], keep=False)\n",
    "\n",
    "df = df[df['CUST_KEY'].duplicated(False)]\n",
    "\n",
    "# last flights of the customers who have more than one flight\n",
    "test_df2 = df.loc[test_indexes]\n",
    "\n",
    "train_df = df.drop(test_indexes)"
   ]
  },
  {
   "cell_type": "code",
   "execution_count": 33,
   "id": "dressed-greenhouse",
   "metadata": {},
   "outputs": [
    {
     "name": "stdout",
     "output_type": "stream",
     "text": [
      "Couldn't find program: 'False'\n"
     ]
    }
   ],
   "source": [
    "%%script False\n",
    "# use this for graph\n",
    "count_by_days = df.groupby(by='SEG_LCL_DEP_DT').count()\n",
    "ax = count_by_days.plot( y='CUST_KEY', figsize=(12,6))"
   ]
  },
  {
   "cell_type": "code",
   "execution_count": 34,
   "id": "nuclear-flour",
   "metadata": {},
   "outputs": [],
   "source": [
    "general_transitions = find_transitions(train_df)\n",
    "seasonal_transitions_summer = find_seasonal_transitions(train_df, 'summer')\n",
    "seasonal_transitions_winter = find_seasonal_transitions(train_df, 'winter')\n",
    "seasonal_transitions_spring = find_seasonal_transitions(train_df, 'spring')\n",
    "seasonal_transitions_fall = find_seasonal_transitions(train_df, 'fall')\n",
    "\n",
    "seasonal_transitions = {'summer':seasonal_transitions_summer,\n",
    "                        'winter':seasonal_transitions_winter,\n",
    "                        'spring':seasonal_transitions_spring,\n",
    "                        'fall':seasonal_transitions_fall}"
   ]
  },
  {
   "cell_type": "code",
   "execution_count": 35,
   "id": "suspected-venture",
   "metadata": {},
   "outputs": [],
   "source": [
    "def add_dataframes(general_df, seasonal_df, customer_df):\n",
    "    \n",
    "    tmp_df = pd.DataFrame(np.zeros(general_df.shape), \n",
    "                          columns=general_df.columns, index=general_df.index)\n",
    "    seasonal_df = seasonal_df.add(tmp_df, fill_value=0.0)\n",
    "    customer_df = customer_df.add(tmp_df, fill_value=0.0)\n",
    "    \n",
    "    return general_df + seasonal_df + customer_df"
   ]
  },
  {
   "cell_type": "code",
   "execution_count": 151,
   "id": "technological-twins",
   "metadata": {},
   "outputs": [],
   "source": [
    "def predict(row, pred_dep='origin', season=None, n_pred=7, pred_type='only_cities', filter_alternate=True):\n",
    "    \"\"\"\n",
    "    Parameters:\n",
    "    -----------\n",
    "    row: Series\n",
    "        Data point to be predicted\n",
    "        \n",
    "    pred_dep: {'origin', 'top_city'}, default 'origin'\n",
    "        Which city will be used for predicting the next flight. \n",
    "        'origin' refers to using test flight's origin city.\n",
    "        'top_city' refers to using 'TOP1_ORG_CTY' of the customer.\n",
    "        \n",
    "    season: {None, 'winter', 'summer', 'spring', 'fall'}, default None\n",
    "        Season param for using seasonal transition matrix. \n",
    "        None refers to using test flight's season\n",
    "        \n",
    "    n_pred: int, default 7\n",
    "        Number of cities that model suggest to the customer.\n",
    "        \n",
    "    pred_type: {'only_cities', 'with_probs'}, default 'only_cities'\n",
    "        'only_cities': returns only the top predicted cities\n",
    "        'with_probs': returns predictions with probabilities\n",
    "    \n",
    "    filter_alternate: {True, False}, default True\n",
    "        filters alternative cities from suggestions\n",
    "    Returns:\n",
    "    --------\n",
    "    final_preds: dict or list\n",
    "        if pred_type param is 'only_cities' it returns only predicted cities (list)\n",
    "        if pred_type param is 'with_probs' it returns predicted cities with probabilities (dict)\n",
    "        \n",
    "    \"\"\"\n",
    "    \n",
    "    cust_key = row['CUST_KEY']\n",
    "    cust_df = train_df[train_df['CUST_KEY']==cust_key]\n",
    "\n",
    "    # customer transitions\n",
    "    cust_transitions = find_customer_transitions(cust_df)\n",
    "\n",
    "    # seasonal customer transitions\n",
    "    if season==None:\n",
    "        season = row['season']\n",
    "    if not season in seasons.keys():\n",
    "        print('Wrong season')\n",
    "        return False\n",
    "    cust_seasonal_transitions = find_seasonal_transitions(cust_df, season)\n",
    "\n",
    "    # weights\n",
    "    w1 = 1\n",
    "    w2 = len(cust_df)\n",
    "    w3 = 2*w2\n",
    "    total_sum = (w1+w2+w3)\n",
    "    w1 = w1/total_sum\n",
    "    w2 = w2/total_sum\n",
    "    w3 = w3/total_sum\n",
    "    \n",
    "\n",
    "    if pred_dep == 'origin':\n",
    "        departure = row['ORG_CITY_NM']\n",
    "    elif pred_dep == 'top_city':\n",
    "        departure = row['TOP1_ORG_CTY']\n",
    "    else:\n",
    "        print('Season param is wrong!')\n",
    "        return False   \n",
    "    \n",
    "    # final_transitions = add_dataframes(w1*general_transitions, w2*seasonal_transitions[season], \n",
    "    #                                   w3*cust_seasonal_transitions)\n",
    "    final_transitions = w1*general_transitions.values+w2*seasonal_transitions[season].values+w3*cust_seasonal_transitions.values\n",
    "    final_transitions = pd.DataFrame(final_transitions, index=general_transitions.index, columns=general_transitions.index) \n",
    "    # final_transitions.loc[departure].sort_values(ascending=False)[0:n_pred]\n",
    "    \n",
    "    preds = final_transitions.loc[departure].sort_values(ascending=False)\n",
    "    filtered_preds = []\n",
    "    alternative_cities = []\n",
    "    for city, prob in preds.items():\n",
    "        \n",
    "        if not city in alternative_cities:\n",
    "            filtered_preds.append((city, prob))\n",
    "            alternative_cities.extend(alter_cities.loc[alter_cities['City_1']==city, 'City_2'].values)\n",
    "            \n",
    "        if len(filtered_preds)>=n_pred:\n",
    "            break\n",
    "            \n",
    "    final_preds = dict(filtered_preds)\n",
    "    \n",
    "    if pred_type == 'only_cities':\n",
    "        return list(final_preds.keys())\n",
    "    elif pred_type == 'with_probs':\n",
    "        return final_preds\n",
    "    else:\n",
    "        print('Wrong return type!')\n",
    "        return False"
   ]
  },
  {
   "cell_type": "code",
   "execution_count": 162,
   "id": "formed-chamber",
   "metadata": {},
   "outputs": [],
   "source": [
    "def calculate_accuracy(y_test, y_pred):\n",
    "    trues = 0\n",
    "    for true, pred in zip(y_test, y_pred):\n",
    "        if true in pred:\n",
    "            trues += 1\n",
    "    return trues/len(y_test)"
   ]
  },
  {
   "cell_type": "code",
   "execution_count": 163,
   "id": "determined-finance",
   "metadata": {},
   "outputs": [
    {
     "data": {
      "text/plain": [
       "(10000, 9)"
      ]
     },
     "execution_count": 163,
     "metadata": {},
     "output_type": "execute_result"
    }
   ],
   "source": [
    "test_sample = test_df2.sample(10000)\n",
    "test_sample.shape"
   ]
  },
  {
   "cell_type": "code",
   "execution_count": 164,
   "id": "arbitrary-chair",
   "metadata": {},
   "outputs": [
    {
     "name": "stdout",
     "output_type": "stream",
     "text": [
      "Wall time: 16min 9s\n"
     ]
    }
   ],
   "source": [
    "%%time\n",
    "results_2 = test_sample.apply(predict, axis=1, pred_type='only_cities')"
   ]
  },
  {
   "cell_type": "code",
   "execution_count": 160,
   "id": "modified-management",
   "metadata": {},
   "outputs": [
    {
     "data": {
      "text/plain": [
       "['istanbul', 'ankara', 'adana', 'antalya', 'izmir', 'gaziantep', 'samsun']"
      ]
     },
     "execution_count": 160,
     "metadata": {},
     "output_type": "execute_result"
    }
   ],
   "source": [
    "calculate_accuracy"
   ]
  },
  {
   "cell_type": "code",
   "execution_count": 165,
   "id": "lesbian-exploration",
   "metadata": {},
   "outputs": [
    {
     "data": {
      "text/plain": [
       "0.6895"
      ]
     },
     "execution_count": 165,
     "metadata": {},
     "output_type": "execute_result"
    }
   ],
   "source": [
    "calculate_accuracy(test_sample['CITY_NM'], results_2)"
   ]
  },
  {
   "cell_type": "code",
   "execution_count": 167,
   "id": "plastic-winning",
   "metadata": {},
   "outputs": [
    {
     "data": {
      "text/plain": [
       "0.6384"
      ]
     },
     "execution_count": 167,
     "metadata": {},
     "output_type": "execute_result"
    }
   ],
   "source": [
    "# n_pred = 5\n",
    "test_sample = test_df2.sample(10000)\n",
    "results_2 = test_sample.apply(predict, axis=1, pred_type='only_cities', n_pred=5)\n",
    "calculate_accuracy(test_sample['CITY_NM'], results_2)"
   ]
  },
  {
   "cell_type": "code",
   "execution_count": null,
   "id": "varying-internet",
   "metadata": {},
   "outputs": [],
   "source": []
  }
 ],
 "metadata": {
  "kernelspec": {
   "display_name": "Python 3",
   "language": "python",
   "name": "python3"
  },
  "language_info": {
   "codemirror_mode": {
    "name": "ipython",
    "version": 3
   },
   "file_extension": ".py",
   "mimetype": "text/x-python",
   "name": "python",
   "nbconvert_exporter": "python",
   "pygments_lexer": "ipython3",
   "version": "3.8.5"
  }
 },
 "nbformat": 4,
 "nbformat_minor": 5
}
