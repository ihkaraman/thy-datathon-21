{
 "cells": [
  {
   "cell_type": "code",
   "execution_count": 1,
   "id": "defined-picnic",
   "metadata": {},
   "outputs": [],
   "source": [
    "import pandas as pd"
   ]
  },
  {
   "cell_type": "code",
   "execution_count": 2,
   "id": "structured-panama",
   "metadata": {},
   "outputs": [],
   "source": [
    "path = r'BIR_SONRAKI_DEST_VALSET.csv'\n",
    "df = pd.read_csv(path, sep='|')"
   ]
  },
  {
   "cell_type": "code",
   "execution_count": 3,
   "id": "executed-sailing",
   "metadata": {},
   "outputs": [
    {
     "data": {
      "text/plain": [
       "(7281309, 13)"
      ]
     },
     "execution_count": 3,
     "metadata": {},
     "output_type": "execute_result"
    }
   ],
   "source": [
    "df.shape"
   ]
  },
  {
   "cell_type": "code",
   "execution_count": 6,
   "id": "packed-julian",
   "metadata": {},
   "outputs": [
    {
     "data": {
      "text/plain": [
       "3916014"
      ]
     },
     "execution_count": 6,
     "metadata": {},
     "output_type": "execute_result"
    }
   ],
   "source": [
    "len(df['CUST_KEY'].unique())"
   ]
  },
  {
   "cell_type": "code",
   "execution_count": 8,
   "id": "virtual-attempt",
   "metadata": {},
   "outputs": [
    {
     "data": {
      "text/plain": [
       "CUST_KEY                 0\n",
       "SEG_LCL_DEP_DT           0\n",
       "CITY_NM                  0\n",
       "CNTRY_NM                 0\n",
       "ORGN_AP                  0\n",
       "DSTN_AP                  0\n",
       "ORG_CITY_NM           1997\n",
       "ORG_CNTRY_NM          1997\n",
       "DOM_INTNL_FLAG       11585\n",
       "JRNY_TYP             15164\n",
       "TOP1_ORG_MKT_REGN    67544\n",
       "TOP1_ORG_CTY         67542\n",
       "PRIM_TKT_NUM             0\n",
       "dtype: int64"
      ]
     },
     "execution_count": 8,
     "metadata": {},
     "output_type": "execute_result"
    }
   ],
   "source": [
    "df.isna().sum()"
   ]
  },
  {
   "cell_type": "code",
   "execution_count": 9,
   "id": "norwegian-quest",
   "metadata": {},
   "outputs": [
    {
     "data": {
      "text/html": [
       "<div>\n",
       "<style scoped>\n",
       "    .dataframe tbody tr th:only-of-type {\n",
       "        vertical-align: middle;\n",
       "    }\n",
       "\n",
       "    .dataframe tbody tr th {\n",
       "        vertical-align: top;\n",
       "    }\n",
       "\n",
       "    .dataframe thead th {\n",
       "        text-align: right;\n",
       "    }\n",
       "</style>\n",
       "<table border=\"1\" class=\"dataframe\">\n",
       "  <thead>\n",
       "    <tr style=\"text-align: right;\">\n",
       "      <th></th>\n",
       "      <th>CUST_KEY</th>\n",
       "      <th>SEG_LCL_DEP_DT</th>\n",
       "      <th>CITY_NM</th>\n",
       "      <th>CNTRY_NM</th>\n",
       "      <th>ORGN_AP</th>\n",
       "      <th>DSTN_AP</th>\n",
       "      <th>ORG_CITY_NM</th>\n",
       "      <th>ORG_CNTRY_NM</th>\n",
       "      <th>DOM_INTNL_FLAG</th>\n",
       "      <th>JRNY_TYP</th>\n",
       "      <th>TOP1_ORG_MKT_REGN</th>\n",
       "      <th>TOP1_ORG_CTY</th>\n",
       "      <th>PRIM_TKT_NUM</th>\n",
       "    </tr>\n",
       "  </thead>\n",
       "  <tbody>\n",
       "    <tr>\n",
       "      <th>0</th>\n",
       "      <td>5238184</td>\n",
       "      <td>2021-06-19 00:00:00.0</td>\n",
       "      <td>ANKARA</td>\n",
       "      <td>TURKEY</td>\n",
       "      <td>BLZ</td>\n",
       "      <td>ESB</td>\n",
       "      <td>Blantyre</td>\n",
       "      <td>Malawi</td>\n",
       "      <td>I</td>\n",
       "      <td>O</td>\n",
       "      <td>Domestic</td>\n",
       "      <td>ANKARA</td>\n",
       "      <td>4899264811</td>\n",
       "    </tr>\n",
       "    <tr>\n",
       "      <th>1</th>\n",
       "      <td>5435557</td>\n",
       "      <td>2021-05-22 00:00:00.0</td>\n",
       "      <td>ISTANBUL</td>\n",
       "      <td>TURKEY</td>\n",
       "      <td>ESB</td>\n",
       "      <td>SAW</td>\n",
       "      <td>ANKARA</td>\n",
       "      <td>TURKEY</td>\n",
       "      <td>D</td>\n",
       "      <td>O</td>\n",
       "      <td>Domestic</td>\n",
       "      <td>ISTANBUL</td>\n",
       "      <td>2440077937</td>\n",
       "    </tr>\n",
       "    <tr>\n",
       "      <th>2</th>\n",
       "      <td>5528575</td>\n",
       "      <td>2021-06-30 00:00:00.0</td>\n",
       "      <td>ADANA</td>\n",
       "      <td>TURKEY</td>\n",
       "      <td>IST</td>\n",
       "      <td>ADA</td>\n",
       "      <td>ISTANBUL</td>\n",
       "      <td>TURKEY</td>\n",
       "      <td>D</td>\n",
       "      <td>O</td>\n",
       "      <td>Domestic</td>\n",
       "      <td>ADANA</td>\n",
       "      <td>2442903790</td>\n",
       "    </tr>\n",
       "    <tr>\n",
       "      <th>3</th>\n",
       "      <td>5609847</td>\n",
       "      <td>2021-03-02 00:00:00.0</td>\n",
       "      <td>ISTANBUL</td>\n",
       "      <td>TURKEY</td>\n",
       "      <td>MLX</td>\n",
       "      <td>SAW</td>\n",
       "      <td>MALATYA</td>\n",
       "      <td>TURKEY</td>\n",
       "      <td>D</td>\n",
       "      <td>O</td>\n",
       "      <td>Domestic</td>\n",
       "      <td>ISTANBUL</td>\n",
       "      <td>2435381634</td>\n",
       "    </tr>\n",
       "    <tr>\n",
       "      <th>4</th>\n",
       "      <td>5719611</td>\n",
       "      <td>2021-03-19 00:00:00.0</td>\n",
       "      <td>ANKARA</td>\n",
       "      <td>TURKEY</td>\n",
       "      <td>ISU</td>\n",
       "      <td>ESB</td>\n",
       "      <td>SULEYMANÃÂ°AH</td>\n",
       "      <td>IRAQ</td>\n",
       "      <td>I</td>\n",
       "      <td>O</td>\n",
       "      <td>Domestic</td>\n",
       "      <td>ANKARA</td>\n",
       "      <td>3862422584</td>\n",
       "    </tr>\n",
       "    <tr>\n",
       "      <th>...</th>\n",
       "      <td>...</td>\n",
       "      <td>...</td>\n",
       "      <td>...</td>\n",
       "      <td>...</td>\n",
       "      <td>...</td>\n",
       "      <td>...</td>\n",
       "      <td>...</td>\n",
       "      <td>...</td>\n",
       "      <td>...</td>\n",
       "      <td>...</td>\n",
       "      <td>...</td>\n",
       "      <td>...</td>\n",
       "      <td>...</td>\n",
       "    </tr>\n",
       "    <tr>\n",
       "      <th>7281304</th>\n",
       "      <td>171653907</td>\n",
       "      <td>2021-05-02 00:00:00.0</td>\n",
       "      <td>SIRNAK</td>\n",
       "      <td>TURKEY</td>\n",
       "      <td>IST</td>\n",
       "      <td>NKT</td>\n",
       "      <td>ISTANBUL</td>\n",
       "      <td>TURKEY</td>\n",
       "      <td>D</td>\n",
       "      <td>O</td>\n",
       "      <td>Domestic</td>\n",
       "      <td>ISTANBUL</td>\n",
       "      <td>2439097306</td>\n",
       "    </tr>\n",
       "    <tr>\n",
       "      <th>7281305</th>\n",
       "      <td>171925589</td>\n",
       "      <td>2021-08-16 00:00:00.0</td>\n",
       "      <td>ISTANBUL</td>\n",
       "      <td>TURKEY</td>\n",
       "      <td>HTY</td>\n",
       "      <td>IST</td>\n",
       "      <td>HATAY</td>\n",
       "      <td>TURKEY</td>\n",
       "      <td>D</td>\n",
       "      <td>O</td>\n",
       "      <td>Domestic</td>\n",
       "      <td>ISTANBUL</td>\n",
       "      <td>2447301202</td>\n",
       "    </tr>\n",
       "    <tr>\n",
       "      <th>7281306</th>\n",
       "      <td>172190365</td>\n",
       "      <td>2021-08-28 00:00:00.0</td>\n",
       "      <td>ELAZIG</td>\n",
       "      <td>TURKEY</td>\n",
       "      <td>ESB</td>\n",
       "      <td>EZS</td>\n",
       "      <td>ANKARA</td>\n",
       "      <td>TURKEY</td>\n",
       "      <td>D</td>\n",
       "      <td>O</td>\n",
       "      <td>Domestic</td>\n",
       "      <td>ANKARA</td>\n",
       "      <td>2449447894</td>\n",
       "    </tr>\n",
       "    <tr>\n",
       "      <th>7281307</th>\n",
       "      <td>172449661</td>\n",
       "      <td>2021-06-20 00:00:00.0</td>\n",
       "      <td>DALAMAN (MUGLA)</td>\n",
       "      <td>TURKEY</td>\n",
       "      <td>IST</td>\n",
       "      <td>DLM</td>\n",
       "      <td>ISTANBUL</td>\n",
       "      <td>TURKEY</td>\n",
       "      <td>D</td>\n",
       "      <td>R</td>\n",
       "      <td>Domestic</td>\n",
       "      <td>ISTANBUL</td>\n",
       "      <td>2442440409</td>\n",
       "    </tr>\n",
       "    <tr>\n",
       "      <th>7281308</th>\n",
       "      <td>172589179</td>\n",
       "      <td>2021-08-26 00:00:00.0</td>\n",
       "      <td>VAN</td>\n",
       "      <td>TURKEY</td>\n",
       "      <td>SAW</td>\n",
       "      <td>VAN</td>\n",
       "      <td>ISTANBUL</td>\n",
       "      <td>TURKEY</td>\n",
       "      <td>D</td>\n",
       "      <td>O</td>\n",
       "      <td>Domestic</td>\n",
       "      <td>ISTANBUL</td>\n",
       "      <td>2449374406</td>\n",
       "    </tr>\n",
       "  </tbody>\n",
       "</table>\n",
       "<p>7281309 rows × 13 columns</p>\n",
       "</div>"
      ],
      "text/plain": [
       "          CUST_KEY         SEG_LCL_DEP_DT          CITY_NM CNTRY_NM ORGN_AP  \\\n",
       "0          5238184  2021-06-19 00:00:00.0           ANKARA   TURKEY     BLZ   \n",
       "1          5435557  2021-05-22 00:00:00.0         ISTANBUL   TURKEY     ESB   \n",
       "2          5528575  2021-06-30 00:00:00.0            ADANA   TURKEY     IST   \n",
       "3          5609847  2021-03-02 00:00:00.0         ISTANBUL   TURKEY     MLX   \n",
       "4          5719611  2021-03-19 00:00:00.0           ANKARA   TURKEY     ISU   \n",
       "...            ...                    ...              ...      ...     ...   \n",
       "7281304  171653907  2021-05-02 00:00:00.0           SIRNAK   TURKEY     IST   \n",
       "7281305  171925589  2021-08-16 00:00:00.0         ISTANBUL   TURKEY     HTY   \n",
       "7281306  172190365  2021-08-28 00:00:00.0           ELAZIG   TURKEY     ESB   \n",
       "7281307  172449661  2021-06-20 00:00:00.0  DALAMAN (MUGLA)   TURKEY     IST   \n",
       "7281308  172589179  2021-08-26 00:00:00.0              VAN   TURKEY     SAW   \n",
       "\n",
       "        DSTN_AP     ORG_CITY_NM ORG_CNTRY_NM DOM_INTNL_FLAG JRNY_TYP  \\\n",
       "0           ESB        Blantyre       Malawi              I        O   \n",
       "1           SAW          ANKARA       TURKEY              D        O   \n",
       "2           ADA        ISTANBUL       TURKEY              D        O   \n",
       "3           SAW         MALATYA       TURKEY              D        O   \n",
       "4           ESB  SULEYMANÃÂ°AH         IRAQ              I        O   \n",
       "...         ...             ...          ...            ...      ...   \n",
       "7281304     NKT        ISTANBUL       TURKEY              D        O   \n",
       "7281305     IST           HATAY       TURKEY              D        O   \n",
       "7281306     EZS          ANKARA       TURKEY              D        O   \n",
       "7281307     DLM        ISTANBUL       TURKEY              D        R   \n",
       "7281308     VAN        ISTANBUL       TURKEY              D        O   \n",
       "\n",
       "        TOP1_ORG_MKT_REGN TOP1_ORG_CTY  PRIM_TKT_NUM  \n",
       "0                Domestic       ANKARA    4899264811  \n",
       "1                Domestic     ISTANBUL    2440077937  \n",
       "2                Domestic        ADANA    2442903790  \n",
       "3                Domestic     ISTANBUL    2435381634  \n",
       "4                Domestic       ANKARA    3862422584  \n",
       "...                   ...          ...           ...  \n",
       "7281304          Domestic     ISTANBUL    2439097306  \n",
       "7281305          Domestic     ISTANBUL    2447301202  \n",
       "7281306          Domestic       ANKARA    2449447894  \n",
       "7281307          Domestic     ISTANBUL    2442440409  \n",
       "7281308          Domestic     ISTANBUL    2449374406  \n",
       "\n",
       "[7281309 rows x 13 columns]"
      ]
     },
     "execution_count": 9,
     "metadata": {},
     "output_type": "execute_result"
    }
   ],
   "source": [
    "df"
   ]
  },
  {
   "cell_type": "code",
   "execution_count": 10,
   "id": "spatial-binding",
   "metadata": {},
   "outputs": [
    {
     "data": {
      "text/plain": [
       "(18077, 13)"
      ]
     },
     "execution_count": 10,
     "metadata": {},
     "output_type": "execute_result"
    }
   ],
   "source": [
    "same.shape"
   ]
  },
  {
   "cell_type": "code",
   "execution_count": 8,
   "id": "statewide-minority",
   "metadata": {},
   "outputs": [
    {
     "data": {
      "text/plain": [
       "(115317228, 13)"
      ]
     },
     "execution_count": 8,
     "metadata": {},
     "output_type": "execute_result"
    }
   ],
   "source": [
    "df.shape"
   ]
  },
  {
   "cell_type": "code",
   "execution_count": 2,
   "id": "inside-paint",
   "metadata": {},
   "outputs": [
    {
     "data": {
      "text/plain": [
       "{12: 'winter',\n",
       " 1: 'winter',\n",
       " 2: 'winter',\n",
       " 3: 'spring',\n",
       " 4: 'spring',\n",
       " 5: 'spring',\n",
       " 6: 'summer',\n",
       " 7: 'summer',\n",
       " 8: 'summer',\n",
       " 9: 'fall',\n",
       " 10: 'fall',\n",
       " 11: 'fall'}"
      ]
     },
     "execution_count": 2,
     "metadata": {},
     "output_type": "execute_result"
    }
   ],
   "source": [
    "seasons = {'winter':[12,1,2], \n",
    "           'spring':[3,4,5], \n",
    "           'summer':[6,7,8],\n",
    "           'fall':[9,10,11]}\n",
    "\n",
    "season_mapping = {month:k for k,v in seasons.items() for month in v}\n",
    "season_mapping"
   ]
  },
  {
   "cell_type": "code",
   "execution_count": null,
   "id": "sensitive-pickup",
   "metadata": {},
   "outputs": [],
   "source": [
    "def find_seasons(date):\n",
    "    date.month "
   ]
  }
 ],
 "metadata": {
  "kernelspec": {
   "display_name": "Python 3",
   "language": "python",
   "name": "python3"
  },
  "language_info": {
   "codemirror_mode": {
    "name": "ipython",
    "version": 3
   },
   "file_extension": ".py",
   "mimetype": "text/x-python",
   "name": "python",
   "nbconvert_exporter": "python",
   "pygments_lexer": "ipython3",
   "version": "3.8.5"
  }
 },
 "nbformat": 4,
 "nbformat_minor": 5
}
