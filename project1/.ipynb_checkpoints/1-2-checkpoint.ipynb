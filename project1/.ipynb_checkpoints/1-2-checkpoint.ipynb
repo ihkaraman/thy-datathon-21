{
 "cells": [
  {
   "cell_type": "markdown",
   "id": "christian-analysis",
   "metadata": {},
   "source": [
    "Sizlerden müşterilerin bir sonraki seyahetlerinde tercih edebilecekleri 5 – 7 arası öneri destinasyon \n",
    "tahmini beklenmektedir. Yolcuların öneri listesinde alternatif şehirlerin olmaması beklenmektedir. Buna \n",
    "ilişkin alternatif şehirlerin yer aldığı dosya sizlerle paylaşılmıştır.\n",
    "Model sonucunda, Pazarlama ve Kampanya faaliyetlerinde kullanılmak üzere ayrılmasının anlamlı olacığını \n",
    "düşündüğünüz kriterlere göre model sonuç tablolarını oluşturabilirsiniz. Oluşan sonuçların kullanım \n",
    "senaryolarına ilişkin açıklama yapmanız beklenmektedir. \n",
    "Model oluşturulurken, mevsimselliğin de dikkate alınması beklenmedir. Veriler içeriği aşağıdaki gibidir."
   ]
  },
  {
   "cell_type": "markdown",
   "id": "aboriginal-murray",
   "metadata": {},
   "source": [
    "COLUMN_NAME EXPLANATION SAMPLE\n",
    "\n",
    "drops \n",
    "PRIM_TKT_NUM: Müşteri bilet numarasıdır 2,307,664,176\n",
    "CITY_NM: Varış istasyonunun şehir adıdır ISTANBUL\n",
    "CNTRY_NM: Varış istasyonunun ülke adıdır TURKEY\n",
    "ORG_CITY_NM: Kalkış istasyonunun şehir adıdır ADIYAMAN\n",
    "ORG_CNTRY_NM: Kalkış istasyonunun ülke adıdır TURKEY\n",
    "\n",
    "gropby:\n",
    "CUST_KEY: Müşteriye özel bir numaradır 2670242\n",
    "\n",
    "SEG_LCL_DEP_DT: GMT saat türünden kalkış günü bilgisidir 4/16/2017 0:00\n",
    "\n",
    "ORGN_AP: Kalkış istasyonunun airport kodudur ADF\n",
    "DSTN_AP: Varış istasyonunun airport kodudur IST\n",
    "\n",
    "DOM_INTNL_FLAG: Seyahatin yurtiçi, yurtdışı olduğunu gösterir (D:Domestic, I: International)\n",
    "JRNY_TYP: Seyahatin tek yön mü, gidiş- dönüş mü olduğunu gösterir (O:One-Way, R: Return)\n",
    "TOP1_ORG_MKT_REGN: Müşterinin en çok çıkış yaptığı şehrin Pazarlama birimince  tanımlanan Region bilgisini içerir - Domestic\n",
    "TOP1_ORG_CTY: Müşterinin en çok çıkış yaptığı şehirdir SIVAS"
   ]
  },
  {
   "cell_type": "code",
   "execution_count": 1,
   "id": "japanese-beast",
   "metadata": {},
   "outputs": [],
   "source": [
    "import pandas as pd\n",
    "import numpy as np\n",
    "import pickle\n",
    "from collections import Counter"
   ]
  },
  {
   "cell_type": "code",
   "execution_count": 2,
   "id": "talented-cisco",
   "metadata": {},
   "outputs": [],
   "source": [
    "file_path = r'C:\\Users\\IsmailKaraman\\workspace\\thy\\data\\p1\\BirSonrakiDestinasyonTahminlemeBase.csv'\n",
    "seperator = '|'\n",
    "col_list = ['CUST_KEY', 'SEG_LCL_DEP_DT', 'ORG_CITY_NM', 'CITY_NM', 'DOM_INTNL_FLAG', 'JRNY_TYP',\n",
    "       'TOP1_ORG_MKT_REGN', 'TOP1_ORG_CTY']\n",
    "\n",
    "dtypes = {'CUST_KEY': 'int32',\n",
    "          'ORG_CITY_NM': 'category',\n",
    "          'CITY_NM': 'category',\n",
    "          'DOM_INTNL_FLAG': 'category',\n",
    "          'JRNY_TYP': 'category',\n",
    "          'TOP1_ORG_MKT_REGN': 'category',\n",
    "          'TOP1_ORG_CTY': 'category'}\n",
    "dates = ['SEG_LCL_DEP_DT']"
   ]
  },
  {
   "cell_type": "code",
   "execution_count": 3,
   "id": "timely-documentary",
   "metadata": {},
   "outputs": [],
   "source": [
    "df = pd.read_csv(file_path, usecols=col_list, sep=seperator, parse_dates=dates, encoding='cp1254')"
   ]
  },
  {
   "cell_type": "code",
   "execution_count": 4,
   "id": "polish-philosophy",
   "metadata": {},
   "outputs": [
    {
     "data": {
      "text/plain": [
       "6.873442530632019"
      ]
     },
     "execution_count": 4,
     "metadata": {},
     "output_type": "execute_result"
    }
   ],
   "source": [
    "df.memory_usage().sum()/(1024*1024*1024)"
   ]
  },
  {
   "cell_type": "code",
   "execution_count": 5,
   "id": "documentary-afternoon",
   "metadata": {},
   "outputs": [
    {
     "name": "stdout",
     "output_type": "stream",
     "text": [
      "<class 'pandas.core.frame.DataFrame'>\n",
      "RangeIndex: 115317228 entries, 0 to 115317227\n",
      "Data columns (total 8 columns):\n",
      " #   Column             Dtype         \n",
      "---  ------             -----         \n",
      " 0   CUST_KEY           int64         \n",
      " 1   SEG_LCL_DEP_DT     datetime64[ns]\n",
      " 2   CITY_NM            object        \n",
      " 3   ORG_CITY_NM        object        \n",
      " 4   DOM_INTNL_FLAG     object        \n",
      " 5   JRNY_TYP           object        \n",
      " 6   TOP1_ORG_MKT_REGN  object        \n",
      " 7   TOP1_ORG_CTY       object        \n",
      "dtypes: datetime64[ns](1), int64(1), object(6)\n",
      "memory usage: 6.9+ GB\n"
     ]
    }
   ],
   "source": [
    "df.info()"
   ]
  },
  {
   "cell_type": "code",
   "execution_count": 6,
   "id": "upper-popularity",
   "metadata": {
    "scrolled": true
   },
   "outputs": [
    {
     "data": {
      "text/html": [
       "<div>\n",
       "<style scoped>\n",
       "    .dataframe tbody tr th:only-of-type {\n",
       "        vertical-align: middle;\n",
       "    }\n",
       "\n",
       "    .dataframe tbody tr th {\n",
       "        vertical-align: top;\n",
       "    }\n",
       "\n",
       "    .dataframe thead th {\n",
       "        text-align: right;\n",
       "    }\n",
       "</style>\n",
       "<table border=\"1\" class=\"dataframe\">\n",
       "  <thead>\n",
       "    <tr style=\"text-align: right;\">\n",
       "      <th></th>\n",
       "      <th>CUST_KEY</th>\n",
       "      <th>SEG_LCL_DEP_DT</th>\n",
       "      <th>CITY_NM</th>\n",
       "      <th>ORG_CITY_NM</th>\n",
       "      <th>DOM_INTNL_FLAG</th>\n",
       "      <th>JRNY_TYP</th>\n",
       "      <th>TOP1_ORG_MKT_REGN</th>\n",
       "      <th>TOP1_ORG_CTY</th>\n",
       "    </tr>\n",
       "  </thead>\n",
       "  <tbody>\n",
       "    <tr>\n",
       "      <th>0</th>\n",
       "      <td>2670242</td>\n",
       "      <td>2017-06-24</td>\n",
       "      <td>ISTANBUL</td>\n",
       "      <td>SIVAS</td>\n",
       "      <td>D</td>\n",
       "      <td>O</td>\n",
       "      <td>Domestic</td>\n",
       "      <td>SIVAS</td>\n",
       "    </tr>\n",
       "    <tr>\n",
       "      <th>1</th>\n",
       "      <td>170285826</td>\n",
       "      <td>2019-05-21</td>\n",
       "      <td>TEL AVIV</td>\n",
       "      <td>MIAMI</td>\n",
       "      <td>I</td>\n",
       "      <td>R</td>\n",
       "      <td>America</td>\n",
       "      <td>MIAMI</td>\n",
       "    </tr>\n",
       "    <tr>\n",
       "      <th>2</th>\n",
       "      <td>171132805</td>\n",
       "      <td>2019-06-25</td>\n",
       "      <td>KUTAHYA</td>\n",
       "      <td>FRANKFURT</td>\n",
       "      <td>I</td>\n",
       "      <td>R</td>\n",
       "      <td>Central Europe</td>\n",
       "      <td>FRANKFURT</td>\n",
       "    </tr>\n",
       "  </tbody>\n",
       "</table>\n",
       "</div>"
      ],
      "text/plain": [
       "    CUST_KEY SEG_LCL_DEP_DT   CITY_NM ORG_CITY_NM DOM_INTNL_FLAG JRNY_TYP  \\\n",
       "0    2670242     2017-06-24  ISTANBUL       SIVAS              D        O   \n",
       "1  170285826     2019-05-21  TEL AVIV       MIAMI              I        R   \n",
       "2  171132805     2019-06-25   KUTAHYA   FRANKFURT              I        R   \n",
       "\n",
       "  TOP1_ORG_MKT_REGN TOP1_ORG_CTY  \n",
       "0          Domestic        SIVAS  \n",
       "1           America        MIAMI  \n",
       "2    Central Europe    FRANKFURT  "
      ]
     },
     "execution_count": 6,
     "metadata": {},
     "output_type": "execute_result"
    }
   ],
   "source": [
    "df.head(3)"
   ]
  },
  {
   "cell_type": "code",
   "execution_count": 7,
   "id": "committed-course",
   "metadata": {},
   "outputs": [],
   "source": [
    "for col in ['ORG_CITY_NM', 'CITY_NM', 'TOP1_ORG_MKT_REGN', 'TOP1_ORG_CTY']:\n",
    "    df[col] = df[col].str.lower()"
   ]
  },
  {
   "cell_type": "code",
   "execution_count": 8,
   "id": "embedded-tenant",
   "metadata": {},
   "outputs": [],
   "source": [
    "df = df[df['ORG_CITY_NM']!=df['CITY_NM']]"
   ]
  },
  {
   "cell_type": "code",
   "execution_count": 9,
   "id": "hundred-share",
   "metadata": {},
   "outputs": [
    {
     "data": {
      "text/plain": [
       "94242881"
      ]
     },
     "execution_count": 9,
     "metadata": {},
     "output_type": "execute_result"
    }
   ],
   "source": [
    "# # of customers that has more than 1 flight\n",
    "sum(df['CUST_KEY'].duplicated(False))"
   ]
  },
  {
   "cell_type": "code",
   "execution_count": 10,
   "id": "hollow-builder",
   "metadata": {},
   "outputs": [
    {
     "data": {
      "text/plain": [
       "(114790271, 8)"
      ]
     },
     "execution_count": 10,
     "metadata": {},
     "output_type": "execute_result"
    }
   ],
   "source": [
    "df.shape"
   ]
  },
  {
   "cell_type": "code",
   "execution_count": 11,
   "id": "forward-assignment",
   "metadata": {},
   "outputs": [
    {
     "name": "stdout",
     "output_type": "stream",
     "text": [
      "<class 'pandas.core.frame.DataFrame'>\n",
      "Int64Index: 114790271 entries, 0 to 115317227\n",
      "Data columns (total 8 columns):\n",
      " #   Column             Dtype         \n",
      "---  ------             -----         \n",
      " 0   CUST_KEY           int64         \n",
      " 1   SEG_LCL_DEP_DT     datetime64[ns]\n",
      " 2   CITY_NM            object        \n",
      " 3   ORG_CITY_NM        object        \n",
      " 4   DOM_INTNL_FLAG     object        \n",
      " 5   JRNY_TYP           object        \n",
      " 6   TOP1_ORG_MKT_REGN  object        \n",
      " 7   TOP1_ORG_CTY       object        \n",
      "dtypes: datetime64[ns](1), int64(1), object(6)\n",
      "memory usage: 7.7+ GB\n"
     ]
    }
   ],
   "source": [
    "df.info()"
   ]
  },
  {
   "cell_type": "code",
   "execution_count": 12,
   "id": "lasting-traffic",
   "metadata": {},
   "outputs": [
    {
     "data": {
      "text/plain": [
       "CUST_KEY                  0\n",
       "SEG_LCL_DEP_DT            0\n",
       "CITY_NM               51284\n",
       "ORG_CITY_NM           39349\n",
       "DOM_INTNL_FLAG         4791\n",
       "JRNY_TYP              22935\n",
       "TOP1_ORG_MKT_REGN    184214\n",
       "TOP1_ORG_CTY         184129\n",
       "dtype: int64"
      ]
     },
     "execution_count": 12,
     "metadata": {},
     "output_type": "execute_result"
    }
   ],
   "source": [
    "df.isna().sum()"
   ]
  },
  {
   "cell_type": "code",
   "execution_count": 13,
   "id": "psychological-earth",
   "metadata": {},
   "outputs": [
    {
     "name": "stdout",
     "output_type": "stream",
     "text": [
      "Couldn't find program: 'False'\n"
     ]
    }
   ],
   "source": [
    "%%script False\n",
    "import missingno as msgn\n",
    "#read in data here\n",
    "msgn.matrix(df,color=(0.45, 0.75, 0.25))"
   ]
  },
  {
   "cell_type": "code",
   "execution_count": 14,
   "id": "warming-watch",
   "metadata": {},
   "outputs": [],
   "source": [
    "df.dropna(subset=['CITY_NM', 'ORG_CITY_NM', 'TOP1_ORG_CTY'],inplace=True)"
   ]
  },
  {
   "cell_type": "code",
   "execution_count": 15,
   "id": "greater-antarctica",
   "metadata": {
    "scrolled": true
   },
   "outputs": [
    {
     "data": {
      "text/plain": [
       "CUST_KEY                0\n",
       "SEG_LCL_DEP_DT          0\n",
       "CITY_NM                 0\n",
       "ORG_CITY_NM             0\n",
       "DOM_INTNL_FLAG       2506\n",
       "JRNY_TYP             4539\n",
       "TOP1_ORG_MKT_REGN      83\n",
       "TOP1_ORG_CTY            0\n",
       "dtype: int64"
      ]
     },
     "execution_count": 15,
     "metadata": {},
     "output_type": "execute_result"
    }
   ],
   "source": [
    "df.isna().sum()"
   ]
  },
  {
   "cell_type": "code",
   "execution_count": 17,
   "id": "phantom-apartment",
   "metadata": {},
   "outputs": [],
   "source": []
  },
  {
   "cell_type": "code",
   "execution_count": 18,
   "id": "widespread-fiction",
   "metadata": {},
   "outputs": [
    {
     "data": {
      "text/plain": [
       "(94165087, 8)"
      ]
     },
     "execution_count": 18,
     "metadata": {},
     "output_type": "execute_result"
    }
   ],
   "source": [
    "df.shape"
   ]
  },
  {
   "cell_type": "code",
   "execution_count": 19,
   "id": "welsh-wayne",
   "metadata": {},
   "outputs": [],
   "source": [
    "# converting columns to corresponding column types\n",
    "\n",
    "for k, v in dtypes.items():\n",
    "    df[k] = df[k].astype(v)"
   ]
  },
  {
   "cell_type": "code",
   "execution_count": 20,
   "id": "creative-combining",
   "metadata": {},
   "outputs": [],
   "source": [
    "# finding flight pairs as dep-arr\n",
    "flight_pairs = list(zip(df['ORG_CITY_NM'],df['CITY_NM']))\n",
    "# counting flight pairs\n",
    "pair_counts = Counter(flight_pairs)"
   ]
  },
  {
   "cell_type": "code",
   "execution_count": 21,
   "id": "drawn-burns",
   "metadata": {},
   "outputs": [
    {
     "data": {
      "text/plain": [
       "[(('istanbul', 'ankara'), 3111984),\n",
       " (('istanbul', 'izmir'), 3059243),\n",
       " (('ankara', 'istanbul'), 2900154),\n",
       " (('izmir', 'istanbul'), 2592345),\n",
       " (('istanbul', 'antalya'), 2151877),\n",
       " (('istanbul', 'adana'), 1762647),\n",
       " (('istanbul', 'trabzon'), 1624178),\n",
       " (('adana', 'istanbul'), 1564683),\n",
       " (('antalya', 'istanbul'), 1533001),\n",
       " (('istanbul', 'bodrum'), 1383184)]"
      ]
     },
     "execution_count": 21,
     "metadata": {},
     "output_type": "execute_result"
    }
   ],
   "source": [
    "# top 10 flight pairs\n",
    "sorted(pair_counts.items(), key=lambda pair: pair[1], reverse=True)[0:10]"
   ]
  },
  {
   "cell_type": "code",
   "execution_count": 22,
   "id": "integral-deviation",
   "metadata": {},
   "outputs": [],
   "source": [
    "def find_transitions(df):\n",
    "    \n",
    "    flight_pairs = list(zip(df['ORG_CITY_NM'], df['CITY_NM']))\n",
    "    pair_counts = Counter(flight_pairs)\n",
    "    all_cities = set(list(df['ORG_CITY_NM'].unique()) + list(df['CITY_NM'].unique()))\n",
    "    shape = (len(all_cities), len(all_cities))\n",
    "    \n",
    "    transition_df = pd.DataFrame(np.zeros(shape),index=sorted(all_cities), columns=sorted(all_cities))\n",
    "    \n",
    "    for k, v in pair_counts.items():\n",
    "        transition_df.loc[k[0], k[1]] = v\n",
    "    \n",
    "    return transition_df.div(transition_df.sum(axis=1)+0.0000001, axis=0)"
   ]
  },
  {
   "cell_type": "code",
   "execution_count": 23,
   "id": "civilian-tactics",
   "metadata": {
    "scrolled": true
   },
   "outputs": [
    {
     "data": {
      "text/plain": [
       "<pandas.core.groupby.generic.DataFrameGroupBy object at 0x000001E5142BE5E0>"
      ]
     },
     "execution_count": 23,
     "metadata": {},
     "output_type": "execute_result"
    }
   ],
   "source": [
    "grouped_df = df.sort_values(by=['CUST_KEY', 'SEG_LCL_DEP_DT']).groupby(by='CUST_KEY')\n",
    "grouped_df"
   ]
  },
  {
   "cell_type": "code",
   "execution_count": 52,
   "id": "several-empire",
   "metadata": {
    "scrolled": true
   },
   "outputs": [
    {
     "name": "stdout",
     "output_type": "stream",
     "text": [
      "Couldn't find program: 'False'\n"
     ]
    }
   ],
   "source": [
    "%%script False\n",
    "test_indexes = grouped_df['SEG_LCL_DEP_DT'].idxmax()\n",
    "with open(\"test_indexes.pickle\",\"wb\") as file:\n",
    "    pickle.dump(test_indexes,file)"
   ]
  },
  {
   "cell_type": "code",
   "execution_count": 49,
   "id": "comparative-compact",
   "metadata": {},
   "outputs": [],
   "source": [
    "with open(\"test_indexes.pickle\",'rb') as file:\n",
    "    test_indexes = pickle.load(file)"
   ]
  },
  {
   "cell_type": "markdown",
   "id": "palestinian-binary",
   "metadata": {},
   "source": [
    "## splitting data as train and test"
   ]
  },
  {
   "cell_type": "code",
   "execution_count": null,
   "id": "earlier-sleeping",
   "metadata": {},
   "outputs": [],
   "source": [
    "# customers who has 1 flights used as test\n",
    "\n",
    "test_df1 = df.drop_duplicates(subset=['CUST_KEY'], keep=False)\n",
    "\n",
    "df = df[df['CUST_KEY'].duplicated(False)]\n",
    "\n",
    "test_df2 = df.loc[test_indexes]\n",
    "\n",
    "train_df = df.drop(test_indexes)"
   ]
  },
  {
   "cell_type": "code",
   "execution_count": 48,
   "id": "mathematical-produce",
   "metadata": {},
   "outputs": [],
   "source": []
  },
  {
   "cell_type": "code",
   "execution_count": 57,
   "id": "dressed-greenhouse",
   "metadata": {},
   "outputs": [
    {
     "data": {
      "text/html": [
       "<div>\n",
       "<style scoped>\n",
       "    .dataframe tbody tr th:only-of-type {\n",
       "        vertical-align: middle;\n",
       "    }\n",
       "\n",
       "    .dataframe tbody tr th {\n",
       "        vertical-align: top;\n",
       "    }\n",
       "\n",
       "    .dataframe thead th {\n",
       "        text-align: right;\n",
       "    }\n",
       "</style>\n",
       "<table border=\"1\" class=\"dataframe\">\n",
       "  <thead>\n",
       "    <tr style=\"text-align: right;\">\n",
       "      <th></th>\n",
       "      <th>CUST_KEY</th>\n",
       "      <th>CITY_NM</th>\n",
       "      <th>ORG_CITY_NM</th>\n",
       "      <th>DOM_INTNL_FLAG</th>\n",
       "      <th>JRNY_TYP</th>\n",
       "      <th>TOP1_ORG_MKT_REGN</th>\n",
       "      <th>TOP1_ORG_CTY</th>\n",
       "    </tr>\n",
       "    <tr>\n",
       "      <th>SEG_LCL_DEP_DT</th>\n",
       "      <th></th>\n",
       "      <th></th>\n",
       "      <th></th>\n",
       "      <th></th>\n",
       "      <th></th>\n",
       "      <th></th>\n",
       "      <th></th>\n",
       "    </tr>\n",
       "  </thead>\n",
       "  <tbody>\n",
       "    <tr>\n",
       "      <th>2016-02-04</th>\n",
       "      <td>37405</td>\n",
       "      <td>37405</td>\n",
       "      <td>37405</td>\n",
       "      <td>37405</td>\n",
       "      <td>37405</td>\n",
       "      <td>37405</td>\n",
       "      <td>37405</td>\n",
       "    </tr>\n",
       "    <tr>\n",
       "      <th>2016-02-05</th>\n",
       "      <td>39266</td>\n",
       "      <td>39266</td>\n",
       "      <td>39266</td>\n",
       "      <td>39266</td>\n",
       "      <td>39265</td>\n",
       "      <td>39266</td>\n",
       "      <td>39266</td>\n",
       "    </tr>\n",
       "    <tr>\n",
       "      <th>2016-02-06</th>\n",
       "      <td>34864</td>\n",
       "      <td>34864</td>\n",
       "      <td>34864</td>\n",
       "      <td>34864</td>\n",
       "      <td>34864</td>\n",
       "      <td>34864</td>\n",
       "      <td>34864</td>\n",
       "    </tr>\n",
       "    <tr>\n",
       "      <th>2016-02-07</th>\n",
       "      <td>40675</td>\n",
       "      <td>40675</td>\n",
       "      <td>40675</td>\n",
       "      <td>40675</td>\n",
       "      <td>40670</td>\n",
       "      <td>40675</td>\n",
       "      <td>40675</td>\n",
       "    </tr>\n",
       "    <tr>\n",
       "      <th>2016-02-08</th>\n",
       "      <td>37951</td>\n",
       "      <td>37951</td>\n",
       "      <td>37951</td>\n",
       "      <td>37951</td>\n",
       "      <td>37951</td>\n",
       "      <td>37951</td>\n",
       "      <td>37951</td>\n",
       "    </tr>\n",
       "    <tr>\n",
       "      <th>...</th>\n",
       "      <td>...</td>\n",
       "      <td>...</td>\n",
       "      <td>...</td>\n",
       "      <td>...</td>\n",
       "      <td>...</td>\n",
       "      <td>...</td>\n",
       "      <td>...</td>\n",
       "    </tr>\n",
       "    <tr>\n",
       "      <th>2021-01-30</th>\n",
       "      <td>13008</td>\n",
       "      <td>13008</td>\n",
       "      <td>13008</td>\n",
       "      <td>13004</td>\n",
       "      <td>13001</td>\n",
       "      <td>13008</td>\n",
       "      <td>13008</td>\n",
       "    </tr>\n",
       "    <tr>\n",
       "      <th>2021-01-31</th>\n",
       "      <td>16816</td>\n",
       "      <td>16816</td>\n",
       "      <td>16816</td>\n",
       "      <td>16814</td>\n",
       "      <td>16809</td>\n",
       "      <td>16816</td>\n",
       "      <td>16816</td>\n",
       "    </tr>\n",
       "    <tr>\n",
       "      <th>2021-02-01</th>\n",
       "      <td>21057</td>\n",
       "      <td>21057</td>\n",
       "      <td>21057</td>\n",
       "      <td>21052</td>\n",
       "      <td>21052</td>\n",
       "      <td>21057</td>\n",
       "      <td>21057</td>\n",
       "    </tr>\n",
       "    <tr>\n",
       "      <th>2021-02-02</th>\n",
       "      <td>18123</td>\n",
       "      <td>18123</td>\n",
       "      <td>18123</td>\n",
       "      <td>18121</td>\n",
       "      <td>18119</td>\n",
       "      <td>18123</td>\n",
       "      <td>18123</td>\n",
       "    </tr>\n",
       "    <tr>\n",
       "      <th>2021-02-03</th>\n",
       "      <td>21185</td>\n",
       "      <td>21185</td>\n",
       "      <td>21185</td>\n",
       "      <td>21181</td>\n",
       "      <td>21181</td>\n",
       "      <td>21185</td>\n",
       "      <td>21185</td>\n",
       "    </tr>\n",
       "  </tbody>\n",
       "</table>\n",
       "<p>1827 rows × 7 columns</p>\n",
       "</div>"
      ],
      "text/plain": [
       "                CUST_KEY  CITY_NM  ORG_CITY_NM  DOM_INTNL_FLAG  JRNY_TYP  \\\n",
       "SEG_LCL_DEP_DT                                                             \n",
       "2016-02-04         37405    37405        37405           37405     37405   \n",
       "2016-02-05         39266    39266        39266           39266     39265   \n",
       "2016-02-06         34864    34864        34864           34864     34864   \n",
       "2016-02-07         40675    40675        40675           40675     40670   \n",
       "2016-02-08         37951    37951        37951           37951     37951   \n",
       "...                  ...      ...          ...             ...       ...   \n",
       "2021-01-30         13008    13008        13008           13004     13001   \n",
       "2021-01-31         16816    16816        16816           16814     16809   \n",
       "2021-02-01         21057    21057        21057           21052     21052   \n",
       "2021-02-02         18123    18123        18123           18121     18119   \n",
       "2021-02-03         21185    21185        21185           21181     21181   \n",
       "\n",
       "                TOP1_ORG_MKT_REGN  TOP1_ORG_CTY  \n",
       "SEG_LCL_DEP_DT                                   \n",
       "2016-02-04                  37405         37405  \n",
       "2016-02-05                  39266         39266  \n",
       "2016-02-06                  34864         34864  \n",
       "2016-02-07                  40675         40675  \n",
       "2016-02-08                  37951         37951  \n",
       "...                           ...           ...  \n",
       "2021-01-30                  13008         13008  \n",
       "2021-01-31                  16816         16816  \n",
       "2021-02-01                  21057         21057  \n",
       "2021-02-02                  18123         18123  \n",
       "2021-02-03                  21185         21185  \n",
       "\n",
       "[1827 rows x 7 columns]"
      ]
     },
     "execution_count": 57,
     "metadata": {},
     "output_type": "execute_result"
    }
   ],
   "source": [
    "# use this for graph\n",
    "count_by_days = df.groupby(by='SEG_LCL_DEP_DT').count()\n",
    "count_by_days"
   ]
  },
  {
   "cell_type": "code",
   "execution_count": 60,
   "id": "bulgarian-catering",
   "metadata": {},
   "outputs": [
    {
     "data": {
      "text/plain": [
       "DatetimeIndex(['2016-02-04', '2016-02-05', '2016-02-06', '2016-02-07',\n",
       "               '2016-02-08', '2016-02-09', '2016-02-10', '2016-02-11',\n",
       "               '2016-02-12', '2016-02-13',\n",
       "               ...\n",
       "               '2021-01-25', '2021-01-26', '2021-01-27', '2021-01-28',\n",
       "               '2021-01-29', '2021-01-30', '2021-01-31', '2021-02-01',\n",
       "               '2021-02-02', '2021-02-03'],\n",
       "              dtype='datetime64[ns]', name='SEG_LCL_DEP_DT', length=1827, freq=None)"
      ]
     },
     "execution_count": 60,
     "metadata": {},
     "output_type": "execute_result"
    }
   ],
   "source": [
    "count_by_days.index"
   ]
  },
  {
   "cell_type": "code",
   "execution_count": 63,
   "id": "hungry-native",
   "metadata": {},
   "outputs": [
    {
     "data": {
      "image/png": "[encoded data removed]",
      "text/plain": [
       "<Figure size 864x432 with 1 Axes>"
      ]
     },
     "metadata": {
      "needs_background": "light"
     },
     "output_type": "display_data"
    }
   ],
   "source": [
    "ax = count_by_days.plot( y='CUST_KEY', figsize=(12,6))"
   ]
  },
  {
   "cell_type": "code",
   "execution_count": null,
   "id": "fabulous-failure",
   "metadata": {},
   "outputs": [],
   "source": [
    "df.groupby(['Mt'], sort=False)['count'].max()"
   ]
  },
  {
   "cell_type": "code",
   "execution_count": null,
   "id": "western-beatles",
   "metadata": {},
   "outputs": [],
   "source": [
    "def find_customer_transition(cust_no, df):\n",
    "    \n",
    "    cust_df = df[df['CUST_KEY']==cust_no]\n",
    "    return find_transitions(cust_df)"
   ]
  },
  {
   "cell_type": "code",
   "execution_count": null,
   "id": "purple-membrane",
   "metadata": {},
   "outputs": [],
   "source": [
    "def find_seasonal_transitions(df):\n",
    "    df"
   ]
  },
  {
   "cell_type": "code",
   "execution_count": null,
   "id": "swedish-representation",
   "metadata": {},
   "outputs": [],
   "source": [
    "seasons = {'winter':[12,1,2], \n",
    "           'spring':[3,4,5], \n",
    "           'summer':[6,7,8],\n",
    "           'fall':[9,10,11]}\n",
    "\n",
    "season_mapping = {month:k for k,v in seasons.items() for month in v}\n",
    "season_mapping"
   ]
  },
  {
   "cell_type": "code",
   "execution_count": null,
   "id": "published-plymouth",
   "metadata": {},
   "outputs": [],
   "source": [
    "df['season'] = df['SEG_LCL_DEP_DT'].apply(lambda x: season_mapping[x.month])"
   ]
  },
  {
   "cell_type": "code",
   "execution_count": 53,
   "id": "genuine-chamber",
   "metadata": {},
   "outputs": [
    {
     "data": {
      "text/plain": [
       "(94165087, 8)"
      ]
     },
     "execution_count": 53,
     "metadata": {},
     "output_type": "execute_result"
    }
   ],
   "source": [
    "df.shape"
   ]
  },
  {
   "cell_type": "code",
   "execution_count": 56,
   "id": "competent-album",
   "metadata": {},
   "outputs": [
    {
     "data": {
      "text/html": [
       "<div>\n",
       "<style scoped>\n",
       "    .dataframe tbody tr th:only-of-type {\n",
       "        vertical-align: middle;\n",
       "    }\n",
       "\n",
       "    .dataframe tbody tr th {\n",
       "        vertical-align: top;\n",
       "    }\n",
       "\n",
       "    .dataframe thead th {\n",
       "        text-align: right;\n",
       "    }\n",
       "</style>\n",
       "<table border=\"1\" class=\"dataframe\">\n",
       "  <thead>\n",
       "    <tr style=\"text-align: right;\">\n",
       "      <th></th>\n",
       "      <th>CUST_KEY</th>\n",
       "      <th>SEG_LCL_DEP_DT</th>\n",
       "      <th>CITY_NM</th>\n",
       "      <th>ORG_CITY_NM</th>\n",
       "      <th>DOM_INTNL_FLAG</th>\n",
       "      <th>JRNY_TYP</th>\n",
       "      <th>TOP1_ORG_MKT_REGN</th>\n",
       "      <th>TOP1_ORG_CTY</th>\n",
       "    </tr>\n",
       "  </thead>\n",
       "  <tbody>\n",
       "    <tr>\n",
       "      <th>44439389</th>\n",
       "      <td>5</td>\n",
       "      <td>2020-08-03</td>\n",
       "      <td>istanbul</td>\n",
       "      <td>trabzon</td>\n",
       "      <td>D</td>\n",
       "      <td>O</td>\n",
       "      <td>domestic</td>\n",
       "      <td>istanbul</td>\n",
       "    </tr>\n",
       "    <tr>\n",
       "      <th>38529904</th>\n",
       "      <td>7</td>\n",
       "      <td>2017-09-06</td>\n",
       "      <td>istanbul</td>\n",
       "      <td>bodrum</td>\n",
       "      <td>D</td>\n",
       "      <td>O</td>\n",
       "      <td>domestic</td>\n",
       "      <td>bodrum</td>\n",
       "    </tr>\n",
       "    <tr>\n",
       "      <th>86231719</th>\n",
       "      <td>10</td>\n",
       "      <td>2016-09-06</td>\n",
       "      <td>ankara</td>\n",
       "      <td>istanbul</td>\n",
       "      <td>D</td>\n",
       "      <td>O</td>\n",
       "      <td>domestic</td>\n",
       "      <td>istanbul</td>\n",
       "    </tr>\n",
       "    <tr>\n",
       "      <th>25922161</th>\n",
       "      <td>11</td>\n",
       "      <td>2020-01-01</td>\n",
       "      <td>ankara</td>\n",
       "      <td>istanbul</td>\n",
       "      <td>D</td>\n",
       "      <td>O</td>\n",
       "      <td>domestic</td>\n",
       "      <td>ankara</td>\n",
       "    </tr>\n",
       "    <tr>\n",
       "      <th>75040131</th>\n",
       "      <td>14</td>\n",
       "      <td>2017-07-28</td>\n",
       "      <td>samsun</td>\n",
       "      <td>adana</td>\n",
       "      <td>D</td>\n",
       "      <td>O</td>\n",
       "      <td>domestic</td>\n",
       "      <td>adana</td>\n",
       "    </tr>\n",
       "    <tr>\n",
       "      <th>...</th>\n",
       "      <td>...</td>\n",
       "      <td>...</td>\n",
       "      <td>...</td>\n",
       "      <td>...</td>\n",
       "      <td>...</td>\n",
       "      <td>...</td>\n",
       "      <td>...</td>\n",
       "      <td>...</td>\n",
       "    </tr>\n",
       "    <tr>\n",
       "      <th>85625247</th>\n",
       "      <td>196041197</td>\n",
       "      <td>2020-11-04</td>\n",
       "      <td>istanbul</td>\n",
       "      <td>tehran</td>\n",
       "      <td>I</td>\n",
       "      <td>R</td>\n",
       "      <td>middle east - cyprus</td>\n",
       "      <td>tehran</td>\n",
       "    </tr>\n",
       "    <tr>\n",
       "      <th>18883353</th>\n",
       "      <td>196044075</td>\n",
       "      <td>2020-02-09</td>\n",
       "      <td>igdir</td>\n",
       "      <td>ankara</td>\n",
       "      <td>D</td>\n",
       "      <td>R</td>\n",
       "      <td>domestic</td>\n",
       "      <td>ankara</td>\n",
       "    </tr>\n",
       "    <tr>\n",
       "      <th>38052689</th>\n",
       "      <td>196158080</td>\n",
       "      <td>2021-01-28</td>\n",
       "      <td>ankara</td>\n",
       "      <td>istanbul</td>\n",
       "      <td>D</td>\n",
       "      <td>R</td>\n",
       "      <td>domestic</td>\n",
       "      <td>istanbul</td>\n",
       "    </tr>\n",
       "    <tr>\n",
       "      <th>63771921</th>\n",
       "      <td>196230523</td>\n",
       "      <td>2020-02-24</td>\n",
       "      <td>istanbul</td>\n",
       "      <td>kayseri</td>\n",
       "      <td>D</td>\n",
       "      <td>R</td>\n",
       "      <td>domestic</td>\n",
       "      <td>kayseri</td>\n",
       "    </tr>\n",
       "    <tr>\n",
       "      <th>67041565</th>\n",
       "      <td>196305197</td>\n",
       "      <td>2021-01-18</td>\n",
       "      <td>izmir</td>\n",
       "      <td>istanbul</td>\n",
       "      <td>D</td>\n",
       "      <td>O</td>\n",
       "      <td>domestic</td>\n",
       "      <td>istanbul</td>\n",
       "    </tr>\n",
       "  </tbody>\n",
       "</table>\n",
       "<p>16010261 rows × 8 columns</p>\n",
       "</div>"
      ],
      "text/plain": [
       "           CUST_KEY SEG_LCL_DEP_DT   CITY_NM ORG_CITY_NM DOM_INTNL_FLAG  \\\n",
       "44439389          5     2020-08-03  istanbul     trabzon              D   \n",
       "38529904          7     2017-09-06  istanbul      bodrum              D   \n",
       "86231719         10     2016-09-06    ankara    istanbul              D   \n",
       "25922161         11     2020-01-01    ankara    istanbul              D   \n",
       "75040131         14     2017-07-28    samsun       adana              D   \n",
       "...             ...            ...       ...         ...            ...   \n",
       "85625247  196041197     2020-11-04  istanbul      tehran              I   \n",
       "18883353  196044075     2020-02-09     igdir      ankara              D   \n",
       "38052689  196158080     2021-01-28    ankara    istanbul              D   \n",
       "63771921  196230523     2020-02-24  istanbul     kayseri              D   \n",
       "67041565  196305197     2021-01-18     izmir    istanbul              D   \n",
       "\n",
       "         JRNY_TYP     TOP1_ORG_MKT_REGN TOP1_ORG_CTY  \n",
       "44439389        O              domestic     istanbul  \n",
       "38529904        O              domestic       bodrum  \n",
       "86231719        O              domestic     istanbul  \n",
       "25922161        O              domestic       ankara  \n",
       "75040131        O              domestic        adana  \n",
       "...           ...                   ...          ...  \n",
       "85625247        R  middle east - cyprus       tehran  \n",
       "18883353        R              domestic       ankara  \n",
       "38052689        R              domestic     istanbul  \n",
       "63771921        R              domestic      kayseri  \n",
       "67041565        O              domestic     istanbul  \n",
       "\n",
       "[16010261 rows x 8 columns]"
      ]
     },
     "execution_count": 56,
     "metadata": {},
     "output_type": "execute_result"
    }
   ],
   "source": []
  },
  {
   "cell_type": "code",
   "execution_count": 54,
   "id": "changing-buffalo",
   "metadata": {},
   "outputs": [
    {
     "data": {
      "text/plain": [
       "(78154826, 8)"
      ]
     },
     "execution_count": 54,
     "metadata": {},
     "output_type": "execute_result"
    }
   ],
   "source": [
    "df\n"
   ]
  },
  {
   "cell_type": "code",
   "execution_count": null,
   "id": "collaborative-citation",
   "metadata": {},
   "outputs": [],
   "source": []
  },
  {
   "cell_type": "code",
   "execution_count": 55,
   "id": "explicit-walker",
   "metadata": {},
   "outputs": [
    {
     "data": {
      "text/plain": [
       "16010261"
      ]
     },
     "execution_count": 55,
     "metadata": {},
     "output_type": "execute_result"
    }
   ],
   "source": [
    "len(df['CUST_KEY'].unique())"
   ]
  },
  {
   "cell_type": "code",
   "execution_count": null,
   "id": "rocky-possession",
   "metadata": {},
   "outputs": [],
   "source": [
    "split data as train - test\n",
    "    train data - first n-1 flights of customers that has at least 2 flights\n",
    "    test data - customers that has only 1 flight and last flights of customer who has at least 2 flights\n",
    "find seasons for each date\n",
    "\n",
    "\n",
    "write a function that predicts next 5-7 flights:\n",
    "    \n",
    "    args: customer_flights, general_flights, season, seasonal_flights\n",
    "    return: predictions with probabilities\n",
    "    \n",
    "    find general probabilities\n",
    "    find seasonal transition probabilities\n",
    "    find customer based transitions\n",
    "    find new transition matrix using below formula\n",
    "    get max 5-7 probabilities according to seasons\n",
    "    \n",
    "\n",
    "    \n",
    "\n",
    "    \n",
    "\n",
    "\n",
    "# solution\n",
    "x1: general\n",
    "x2: customer based\n",
    "x3: seasonality based\n",
    "    \n",
    "x1*w1 + x2*w2 + x3*w3\n",
    "w1 = 1 \n",
    "w2: flight number\n",
    "w3: seasonality weight\n",
    "\n",
    "normalize as w1 + w2 + w3 = 1\n",
    "optimise w1, w2, w3\n",
    "\n",
    "def predict(cust_no):\n",
    "    \n",
    "    \n",
    "    "
   ]
  },
  {
   "cell_type": "code",
   "execution_count": null,
   "id": "ultimate-charles",
   "metadata": {},
   "outputs": [],
   "source": [
    "simple markov model\n",
    "https://github.com/ashwinmj/word-prediction/blob/master/MarkovModel.ipynb\n",
    "\n",
    "viterbi\n",
    "https://www.kaggle.com/friedchips/the-viterbi-algorithm-a-complete-solution\n",
    "    \n",
    "    \n",
    "next destination 5-7\n",
    "can we guess these from next destination's next destination"
   ]
  }
 ],
 "metadata": {
  "kernelspec": {
   "display_name": "Python 3",
   "language": "python",
   "name": "python3"
  },
  "language_info": {
   "codemirror_mode": {
    "name": "ipython",
    "version": 3
   },
   "file_extension": ".py",
   "mimetype": "text/x-python",
   "name": "python",
   "nbconvert_exporter": "python",
   "pygments_lexer": "ipython3",
   "version": "3.8.5"
  }
 },
 "nbformat": 4,
 "nbformat_minor": 5
}
