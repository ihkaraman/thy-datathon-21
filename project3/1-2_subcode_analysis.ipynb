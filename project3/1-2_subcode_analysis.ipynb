{
 "cells": [
  {
   "cell_type": "code",
   "execution_count": 1,
   "id": "honey-pathology",
   "metadata": {},
   "outputs": [
    {
     "name": "stdout",
     "output_type": "stream",
     "text": [
      "Couldn't find program: 'False'\n"
     ]
    }
   ],
   "source": [
    "%%script False\n",
    "# installs for new libraries\n",
    "pip install phik\n",
    "pip install pandas-profiling\n",
    "pip install missingno\n",
    "pip install plotly"
   ]
  },
  {
   "cell_type": "code",
   "execution_count": 2,
   "id": "numerous-excuse",
   "metadata": {},
   "outputs": [],
   "source": [
    "import pandas as pd\n",
    "from datetime import datetime, timedelta\n",
    "import numpy as np\n",
    "import seaborn as sns\n",
    "import matplotlib.pyplot as plt\n",
    "#from pandas_profiling import ProfileReport\n",
    "import missingno as msgn\n",
    "#from phik.report import plot_correlation_matrix\n",
    "import seaborn as sns\n",
    "import numpy as np\n",
    "import matplotlib.pyplot as plt\n",
    "import statsmodels.api as sm\n",
    "import pylab as py\n",
    "import plotly.express as px\n",
    "from collections import Counter\n",
    "from sklearn.model_selection import train_test_split\n",
    "\n",
    "from sklearn.model_selection import cross_val_score\n",
    "from sklearn.feature_selection import f_classif\n",
    "from sklearn.model_selection import StratifiedKFold\n",
    "\n",
    "from sklearn.preprocessing import PowerTransformer\n",
    "\n",
    "from sklearn.compose import ColumnTransformer\n",
    "from sklearn.pipeline import Pipeline\n",
    "from sklearn.impute import SimpleImputer\n",
    "from sklearn.preprocessing import StandardScaler, OneHotEncoder\n",
    "from sklearn.linear_model import LogisticRegression\n",
    "from sklearn.model_selection import GridSearchCV\n",
    "\n",
    "from sklearn.metrics import classification_report, accuracy_score, confusion_matrix, ConfusionMatrixDisplay\n",
    "from sklearn.utils.class_weight import compute_class_weight\n",
    "import numpy as np\n",
    "from sklearn.ensemble import RandomForestClassifier\n",
    "from sklearn.model_selection import train_test_split\n",
    "#import shap\n",
    "\n",
    "from sklearn.feature_selection import SelectKBest\n",
    "from sklearn.feature_selection import mutual_info_classif\n",
    "from sklearn.model_selection import cross_validate\n",
    "\n",
    "from sklearn.metrics import roc_curve\n",
    "from sklearn.metrics import precision_recall_curve\n",
    "from matplotlib import pyplot\n",
    "from numpy import argmax\n",
    "from sklearn.metrics import f1_score\n",
    "from sklearn.ensemble import RandomForestClassifier\n",
    "from sklearn.ensemble import ExtraTreesClassifier\n",
    "#from lightgbm import LGBMClassifier\n",
    "from xgboost import XGBClassifier\n",
    "from sklearn.metrics import f1_score"
   ]
  },
  {
   "cell_type": "code",
   "execution_count": 3,
   "id": "skilled-robert",
   "metadata": {},
   "outputs": [
    {
     "data": {
      "text/html": [
       "<div>\n",
       "<style scoped>\n",
       "    .dataframe tbody tr th:only-of-type {\n",
       "        vertical-align: middle;\n",
       "    }\n",
       "\n",
       "    .dataframe tbody tr th {\n",
       "        vertical-align: top;\n",
       "    }\n",
       "\n",
       "    .dataframe thead th {\n",
       "        text-align: right;\n",
       "    }\n",
       "</style>\n",
       "<table border=\"1\" class=\"dataframe\">\n",
       "  <thead>\n",
       "    <tr style=\"text-align: right;\">\n",
       "      <th></th>\n",
       "      <th>FLT_NO</th>\n",
       "      <th>ACT_CUS_FLE</th>\n",
       "      <th>FLEET</th>\n",
       "      <th>FLEET_FAM</th>\n",
       "      <th>FLEET_FAM_GRP</th>\n",
       "      <th>FLEET_BODY_TYP</th>\n",
       "      <th>FLT_TYP</th>\n",
       "      <th>LEG_DEP_AP</th>\n",
       "      <th>LEG_DEP_GMT_DT</th>\n",
       "      <th>LEG_DEP_GMT_TM</th>\n",
       "      <th>...</th>\n",
       "      <th>DELAY2_SUB_CODE</th>\n",
       "      <th>DELAY3_SUB_CODE</th>\n",
       "      <th>DELAY4_SUB_CODE</th>\n",
       "      <th>DELAY_ROOT_ARR_AP</th>\n",
       "      <th>DELAY_ROOT_DEP_AP</th>\n",
       "      <th>DELAY1_DURATION</th>\n",
       "      <th>DELAY2_DURATION</th>\n",
       "      <th>DELAY3_DURATION</th>\n",
       "      <th>DELAY4_DURATION</th>\n",
       "      <th>TOT_DELAY_DURATION</th>\n",
       "    </tr>\n",
       "  </thead>\n",
       "  <tbody>\n",
       "    <tr>\n",
       "      <th>0</th>\n",
       "      <td>FL7064</td>\n",
       "      <td>FL-45X</td>\n",
       "      <td>TX750-30</td>\n",
       "      <td>TX750</td>\n",
       "      <td>TX750</td>\n",
       "      <td>B1</td>\n",
       "      <td>TYP1</td>\n",
       "      <td>IST</td>\n",
       "      <td>20210509</td>\n",
       "      <td>1205</td>\n",
       "      <td>...</td>\n",
       "      <td>NaN</td>\n",
       "      <td>NaN</td>\n",
       "      <td>NaN</td>\n",
       "      <td>?</td>\n",
       "      <td>?</td>\n",
       "      <td>0</td>\n",
       "      <td>0</td>\n",
       "      <td>0</td>\n",
       "      <td>0</td>\n",
       "      <td>0</td>\n",
       "    </tr>\n",
       "    <tr>\n",
       "      <th>1</th>\n",
       "      <td>FL7064</td>\n",
       "      <td>FL-45X</td>\n",
       "      <td>TX750-30</td>\n",
       "      <td>TX750</td>\n",
       "      <td>TX750</td>\n",
       "      <td>B1</td>\n",
       "      <td>TYP1</td>\n",
       "      <td>IST</td>\n",
       "      <td>20210512</td>\n",
       "      <td>1526</td>\n",
       "      <td>...</td>\n",
       "      <td>NaN</td>\n",
       "      <td>NaN</td>\n",
       "      <td>NaN</td>\n",
       "      <td>?</td>\n",
       "      <td>?</td>\n",
       "      <td>0</td>\n",
       "      <td>0</td>\n",
       "      <td>0</td>\n",
       "      <td>0</td>\n",
       "      <td>0</td>\n",
       "    </tr>\n",
       "    <tr>\n",
       "      <th>2</th>\n",
       "      <td>FL7064</td>\n",
       "      <td>FL-45X</td>\n",
       "      <td>TX750-30</td>\n",
       "      <td>TX750</td>\n",
       "      <td>TX750</td>\n",
       "      <td>B1</td>\n",
       "      <td>TYP1</td>\n",
       "      <td>IST</td>\n",
       "      <td>20210516</td>\n",
       "      <td>1209</td>\n",
       "      <td>...</td>\n",
       "      <td>NaN</td>\n",
       "      <td>NaN</td>\n",
       "      <td>NaN</td>\n",
       "      <td>?</td>\n",
       "      <td>?</td>\n",
       "      <td>0</td>\n",
       "      <td>0</td>\n",
       "      <td>0</td>\n",
       "      <td>0</td>\n",
       "      <td>0</td>\n",
       "    </tr>\n",
       "  </tbody>\n",
       "</table>\n",
       "<p>3 rows × 28 columns</p>\n",
       "</div>"
      ],
      "text/plain": [
       "   FLT_NO ACT_CUS_FLE     FLEET FLEET_FAM FLEET_FAM_GRP FLEET_BODY_TYP  \\\n",
       "0  FL7064      FL-45X  TX750-30     TX750         TX750             B1   \n",
       "1  FL7064      FL-45X  TX750-30     TX750         TX750             B1   \n",
       "2  FL7064      FL-45X  TX750-30     TX750         TX750             B1   \n",
       "\n",
       "  FLT_TYP LEG_DEP_AP  LEG_DEP_GMT_DT  LEG_DEP_GMT_TM  ... DELAY2_SUB_CODE  \\\n",
       "0    TYP1        IST        20210509            1205  ...             NaN   \n",
       "1    TYP1        IST        20210512            1526  ...             NaN   \n",
       "2    TYP1        IST        20210516            1209  ...             NaN   \n",
       "\n",
       "  DELAY3_SUB_CODE DELAY4_SUB_CODE  DELAY_ROOT_ARR_AP  DELAY_ROOT_DEP_AP  \\\n",
       "0             NaN             NaN                  ?                  ?   \n",
       "1             NaN             NaN                  ?                  ?   \n",
       "2             NaN             NaN                  ?                  ?   \n",
       "\n",
       "  DELAY1_DURATION DELAY2_DURATION DELAY3_DURATION DELAY4_DURATION  \\\n",
       "0               0               0               0               0   \n",
       "1               0               0               0               0   \n",
       "2               0               0               0               0   \n",
       "\n",
       "  TOT_DELAY_DURATION  \n",
       "0                  0  \n",
       "1                  0  \n",
       "2                  0  \n",
       "\n",
       "[3 rows x 28 columns]"
      ]
     },
     "execution_count": 3,
     "metadata": {},
     "output_type": "execute_result"
    }
   ],
   "source": [
    "df = pd.read_excel(r'CARGO_FOTP_DATASET.xlsx')\n",
    "df.head(3)"
   ]
  },
  {
   "cell_type": "code",
   "execution_count": 4,
   "id": "proof-commons",
   "metadata": {},
   "outputs": [
    {
     "data": {
      "text/plain": [
       "(99546, 28)"
      ]
     },
     "execution_count": 4,
     "metadata": {},
     "output_type": "execute_result"
    }
   ],
   "source": [
    "df.shape"
   ]
  },
  {
   "cell_type": "code",
   "execution_count": 5,
   "id": "headed-committee",
   "metadata": {},
   "outputs": [
    {
     "name": "stdout",
     "output_type": "stream",
     "text": [
      "<class 'pandas.core.frame.DataFrame'>\n",
      "RangeIndex: 99546 entries, 0 to 99545\n",
      "Data columns (total 28 columns):\n",
      " #   Column               Non-Null Count  Dtype \n",
      "---  ------               --------------  ----- \n",
      " 0   FLT_NO               99546 non-null  object\n",
      " 1   ACT_CUS_FLE          99546 non-null  object\n",
      " 2   FLEET                99546 non-null  object\n",
      " 3   FLEET_FAM            99546 non-null  object\n",
      " 4   FLEET_FAM_GRP        99546 non-null  object\n",
      " 5   FLEET_BODY_TYP       99546 non-null  object\n",
      " 6   FLT_TYP              99546 non-null  object\n",
      " 7   LEG_DEP_AP           99546 non-null  object\n",
      " 8   LEG_DEP_GMT_DT       99546 non-null  int64 \n",
      " 9   LEG_DEP_GMT_TM       99546 non-null  int64 \n",
      " 10  LEG_DEP_CNTRY_COD    99512 non-null  object\n",
      " 11  LEG_DEP_RGN_COD      95771 non-null  object\n",
      " 12  LEG_ARR_AP           99546 non-null  object\n",
      " 13  LEG_ARR_GMT_DT       99546 non-null  int64 \n",
      " 14  LEG_ARR_GMT_TM       99546 non-null  int64 \n",
      " 15  LEG_ARR_CNTRY_COD    99512 non-null  object\n",
      " 16  LEG_ACT_ARR_RGN_COD  95769 non-null  object\n",
      " 17  DELAY1_SUB_CODE      63399 non-null  object\n",
      " 18  DELAY2_SUB_CODE      35947 non-null  object\n",
      " 19  DELAY3_SUB_CODE      10146 non-null  object\n",
      " 20  DELAY4_SUB_CODE      1536 non-null   object\n",
      " 21  DELAY_ROOT_ARR_AP    99546 non-null  object\n",
      " 22  DELAY_ROOT_DEP_AP    99546 non-null  object\n",
      " 23  DELAY1_DURATION      99546 non-null  int64 \n",
      " 24  DELAY2_DURATION      99546 non-null  int64 \n",
      " 25  DELAY3_DURATION      99546 non-null  int64 \n",
      " 26  DELAY4_DURATION      99546 non-null  int64 \n",
      " 27  TOT_DELAY_DURATION   99546 non-null  int64 \n",
      "dtypes: int64(9), object(19)\n",
      "memory usage: 21.3+ MB\n"
     ]
    }
   ],
   "source": [
    "df.info()"
   ]
  },
  {
   "cell_type": "code",
   "execution_count": 6,
   "id": "statutory-basement",
   "metadata": {},
   "outputs": [
    {
     "data": {
      "text/html": [
       "<div>\n",
       "<style scoped>\n",
       "    .dataframe tbody tr th:only-of-type {\n",
       "        vertical-align: middle;\n",
       "    }\n",
       "\n",
       "    .dataframe tbody tr th {\n",
       "        vertical-align: top;\n",
       "    }\n",
       "\n",
       "    .dataframe thead th {\n",
       "        text-align: right;\n",
       "    }\n",
       "</style>\n",
       "<table border=\"1\" class=\"dataframe\">\n",
       "  <thead>\n",
       "    <tr style=\"text-align: right;\">\n",
       "      <th></th>\n",
       "      <th>LEG_DEP_GMT_DT</th>\n",
       "      <th>LEG_DEP_GMT_TM</th>\n",
       "      <th>LEG_ARR_GMT_DT</th>\n",
       "      <th>LEG_ARR_GMT_TM</th>\n",
       "      <th>DELAY1_DURATION</th>\n",
       "      <th>DELAY2_DURATION</th>\n",
       "      <th>DELAY3_DURATION</th>\n",
       "      <th>DELAY4_DURATION</th>\n",
       "      <th>TOT_DELAY_DURATION</th>\n",
       "    </tr>\n",
       "  </thead>\n",
       "  <tbody>\n",
       "    <tr>\n",
       "      <th>count</th>\n",
       "      <td>9.954600e+04</td>\n",
       "      <td>99546.000000</td>\n",
       "      <td>9.954600e+04</td>\n",
       "      <td>99546.000000</td>\n",
       "      <td>99546.000000</td>\n",
       "      <td>99546.000000</td>\n",
       "      <td>99546.000000</td>\n",
       "      <td>99546.000000</td>\n",
       "      <td>99546.000000</td>\n",
       "    </tr>\n",
       "    <tr>\n",
       "      <th>mean</th>\n",
       "      <td>2.019249e+07</td>\n",
       "      <td>1201.375203</td>\n",
       "      <td>2.019230e+07</td>\n",
       "      <td>1208.110803</td>\n",
       "      <td>112.058486</td>\n",
       "      <td>12.377192</td>\n",
       "      <td>2.249915</td>\n",
       "      <td>0.353264</td>\n",
       "      <td>127.038856</td>\n",
       "    </tr>\n",
       "    <tr>\n",
       "      <th>std</th>\n",
       "      <td>1.289824e+04</td>\n",
       "      <td>668.607877</td>\n",
       "      <td>6.528663e+04</td>\n",
       "      <td>666.799934</td>\n",
       "      <td>277.712802</td>\n",
       "      <td>67.957361</td>\n",
       "      <td>24.556694</td>\n",
       "      <td>8.632271</td>\n",
       "      <td>297.532552</td>\n",
       "    </tr>\n",
       "    <tr>\n",
       "      <th>min</th>\n",
       "      <td>2.017010e+07</td>\n",
       "      <td>0.000000</td>\n",
       "      <td>0.000000e+00</td>\n",
       "      <td>0.000000</td>\n",
       "      <td>0.000000</td>\n",
       "      <td>0.000000</td>\n",
       "      <td>0.000000</td>\n",
       "      <td>0.000000</td>\n",
       "      <td>0.000000</td>\n",
       "    </tr>\n",
       "    <tr>\n",
       "      <th>25%</th>\n",
       "      <td>2.018083e+07</td>\n",
       "      <td>618.000000</td>\n",
       "      <td>2.018083e+07</td>\n",
       "      <td>646.000000</td>\n",
       "      <td>0.000000</td>\n",
       "      <td>0.000000</td>\n",
       "      <td>0.000000</td>\n",
       "      <td>0.000000</td>\n",
       "      <td>0.000000</td>\n",
       "    </tr>\n",
       "    <tr>\n",
       "      <th>50%</th>\n",
       "      <td>2.019112e+07</td>\n",
       "      <td>1235.000000</td>\n",
       "      <td>2.019112e+07</td>\n",
       "      <td>1226.000000</td>\n",
       "      <td>14.000000</td>\n",
       "      <td>0.000000</td>\n",
       "      <td>0.000000</td>\n",
       "      <td>0.000000</td>\n",
       "      <td>20.000000</td>\n",
       "    </tr>\n",
       "    <tr>\n",
       "      <th>75%</th>\n",
       "      <td>2.020093e+07</td>\n",
       "      <td>1757.000000</td>\n",
       "      <td>2.020093e+07</td>\n",
       "      <td>1757.000000</td>\n",
       "      <td>94.000000</td>\n",
       "      <td>7.000000</td>\n",
       "      <td>0.000000</td>\n",
       "      <td>0.000000</td>\n",
       "      <td>116.000000</td>\n",
       "    </tr>\n",
       "    <tr>\n",
       "      <th>max</th>\n",
       "      <td>2.021063e+07</td>\n",
       "      <td>2359.000000</td>\n",
       "      <td>2.021070e+07</td>\n",
       "      <td>2359.000000</td>\n",
       "      <td>7596.000000</td>\n",
       "      <td>5362.000000</td>\n",
       "      <td>2880.000000</td>\n",
       "      <td>1159.000000</td>\n",
       "      <td>7596.000000</td>\n",
       "    </tr>\n",
       "  </tbody>\n",
       "</table>\n",
       "</div>"
      ],
      "text/plain": [
       "       LEG_DEP_GMT_DT  LEG_DEP_GMT_TM  LEG_ARR_GMT_DT  LEG_ARR_GMT_TM  \\\n",
       "count    9.954600e+04    99546.000000    9.954600e+04    99546.000000   \n",
       "mean     2.019249e+07     1201.375203    2.019230e+07     1208.110803   \n",
       "std      1.289824e+04      668.607877    6.528663e+04      666.799934   \n",
       "min      2.017010e+07        0.000000    0.000000e+00        0.000000   \n",
       "25%      2.018083e+07      618.000000    2.018083e+07      646.000000   \n",
       "50%      2.019112e+07     1235.000000    2.019112e+07     1226.000000   \n",
       "75%      2.020093e+07     1757.000000    2.020093e+07     1757.000000   \n",
       "max      2.021063e+07     2359.000000    2.021070e+07     2359.000000   \n",
       "\n",
       "       DELAY1_DURATION  DELAY2_DURATION  DELAY3_DURATION  DELAY4_DURATION  \\\n",
       "count     99546.000000     99546.000000     99546.000000     99546.000000   \n",
       "mean        112.058486        12.377192         2.249915         0.353264   \n",
       "std         277.712802        67.957361        24.556694         8.632271   \n",
       "min           0.000000         0.000000         0.000000         0.000000   \n",
       "25%           0.000000         0.000000         0.000000         0.000000   \n",
       "50%          14.000000         0.000000         0.000000         0.000000   \n",
       "75%          94.000000         7.000000         0.000000         0.000000   \n",
       "max        7596.000000      5362.000000      2880.000000      1159.000000   \n",
       "\n",
       "       TOT_DELAY_DURATION  \n",
       "count        99546.000000  \n",
       "mean           127.038856  \n",
       "std            297.532552  \n",
       "min              0.000000  \n",
       "25%              0.000000  \n",
       "50%             20.000000  \n",
       "75%            116.000000  \n",
       "max           7596.000000  "
      ]
     },
     "execution_count": 6,
     "metadata": {},
     "output_type": "execute_result"
    }
   ],
   "source": [
    "df.describe()"
   ]
  },
  {
   "cell_type": "code",
   "execution_count": 7,
   "id": "bcd626b2",
   "metadata": {},
   "outputs": [
    {
     "data": {
      "text/plain": [
       "93Z    36277\n",
       "89Z     6702\n",
       "26C     2822\n",
       "22E     1521\n",
       "09C      944\n",
       "       ...  \n",
       "66B        1\n",
       "35D        1\n",
       "72X        1\n",
       "72B        1\n",
       "63X        1\n",
       "Name: DELAY1_SUB_CODE, Length: 353, dtype: int64"
      ]
     },
     "execution_count": 7,
     "metadata": {},
     "output_type": "execute_result"
    }
   ],
   "source": [
    "df['DELAY1_SUB_CODE'].value_counts()"
   ]
  },
  {
   "cell_type": "code",
   "execution_count": 8,
   "id": "4e4a0547",
   "metadata": {},
   "outputs": [
    {
     "data": {
      "text/plain": [
       "63399"
      ]
     },
     "execution_count": 8,
     "metadata": {},
     "output_type": "execute_result"
    }
   ],
   "source": [
    "sum(df['DELAY1_SUB_CODE'].value_counts())"
   ]
  },
  {
   "cell_type": "code",
   "execution_count": 9,
   "id": "069768f4",
   "metadata": {},
   "outputs": [],
   "source": [
    "probs = []\n",
    "for i,k in df['DELAY3_SUB_CODE'].value_counts().items():\n",
    "    probs.append((i,k/sum(df['DELAY3_SUB_CODE'].value_counts())))"
   ]
  },
  {
   "cell_type": "code",
   "execution_count": 10,
   "id": "746cbf5b",
   "metadata": {},
   "outputs": [],
   "source": [
    "probs10 = sorted(probs, key = lambda x: x[1], reverse = True)[:10]"
   ]
  },
  {
   "cell_type": "code",
   "execution_count": 11,
   "id": "6f3575a6",
   "metadata": {},
   "outputs": [
    {
     "data": {
      "text/plain": [
       "89Z    7108\n",
       "89K     306\n",
       "22E     260\n",
       "26C     190\n",
       "26A     145\n",
       "       ... \n",
       "35D       1\n",
       "85P       1\n",
       "37E       1\n",
       "62B       1\n",
       "41O       1\n",
       "Name: DELAY3_SUB_CODE, Length: 231, dtype: int64"
      ]
     },
     "execution_count": 11,
     "metadata": {},
     "output_type": "execute_result"
    }
   ],
   "source": [
    "df['DELAY3_SUB_CODE'].value_counts()"
   ]
  },
  {
   "cell_type": "code",
   "execution_count": 12,
   "id": "0faeba5f",
   "metadata": {},
   "outputs": [
    {
     "name": "stderr",
     "output_type": "stream",
     "text": [
      "<ipython-input-12-f3733dce3f95>:6: MatplotlibDeprecationWarning: Case-insensitive properties were deprecated in 3.3 and support will be removed two minor releases later\n",
      "  plt.text(i, round(y[i],2),round(y[i],2), ha = 'center',\n"
     ]
    },
    {
     "data": {
      "image/png": "[encoded data removed]",
      "text/plain": [
       "<Figure size 1000x500 with 1 Axes>"
      ]
     },
     "metadata": {
      "needs_background": "light"
     },
     "output_type": "display_data"
    }
   ],
   "source": [
    "%matplotlib inline\n",
    "plt.rcParams.update({'figure.figsize':(9,5), 'figure.dpi':100})\n",
    "\n",
    "def addlabels(x,y):\n",
    "    for i in range(len(x)):\n",
    "        plt.text(i, round(y[i],2),round(y[i],2), ha = 'center',\n",
    "                 Bbox = dict(facecolor = 'white', alpha = .5))\n",
    "\n",
    "        \n",
    "        \n",
    "if __name__ == '__main__':\n",
    "    \n",
    "    # creating data on which bar chart will be plot\n",
    "    x = pd.DataFrame(probs10)[0]\n",
    "    y = pd.DataFrame(probs10)[1]\n",
    "      \n",
    "    # setting figure size by using figure() function \n",
    "    plt.figure(figsize = (10,5))\n",
    "    \n",
    "    # making the bar chart on the data with color red\n",
    "    plt.bar(x, y, color = 'yellowgreen')\n",
    "      \n",
    "    # calling the function to add value labels\n",
    "    addlabels(x, y)\n",
    "      \n",
    "    # giving title to the plot\n",
    "    plt.title(\"Percentages of Delay Codes\")\n",
    "      \n",
    "    # giving X and Y labels\n",
    "    plt.xlabel(\"Percentages\")\n",
    "    plt.ylabel(\"Delay Codes\")\n",
    "      \n",
    "    # visualizing the plot\n",
    "    plt.show()"
   ]
  },
  {
   "cell_type": "code",
   "execution_count": 13,
   "id": "024953cf",
   "metadata": {},
   "outputs": [],
   "source": [
    "delaycodesofflight = [('DELAY1_SUB_CODE',sum(df['DELAY1_SUB_CODE'].value_counts())),('DELAY2_SUB_CODE',sum(df['DELAY2_SUB_CODE'].value_counts())),\n",
    "                      ('DELAY3_SUB_CODE',sum(df['DELAY3_SUB_CODE'].value_counts())),('DELAY4_SUB_CODE',sum(df['DELAY4_SUB_CODE'].value_counts()))]"
   ]
  },
  {
   "cell_type": "code",
   "execution_count": 14,
   "id": "opponent-thomson",
   "metadata": {},
   "outputs": [],
   "source": [
    "subcode_columns = ['DELAY1_SUB_CODE', 'DELAY2_SUB_CODE', 'DELAY3_SUB_CODE', 'DELAY4_SUB_CODE']"
   ]
  },
  {
   "cell_type": "code",
   "execution_count": 15,
   "id": "later-activation",
   "metadata": {},
   "outputs": [
    {
     "data": {
      "text/plain": [
       "array([63399, 35947, 10146,  1536], dtype=int64)"
      ]
     },
     "execution_count": 15,
     "metadata": {},
     "output_type": "execute_result"
    }
   ],
   "source": [
    "df[subcode_columns].notna().sum().values"
   ]
  },
  {
   "cell_type": "code",
   "execution_count": 16,
   "id": "791b4cb1",
   "metadata": {},
   "outputs": [
    {
     "data": {
      "text/plain": [
       "['DELAY1_SUB_CODE', 'DELAY2_SUB_CODE', 'DELAY3_SUB_CODE', 'DELAY4_SUB_CODE']"
      ]
     },
     "execution_count": 16,
     "metadata": {},
     "output_type": "execute_result"
    }
   ],
   "source": [
    "list(pd.DataFrame(delaycodesofflight)[0])"
   ]
  },
  {
   "cell_type": "code",
   "execution_count": 17,
   "id": "c876c64d",
   "metadata": {
    "scrolled": false
   },
   "outputs": [
    {
     "name": "stderr",
     "output_type": "stream",
     "text": [
      "<ipython-input-17-d206c687e19d>:5: MatplotlibDeprecationWarning: Case-insensitive properties were deprecated in 3.3 and support will be removed two minor releases later\n",
      "  plt.text(i, round(y[i],2),round(y[i],2), ha = 'center',\n"
     ]
    },
    {
     "data": {
      "image/png": "[encoded data removed]",
      "text/plain": [
       "<Figure size 576x288 with 1 Axes>"
      ]
     },
     "metadata": {
      "needs_background": "light"
     },
     "output_type": "display_data"
    }
   ],
   "source": [
    "%matplotlib inline\n",
    "\n",
    "def addlabels(x,y):\n",
    "    for i in range(len(x)):\n",
    "        plt.text(i, round(y[i],2),round(y[i],2), ha = 'center',\n",
    "                 Bbox = dict(facecolor = 'white', alpha = .5))\n",
    "\n",
    "        \n",
    "# creating data on which bar chart will be plot\n",
    "x = subcode_columns\n",
    "y = df[subcode_columns].notna().sum().values\n",
    "\n",
    "# setting figure size by using figure() function \n",
    "plt.figure(figsize = (8,4))\n",
    "\n",
    "# making the bar chart on the data with color red\n",
    "plt.bar(x, y, width=0.4, color = 'indianred')\n",
    "\n",
    "# calling the function to add value labels\n",
    "addlabels(x, y)\n",
    "\n",
    "# giving title to the plot\n",
    "plt.title(\"Delay Codes\")\n",
    "\n",
    "# giving X and Y labels\n",
    "plt.xlabel(\"Delay Codes\")\n",
    "plt.ylabel(\"Number of Each Delay Code\")\n",
    "\n",
    "# visualizing the plot\n",
    "plt.show()"
   ]
  },
  {
   "cell_type": "code",
   "execution_count": 18,
   "id": "pointed-anaheim",
   "metadata": {},
   "outputs": [
    {
     "data": {
      "text/plain": [
       "[('DELAY1_SUB_CODE', 63399),\n",
       " ('DELAY2_SUB_CODE', 35947),\n",
       " ('DELAY3_SUB_CODE', 10146),\n",
       " ('DELAY4_SUB_CODE', 1536)]"
      ]
     },
     "execution_count": 18,
     "metadata": {},
     "output_type": "execute_result"
    }
   ],
   "source": [
    "delaycodesofflight"
   ]
  },
  {
   "cell_type": "code",
   "execution_count": 19,
   "id": "659d35cf",
   "metadata": {},
   "outputs": [],
   "source": [
    "d1 = pd.DataFrame(df[df['DELAY1_SUB_CODE']=='93Z']['DELAY1_DURATION']).rename(columns = {'DELAY1_DURATION': 'Delay Duration'})\n",
    "d2 = pd.DataFrame(df[df['DELAY2_SUB_CODE']=='93Z']['DELAY2_DURATION']).rename(columns = {'DELAY2_DURATION': 'Delay Duration'})\n",
    "d3 = pd.DataFrame(df[df['DELAY3_SUB_CODE']=='93Z']['DELAY3_DURATION']).rename(columns = {'DELAY3_DURATION': 'Delay Duration'})\n",
    "d4 = pd.DataFrame(df[df['DELAY4_SUB_CODE']=='93Z']['DELAY4_DURATION']).rename(columns = {'DELAY4_DURATION': 'Delay Duration'})\n",
    "d93z = pd.concat([d1,d2,d3,d4], axis=0)"
   ]
  },
  {
   "cell_type": "code",
   "execution_count": 20,
   "id": "e856df11",
   "metadata": {},
   "outputs": [
    {
     "data": {
      "image/png": "[encoded data removed]",
      "text/plain": [
       "<Figure size 432x288 with 1 Axes>"
      ]
     },
     "metadata": {
      "needs_background": "light"
     },
     "output_type": "display_data"
    }
   ],
   "source": [
    "ax = sns.boxplot(x=\"Delay Duration\",  data=d93z)"
   ]
  },
  {
   "cell_type": "code",
   "execution_count": 21,
   "id": "f910fc1a",
   "metadata": {},
   "outputs": [],
   "source": [
    "dcodecols = ['DELAY1_SUB_CODE','DELAY2_SUB_CODE','DELAY3_SUB_CODE','DELAY4_SUB_CODE']\n",
    "dduration = ['DELAY1_DURATION','DELAY2_DURATION','DELAY3_DURATION','DELAY4_DURATION']\n",
    "dcodenames = pd.DataFrame(probs10)[0]\n",
    "delay = []\n",
    "for i in dcodenames:\n",
    "    delay1 = pd.DataFrame(df[df['DELAY1_SUB_CODE']==i]['DELAY1_DURATION']).rename(columns = {'DELAY1_DURATION': 'Delay Duration'})\n",
    "    delay2 = pd.DataFrame(df[df['DELAY2_SUB_CODE']==i]['DELAY2_DURATION']).rename(columns = {'DELAY2_DURATION': 'Delay Duration'})\n",
    "    delay3 = pd.DataFrame(df[df['DELAY3_SUB_CODE']==i]['DELAY3_DURATION']).rename(columns = {'DELAY3_DURATION': 'Delay Duration'})\n",
    "    delay4 = pd.DataFrame(df[df['DELAY4_SUB_CODE']==i]['DELAY4_DURATION']).rename(columns = {'DELAY4_DURATION': 'Delay Duration'})\n",
    "    concat = pd.concat([delay1,delay2,delay3,delay4], axis=0)\n",
    "    delay.append(concat)\n",
    "    "
   ]
  },
  {
   "cell_type": "code",
   "execution_count": 22,
   "id": "a9bbd6bf",
   "metadata": {},
   "outputs": [],
   "source": [
    "countdelay = []\n",
    "for i in range(10):\n",
    "    countdelay.append(delay[i].count().values[0])"
   ]
  },
  {
   "cell_type": "code",
   "execution_count": 23,
   "id": "53afd650",
   "metadata": {},
   "outputs": [],
   "source": [
    "listdelaycodes = []\n",
    "for i,j in zip(dcodenames, countdelay):\n",
    "    listdelaycodes.append((i,j))"
   ]
  },
  {
   "cell_type": "code",
   "execution_count": 24,
   "id": "bea86a03",
   "metadata": {},
   "outputs": [],
   "source": [
    "def take_second(elem):\n",
    "    return elem[1]\n",
    "listdelaycodes = sorted(listdelaycodes, key= take_second, reverse=True)"
   ]
  },
  {
   "cell_type": "code",
   "execution_count": 25,
   "id": "royal-precipitation",
   "metadata": {},
   "outputs": [],
   "source": [
    "listdelaycodes = [(i,j/111028) for i, j in listdelaycodes]"
   ]
  },
  {
   "cell_type": "code",
   "execution_count": 26,
   "id": "democratic-change",
   "metadata": {},
   "outputs": [
    {
     "data": {
      "text/plain": [
       "111028"
      ]
     },
     "execution_count": 26,
     "metadata": {},
     "output_type": "execute_result"
    }
   ],
   "source": [
    "df[subcode_columns].stack().shape[0]"
   ]
  },
  {
   "cell_type": "code",
   "execution_count": 28,
   "id": "52b8dbe2",
   "metadata": {
    "scrolled": false
   },
   "outputs": [
    {
     "name": "stderr",
     "output_type": "stream",
     "text": [
      "<ipython-input-28-b8b64f3dd7ba>:5: MatplotlibDeprecationWarning: Case-insensitive properties were deprecated in 3.3 and support will be removed two minor releases later\n",
      "  plt.text(i, round(y[i],2),round(y[i],2), ha = 'center',\n"
     ]
    },
    {
     "data": {
      "image/png": "[encoded data removed]",
      "text/plain": [
       "<Figure size 576x288 with 1 Axes>"
      ]
     },
     "metadata": {
      "needs_background": "light"
     },
     "output_type": "display_data"
    }
   ],
   "source": [
    "%matplotlib inline\n",
    "\n",
    "def addlabels(x,y):\n",
    "    for i in range(len(x)):\n",
    "        plt.text(i, round(y[i],2),round(y[i],2), ha = 'center',\n",
    "                 Bbox = dict(facecolor = 'white', alpha = .5))\n",
    "\n",
    "delay_counts = df[subcode_columns].stack().reset_index()[0].value_counts().nlargest(10)\n",
    "# creating data on which bar chart will be plot\n",
    "x = delay_counts.index\n",
    "y = delay_counts.values / df[subcode_columns].stack().shape[0]\n",
    "\n",
    "# setting figure size by using figure() function \n",
    "plt.figure(figsize = (8,4))\n",
    "\n",
    "# making the bar chart on the data with color red\n",
    "plt.bar(x, y, width=0.6, color = 'indianred')\n",
    "\n",
    "# calling the function to add value labels\n",
    "addlabels(x, y)\n",
    "\n",
    "# giving title to the plot\n",
    "plt.title(\"Delay Codes Count\")\n",
    "\n",
    "# giving X and Y labels\n",
    "plt.xlabel(\"Delay Codes\")\n",
    "plt.ylabel(\"Number of Each Delay Code in Total\")\n",
    "\n",
    "# visualizing the plot\n",
    "plt.show()"
   ]
  },
  {
   "cell_type": "markdown",
   "id": "12360828",
   "metadata": {},
   "source": [
    "When delay subcodes are checked, we can see that numbers of 93Z and 89Z codes are very close. In DELAY1_SUB_CODE, 93Z is the majority. In the rest, 89Z is the majority."
   ]
  },
  {
   "cell_type": "markdown",
   "id": "b7e2b58d",
   "metadata": {},
   "source": [
    "We applied multi label classification to be able to find the delay codes of a delay. Hpwever, results are not satisfyting. Thus, we approach them from a descriptive statistics point of view. "
   ]
  },
  {
   "cell_type": "code",
   "execution_count": 29,
   "id": "controlling-confirmation",
   "metadata": {},
   "outputs": [
    {
     "data": {
      "text/plain": [
       "93Z    0.572201\n",
       "89Z    0.105711\n",
       "26C    0.044512\n",
       "22E    0.023991\n",
       "09C    0.014890\n",
       "         ...   \n",
       "71X    0.000016\n",
       "36X    0.000016\n",
       "41O    0.000016\n",
       "13M    0.000016\n",
       "76A    0.000016\n",
       "Name: DELAY1_SUB_CODE, Length: 353, dtype: float64"
      ]
     },
     "execution_count": 29,
     "metadata": {},
     "output_type": "execute_result"
    }
   ],
   "source": [
    "pd.concat([df['DELAY1_SUB_CODE'], df['DELAY1_SUB_CODE'], df['DELAY1_SUB_CODE'], df['DELAY1_SUB_CODE']], axis=0).value_counts(normalize=True)"
   ]
  },
  {
   "cell_type": "code",
   "execution_count": 30,
   "id": "bacterial-environment",
   "metadata": {},
   "outputs": [
    {
     "data": {
      "text/plain": [
       "93Z    33.485247\n",
       "89Z    31.619051\n",
       "26C     4.015203\n",
       "22E     3.326188\n",
       "89K     2.142703\n",
       "         ...    \n",
       "85T     0.000901\n",
       "83Y     0.000901\n",
       "97E     0.000901\n",
       "83U     0.000901\n",
       "16A     0.000901\n",
       "Length: 403, dtype: float64"
      ]
     },
     "execution_count": 30,
     "metadata": {},
     "output_type": "execute_result"
    }
   ],
   "source": [
    "all_codes = pd.concat([df['DELAY1_SUB_CODE'], df['DELAY2_SUB_CODE'], df['DELAY3_SUB_CODE'], df['DELAY4_SUB_CODE']], axis=0).reset_index(drop=True)\n",
    "all_codes.value_counts(normalize=True)*100"
   ]
  },
  {
   "cell_type": "code",
   "execution_count": 31,
   "id": "bored-group",
   "metadata": {},
   "outputs": [
    {
     "data": {
      "text/plain": [
       "89Z    0.561605\n",
       "22E    0.052772\n",
       "26C    0.039836\n",
       "89K    0.035079\n",
       "93Z    0.021866\n",
       "         ...   \n",
       "35D    0.000028\n",
       "87V    0.000028\n",
       "66B    0.000028\n",
       "45A    0.000028\n",
       "63X    0.000028\n",
       "Name: DELAY2_SUB_CODE, Length: 342, dtype: float64"
      ]
     },
     "execution_count": 31,
     "metadata": {},
     "output_type": "execute_result"
    }
   ],
   "source": [
    "df['DELAY2_SUB_CODE'].value_counts(normalize=True)"
   ]
  },
  {
   "cell_type": "code",
   "execution_count": 32,
   "id": "bibliographic-sunglasses",
   "metadata": {
    "scrolled": false
   },
   "outputs": [],
   "source": [
    "probs = []\n",
    "for i,k in df['DELAY3_SUB_CODE'].value_counts().items():\n",
    "    probs.append((i,k/sum(df['DELAY3_SUB_CODE'].value_counts())))"
   ]
  },
  {
   "cell_type": "code",
   "execution_count": 33,
   "id": "chemical-stability",
   "metadata": {
    "scrolled": false
   },
   "outputs": [
    {
     "name": "stdout",
     "output_type": "stream",
     "text": [
      "Couldn't find program: 'False'\n"
     ]
    }
   ],
   "source": [
    "%%script False\n",
    "profile = ProfileReport(df, title=\"Pandas Profiling Report\", explorative=True)\n",
    "profile"
   ]
  },
  {
   "cell_type": "code",
   "execution_count": 34,
   "id": "voluntary-raising",
   "metadata": {
    "scrolled": false
   },
   "outputs": [
    {
     "data": {
      "text/plain": [
       "<AxesSubplot:>"
      ]
     },
     "execution_count": 34,
     "metadata": {},
     "output_type": "execute_result"
    },
    {
     "data": {
      "image/png": "[encoded data removed]",
      "text/plain": [
       "<Figure size 1800x720 with 2 Axes>"
      ]
     },
     "metadata": {
      "needs_background": "light"
     },
     "output_type": "display_data"
    }
   ],
   "source": [
    "# missing values\n",
    "msgn.matrix(df, color=(0.45, 0.15, 0.25))"
   ]
  },
  {
   "cell_type": "code",
   "execution_count": 35,
   "id": "sublime-livestock",
   "metadata": {
    "scrolled": false
   },
   "outputs": [
    {
     "data": {
      "image/png": "[encoded data removed]",
      "text/plain": [
       "<Figure size 576x360 with 2 Axes>"
      ]
     },
     "metadata": {
      "needs_background": "light"
     },
     "output_type": "display_data"
    }
   ],
   "source": [
    "# correlation matrix\n",
    "matrix = df.corr().abs()\n",
    "\n",
    "# Create a mask\n",
    "mask = np.triu(np.ones_like(matrix, dtype=bool))\n",
    "\n",
    "# Create a custom diverging palette\n",
    "cmap = sns.diverging_palette(250, 15, s=75, l=40, n=9, center=\"light\", as_cmap=True)\n",
    "plt.figure(figsize=(8, 5))\n",
    "sns.heatmap(matrix[matrix>0.5], mask=mask, center=0, annot=True, fmt='.2f', square=True, cmap='Dark2_r')\n",
    "\n",
    "plt.show();"
   ]
  },
  {
   "cell_type": "code",
   "execution_count": 36,
   "id": "vocal-planet",
   "metadata": {},
   "outputs": [
    {
     "data": {
      "text/plain": [
       "(99546, 28)"
      ]
     },
     "execution_count": 36,
     "metadata": {},
     "output_type": "execute_result"
    }
   ],
   "source": [
    "df.drop_duplicates().shape"
   ]
  },
  {
   "cell_type": "code",
   "execution_count": 37,
   "id": "mediterranean-marker",
   "metadata": {},
   "outputs": [
    {
     "data": {
      "text/html": [
       "<div>\n",
       "<style scoped>\n",
       "    .dataframe tbody tr th:only-of-type {\n",
       "        vertical-align: middle;\n",
       "    }\n",
       "\n",
       "    .dataframe tbody tr th {\n",
       "        vertical-align: top;\n",
       "    }\n",
       "\n",
       "    .dataframe thead th {\n",
       "        text-align: right;\n",
       "    }\n",
       "</style>\n",
       "<table border=\"1\" class=\"dataframe\">\n",
       "  <thead>\n",
       "    <tr style=\"text-align: right;\">\n",
       "      <th></th>\n",
       "      <th>FLT_NO</th>\n",
       "      <th>ACT_CUS_FLE</th>\n",
       "      <th>FLEET</th>\n",
       "      <th>FLEET_FAM</th>\n",
       "      <th>FLEET_FAM_GRP</th>\n",
       "      <th>FLEET_BODY_TYP</th>\n",
       "      <th>FLT_TYP</th>\n",
       "      <th>LEG_DEP_AP</th>\n",
       "      <th>LEG_DEP_GMT_DT</th>\n",
       "      <th>LEG_DEP_GMT_TM</th>\n",
       "      <th>...</th>\n",
       "      <th>DELAY2_SUB_CODE</th>\n",
       "      <th>DELAY3_SUB_CODE</th>\n",
       "      <th>DELAY4_SUB_CODE</th>\n",
       "      <th>DELAY_ROOT_ARR_AP</th>\n",
       "      <th>DELAY_ROOT_DEP_AP</th>\n",
       "      <th>DELAY1_DURATION</th>\n",
       "      <th>DELAY2_DURATION</th>\n",
       "      <th>DELAY3_DURATION</th>\n",
       "      <th>DELAY4_DURATION</th>\n",
       "      <th>TOT_DELAY_DURATION</th>\n",
       "    </tr>\n",
       "  </thead>\n",
       "  <tbody>\n",
       "    <tr>\n",
       "      <th>0</th>\n",
       "      <td>FL7064</td>\n",
       "      <td>FL-45X</td>\n",
       "      <td>TX750-30</td>\n",
       "      <td>TX750</td>\n",
       "      <td>TX750</td>\n",
       "      <td>B1</td>\n",
       "      <td>TYP1</td>\n",
       "      <td>IST</td>\n",
       "      <td>20210509</td>\n",
       "      <td>1205</td>\n",
       "      <td>...</td>\n",
       "      <td>NaN</td>\n",
       "      <td>NaN</td>\n",
       "      <td>NaN</td>\n",
       "      <td>?</td>\n",
       "      <td>?</td>\n",
       "      <td>0</td>\n",
       "      <td>0</td>\n",
       "      <td>0</td>\n",
       "      <td>0</td>\n",
       "      <td>0</td>\n",
       "    </tr>\n",
       "    <tr>\n",
       "      <th>1</th>\n",
       "      <td>FL7064</td>\n",
       "      <td>FL-45X</td>\n",
       "      <td>TX750-30</td>\n",
       "      <td>TX750</td>\n",
       "      <td>TX750</td>\n",
       "      <td>B1</td>\n",
       "      <td>TYP1</td>\n",
       "      <td>IST</td>\n",
       "      <td>20210512</td>\n",
       "      <td>1526</td>\n",
       "      <td>...</td>\n",
       "      <td>NaN</td>\n",
       "      <td>NaN</td>\n",
       "      <td>NaN</td>\n",
       "      <td>?</td>\n",
       "      <td>?</td>\n",
       "      <td>0</td>\n",
       "      <td>0</td>\n",
       "      <td>0</td>\n",
       "      <td>0</td>\n",
       "      <td>0</td>\n",
       "    </tr>\n",
       "  </tbody>\n",
       "</table>\n",
       "<p>2 rows × 28 columns</p>\n",
       "</div>"
      ],
      "text/plain": [
       "   FLT_NO ACT_CUS_FLE     FLEET FLEET_FAM FLEET_FAM_GRP FLEET_BODY_TYP  \\\n",
       "0  FL7064      FL-45X  TX750-30     TX750         TX750             B1   \n",
       "1  FL7064      FL-45X  TX750-30     TX750         TX750             B1   \n",
       "\n",
       "  FLT_TYP LEG_DEP_AP  LEG_DEP_GMT_DT  LEG_DEP_GMT_TM  ... DELAY2_SUB_CODE  \\\n",
       "0    TYP1        IST        20210509            1205  ...             NaN   \n",
       "1    TYP1        IST        20210512            1526  ...             NaN   \n",
       "\n",
       "  DELAY3_SUB_CODE DELAY4_SUB_CODE  DELAY_ROOT_ARR_AP  DELAY_ROOT_DEP_AP  \\\n",
       "0             NaN             NaN                  ?                  ?   \n",
       "1             NaN             NaN                  ?                  ?   \n",
       "\n",
       "  DELAY1_DURATION DELAY2_DURATION DELAY3_DURATION DELAY4_DURATION  \\\n",
       "0               0               0               0               0   \n",
       "1               0               0               0               0   \n",
       "\n",
       "  TOT_DELAY_DURATION  \n",
       "0                  0  \n",
       "1                  0  \n",
       "\n",
       "[2 rows x 28 columns]"
      ]
     },
     "execution_count": 37,
     "metadata": {},
     "output_type": "execute_result"
    }
   ],
   "source": [
    "df.head(2)"
   ]
  },
  {
   "cell_type": "markdown",
   "id": "expanded-afternoon",
   "metadata": {},
   "source": [
    "## feature engineering"
   ]
  },
  {
   "cell_type": "markdown",
   "id": "serious-politics",
   "metadata": {},
   "source": [
    "#### helper functions"
   ]
  },
  {
   "cell_type": "code",
   "execution_count": 38,
   "id": "adequate-corruption",
   "metadata": {},
   "outputs": [],
   "source": [
    "def convert_date(x):\n",
    "    if x != 0:\n",
    "        return datetime.strptime(str(int(x)) , '%Y%m%d').strftime('%Y-%m-%d')\n",
    "    else:\n",
    "        return x"
   ]
  },
  {
   "cell_type": "code",
   "execution_count": 39,
   "id": "negative-stretch",
   "metadata": {},
   "outputs": [],
   "source": [
    "convert_hours = lambda x: datetime(1900, 1, 1, int(x)//100, int(x)%100)"
   ]
  },
  {
   "cell_type": "code",
   "execution_count": 40,
   "id": "asian-coordinate",
   "metadata": {},
   "outputs": [],
   "source": [
    "find_hour_difference = lambda x,y : (convert_hours(x)-convert_hours(y)).total_seconds()/60 if not pd.isna(y) else np.nan"
   ]
  },
  {
   "cell_type": "code",
   "execution_count": 41,
   "id": "young-preference",
   "metadata": {},
   "outputs": [],
   "source": [
    "convert_to_timedelta = lambda x: timedelta(hours=int(x)//60, minutes=int(x)%60)"
   ]
  },
  {
   "cell_type": "code",
   "execution_count": 42,
   "id": "intended-background",
   "metadata": {},
   "outputs": [],
   "source": [
    "convert_time_to_interval = lambda x: 2*x.hour + (x.minute>30)"
   ]
  },
  {
   "cell_type": "code",
   "execution_count": 43,
   "id": "nonprofit-leadership",
   "metadata": {},
   "outputs": [],
   "source": [
    "df['LEG_DEP_GMT_DT'] = df['LEG_DEP_GMT_DT'].apply(convert_date)\n",
    "df['LEG_ARR_GMT_DT'] = df['LEG_ARR_GMT_DT'].apply(convert_date)"
   ]
  },
  {
   "cell_type": "code",
   "execution_count": 44,
   "id": "equipped-doubt",
   "metadata": {},
   "outputs": [],
   "source": [
    "df['flight_duration_day'] = (pd.to_datetime(df['LEG_ARR_GMT_DT']) - pd.to_datetime(df['LEG_DEP_GMT_DT'])).apply(lambda x: x.days)\n",
    "df['flight_duration_min'] = df[['LEG_ARR_GMT_TM', 'LEG_DEP_GMT_TM']].apply(lambda x: find_hour_difference(*x), axis=1)"
   ]
  },
  {
   "cell_type": "code",
   "execution_count": 45,
   "id": "revolutionary-request",
   "metadata": {},
   "outputs": [],
   "source": [
    "df['flight_duration'] = df['flight_duration_min'] + df['flight_duration_day']*1440"
   ]
  },
  {
   "cell_type": "code",
   "execution_count": 46,
   "id": "temporal-flesh",
   "metadata": {},
   "outputs": [],
   "source": [
    "df['arr_month'] = pd.to_datetime(df['LEG_ARR_GMT_DT']).dt.month\n",
    "df['arr_weekday'] = pd.to_datetime(df['LEG_ARR_GMT_DT']).dt.weekday\n",
    "df['arr_day'] = pd.to_datetime(df['LEG_ARR_GMT_DT']).dt.day"
   ]
  },
  {
   "cell_type": "code",
   "execution_count": 47,
   "id": "sixth-workstation",
   "metadata": {},
   "outputs": [],
   "source": [
    "df['expected_arrival_interval'] = df['LEG_ARR_GMT_TM'].apply(convert_hours).apply(convert_time_to_interval)\n",
    "df['expected_departure_interval'] = df['LEG_DEP_GMT_TM'].apply(convert_hours).apply(convert_time_to_interval)"
   ]
  },
  {
   "cell_type": "code",
   "execution_count": 48,
   "id": "turkish-technical",
   "metadata": {
    "scrolled": true
   },
   "outputs": [
    {
     "data": {
      "text/plain": [
       "81585   -25756744.0\n",
       "91747       -1239.0\n",
       "81526          -5.0\n",
       "10579          -2.0\n",
       "2470            4.0\n",
       "            ...    \n",
       "49799         920.0\n",
       "49796         922.0\n",
       "49805         929.0\n",
       "48810         935.0\n",
       "48808         936.0\n",
       "Name: flight_duration, Length: 99546, dtype: float64"
      ]
     },
     "execution_count": 48,
     "metadata": {},
     "output_type": "execute_result"
    }
   ],
   "source": [
    "df['flight_duration'].sort_values()"
   ]
  },
  {
   "cell_type": "code",
   "execution_count": 49,
   "id": "demographic-lawsuit",
   "metadata": {},
   "outputs": [
    {
     "data": {
      "text/plain": [
       "FLT_NO                             FL7157\n",
       "ACT_CUS_FLE                        FL-87Z\n",
       "FLEET                           TW650-30Z\n",
       "FLEET_FAM                           TW650\n",
       "FLEET_FAM_GRP                       TW650\n",
       "FLEET_BODY_TYP                         B1\n",
       "FLT_TYP                              TYP1\n",
       "LEG_DEP_AP                            IST\n",
       "LEG_DEP_GMT_DT                 2020-07-13\n",
       "LEG_DEP_GMT_TM                       1411\n",
       "LEG_DEP_CNTRY_COD                      TR\n",
       "LEG_DEP_RGN_COD                        DO\n",
       "LEG_ARR_AP                            IST\n",
       "LEG_ARR_GMT_DT                 2020-07-13\n",
       "LEG_ARR_GMT_TM                       1415\n",
       "LEG_ARR_CNTRY_COD                      TR\n",
       "LEG_ACT_ARR_RGN_COD                    DO\n",
       "DELAY1_SUB_CODE                       62D\n",
       "DELAY2_SUB_CODE                       NaN\n",
       "DELAY3_SUB_CODE                       NaN\n",
       "DELAY4_SUB_CODE                       NaN\n",
       "DELAY_ROOT_ARR_AP                       ?\n",
       "DELAY_ROOT_DEP_AP                       ?\n",
       "DELAY1_DURATION                         6\n",
       "DELAY2_DURATION                         0\n",
       "DELAY3_DURATION                         0\n",
       "DELAY4_DURATION                         0\n",
       "TOT_DELAY_DURATION                      6\n",
       "flight_duration_day                     0\n",
       "flight_duration_min                   4.0\n",
       "flight_duration                       4.0\n",
       "arr_month                               7\n",
       "arr_weekday                             0\n",
       "arr_day                                13\n",
       "expected_arrival_interval              28\n",
       "expected_departure_interval            28\n",
       "Name: 2470, dtype: object"
      ]
     },
     "execution_count": 49,
     "metadata": {},
     "output_type": "execute_result"
    }
   ],
   "source": [
    "# a flight that lasted 4 mins, a potential outlier\n",
    "df.loc[2470]"
   ]
  },
  {
   "cell_type": "code",
   "execution_count": 50,
   "id": "straight-vinyl",
   "metadata": {},
   "outputs": [
    {
     "data": {
      "text/html": [
       "<div>\n",
       "<style scoped>\n",
       "    .dataframe tbody tr th:only-of-type {\n",
       "        vertical-align: middle;\n",
       "    }\n",
       "\n",
       "    .dataframe tbody tr th {\n",
       "        vertical-align: top;\n",
       "    }\n",
       "\n",
       "    .dataframe thead th {\n",
       "        text-align: right;\n",
       "    }\n",
       "</style>\n",
       "<table border=\"1\" class=\"dataframe\">\n",
       "  <thead>\n",
       "    <tr style=\"text-align: right;\">\n",
       "      <th></th>\n",
       "      <th>FLT_NO</th>\n",
       "      <th>ACT_CUS_FLE</th>\n",
       "      <th>FLEET</th>\n",
       "      <th>FLEET_FAM</th>\n",
       "      <th>FLEET_FAM_GRP</th>\n",
       "      <th>FLEET_BODY_TYP</th>\n",
       "      <th>FLT_TYP</th>\n",
       "      <th>LEG_DEP_AP</th>\n",
       "      <th>LEG_DEP_GMT_DT</th>\n",
       "      <th>LEG_DEP_GMT_TM</th>\n",
       "      <th>...</th>\n",
       "      <th>DELAY4_DURATION</th>\n",
       "      <th>TOT_DELAY_DURATION</th>\n",
       "      <th>flight_duration_day</th>\n",
       "      <th>flight_duration_min</th>\n",
       "      <th>flight_duration</th>\n",
       "      <th>arr_month</th>\n",
       "      <th>arr_weekday</th>\n",
       "      <th>arr_day</th>\n",
       "      <th>expected_arrival_interval</th>\n",
       "      <th>expected_departure_interval</th>\n",
       "    </tr>\n",
       "  </thead>\n",
       "  <tbody>\n",
       "    <tr>\n",
       "      <th>265</th>\n",
       "      <td>FL7106</td>\n",
       "      <td>FL-87Z</td>\n",
       "      <td>TW650-30Z</td>\n",
       "      <td>TW650</td>\n",
       "      <td>TW650</td>\n",
       "      <td>B1</td>\n",
       "      <td>TYP1</td>\n",
       "      <td>HKG</td>\n",
       "      <td>2020-09-28</td>\n",
       "      <td>1441</td>\n",
       "      <td>...</td>\n",
       "      <td>0</td>\n",
       "      <td>0</td>\n",
       "      <td>0</td>\n",
       "      <td>40.0</td>\n",
       "      <td>40.0</td>\n",
       "      <td>9</td>\n",
       "      <td>0</td>\n",
       "      <td>28</td>\n",
       "      <td>30</td>\n",
       "      <td>29</td>\n",
       "    </tr>\n",
       "    <tr>\n",
       "      <th>297</th>\n",
       "      <td>FL7107</td>\n",
       "      <td>FL-45X</td>\n",
       "      <td>TX750-30</td>\n",
       "      <td>TX750</td>\n",
       "      <td>TX750</td>\n",
       "      <td>B1</td>\n",
       "      <td>TYP1</td>\n",
       "      <td>IST</td>\n",
       "      <td>2021-04-13</td>\n",
       "      <td>400</td>\n",
       "      <td>...</td>\n",
       "      <td>0</td>\n",
       "      <td>5</td>\n",
       "      <td>0</td>\n",
       "      <td>10.0</td>\n",
       "      <td>10.0</td>\n",
       "      <td>4</td>\n",
       "      <td>1</td>\n",
       "      <td>13</td>\n",
       "      <td>8</td>\n",
       "      <td>8</td>\n",
       "    </tr>\n",
       "    <tr>\n",
       "      <th>313</th>\n",
       "      <td>FL7107</td>\n",
       "      <td>FL-45X</td>\n",
       "      <td>TX750-30</td>\n",
       "      <td>TX750</td>\n",
       "      <td>TX750</td>\n",
       "      <td>B1</td>\n",
       "      <td>TYP1</td>\n",
       "      <td>JNB</td>\n",
       "      <td>2021-06-09</td>\n",
       "      <td>1606</td>\n",
       "      <td>...</td>\n",
       "      <td>0</td>\n",
       "      <td>21</td>\n",
       "      <td>0</td>\n",
       "      <td>56.0</td>\n",
       "      <td>56.0</td>\n",
       "      <td>6</td>\n",
       "      <td>2</td>\n",
       "      <td>9</td>\n",
       "      <td>34</td>\n",
       "      <td>32</td>\n",
       "    </tr>\n",
       "    <tr>\n",
       "      <th>363</th>\n",
       "      <td>FL7107</td>\n",
       "      <td>FL-45T</td>\n",
       "      <td>TX750-30</td>\n",
       "      <td>TX750</td>\n",
       "      <td>TX750</td>\n",
       "      <td>B1</td>\n",
       "      <td>TYP1</td>\n",
       "      <td>IST</td>\n",
       "      <td>2021-04-18</td>\n",
       "      <td>1350</td>\n",
       "      <td>...</td>\n",
       "      <td>0</td>\n",
       "      <td>120</td>\n",
       "      <td>0</td>\n",
       "      <td>32.0</td>\n",
       "      <td>32.0</td>\n",
       "      <td>4</td>\n",
       "      <td>6</td>\n",
       "      <td>18</td>\n",
       "      <td>28</td>\n",
       "      <td>27</td>\n",
       "    </tr>\n",
       "    <tr>\n",
       "      <th>937</th>\n",
       "      <td>FL7121</td>\n",
       "      <td>FL-45T</td>\n",
       "      <td>TX750-30</td>\n",
       "      <td>TX750</td>\n",
       "      <td>TX750</td>\n",
       "      <td>B1</td>\n",
       "      <td>TYP1</td>\n",
       "      <td>IST</td>\n",
       "      <td>2020-08-18</td>\n",
       "      <td>245</td>\n",
       "      <td>...</td>\n",
       "      <td>0</td>\n",
       "      <td>50</td>\n",
       "      <td>0</td>\n",
       "      <td>30.0</td>\n",
       "      <td>30.0</td>\n",
       "      <td>8</td>\n",
       "      <td>1</td>\n",
       "      <td>18</td>\n",
       "      <td>6</td>\n",
       "      <td>5</td>\n",
       "    </tr>\n",
       "    <tr>\n",
       "      <th>...</th>\n",
       "      <td>...</td>\n",
       "      <td>...</td>\n",
       "      <td>...</td>\n",
       "      <td>...</td>\n",
       "      <td>...</td>\n",
       "      <td>...</td>\n",
       "      <td>...</td>\n",
       "      <td>...</td>\n",
       "      <td>...</td>\n",
       "      <td>...</td>\n",
       "      <td>...</td>\n",
       "      <td>...</td>\n",
       "      <td>...</td>\n",
       "      <td>...</td>\n",
       "      <td>...</td>\n",
       "      <td>...</td>\n",
       "      <td>...</td>\n",
       "      <td>...</td>\n",
       "      <td>...</td>\n",
       "      <td>...</td>\n",
       "      <td>...</td>\n",
       "    </tr>\n",
       "    <tr>\n",
       "      <th>98402</th>\n",
       "      <td>FL7842</td>\n",
       "      <td>FL-4SX</td>\n",
       "      <td>TX750-20K</td>\n",
       "      <td>TX750</td>\n",
       "      <td>TX750</td>\n",
       "      <td>B1</td>\n",
       "      <td>TYP2</td>\n",
       "      <td>ALA</td>\n",
       "      <td>2019-04-13</td>\n",
       "      <td>459</td>\n",
       "      <td>...</td>\n",
       "      <td>0</td>\n",
       "      <td>54</td>\n",
       "      <td>0</td>\n",
       "      <td>31.0</td>\n",
       "      <td>31.0</td>\n",
       "      <td>4</td>\n",
       "      <td>5</td>\n",
       "      <td>13</td>\n",
       "      <td>10</td>\n",
       "      <td>9</td>\n",
       "    </tr>\n",
       "    <tr>\n",
       "      <th>98826</th>\n",
       "      <td>FL7844</td>\n",
       "      <td>FL-4RK</td>\n",
       "      <td>TX750-20K</td>\n",
       "      <td>TX750</td>\n",
       "      <td>TX750</td>\n",
       "      <td>B1</td>\n",
       "      <td>TYP2</td>\n",
       "      <td>ALA</td>\n",
       "      <td>2018-11-28</td>\n",
       "      <td>645</td>\n",
       "      <td>...</td>\n",
       "      <td>0</td>\n",
       "      <td>160</td>\n",
       "      <td>0</td>\n",
       "      <td>105.0</td>\n",
       "      <td>105.0</td>\n",
       "      <td>11</td>\n",
       "      <td>2</td>\n",
       "      <td>28</td>\n",
       "      <td>16</td>\n",
       "      <td>13</td>\n",
       "    </tr>\n",
       "    <tr>\n",
       "      <th>98962</th>\n",
       "      <td>FL7844</td>\n",
       "      <td>FL-4SX</td>\n",
       "      <td>TX750-20K</td>\n",
       "      <td>TX750</td>\n",
       "      <td>TX750</td>\n",
       "      <td>B1</td>\n",
       "      <td>TYP2</td>\n",
       "      <td>HKG</td>\n",
       "      <td>2019-09-03</td>\n",
       "      <td>2028</td>\n",
       "      <td>...</td>\n",
       "      <td>0</td>\n",
       "      <td>23</td>\n",
       "      <td>1</td>\n",
       "      <td>-1193.0</td>\n",
       "      <td>247.0</td>\n",
       "      <td>9</td>\n",
       "      <td>2</td>\n",
       "      <td>4</td>\n",
       "      <td>1</td>\n",
       "      <td>40</td>\n",
       "    </tr>\n",
       "    <tr>\n",
       "      <th>99419</th>\n",
       "      <td>FL7846</td>\n",
       "      <td>FL-4SX</td>\n",
       "      <td>TX750-20K</td>\n",
       "      <td>TX750</td>\n",
       "      <td>TX750</td>\n",
       "      <td>B1</td>\n",
       "      <td>TYP2</td>\n",
       "      <td>HKG</td>\n",
       "      <td>2021-03-23</td>\n",
       "      <td>313</td>\n",
       "      <td>...</td>\n",
       "      <td>0</td>\n",
       "      <td>8</td>\n",
       "      <td>0</td>\n",
       "      <td>10.0</td>\n",
       "      <td>10.0</td>\n",
       "      <td>3</td>\n",
       "      <td>1</td>\n",
       "      <td>23</td>\n",
       "      <td>6</td>\n",
       "      <td>6</td>\n",
       "    </tr>\n",
       "    <tr>\n",
       "      <th>99530</th>\n",
       "      <td>FL7848</td>\n",
       "      <td>FL-4SX</td>\n",
       "      <td>TX750-20K</td>\n",
       "      <td>TX750</td>\n",
       "      <td>TX750</td>\n",
       "      <td>B1</td>\n",
       "      <td>TYP2</td>\n",
       "      <td>HKG</td>\n",
       "      <td>2020-12-04</td>\n",
       "      <td>728</td>\n",
       "      <td>...</td>\n",
       "      <td>0</td>\n",
       "      <td>8</td>\n",
       "      <td>0</td>\n",
       "      <td>15.0</td>\n",
       "      <td>15.0</td>\n",
       "      <td>12</td>\n",
       "      <td>4</td>\n",
       "      <td>4</td>\n",
       "      <td>15</td>\n",
       "      <td>14</td>\n",
       "    </tr>\n",
       "  </tbody>\n",
       "</table>\n",
       "<p>341 rows × 36 columns</p>\n",
       "</div>"
      ],
      "text/plain": [
       "       FLT_NO ACT_CUS_FLE      FLEET FLEET_FAM FLEET_FAM_GRP FLEET_BODY_TYP  \\\n",
       "265    FL7106      FL-87Z  TW650-30Z     TW650         TW650             B1   \n",
       "297    FL7107      FL-45X   TX750-30     TX750         TX750             B1   \n",
       "313    FL7107      FL-45X   TX750-30     TX750         TX750             B1   \n",
       "363    FL7107      FL-45T   TX750-30     TX750         TX750             B1   \n",
       "937    FL7121      FL-45T   TX750-30     TX750         TX750             B1   \n",
       "...       ...         ...        ...       ...           ...            ...   \n",
       "98402  FL7842      FL-4SX  TX750-20K     TX750         TX750             B1   \n",
       "98826  FL7844      FL-4RK  TX750-20K     TX750         TX750             B1   \n",
       "98962  FL7844      FL-4SX  TX750-20K     TX750         TX750             B1   \n",
       "99419  FL7846      FL-4SX  TX750-20K     TX750         TX750             B1   \n",
       "99530  FL7848      FL-4SX  TX750-20K     TX750         TX750             B1   \n",
       "\n",
       "      FLT_TYP LEG_DEP_AP LEG_DEP_GMT_DT  LEG_DEP_GMT_TM  ... DELAY4_DURATION  \\\n",
       "265      TYP1        HKG     2020-09-28            1441  ...               0   \n",
       "297      TYP1        IST     2021-04-13             400  ...               0   \n",
       "313      TYP1        JNB     2021-06-09            1606  ...               0   \n",
       "363      TYP1        IST     2021-04-18            1350  ...               0   \n",
       "937      TYP1        IST     2020-08-18             245  ...               0   \n",
       "...       ...        ...            ...             ...  ...             ...   \n",
       "98402    TYP2        ALA     2019-04-13             459  ...               0   \n",
       "98826    TYP2        ALA     2018-11-28             645  ...               0   \n",
       "98962    TYP2        HKG     2019-09-03            2028  ...               0   \n",
       "99419    TYP2        HKG     2021-03-23             313  ...               0   \n",
       "99530    TYP2        HKG     2020-12-04             728  ...               0   \n",
       "\n",
       "      TOT_DELAY_DURATION flight_duration_day flight_duration_min  \\\n",
       "265                    0                   0                40.0   \n",
       "297                    5                   0                10.0   \n",
       "313                   21                   0                56.0   \n",
       "363                  120                   0                32.0   \n",
       "937                   50                   0                30.0   \n",
       "...                  ...                 ...                 ...   \n",
       "98402                 54                   0                31.0   \n",
       "98826                160                   0               105.0   \n",
       "98962                 23                   1             -1193.0   \n",
       "99419                  8                   0                10.0   \n",
       "99530                  8                   0                15.0   \n",
       "\n",
       "       flight_duration arr_month arr_weekday arr_day  \\\n",
       "265               40.0         9           0      28   \n",
       "297               10.0         4           1      13   \n",
       "313               56.0         6           2       9   \n",
       "363               32.0         4           6      18   \n",
       "937               30.0         8           1      18   \n",
       "...                ...       ...         ...     ...   \n",
       "98402             31.0         4           5      13   \n",
       "98826            105.0        11           2      28   \n",
       "98962            247.0         9           2       4   \n",
       "99419             10.0         3           1      23   \n",
       "99530             15.0        12           4       4   \n",
       "\n",
       "      expected_arrival_interval expected_departure_interval  \n",
       "265                          30                          29  \n",
       "297                           8                           8  \n",
       "313                          34                          32  \n",
       "363                          28                          27  \n",
       "937                           6                           5  \n",
       "...                         ...                         ...  \n",
       "98402                        10                           9  \n",
       "98826                        16                          13  \n",
       "98962                         1                          40  \n",
       "99419                         6                           6  \n",
       "99530                        15                          14  \n",
       "\n",
       "[341 rows x 36 columns]"
      ]
     },
     "execution_count": 50,
     "metadata": {},
     "output_type": "execute_result"
    }
   ],
   "source": [
    "df[df['LEG_DEP_AP'] == df['LEG_ARR_AP']]"
   ]
  },
  {
   "cell_type": "code",
   "execution_count": 51,
   "id": "specified-aquatic",
   "metadata": {},
   "outputs": [
    {
     "data": {
      "text/plain": [
       "0          0\n",
       "1          0\n",
       "2          0\n",
       "3          0\n",
       "4          0\n",
       "        ... \n",
       "99541    119\n",
       "99542     56\n",
       "99543     20\n",
       "99544    221\n",
       "99545     45\n",
       "Name: TOT_DELAY_DURATION, Length: 99546, dtype: int64"
      ]
     },
     "execution_count": 51,
     "metadata": {},
     "output_type": "execute_result"
    }
   ],
   "source": [
    "df['TOT_DELAY_DURATION']"
   ]
  },
  {
   "cell_type": "code",
   "execution_count": 52,
   "id": "measured-turkey",
   "metadata": {
    "scrolled": true
   },
   "outputs": [
    {
     "data": {
      "text/plain": [
       "B1    99520\n",
       "B2       26\n",
       "Name: FLEET_BODY_TYP, dtype: int64"
      ]
     },
     "execution_count": 52,
     "metadata": {},
     "output_type": "execute_result"
    }
   ],
   "source": [
    "df['FLEET_BODY_TYP'].value_counts()"
   ]
  },
  {
   "cell_type": "code",
   "execution_count": 53,
   "id": "decreased-heavy",
   "metadata": {},
   "outputs": [
    {
     "data": {
      "text/plain": [
       "TX750-20K     48647\n",
       "TW600-20X     16459\n",
       "TX650-40      11557\n",
       "TW650-30Z      8896\n",
       "TW510-40K      6102\n",
       "TW510-40KX     3285\n",
       "TX750-30       2064\n",
       "TW510-40X      1568\n",
       "TX500-60K       862\n",
       "TW800-9          53\n",
       "TX750-20         16\n",
       "TX750-34         11\n",
       "TW500-80          8\n",
       "TX702-23          7\n",
       "TX702-20          4\n",
       "TW500-90Z         4\n",
       "TX702-27          3\n",
       "Name: FLEET, dtype: int64"
      ]
     },
     "execution_count": 53,
     "metadata": {},
     "output_type": "execute_result"
    }
   ],
   "source": [
    "df['FLEET'].value_counts()"
   ]
  },
  {
   "cell_type": "code",
   "execution_count": 54,
   "id": "terminal-midwest",
   "metadata": {},
   "outputs": [
    {
     "data": {
      "text/plain": [
       "93Z    36277\n",
       "89Z     6702\n",
       "26C     2822\n",
       "22E     1521\n",
       "09C      944\n",
       "       ...  \n",
       "66B        1\n",
       "35D        1\n",
       "72X        1\n",
       "72B        1\n",
       "63X        1\n",
       "Name: DELAY1_SUB_CODE, Length: 353, dtype: int64"
      ]
     },
     "execution_count": 54,
     "metadata": {},
     "output_type": "execute_result"
    }
   ],
   "source": [
    "df['DELAY1_SUB_CODE'].value_counts()"
   ]
  },
  {
   "cell_type": "code",
   "execution_count": 55,
   "id": "broadband-composition",
   "metadata": {},
   "outputs": [],
   "source": [
    "categorical_str = ['ACT_CUS_FLE', 'LEG_DEP_AP', 'LEG_ARR_AP']\n",
    "\n",
    "categorical_int = ['arr_month', 'arr_weekday', 'arr_day', 'expected_arrival_interval','expected_departure_interval']\n",
    "\n",
    "numerical = ['flight_duration']\n",
    "\n",
    "drop_cols = ['FLT_NO','TOT_DELAY_DURATION', 'FLT_TYP','LEG_DEP_GMT_DT', 'LEG_DEP_GMT_TM', 'LEG_ARR_GMT_DT',\n",
    "             'LEG_ARR_GMT_TM', 'DELAY1_SUB_CODE', 'DELAY2_SUB_CODE', 'LEG_DEP_CNTRY_COD', 'LEG_DEP_RGN_COD',\n",
    "             'DELAY3_SUB_CODE', 'DELAY4_SUB_CODE', 'DELAY_ROOT_ARR_AP', 'LEG_ARR_CNTRY_COD', 'LEG_ACT_ARR_RGN_COD',\n",
    "             'DELAY1_DURATION', 'DELAY2_DURATION', 'DELAY3_DURATION', 'DELAY4_DURATION',\n",
    "             'DELAY_ROOT_DEP_AP', 'DELAY1_DURATION', 'flight_duration_day', 'flight_duration_min',\n",
    "            'FLEET_FAM', 'FLEET_FAM_GRP', 'FLEET_BODY_TYP', 'FLEET']"
   ]
  },
  {
   "cell_type": "code",
   "execution_count": 56,
   "id": "minimal-scottish",
   "metadata": {
    "scrolled": true
   },
   "outputs": [
    {
     "data": {
      "text/plain": [
       "Index(['FLT_NO', 'ACT_CUS_FLE', 'FLEET', 'FLEET_FAM', 'FLEET_FAM_GRP',\n",
       "       'FLEET_BODY_TYP', 'FLT_TYP', 'LEG_DEP_AP', 'LEG_DEP_GMT_DT',\n",
       "       'LEG_DEP_GMT_TM', 'LEG_DEP_CNTRY_COD', 'LEG_DEP_RGN_COD', 'LEG_ARR_AP',\n",
       "       'LEG_ARR_GMT_DT', 'LEG_ARR_GMT_TM', 'LEG_ARR_CNTRY_COD',\n",
       "       'LEG_ACT_ARR_RGN_COD', 'DELAY1_SUB_CODE', 'DELAY2_SUB_CODE',\n",
       "       'DELAY3_SUB_CODE', 'DELAY4_SUB_CODE', 'DELAY_ROOT_ARR_AP',\n",
       "       'DELAY_ROOT_DEP_AP', 'DELAY1_DURATION', 'DELAY2_DURATION',\n",
       "       'DELAY3_DURATION', 'DELAY4_DURATION', 'TOT_DELAY_DURATION',\n",
       "       'flight_duration_day', 'flight_duration_min', 'flight_duration',\n",
       "       'arr_month', 'arr_weekday', 'arr_day', 'expected_arrival_interval',\n",
       "       'expected_departure_interval'],\n",
       "      dtype='object')"
      ]
     },
     "execution_count": 56,
     "metadata": {},
     "output_type": "execute_result"
    }
   ],
   "source": [
    "df.columns"
   ]
  },
  {
   "cell_type": "code",
   "execution_count": 57,
   "id": "9c8a3ad3",
   "metadata": {},
   "outputs": [],
   "source": [
    "sub_df = df.copy()"
   ]
  },
  {
   "cell_type": "code",
   "execution_count": 58,
   "id": "046a44cc",
   "metadata": {},
   "outputs": [],
   "source": [
    "sub_df = df[df['DELAY1_DURATION']>0]"
   ]
  },
  {
   "cell_type": "code",
   "execution_count": 59,
   "id": "a4225aed",
   "metadata": {},
   "outputs": [
    {
     "data": {
      "text/plain": [
       "FLT_NO                             0\n",
       "ACT_CUS_FLE                        0\n",
       "FLEET                              0\n",
       "FLEET_FAM                          0\n",
       "FLEET_FAM_GRP                      0\n",
       "FLEET_BODY_TYP                     0\n",
       "FLT_TYP                            0\n",
       "LEG_DEP_AP                         0\n",
       "LEG_DEP_GMT_DT                     0\n",
       "LEG_DEP_GMT_TM                     0\n",
       "LEG_DEP_CNTRY_COD                 17\n",
       "LEG_DEP_RGN_COD                 2816\n",
       "LEG_ARR_AP                         0\n",
       "LEG_ARR_GMT_DT                     0\n",
       "LEG_ARR_GMT_TM                     0\n",
       "LEG_ARR_CNTRY_COD                 17\n",
       "LEG_ACT_ARR_RGN_COD             2865\n",
       "DELAY1_SUB_CODE                    0\n",
       "DELAY2_SUB_CODE                27452\n",
       "DELAY3_SUB_CODE                53253\n",
       "DELAY4_SUB_CODE                61863\n",
       "DELAY_ROOT_ARR_AP                  0\n",
       "DELAY_ROOT_DEP_AP                  0\n",
       "DELAY1_DURATION                    0\n",
       "DELAY2_DURATION                    0\n",
       "DELAY3_DURATION                    0\n",
       "DELAY4_DURATION                    0\n",
       "TOT_DELAY_DURATION                 0\n",
       "flight_duration_day                0\n",
       "flight_duration_min                0\n",
       "flight_duration                    0\n",
       "arr_month                          0\n",
       "arr_weekday                        0\n",
       "arr_day                            0\n",
       "expected_arrival_interval          0\n",
       "expected_departure_interval        0\n",
       "dtype: int64"
      ]
     },
     "execution_count": 59,
     "metadata": {},
     "output_type": "execute_result"
    }
   ],
   "source": [
    "sub_df.isna().sum()"
   ]
  },
  {
   "cell_type": "code",
   "execution_count": 60,
   "id": "d525d9b0",
   "metadata": {
    "scrolled": true
   },
   "outputs": [
    {
     "name": "stderr",
     "output_type": "stream",
     "text": [
      "C:\\Users\\IsmailKaraman\\anaconda3\\lib\\site-packages\\pandas\\core\\frame.py:3191: SettingWithCopyWarning: \n",
      "A value is trying to be set on a copy of a slice from a DataFrame.\n",
      "Try using .loc[row_indexer,col_indexer] = value instead\n",
      "\n",
      "See the caveats in the documentation: https://pandas.pydata.org/pandas-docs/stable/user_guide/indexing.html#returning-a-view-versus-a-copy\n",
      "  self[k1] = value[k2]\n"
     ]
    }
   ],
   "source": [
    "sub_df[['DELAY1_SUB_CODE','DELAY2_SUB_CODE','DELAY3_SUB_CODE','DELAY4_SUB_CODE']]=sub_df[['DELAY1_SUB_CODE','DELAY2_SUB_CODE','DELAY3_SUB_CODE','DELAY4_SUB_CODE']].fillna('missing') "
   ]
  },
  {
   "cell_type": "code",
   "execution_count": 61,
   "id": "flying-passenger",
   "metadata": {},
   "outputs": [],
   "source": [
    "unique_delay_codes = list(sub_df[subcode_columns].stack().reset_index()[0].unique())"
   ]
  },
  {
   "cell_type": "code",
   "execution_count": 62,
   "id": "c0cd9a94",
   "metadata": {},
   "outputs": [],
   "source": [
    "unique_delay_codes.remove('93Z')\n",
    "unique_delay_codes.remove('89Z')\n",
    "unique_delay_codes.remove('missing')"
   ]
  },
  {
   "cell_type": "code",
   "execution_count": 63,
   "id": "ce4628e7",
   "metadata": {},
   "outputs": [],
   "source": [
    "map_dict = dict(zip(unique_delay_codes, ['Others']*len(unique_delay_codes)))"
   ]
  },
  {
   "cell_type": "code",
   "execution_count": 66,
   "id": "0c52a2b7",
   "metadata": {},
   "outputs": [],
   "source": [
    "sub_df = sub_df[subcode_columns].replace(map_dict)"
   ]
  },
  {
   "cell_type": "code",
   "execution_count": 67,
   "id": "heated-explanation",
   "metadata": {},
   "outputs": [
    {
     "data": {
      "text/html": [
       "<div>\n",
       "<style scoped>\n",
       "    .dataframe tbody tr th:only-of-type {\n",
       "        vertical-align: middle;\n",
       "    }\n",
       "\n",
       "    .dataframe tbody tr th {\n",
       "        vertical-align: top;\n",
       "    }\n",
       "\n",
       "    .dataframe thead th {\n",
       "        text-align: right;\n",
       "    }\n",
       "</style>\n",
       "<table border=\"1\" class=\"dataframe\">\n",
       "  <thead>\n",
       "    <tr style=\"text-align: right;\">\n",
       "      <th></th>\n",
       "      <th>DELAY1_SUB_CODE</th>\n",
       "      <th>DELAY2_SUB_CODE</th>\n",
       "      <th>DELAY3_SUB_CODE</th>\n",
       "      <th>DELAY4_SUB_CODE</th>\n",
       "    </tr>\n",
       "  </thead>\n",
       "  <tbody>\n",
       "    <tr>\n",
       "      <th>5</th>\n",
       "      <td>Others</td>\n",
       "      <td>missing</td>\n",
       "      <td>missing</td>\n",
       "      <td>missing</td>\n",
       "    </tr>\n",
       "    <tr>\n",
       "      <th>7</th>\n",
       "      <td>93Z</td>\n",
       "      <td>Others</td>\n",
       "      <td>89Z</td>\n",
       "      <td>missing</td>\n",
       "    </tr>\n",
       "    <tr>\n",
       "      <th>9</th>\n",
       "      <td>89Z</td>\n",
       "      <td>missing</td>\n",
       "      <td>missing</td>\n",
       "      <td>missing</td>\n",
       "    </tr>\n",
       "    <tr>\n",
       "      <th>10</th>\n",
       "      <td>Others</td>\n",
       "      <td>89Z</td>\n",
       "      <td>missing</td>\n",
       "      <td>missing</td>\n",
       "    </tr>\n",
       "    <tr>\n",
       "      <th>11</th>\n",
       "      <td>89Z</td>\n",
       "      <td>missing</td>\n",
       "      <td>missing</td>\n",
       "      <td>missing</td>\n",
       "    </tr>\n",
       "    <tr>\n",
       "      <th>...</th>\n",
       "      <td>...</td>\n",
       "      <td>...</td>\n",
       "      <td>...</td>\n",
       "      <td>...</td>\n",
       "    </tr>\n",
       "    <tr>\n",
       "      <th>99541</th>\n",
       "      <td>Others</td>\n",
       "      <td>missing</td>\n",
       "      <td>missing</td>\n",
       "      <td>missing</td>\n",
       "    </tr>\n",
       "    <tr>\n",
       "      <th>99542</th>\n",
       "      <td>Others</td>\n",
       "      <td>missing</td>\n",
       "      <td>missing</td>\n",
       "      <td>missing</td>\n",
       "    </tr>\n",
       "    <tr>\n",
       "      <th>99543</th>\n",
       "      <td>93Z</td>\n",
       "      <td>missing</td>\n",
       "      <td>missing</td>\n",
       "      <td>missing</td>\n",
       "    </tr>\n",
       "    <tr>\n",
       "      <th>99544</th>\n",
       "      <td>Others</td>\n",
       "      <td>89Z</td>\n",
       "      <td>missing</td>\n",
       "      <td>missing</td>\n",
       "    </tr>\n",
       "    <tr>\n",
       "      <th>99545</th>\n",
       "      <td>93Z</td>\n",
       "      <td>missing</td>\n",
       "      <td>missing</td>\n",
       "      <td>missing</td>\n",
       "    </tr>\n",
       "  </tbody>\n",
       "</table>\n",
       "<p>63399 rows × 4 columns</p>\n",
       "</div>"
      ],
      "text/plain": [
       "      DELAY1_SUB_CODE DELAY2_SUB_CODE DELAY3_SUB_CODE DELAY4_SUB_CODE\n",
       "5              Others         missing         missing         missing\n",
       "7                 93Z          Others             89Z         missing\n",
       "9                 89Z         missing         missing         missing\n",
       "10             Others             89Z         missing         missing\n",
       "11                89Z         missing         missing         missing\n",
       "...               ...             ...             ...             ...\n",
       "99541          Others         missing         missing         missing\n",
       "99542          Others         missing         missing         missing\n",
       "99543             93Z         missing         missing         missing\n",
       "99544          Others             89Z         missing         missing\n",
       "99545             93Z         missing         missing         missing\n",
       "\n",
       "[63399 rows x 4 columns]"
      ]
     },
     "execution_count": 67,
     "metadata": {},
     "output_type": "execute_result"
    }
   ],
   "source": [
    "sub_df"
   ]
  },
  {
   "cell_type": "code",
   "execution_count": 69,
   "id": "universal-lindsay",
   "metadata": {},
   "outputs": [
    {
     "data": {
      "text/html": [
       "<div>\n",
       "<style scoped>\n",
       "    .dataframe tbody tr th:only-of-type {\n",
       "        vertical-align: middle;\n",
       "    }\n",
       "\n",
       "    .dataframe tbody tr th {\n",
       "        vertical-align: top;\n",
       "    }\n",
       "\n",
       "    .dataframe thead th {\n",
       "        text-align: right;\n",
       "    }\n",
       "</style>\n",
       "<table border=\"1\" class=\"dataframe\">\n",
       "  <thead>\n",
       "    <tr style=\"text-align: right;\">\n",
       "      <th></th>\n",
       "      <th>DELAY1_SUB_CODE_89Z</th>\n",
       "      <th>DELAY1_SUB_CODE_93Z</th>\n",
       "      <th>DELAY1_SUB_CODE_Others</th>\n",
       "      <th>DELAY2_SUB_CODE_89Z</th>\n",
       "      <th>DELAY2_SUB_CODE_93Z</th>\n",
       "      <th>DELAY2_SUB_CODE_Others</th>\n",
       "      <th>DELAY2_SUB_CODE_missing</th>\n",
       "      <th>DELAY3_SUB_CODE_89Z</th>\n",
       "      <th>DELAY3_SUB_CODE_93Z</th>\n",
       "      <th>DELAY3_SUB_CODE_Others</th>\n",
       "      <th>DELAY3_SUB_CODE_missing</th>\n",
       "      <th>DELAY4_SUB_CODE_89Z</th>\n",
       "      <th>DELAY4_SUB_CODE_93Z</th>\n",
       "      <th>DELAY4_SUB_CODE_Others</th>\n",
       "      <th>DELAY4_SUB_CODE_missing</th>\n",
       "    </tr>\n",
       "  </thead>\n",
       "  <tbody>\n",
       "    <tr>\n",
       "      <th>5</th>\n",
       "      <td>0</td>\n",
       "      <td>0</td>\n",
       "      <td>1</td>\n",
       "      <td>0</td>\n",
       "      <td>0</td>\n",
       "      <td>0</td>\n",
       "      <td>1</td>\n",
       "      <td>0</td>\n",
       "      <td>0</td>\n",
       "      <td>0</td>\n",
       "      <td>1</td>\n",
       "      <td>0</td>\n",
       "      <td>0</td>\n",
       "      <td>0</td>\n",
       "      <td>1</td>\n",
       "    </tr>\n",
       "    <tr>\n",
       "      <th>7</th>\n",
       "      <td>0</td>\n",
       "      <td>1</td>\n",
       "      <td>0</td>\n",
       "      <td>0</td>\n",
       "      <td>0</td>\n",
       "      <td>1</td>\n",
       "      <td>0</td>\n",
       "      <td>1</td>\n",
       "      <td>0</td>\n",
       "      <td>0</td>\n",
       "      <td>0</td>\n",
       "      <td>0</td>\n",
       "      <td>0</td>\n",
       "      <td>0</td>\n",
       "      <td>1</td>\n",
       "    </tr>\n",
       "    <tr>\n",
       "      <th>9</th>\n",
       "      <td>1</td>\n",
       "      <td>0</td>\n",
       "      <td>0</td>\n",
       "      <td>0</td>\n",
       "      <td>0</td>\n",
       "      <td>0</td>\n",
       "      <td>1</td>\n",
       "      <td>0</td>\n",
       "      <td>0</td>\n",
       "      <td>0</td>\n",
       "      <td>1</td>\n",
       "      <td>0</td>\n",
       "      <td>0</td>\n",
       "      <td>0</td>\n",
       "      <td>1</td>\n",
       "    </tr>\n",
       "    <tr>\n",
       "      <th>10</th>\n",
       "      <td>0</td>\n",
       "      <td>0</td>\n",
       "      <td>1</td>\n",
       "      <td>1</td>\n",
       "      <td>0</td>\n",
       "      <td>0</td>\n",
       "      <td>0</td>\n",
       "      <td>0</td>\n",
       "      <td>0</td>\n",
       "      <td>0</td>\n",
       "      <td>1</td>\n",
       "      <td>0</td>\n",
       "      <td>0</td>\n",
       "      <td>0</td>\n",
       "      <td>1</td>\n",
       "    </tr>\n",
       "    <tr>\n",
       "      <th>11</th>\n",
       "      <td>1</td>\n",
       "      <td>0</td>\n",
       "      <td>0</td>\n",
       "      <td>0</td>\n",
       "      <td>0</td>\n",
       "      <td>0</td>\n",
       "      <td>1</td>\n",
       "      <td>0</td>\n",
       "      <td>0</td>\n",
       "      <td>0</td>\n",
       "      <td>1</td>\n",
       "      <td>0</td>\n",
       "      <td>0</td>\n",
       "      <td>0</td>\n",
       "      <td>1</td>\n",
       "    </tr>\n",
       "    <tr>\n",
       "      <th>...</th>\n",
       "      <td>...</td>\n",
       "      <td>...</td>\n",
       "      <td>...</td>\n",
       "      <td>...</td>\n",
       "      <td>...</td>\n",
       "      <td>...</td>\n",
       "      <td>...</td>\n",
       "      <td>...</td>\n",
       "      <td>...</td>\n",
       "      <td>...</td>\n",
       "      <td>...</td>\n",
       "      <td>...</td>\n",
       "      <td>...</td>\n",
       "      <td>...</td>\n",
       "      <td>...</td>\n",
       "    </tr>\n",
       "    <tr>\n",
       "      <th>99541</th>\n",
       "      <td>0</td>\n",
       "      <td>0</td>\n",
       "      <td>1</td>\n",
       "      <td>0</td>\n",
       "      <td>0</td>\n",
       "      <td>0</td>\n",
       "      <td>1</td>\n",
       "      <td>0</td>\n",
       "      <td>0</td>\n",
       "      <td>0</td>\n",
       "      <td>1</td>\n",
       "      <td>0</td>\n",
       "      <td>0</td>\n",
       "      <td>0</td>\n",
       "      <td>1</td>\n",
       "    </tr>\n",
       "    <tr>\n",
       "      <th>99542</th>\n",
       "      <td>0</td>\n",
       "      <td>0</td>\n",
       "      <td>1</td>\n",
       "      <td>0</td>\n",
       "      <td>0</td>\n",
       "      <td>0</td>\n",
       "      <td>1</td>\n",
       "      <td>0</td>\n",
       "      <td>0</td>\n",
       "      <td>0</td>\n",
       "      <td>1</td>\n",
       "      <td>0</td>\n",
       "      <td>0</td>\n",
       "      <td>0</td>\n",
       "      <td>1</td>\n",
       "    </tr>\n",
       "    <tr>\n",
       "      <th>99543</th>\n",
       "      <td>0</td>\n",
       "      <td>1</td>\n",
       "      <td>0</td>\n",
       "      <td>0</td>\n",
       "      <td>0</td>\n",
       "      <td>0</td>\n",
       "      <td>1</td>\n",
       "      <td>0</td>\n",
       "      <td>0</td>\n",
       "      <td>0</td>\n",
       "      <td>1</td>\n",
       "      <td>0</td>\n",
       "      <td>0</td>\n",
       "      <td>0</td>\n",
       "      <td>1</td>\n",
       "    </tr>\n",
       "    <tr>\n",
       "      <th>99544</th>\n",
       "      <td>0</td>\n",
       "      <td>0</td>\n",
       "      <td>1</td>\n",
       "      <td>1</td>\n",
       "      <td>0</td>\n",
       "      <td>0</td>\n",
       "      <td>0</td>\n",
       "      <td>0</td>\n",
       "      <td>0</td>\n",
       "      <td>0</td>\n",
       "      <td>1</td>\n",
       "      <td>0</td>\n",
       "      <td>0</td>\n",
       "      <td>0</td>\n",
       "      <td>1</td>\n",
       "    </tr>\n",
       "    <tr>\n",
       "      <th>99545</th>\n",
       "      <td>0</td>\n",
       "      <td>1</td>\n",
       "      <td>0</td>\n",
       "      <td>0</td>\n",
       "      <td>0</td>\n",
       "      <td>0</td>\n",
       "      <td>1</td>\n",
       "      <td>0</td>\n",
       "      <td>0</td>\n",
       "      <td>0</td>\n",
       "      <td>1</td>\n",
       "      <td>0</td>\n",
       "      <td>0</td>\n",
       "      <td>0</td>\n",
       "      <td>1</td>\n",
       "    </tr>\n",
       "  </tbody>\n",
       "</table>\n",
       "<p>63399 rows × 15 columns</p>\n",
       "</div>"
      ],
      "text/plain": [
       "       DELAY1_SUB_CODE_89Z  DELAY1_SUB_CODE_93Z  DELAY1_SUB_CODE_Others  \\\n",
       "5                        0                    0                       1   \n",
       "7                        0                    1                       0   \n",
       "9                        1                    0                       0   \n",
       "10                       0                    0                       1   \n",
       "11                       1                    0                       0   \n",
       "...                    ...                  ...                     ...   \n",
       "99541                    0                    0                       1   \n",
       "99542                    0                    0                       1   \n",
       "99543                    0                    1                       0   \n",
       "99544                    0                    0                       1   \n",
       "99545                    0                    1                       0   \n",
       "\n",
       "       DELAY2_SUB_CODE_89Z  DELAY2_SUB_CODE_93Z  DELAY2_SUB_CODE_Others  \\\n",
       "5                        0                    0                       0   \n",
       "7                        0                    0                       1   \n",
       "9                        0                    0                       0   \n",
       "10                       1                    0                       0   \n",
       "11                       0                    0                       0   \n",
       "...                    ...                  ...                     ...   \n",
       "99541                    0                    0                       0   \n",
       "99542                    0                    0                       0   \n",
       "99543                    0                    0                       0   \n",
       "99544                    1                    0                       0   \n",
       "99545                    0                    0                       0   \n",
       "\n",
       "       DELAY2_SUB_CODE_missing  DELAY3_SUB_CODE_89Z  DELAY3_SUB_CODE_93Z  \\\n",
       "5                            1                    0                    0   \n",
       "7                            0                    1                    0   \n",
       "9                            1                    0                    0   \n",
       "10                           0                    0                    0   \n",
       "11                           1                    0                    0   \n",
       "...                        ...                  ...                  ...   \n",
       "99541                        1                    0                    0   \n",
       "99542                        1                    0                    0   \n",
       "99543                        1                    0                    0   \n",
       "99544                        0                    0                    0   \n",
       "99545                        1                    0                    0   \n",
       "\n",
       "       DELAY3_SUB_CODE_Others  DELAY3_SUB_CODE_missing  DELAY4_SUB_CODE_89Z  \\\n",
       "5                           0                        1                    0   \n",
       "7                           0                        0                    0   \n",
       "9                           0                        1                    0   \n",
       "10                          0                        1                    0   \n",
       "11                          0                        1                    0   \n",
       "...                       ...                      ...                  ...   \n",
       "99541                       0                        1                    0   \n",
       "99542                       0                        1                    0   \n",
       "99543                       0                        1                    0   \n",
       "99544                       0                        1                    0   \n",
       "99545                       0                        1                    0   \n",
       "\n",
       "       DELAY4_SUB_CODE_93Z  DELAY4_SUB_CODE_Others  DELAY4_SUB_CODE_missing  \n",
       "5                        0                       0                        1  \n",
       "7                        0                       0                        1  \n",
       "9                        0                       0                        1  \n",
       "10                       0                       0                        1  \n",
       "11                       0                       0                        1  \n",
       "...                    ...                     ...                      ...  \n",
       "99541                    0                       0                        1  \n",
       "99542                    0                       0                        1  \n",
       "99543                    0                       0                        1  \n",
       "99544                    0                       0                        1  \n",
       "99545                    0                       0                        1  \n",
       "\n",
       "[63399 rows x 15 columns]"
      ]
     },
     "execution_count": 69,
     "metadata": {},
     "output_type": "execute_result"
    }
   ],
   "source": [
    "pd.get_dummies(sub_df[subcode_columns])"
   ]
  },
  {
   "cell_type": "code",
   "execution_count": 73,
   "id": "environmental-opera",
   "metadata": {},
   "outputs": [
    {
     "data": {
      "text/html": [
       "<div>\n",
       "<style scoped>\n",
       "    .dataframe tbody tr th:only-of-type {\n",
       "        vertical-align: middle;\n",
       "    }\n",
       "\n",
       "    .dataframe tbody tr th {\n",
       "        vertical-align: top;\n",
       "    }\n",
       "\n",
       "    .dataframe thead th {\n",
       "        text-align: right;\n",
       "    }\n",
       "</style>\n",
       "<table border=\"1\" class=\"dataframe\">\n",
       "  <thead>\n",
       "    <tr style=\"text-align: right;\">\n",
       "      <th></th>\n",
       "      <th>89Z</th>\n",
       "      <th>93Z</th>\n",
       "      <th>Others</th>\n",
       "    </tr>\n",
       "  </thead>\n",
       "  <tbody>\n",
       "    <tr>\n",
       "      <th>5</th>\n",
       "      <td>0</td>\n",
       "      <td>0</td>\n",
       "      <td>1</td>\n",
       "    </tr>\n",
       "    <tr>\n",
       "      <th>7</th>\n",
       "      <td>1</td>\n",
       "      <td>1</td>\n",
       "      <td>1</td>\n",
       "    </tr>\n",
       "    <tr>\n",
       "      <th>9</th>\n",
       "      <td>1</td>\n",
       "      <td>0</td>\n",
       "      <td>0</td>\n",
       "    </tr>\n",
       "    <tr>\n",
       "      <th>10</th>\n",
       "      <td>1</td>\n",
       "      <td>0</td>\n",
       "      <td>1</td>\n",
       "    </tr>\n",
       "    <tr>\n",
       "      <th>11</th>\n",
       "      <td>1</td>\n",
       "      <td>0</td>\n",
       "      <td>0</td>\n",
       "    </tr>\n",
       "    <tr>\n",
       "      <th>...</th>\n",
       "      <td>...</td>\n",
       "      <td>...</td>\n",
       "      <td>...</td>\n",
       "    </tr>\n",
       "    <tr>\n",
       "      <th>99541</th>\n",
       "      <td>0</td>\n",
       "      <td>0</td>\n",
       "      <td>1</td>\n",
       "    </tr>\n",
       "    <tr>\n",
       "      <th>99542</th>\n",
       "      <td>0</td>\n",
       "      <td>0</td>\n",
       "      <td>1</td>\n",
       "    </tr>\n",
       "    <tr>\n",
       "      <th>99543</th>\n",
       "      <td>0</td>\n",
       "      <td>1</td>\n",
       "      <td>0</td>\n",
       "    </tr>\n",
       "    <tr>\n",
       "      <th>99544</th>\n",
       "      <td>1</td>\n",
       "      <td>0</td>\n",
       "      <td>1</td>\n",
       "    </tr>\n",
       "    <tr>\n",
       "      <th>99545</th>\n",
       "      <td>0</td>\n",
       "      <td>1</td>\n",
       "      <td>0</td>\n",
       "    </tr>\n",
       "  </tbody>\n",
       "</table>\n",
       "<p>63399 rows × 3 columns</p>\n",
       "</div>"
      ],
      "text/plain": [
       "       89Z  93Z  Others\n",
       "5        0    0       1\n",
       "7        1    1       1\n",
       "9        1    0       0\n",
       "10       1    0       1\n",
       "11       1    0       0\n",
       "...    ...  ...     ...\n",
       "99541    0    0       1\n",
       "99542    0    0       1\n",
       "99543    0    1       0\n",
       "99544    1    0       1\n",
       "99545    0    1       0\n",
       "\n",
       "[63399 rows x 3 columns]"
      ]
     },
     "execution_count": 73,
     "metadata": {},
     "output_type": "execute_result"
    }
   ],
   "source": [
    "labelcodes = pd.get_dummies(sub_df['DELAY1_SUB_CODE']) + pd.get_dummies(sub_df['DELAY2_SUB_CODE']) + pd.get_dummies(sub_df['DELAY3_SUB_CODE'])+pd.get_dummies(sub_df['DELAY4_SUB_CODE'])\n",
    "labelcodes = labelcodes.drop(columns=\"missing\")\n",
    "labelcodes.loc[labelcodes['Others']>1, 'Others']=1\n",
    "labelcodes"
   ]
  },
  {
   "cell_type": "code",
   "execution_count": 70,
   "id": "4310bbd5",
   "metadata": {},
   "outputs": [],
   "source": [
    "sub_df2 = pd.concat([sub_df[categorical_str+categorical_int+numerical], labelcodes], axis=1)"
   ]
  },
  {
   "cell_type": "code",
   "execution_count": 72,
   "id": "documentary-jefferson",
   "metadata": {},
   "outputs": [
    {
     "data": {
      "text/html": [
       "<div>\n",
       "<style scoped>\n",
       "    .dataframe tbody tr th:only-of-type {\n",
       "        vertical-align: middle;\n",
       "    }\n",
       "\n",
       "    .dataframe tbody tr th {\n",
       "        vertical-align: top;\n",
       "    }\n",
       "\n",
       "    .dataframe thead th {\n",
       "        text-align: right;\n",
       "    }\n",
       "</style>\n",
       "<table border=\"1\" class=\"dataframe\">\n",
       "  <thead>\n",
       "    <tr style=\"text-align: right;\">\n",
       "      <th></th>\n",
       "      <th>89Z</th>\n",
       "      <th>93Z</th>\n",
       "      <th>Others</th>\n",
       "      <th>missing</th>\n",
       "    </tr>\n",
       "  </thead>\n",
       "  <tbody>\n",
       "    <tr>\n",
       "      <th>5</th>\n",
       "      <td>0</td>\n",
       "      <td>0</td>\n",
       "      <td>1</td>\n",
       "      <td>NaN</td>\n",
       "    </tr>\n",
       "    <tr>\n",
       "      <th>7</th>\n",
       "      <td>1</td>\n",
       "      <td>1</td>\n",
       "      <td>1</td>\n",
       "      <td>NaN</td>\n",
       "    </tr>\n",
       "    <tr>\n",
       "      <th>9</th>\n",
       "      <td>1</td>\n",
       "      <td>0</td>\n",
       "      <td>0</td>\n",
       "      <td>NaN</td>\n",
       "    </tr>\n",
       "    <tr>\n",
       "      <th>10</th>\n",
       "      <td>1</td>\n",
       "      <td>0</td>\n",
       "      <td>1</td>\n",
       "      <td>NaN</td>\n",
       "    </tr>\n",
       "    <tr>\n",
       "      <th>11</th>\n",
       "      <td>1</td>\n",
       "      <td>0</td>\n",
       "      <td>0</td>\n",
       "      <td>NaN</td>\n",
       "    </tr>\n",
       "    <tr>\n",
       "      <th>...</th>\n",
       "      <td>...</td>\n",
       "      <td>...</td>\n",
       "      <td>...</td>\n",
       "      <td>...</td>\n",
       "    </tr>\n",
       "    <tr>\n",
       "      <th>99541</th>\n",
       "      <td>0</td>\n",
       "      <td>0</td>\n",
       "      <td>1</td>\n",
       "      <td>NaN</td>\n",
       "    </tr>\n",
       "    <tr>\n",
       "      <th>99542</th>\n",
       "      <td>0</td>\n",
       "      <td>0</td>\n",
       "      <td>1</td>\n",
       "      <td>NaN</td>\n",
       "    </tr>\n",
       "    <tr>\n",
       "      <th>99543</th>\n",
       "      <td>0</td>\n",
       "      <td>1</td>\n",
       "      <td>0</td>\n",
       "      <td>NaN</td>\n",
       "    </tr>\n",
       "    <tr>\n",
       "      <th>99544</th>\n",
       "      <td>1</td>\n",
       "      <td>0</td>\n",
       "      <td>1</td>\n",
       "      <td>NaN</td>\n",
       "    </tr>\n",
       "    <tr>\n",
       "      <th>99545</th>\n",
       "      <td>0</td>\n",
       "      <td>1</td>\n",
       "      <td>0</td>\n",
       "      <td>NaN</td>\n",
       "    </tr>\n",
       "  </tbody>\n",
       "</table>\n",
       "<p>63399 rows × 4 columns</p>\n",
       "</div>"
      ],
      "text/plain": [
       "       89Z  93Z  Others  missing\n",
       "5        0    0       1      NaN\n",
       "7        1    1       1      NaN\n",
       "9        1    0       0      NaN\n",
       "10       1    0       1      NaN\n",
       "11       1    0       0      NaN\n",
       "...    ...  ...     ...      ...\n",
       "99541    0    0       1      NaN\n",
       "99542    0    0       1      NaN\n",
       "99543    0    1       0      NaN\n",
       "99544    1    0       1      NaN\n",
       "99545    0    1       0      NaN\n",
       "\n",
       "[63399 rows x 4 columns]"
      ]
     },
     "execution_count": 72,
     "metadata": {},
     "output_type": "execute_result"
    }
   ],
   "source": []
  },
  {
   "cell_type": "code",
   "execution_count": null,
   "id": "modular-concept",
   "metadata": {},
   "outputs": [],
   "source": [
    "labelcodes"
   ]
  },
  {
   "cell_type": "code",
   "execution_count": null,
   "id": "9c448ecc",
   "metadata": {},
   "outputs": [],
   "source": []
  },
  {
   "cell_type": "code",
   "execution_count": null,
   "id": "815639c9",
   "metadata": {},
   "outputs": [],
   "source": []
  },
  {
   "cell_type": "code",
   "execution_count": null,
   "id": "f76b7e8f",
   "metadata": {
    "scrolled": false
   },
   "outputs": [],
   "source": [
    "labelcodes[labelcodes['Others']>1]['Others']"
   ]
  },
  {
   "cell_type": "code",
   "execution_count": null,
   "id": "17263e36",
   "metadata": {},
   "outputs": [],
   "source": [
    "sub_df1 = df[categorical_str+categorical_int+numerical]"
   ]
  },
  {
   "cell_type": "code",
   "execution_count": null,
   "id": "c0962c90",
   "metadata": {
    "scrolled": true
   },
   "outputs": [],
   "source": []
  },
  {
   "cell_type": "code",
   "execution_count": null,
   "id": "be21ea37",
   "metadata": {},
   "outputs": [],
   "source": [
    "sub_df2 = sub_df2[sub_df2['LEG_DEP_AP'] != sub_df2['LEG_ARR_AP']] # flight that have same arrival and departure point\n",
    "sub_df2 = sub_df2[sub_df2['flight_duration']>0]"
   ]
  },
  {
   "cell_type": "code",
   "execution_count": null,
   "id": "3c1d0641",
   "metadata": {},
   "outputs": [],
   "source": [
    "sub_df3=sub_df2.dropna()"
   ]
  },
  {
   "cell_type": "code",
   "execution_count": null,
   "id": "bbf0b675",
   "metadata": {},
   "outputs": [],
   "source": [
    "y = sub_df3[['89Z','93Z','Others']]\n",
    "X = sub_df3[categorical_str+categorical_int+numerical]"
   ]
  },
  {
   "cell_type": "code",
   "execution_count": null,
   "id": "3137080b",
   "metadata": {},
   "outputs": [],
   "source": [
    "y"
   ]
  },
  {
   "cell_type": "code",
   "execution_count": null,
   "id": "accessible-martial",
   "metadata": {},
   "outputs": [],
   "source": []
  },
  {
   "cell_type": "code",
   "execution_count": null,
   "id": "indoor-classroom",
   "metadata": {},
   "outputs": [],
   "source": []
  },
  {
   "cell_type": "code",
   "execution_count": null,
   "id": "3cb0356c",
   "metadata": {},
   "outputs": [],
   "source": [
    "%%time\n",
    "numeric_transformer = Pipeline(steps=[\n",
    "    ('imputer', SimpleImputer(strategy='median')),\n",
    "    ('transformer', PowerTransformer(method='box-cox', standardize=False)),\n",
    "    ('scaler', StandardScaler())])\n",
    "\n",
    "categorical_str_transformer = Pipeline(steps=[\n",
    "    ('imputer', SimpleImputer(strategy='constant', fill_value='None')),\n",
    "    ('one-hot', OneHotEncoder(handle_unknown='ignore'))])\n",
    "\n",
    "categorical_int_transformer = Pipeline(steps=[\n",
    "    ('imputer', SimpleImputer(strategy='constant', fill_value=-99)),\n",
    "    ('one-hot', OneHotEncoder(handle_unknown='ignore'))])\n",
    "\n",
    "preprocessor = ColumnTransformer(\n",
    "                                transformers=[\n",
    "                                              ('num', numeric_transformer, numerical),\n",
    "                                              ('cat_str', categorical_str_transformer, categorical_str),\n",
    "                                              ('cat_int', categorical_int_transformer, categorical_int),], \n",
    "                                remainder='passthrough')\n",
    "\n",
    "pipeline = Pipeline(steps=[('preprocessor', preprocessor),\n",
    "                          # ('f_selector', SelectKBest(f_classif, k='all')),\n",
    "                          ('classifier', MultiOutputClassifier(\n",
    "                              RandomForestClassifier(class_weight='balanced',random_state=0, n_jobs=-1)))])\n",
    "\n",
    "X_train, X_test, y_train, y_test = train_test_split(X, y, test_size=0.20, random_state=42)\n",
    "\n",
    "pipeline.fit(X_train, y_train)\n",
    "print(\"training score: %.3f\" % pipeline.score(X_train, y_train))\n",
    "print(\"test score: %.3f\" % pipeline.score(X_test, y_test))"
   ]
  },
  {
   "cell_type": "code",
   "execution_count": null,
   "id": "9c470e19",
   "metadata": {},
   "outputs": [],
   "source": [
    "from sklearn.metrics import roc_auc_score\n",
    "y_pred = pipeline.predict(X_test)\n",
    "\n",
    "cm_y1 = confusion_matrix(np.array(y_test)[:,0],y_pred[:,0])\n",
    "cm_y2 = confusion_matrix(np.array(y_test)[:,1],y_pred[:,1])\n",
    "cm_y3 = confusion_matrix(np.array(y_test)[:,2],y_pred[:,2])\n",
    " \n",
    "cr_y1 = classification_report(np.array(y_test)[:,0],y_pred[:,0])\n",
    "cr_y2 = classification_report(np.array(y_test)[:,1],y_pred[:,1])\n",
    "cr_y3 = classification_report(np.array(y_test)[:,2],y_pred[:,2])"
   ]
  },
  {
   "cell_type": "code",
   "execution_count": null,
   "id": "33e3770f",
   "metadata": {},
   "outputs": [],
   "source": [
    "print(cr_y1)\n",
    "print(cr_y2)\n",
    "print(cr_y3)"
   ]
  },
  {
   "cell_type": "code",
   "execution_count": null,
   "id": "ade4d7c3",
   "metadata": {},
   "outputs": [],
   "source": [
    "print(cm_y1)\n",
    "print(cm_y2)\n",
    "print(cm_y3)"
   ]
  },
  {
   "cell_type": "code",
   "execution_count": null,
   "id": "814b9c0d",
   "metadata": {},
   "outputs": [],
   "source": [
    "print(pipeline.score(X_test, y_test))"
   ]
  },
  {
   "cell_type": "markdown",
   "id": "characteristic-ridge",
   "metadata": {},
   "source": [
    "## validation"
   ]
  },
  {
   "cell_type": "code",
   "execution_count": null,
   "id": "sunset-authority",
   "metadata": {},
   "outputs": [],
   "source": [
    "test = pd.read_csv('CARGO_FOTP_VAL.csv')"
   ]
  },
  {
   "cell_type": "code",
   "execution_count": null,
   "id": "distant-fifteen",
   "metadata": {},
   "outputs": [],
   "source": [
    "test['LEG_DEP_GMT_DT'] = test['LEG_DEP_GMT_DT'].apply(convert_date)\n",
    "test['LEG_ARR_GMT_DT'] = test['LEG_ARR_GMT_DT'].apply(convert_date)\n",
    "test['flight_duration_day'] = (pd.to_datetime(test['LEG_ARR_GMT_DT']) - pd.to_datetime(test['LEG_DEP_GMT_DT'])).apply(lambda x: x.days)\n",
    "test['flight_duration_min'] = test[['LEG_ARR_GMT_TM', 'LEG_DEP_GMT_TM']].apply(lambda x: find_hour_difference(*x), axis=1)\n",
    "test['flight_duration'] = test['flight_duration_min'] + test['flight_duration_day']*1440\n",
    "test['arr_month'] = pd.to_datetime(test['LEG_ARR_GMT_DT']).dt.month\n",
    "test['arr_weekday'] = pd.to_datetime(test['LEG_ARR_GMT_DT']).dt.weekday\n",
    "test['arr_day'] = pd.to_datetime(test['LEG_ARR_GMT_DT']).dt.day\n",
    "test['expected_arrival_interval'] = test['LEG_ARR_GMT_TM'].apply(convert_hours).apply(convert_time_to_interval)\n",
    "test['expected_departure_interval'] = test['LEG_DEP_GMT_TM'].apply(convert_hours).apply(convert_time_to_interval)"
   ]
  },
  {
   "cell_type": "code",
   "execution_count": null,
   "id": "terminal-paradise",
   "metadata": {},
   "outputs": [],
   "source": [
    "X_test = test[categorical_str+categorical_int+numerical]"
   ]
  },
  {
   "cell_type": "code",
   "execution_count": null,
   "id": "czech-partner",
   "metadata": {},
   "outputs": [],
   "source": [
    "# all given data is used as training\n",
    "numeric_transformer = Pipeline(steps=[\n",
    "    ('imputer', SimpleImputer(strategy='median')),\n",
    "    ('transformer', PowerTransformer(method='box-cox', standardize=False)),\n",
    "    ('scaler', StandardScaler())])\n",
    "\n",
    "categorical_str_transformer = Pipeline(steps=[\n",
    "    ('imputer', SimpleImputer(strategy='constant', fill_value='None')),\n",
    "    ('one-hot', OneHotEncoder(handle_unknown='ignore'))])\n",
    "\n",
    "categorical_int_transformer = Pipeline(steps=[\n",
    "    ('imputer', SimpleImputer(strategy='constant', fill_value=-99)),\n",
    "    ('one-hot', OneHotEncoder(handle_unknown='ignore'))])\n",
    "\n",
    "preprocessor = ColumnTransformer(\n",
    "                                transformers=[\n",
    "                                              ('num', numeric_transformer, numerical),\n",
    "                                              ('cat_str', categorical_str_transformer, categorical_str),\n",
    "                                              ('cat_int', categorical_int_transformer, categorical_int),], \n",
    "                                remainder='passthrough')\n",
    "\n",
    "pipeline_val = Pipeline(steps=[('preprocessor', preprocessor),\n",
    "                          # ('f_selector', SelectKBest(f_classif, k='all')),\n",
    "                          ('classifier', MultiOutputClassifier(\n",
    "                              RandomForestClassifier(class_weight='balanced',random_state=0, n_jobs=-1)))])\n",
    "\n",
    "\n",
    "pipeline_val.fit(X, y)\n",
    "print(\"training score: %.3f\" % pipeline_val.score(X, y))"
   ]
  },
  {
   "cell_type": "code",
   "execution_count": null,
   "id": "hearing-ribbon",
   "metadata": {},
   "outputs": [],
   "source": [
    "preds = pipeline_val.predict(X_test)\n",
    "preds"
   ]
  },
  {
   "cell_type": "code",
   "execution_count": null,
   "id": "exciting-donna",
   "metadata": {},
   "outputs": [],
   "source": [
    "y.columns"
   ]
  },
  {
   "cell_type": "code",
   "execution_count": null,
   "id": "tight-benjamin",
   "metadata": {},
   "outputs": [],
   "source": [
    "pred_df = pd.DataFrame(preds, columns=y.columns)"
   ]
  },
  {
   "cell_type": "code",
   "execution_count": null,
   "id": "informational-ending",
   "metadata": {},
   "outputs": [],
   "source": [
    "for i, col_name in enumerate(y.columns):\n",
    "    pred_df[col_name] = pred_df[col_name].map({1:col_name, 0:''})"
   ]
  },
  {
   "cell_type": "code",
   "execution_count": null,
   "id": "southwest-edward",
   "metadata": {},
   "outputs": [],
   "source": [
    "pred_df"
   ]
  },
  {
   "cell_type": "code",
   "execution_count": null,
   "id": "progressive-chain",
   "metadata": {},
   "outputs": [],
   "source": [
    "sub_code_res = pd.concat([test, pred_df], axis=1)\n",
    "sub_code_res.head()"
   ]
  },
  {
   "cell_type": "code",
   "execution_count": null,
   "id": "herbal-conspiracy",
   "metadata": {},
   "outputs": [],
   "source": [
    "sub_code_res.to_csv('subcode_results.csv', index=False)"
   ]
  }
 ],
 "metadata": {
  "kernelspec": {
   "display_name": "Python 3",
   "language": "python",
   "name": "python3"
  },
  "language_info": {
   "codemirror_mode": {
    "name": "ipython",
    "version": 3
   },
   "file_extension": ".py",
   "mimetype": "text/x-python",
   "name": "python",
   "nbconvert_exporter": "python",
   "pygments_lexer": "ipython3",
   "version": "3.8.5"
  }
 },
 "nbformat": 4,
 "nbformat_minor": 5
}
