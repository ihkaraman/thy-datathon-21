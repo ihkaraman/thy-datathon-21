{
 "cells": [
  {
   "cell_type": "code",
   "execution_count": 55,
   "id": "posted-column",
   "metadata": {},
   "outputs": [],
   "source": [
    "import pandas as pd"
   ]
  },
  {
   "cell_type": "code",
   "execution_count": 56,
   "id": "hydraulic-timing",
   "metadata": {},
   "outputs": [
    {
     "data": {
      "text/html": [
       "<div>\n",
       "<style scoped>\n",
       "    .dataframe tbody tr th:only-of-type {\n",
       "        vertical-align: middle;\n",
       "    }\n",
       "\n",
       "    .dataframe tbody tr th {\n",
       "        vertical-align: top;\n",
       "    }\n",
       "\n",
       "    .dataframe thead th {\n",
       "        text-align: right;\n",
       "    }\n",
       "</style>\n",
       "<table border=\"1\" class=\"dataframe\">\n",
       "  <thead>\n",
       "    <tr style=\"text-align: right;\">\n",
       "      <th></th>\n",
       "      <th>FLT_NO</th>\n",
       "      <th>ACT_CUS_FLE</th>\n",
       "      <th>FLEET</th>\n",
       "      <th>FLEET_FAM</th>\n",
       "      <th>FLEET_FAM_GRP</th>\n",
       "      <th>FLEET_BODY_TYP</th>\n",
       "      <th>FLT_TYP</th>\n",
       "      <th>LEG_DEP_AP</th>\n",
       "      <th>LEG_DEP_GMT_DT</th>\n",
       "      <th>LEG_DEP_GMT_TM</th>\n",
       "      <th>...</th>\n",
       "      <th>DELAY2_SUB_CODE</th>\n",
       "      <th>DELAY3_SUB_CODE</th>\n",
       "      <th>DELAY4_SUB_CODE</th>\n",
       "      <th>DELAY_ROOT_ARR_AP</th>\n",
       "      <th>DELAY_ROOT_DEP_AP</th>\n",
       "      <th>DELAY1_DURATION</th>\n",
       "      <th>DELAY2_DURATION</th>\n",
       "      <th>DELAY3_DURATION</th>\n",
       "      <th>DELAY4_DURATION</th>\n",
       "      <th>TOT_DELAY_DURATION</th>\n",
       "    </tr>\n",
       "  </thead>\n",
       "  <tbody>\n",
       "    <tr>\n",
       "      <th>0</th>\n",
       "      <td>FL7064</td>\n",
       "      <td>FL-45X</td>\n",
       "      <td>TX750-30</td>\n",
       "      <td>TX750</td>\n",
       "      <td>TX750</td>\n",
       "      <td>B1</td>\n",
       "      <td>TYP1</td>\n",
       "      <td>IST</td>\n",
       "      <td>20210509</td>\n",
       "      <td>1205</td>\n",
       "      <td>...</td>\n",
       "      <td>NaN</td>\n",
       "      <td>NaN</td>\n",
       "      <td>NaN</td>\n",
       "      <td>?</td>\n",
       "      <td>?</td>\n",
       "      <td>0</td>\n",
       "      <td>0</td>\n",
       "      <td>0</td>\n",
       "      <td>0</td>\n",
       "      <td>0</td>\n",
       "    </tr>\n",
       "    <tr>\n",
       "      <th>1</th>\n",
       "      <td>FL7064</td>\n",
       "      <td>FL-45X</td>\n",
       "      <td>TX750-30</td>\n",
       "      <td>TX750</td>\n",
       "      <td>TX750</td>\n",
       "      <td>B1</td>\n",
       "      <td>TYP1</td>\n",
       "      <td>IST</td>\n",
       "      <td>20210512</td>\n",
       "      <td>1526</td>\n",
       "      <td>...</td>\n",
       "      <td>NaN</td>\n",
       "      <td>NaN</td>\n",
       "      <td>NaN</td>\n",
       "      <td>?</td>\n",
       "      <td>?</td>\n",
       "      <td>0</td>\n",
       "      <td>0</td>\n",
       "      <td>0</td>\n",
       "      <td>0</td>\n",
       "      <td>0</td>\n",
       "    </tr>\n",
       "  </tbody>\n",
       "</table>\n",
       "<p>2 rows × 28 columns</p>\n",
       "</div>"
      ],
      "text/plain": [
       "   FLT_NO ACT_CUS_FLE     FLEET FLEET_FAM FLEET_FAM_GRP FLEET_BODY_TYP  \\\n",
       "0  FL7064      FL-45X  TX750-30     TX750         TX750             B1   \n",
       "1  FL7064      FL-45X  TX750-30     TX750         TX750             B1   \n",
       "\n",
       "  FLT_TYP LEG_DEP_AP  LEG_DEP_GMT_DT  LEG_DEP_GMT_TM  ... DELAY2_SUB_CODE  \\\n",
       "0    TYP1        IST        20210509            1205  ...             NaN   \n",
       "1    TYP1        IST        20210512            1526  ...             NaN   \n",
       "\n",
       "  DELAY3_SUB_CODE DELAY4_SUB_CODE  DELAY_ROOT_ARR_AP  DELAY_ROOT_DEP_AP  \\\n",
       "0             NaN             NaN                  ?                  ?   \n",
       "1             NaN             NaN                  ?                  ?   \n",
       "\n",
       "  DELAY1_DURATION DELAY2_DURATION DELAY3_DURATION DELAY4_DURATION  \\\n",
       "0               0               0               0               0   \n",
       "1               0               0               0               0   \n",
       "\n",
       "  TOT_DELAY_DURATION  \n",
       "0                  0  \n",
       "1                  0  \n",
       "\n",
       "[2 rows x 28 columns]"
      ]
     },
     "execution_count": 56,
     "metadata": {},
     "output_type": "execute_result"
    }
   ],
   "source": [
    "df = pd.read_excel(r'C:\\Users\\IsmailKaraman\\workspace\\thy\\data\\p3\\CARGO_FOTP_DATASET.xlsx')\n",
    "df.head(2)"
   ]
  },
  {
   "cell_type": "code",
   "execution_count": 57,
   "id": "seventh-validation",
   "metadata": {},
   "outputs": [
    {
     "name": "stdout",
     "output_type": "stream",
     "text": [
      "<class 'pandas.core.frame.DataFrame'>\n",
      "RangeIndex: 99546 entries, 0 to 99545\n",
      "Data columns (total 28 columns):\n",
      " #   Column               Non-Null Count  Dtype \n",
      "---  ------               --------------  ----- \n",
      " 0   FLT_NO               99546 non-null  object\n",
      " 1   ACT_CUS_FLE          99546 non-null  object\n",
      " 2   FLEET                99546 non-null  object\n",
      " 3   FLEET_FAM            99546 non-null  object\n",
      " 4   FLEET_FAM_GRP        99546 non-null  object\n",
      " 5   FLEET_BODY_TYP       99546 non-null  object\n",
      " 6   FLT_TYP              99546 non-null  object\n",
      " 7   LEG_DEP_AP           99546 non-null  object\n",
      " 8   LEG_DEP_GMT_DT       99546 non-null  int64 \n",
      " 9   LEG_DEP_GMT_TM       99546 non-null  int64 \n",
      " 10  LEG_DEP_CNTRY_COD    99512 non-null  object\n",
      " 11  LEG_DEP_RGN_COD      95771 non-null  object\n",
      " 12  LEG_ARR_AP           99546 non-null  object\n",
      " 13  LEG_ARR_GMT_DT       99546 non-null  int64 \n",
      " 14  LEG_ARR_GMT_TM       99546 non-null  int64 \n",
      " 15  LEG_ARR_CNTRY_COD    99512 non-null  object\n",
      " 16  LEG_ACT_ARR_RGN_COD  95769 non-null  object\n",
      " 17  DELAY1_SUB_CODE      63399 non-null  object\n",
      " 18  DELAY2_SUB_CODE      35947 non-null  object\n",
      " 19  DELAY3_SUB_CODE      10146 non-null  object\n",
      " 20  DELAY4_SUB_CODE      1536 non-null   object\n",
      " 21  DELAY_ROOT_ARR_AP    99546 non-null  object\n",
      " 22  DELAY_ROOT_DEP_AP    99546 non-null  object\n",
      " 23  DELAY1_DURATION      99546 non-null  int64 \n",
      " 24  DELAY2_DURATION      99546 non-null  int64 \n",
      " 25  DELAY3_DURATION      99546 non-null  int64 \n",
      " 26  DELAY4_DURATION      99546 non-null  int64 \n",
      " 27  TOT_DELAY_DURATION   99546 non-null  int64 \n",
      "dtypes: int64(9), object(19)\n",
      "memory usage: 21.3+ MB\n"
     ]
    }
   ],
   "source": [
    "df.info()"
   ]
  },
  {
   "cell_type": "code",
   "execution_count": 58,
   "id": "continued-investigation",
   "metadata": {},
   "outputs": [
    {
     "data": {
      "text/plain": [
       "FLT_NO                     0\n",
       "ACT_CUS_FLE                0\n",
       "FLEET                      0\n",
       "FLEET_FAM                  0\n",
       "FLEET_FAM_GRP              0\n",
       "FLEET_BODY_TYP             0\n",
       "FLT_TYP                    0\n",
       "LEG_DEP_AP                 0\n",
       "LEG_DEP_GMT_DT             0\n",
       "LEG_DEP_GMT_TM             0\n",
       "LEG_DEP_CNTRY_COD         34\n",
       "LEG_DEP_RGN_COD         3775\n",
       "LEG_ARR_AP                 0\n",
       "LEG_ARR_GMT_DT             0\n",
       "LEG_ARR_GMT_TM             0\n",
       "LEG_ARR_CNTRY_COD         34\n",
       "LEG_ACT_ARR_RGN_COD     3777\n",
       "DELAY1_SUB_CODE        36147\n",
       "DELAY2_SUB_CODE        63599\n",
       "DELAY3_SUB_CODE        89400\n",
       "DELAY4_SUB_CODE        98010\n",
       "DELAY_ROOT_ARR_AP          0\n",
       "DELAY_ROOT_DEP_AP          0\n",
       "DELAY1_DURATION            0\n",
       "DELAY2_DURATION            0\n",
       "DELAY3_DURATION            0\n",
       "DELAY4_DURATION            0\n",
       "TOT_DELAY_DURATION         0\n",
       "dtype: int64"
      ]
     },
     "execution_count": 58,
     "metadata": {},
     "output_type": "execute_result"
    }
   ],
   "source": [
    "df.isna().sum()"
   ]
  },
  {
   "cell_type": "code",
   "execution_count": 59,
   "id": "polish-negative",
   "metadata": {},
   "outputs": [
    {
     "data": {
      "text/plain": [
       "ISL    18084\n",
       "IST    17831\n",
       "FRU     4393\n",
       "ALA     3847\n",
       "MST     2269\n",
       "       ...  \n",
       "PIK        1\n",
       "NDJ        1\n",
       "GYD        1\n",
       "BTS        1\n",
       "MED        1\n",
       "Name: LEG_ARR_AP, Length: 203, dtype: int64"
      ]
     },
     "execution_count": 59,
     "metadata": {},
     "output_type": "execute_result"
    }
   ],
   "source": [
    "df['LEG_ARR_AP'].value_counts()"
   ]
  },
  {
   "cell_type": "markdown",
   "id": "informed-patrol",
   "metadata": {},
   "source": [
    "drop\n",
    "FLT_NO\n",
    "\n",
    "categorical_str \n",
    "ACT_CUS_FLE Filo numarasıdır. FL-45X\n",
    "FLEET Filo tipidir. TX750-30\n",
    "FLEET_FAM Filo tipinin ait olduğu ailedir. TX620\n",
    "FLEET_FAM_GRP Filo tipinin ait olduğu aile grubudur. TX650\n",
    "FLEET_BODY_TYP Uçak gövde tipidir B1\n",
    "FLT_TYP Uçuşun tipidir. TYP1\n",
    "LEG_DEP_AP Kalkış bacağı hava limanıdır. IST\n",
    "LEG_DEP_CNTRY_COD Kalkış istasyonunun ülke kodudur. TR\n",
    "LEG_DEP_RGN_COD Kalkış istasyonunun bölge bilgisidir. DO\n",
    "LEG_ARR_AP Varış bacağı hava limanıdır. MAA\n",
    "LEG_ARR_CNTRY_COD Varış istasyonunun ülke kodudur. IN\n",
    "LEG_ARR_RGN_COD Varış istasyonunun bölge bilgisidir. FE\n",
    "\n",
    "LEG_DEP_GMT_DT GMT saat türünden kalkış tarihi \n",
    "LEG_DEP_GMT_TM GMT saat türünden kalkış saat \n",
    "LEG_ARR_GMT_DT GMT saat türünden varış tarihi \n",
    "LEG_ARR_GMT_TM GMT saat türünden varış saat \n",
    "- calculate flight duration\n",
    "\n",
    "\n",
    "DELAY1_SUB_CODE Uçuşta yaşanan tehirin ilk nedeninin kodu 64D\n",
    "DELAY2_SUB_CODE Varsa uçuşta yaşanan tehirin ikinci  nedeninin kodu 31P\n",
    "DELAY3_SUB_CODE Varsa uçuşta yaşanan tehirin üçüncü nedeninin kodu N/A\n",
    "DELAY4_SUB_CODE Varsa uçuşta yaşanan tehirin ilk dördüncü kodu N/A\n",
    "\n",
    "DELAY1_DURATION Uçuşta yaşanan tehirin birinci nedeninin süresi (dk) 107\n",
    "DELAY2_DURATION Varsa uçuşta yaşanan tehirin ikinci nedeninin süresi (dk) 25\n",
    "DELAY3_DURATION Varsa uçuşta yaşanan tehirin üçüncü nedeninin süresi (dk) 0\n",
    "DELAY4_DURATION Varsa uçuşta yaşanan tehirin dördüncü nedeninin süresi (dk) 0\n",
    "TOT_DELAY_DURATION Uçuşta yaşanan tehirin toplam süresi (dk) 132\n",
    "\n",
    "DELAY_ROOT_ARR_AP Tehire sebep olduğu tespit edilen varış istasyonu KAN\n",
    "DELAY_ROOT_DEP_AP Tehire sebep olduğu tespit edilen kalkış istasyonu IST"
   ]
  },
  {
   "cell_type": "code",
   "execution_count": 60,
   "id": "shared-newfoundland",
   "metadata": {},
   "outputs": [
    {
     "data": {
      "text/html": [
       "<div>\n",
       "<style scoped>\n",
       "    .dataframe tbody tr th:only-of-type {\n",
       "        vertical-align: middle;\n",
       "    }\n",
       "\n",
       "    .dataframe tbody tr th {\n",
       "        vertical-align: top;\n",
       "    }\n",
       "\n",
       "    .dataframe thead th {\n",
       "        text-align: right;\n",
       "    }\n",
       "</style>\n",
       "<table border=\"1\" class=\"dataframe\">\n",
       "  <thead>\n",
       "    <tr style=\"text-align: right;\">\n",
       "      <th></th>\n",
       "      <th>DELAY_ROOT_ARR_AP</th>\n",
       "      <th>LEG_ARR_AP</th>\n",
       "    </tr>\n",
       "  </thead>\n",
       "  <tbody>\n",
       "    <tr>\n",
       "      <th>18586</th>\n",
       "      <td>MSQ</td>\n",
       "      <td>MST</td>\n",
       "    </tr>\n",
       "    <tr>\n",
       "      <th>18587</th>\n",
       "      <td>ICN</td>\n",
       "      <td>MST</td>\n",
       "    </tr>\n",
       "    <tr>\n",
       "      <th>18589</th>\n",
       "      <td>IST</td>\n",
       "      <td>MST</td>\n",
       "    </tr>\n",
       "    <tr>\n",
       "      <th>18628</th>\n",
       "      <td>BCN</td>\n",
       "      <td>MST</td>\n",
       "    </tr>\n",
       "    <tr>\n",
       "      <th>18644</th>\n",
       "      <td>DWC</td>\n",
       "      <td>MST</td>\n",
       "    </tr>\n",
       "    <tr>\n",
       "      <th>...</th>\n",
       "      <td>...</td>\n",
       "      <td>...</td>\n",
       "    </tr>\n",
       "    <tr>\n",
       "      <th>98619</th>\n",
       "      <td>CDG</td>\n",
       "      <td>IST</td>\n",
       "    </tr>\n",
       "    <tr>\n",
       "      <th>98816</th>\n",
       "      <td>CDG</td>\n",
       "      <td>IST</td>\n",
       "    </tr>\n",
       "    <tr>\n",
       "      <th>98817</th>\n",
       "      <td>CDG</td>\n",
       "      <td>IST</td>\n",
       "    </tr>\n",
       "    <tr>\n",
       "      <th>98818</th>\n",
       "      <td>CDG</td>\n",
       "      <td>IST</td>\n",
       "    </tr>\n",
       "    <tr>\n",
       "      <th>98824</th>\n",
       "      <td>CDG</td>\n",
       "      <td>IST</td>\n",
       "    </tr>\n",
       "  </tbody>\n",
       "</table>\n",
       "<p>4712 rows × 2 columns</p>\n",
       "</div>"
      ],
      "text/plain": [
       "      DELAY_ROOT_ARR_AP LEG_ARR_AP\n",
       "18586               MSQ        MST\n",
       "18587               ICN        MST\n",
       "18589               IST        MST\n",
       "18628               BCN        MST\n",
       "18644               DWC        MST\n",
       "...                 ...        ...\n",
       "98619               CDG        IST\n",
       "98816               CDG        IST\n",
       "98817               CDG        IST\n",
       "98818               CDG        IST\n",
       "98824               CDG        IST\n",
       "\n",
       "[4712 rows x 2 columns]"
      ]
     },
     "execution_count": 60,
     "metadata": {},
     "output_type": "execute_result"
    }
   ],
   "source": [
    "df[df['DELAY_ROOT_ARR_AP']!='?'][['DELAY_ROOT_ARR_AP', 'LEG_ARR_AP']]"
   ]
  },
  {
   "cell_type": "code",
   "execution_count": 61,
   "id": "single-discussion",
   "metadata": {},
   "outputs": [
    {
     "data": {
      "text/plain": [
       "0       36147\n",
       "5        1478\n",
       "4        1096\n",
       "10       1079\n",
       "6         990\n",
       "        ...  \n",
       "928         1\n",
       "1312        1\n",
       "1504        1\n",
       "3745        1\n",
       "1983        1\n",
       "Name: TOT_DELAY_DURATION, Length: 2098, dtype: int64"
      ]
     },
     "execution_count": 61,
     "metadata": {},
     "output_type": "execute_result"
    }
   ],
   "source": [
    "df['TOT_DELAY_DURATION'].value_counts()"
   ]
  },
  {
   "cell_type": "code",
   "execution_count": 62,
   "id": "proved-father",
   "metadata": {},
   "outputs": [
    {
     "data": {
      "text/plain": [
       "5       1478\n",
       "4       1096\n",
       "10      1079\n",
       "6        990\n",
       "7        975\n",
       "        ... \n",
       "1896       1\n",
       "2894       1\n",
       "2036       1\n",
       "1940       1\n",
       "1728       1\n",
       "Name: TOT_DELAY_DURATION, Length: 2097, dtype: int64"
      ]
     },
     "execution_count": 62,
     "metadata": {},
     "output_type": "execute_result"
    }
   ],
   "source": [
    "df[df['DELAY1_SUB_CODE'].notnull()]['TOT_DELAY_DURATION'].value_counts()"
   ]
  },
  {
   "cell_type": "code",
   "execution_count": 40,
   "id": "round-rating",
   "metadata": {},
   "outputs": [],
   "source": [
    "import numpy as np"
   ]
  },
  {
   "cell_type": "code",
   "execution_count": null,
   "id": "graphic-imperial",
   "metadata": {},
   "outputs": [],
   "source": []
  }
 ],
 "metadata": {
  "kernelspec": {
   "display_name": "Python 3",
   "language": "python",
   "name": "python3"
  },
  "language_info": {
   "codemirror_mode": {
    "name": "ipython",
    "version": 3
   },
   "file_extension": ".py",
   "mimetype": "text/x-python",
   "name": "python",
   "nbconvert_exporter": "python",
   "pygments_lexer": "ipython3",
   "version": "3.8.5"
  }
 },
 "nbformat": 4,
 "nbformat_minor": 5
}
